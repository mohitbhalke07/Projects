{
 "cells": [
  {
   "cell_type": "code",
   "execution_count": 1,
   "id": "c8389bbf-b8bd-4c7a-846b-219ece84cf83",
   "metadata": {},
   "outputs": [
    {
     "name": "stdout",
     "output_type": "stream",
     "text": [
      "Requirement already satisfied: kagglehub in /home/comp10/ml_env/lib/python3.12/site-packages (0.3.11)\n",
      "Requirement already satisfied: packaging in /home/comp10/ml_env/lib/python3.12/site-packages (from kagglehub) (24.2)\n",
      "Requirement already satisfied: pyyaml in /home/comp10/ml_env/lib/python3.12/site-packages (from kagglehub) (6.0.2)\n",
      "Requirement already satisfied: requests in /home/comp10/ml_env/lib/python3.12/site-packages (from kagglehub) (2.32.3)\n",
      "Requirement already satisfied: tqdm in /home/comp10/ml_env/lib/python3.12/site-packages (from kagglehub) (4.67.1)\n",
      "Requirement already satisfied: charset-normalizer<4,>=2 in /home/comp10/ml_env/lib/python3.12/site-packages (from requests->kagglehub) (3.4.1)\n",
      "Requirement already satisfied: idna<4,>=2.5 in /home/comp10/ml_env/lib/python3.12/site-packages (from requests->kagglehub) (3.10)\n",
      "Requirement already satisfied: urllib3<3,>=1.21.1 in /home/comp10/ml_env/lib/python3.12/site-packages (from requests->kagglehub) (2.3.0)\n",
      "Requirement already satisfied: certifi>=2017.4.17 in /home/comp10/ml_env/lib/python3.12/site-packages (from requests->kagglehub) (2025.1.31)\n",
      "Path to dataset files: /home/comp10/.cache/kagglehub/datasets/shriyashjagtap/fraudulent-e-commerce-transactions/versions/2\n"
     ]
    }
   ],
   "source": [
    "!pip install kagglehub\n",
    "\n",
    "import kagglehub\n",
    "\n",
    "# Download latest version\n",
    "path = kagglehub.dataset_download(\"shriyashjagtap/fraudulent-e-commerce-transactions\")\n",
    "\n",
    "print(\"Path to dataset files:\", path)"
   ]
  },
  {
   "cell_type": "markdown",
   "id": "76591a35-0938-47b6-b247-93b2e9b9a21d",
   "metadata": {},
   "source": [
    "# Data Understanding"
   ]
  },
  {
   "cell_type": "code",
   "execution_count": 2,
   "id": "ec65b717-2eaf-4252-8857-b0b607508cb8",
   "metadata": {
    "scrolled": true
   },
   "outputs": [],
   "source": [
    "import numpy as np \n",
    "import pandas as pd\n",
    "import matplotlib.pyplot as plt\n",
    "import seaborn as sns\n",
    "import time\n",
    "import warnings\n",
    "# !pip install category_encoders\n",
    "warnings.filterwarnings('ignore')"
   ]
  },
  {
   "cell_type": "code",
   "execution_count": 3,
   "id": "e95096e8-b508-4aec-9567-799aa6b8fbb9",
   "metadata": {
    "scrolled": true
   },
   "outputs": [
    {
     "data": {
      "text/html": [
       "<div>\n",
       "<style scoped>\n",
       "    .dataframe tbody tr th:only-of-type {\n",
       "        vertical-align: middle;\n",
       "    }\n",
       "\n",
       "    .dataframe tbody tr th {\n",
       "        vertical-align: top;\n",
       "    }\n",
       "\n",
       "    .dataframe thead th {\n",
       "        text-align: right;\n",
       "    }\n",
       "</style>\n",
       "<table border=\"1\" class=\"dataframe\">\n",
       "  <thead>\n",
       "    <tr style=\"text-align: right;\">\n",
       "      <th></th>\n",
       "      <th>Transaction ID</th>\n",
       "      <th>Customer ID</th>\n",
       "      <th>Transaction Amount</th>\n",
       "      <th>Transaction Date</th>\n",
       "      <th>Payment Method</th>\n",
       "      <th>Product Category</th>\n",
       "      <th>Quantity</th>\n",
       "      <th>Customer Age</th>\n",
       "      <th>Customer Location</th>\n",
       "      <th>Device Used</th>\n",
       "      <th>IP Address</th>\n",
       "      <th>Shipping Address</th>\n",
       "      <th>Billing Address</th>\n",
       "      <th>Is Fraudulent</th>\n",
       "      <th>Account Age Days</th>\n",
       "      <th>Transaction Hour</th>\n",
       "    </tr>\n",
       "  </thead>\n",
       "  <tbody>\n",
       "    <tr>\n",
       "      <th>0</th>\n",
       "      <td>15d2e414-8735-46fc-9e02-80b472b2580f</td>\n",
       "      <td>d1b87f62-51b2-493b-ad6a-77e0fe13e785</td>\n",
       "      <td>58.09</td>\n",
       "      <td>2024-02-20 05:58:41</td>\n",
       "      <td>bank transfer</td>\n",
       "      <td>electronics</td>\n",
       "      <td>1</td>\n",
       "      <td>17</td>\n",
       "      <td>Amandaborough</td>\n",
       "      <td>tablet</td>\n",
       "      <td>212.195.49.198</td>\n",
       "      <td>Unit 8934 Box 0058\\nDPO AA 05437</td>\n",
       "      <td>Unit 8934 Box 0058\\nDPO AA 05437</td>\n",
       "      <td>0</td>\n",
       "      <td>30</td>\n",
       "      <td>5</td>\n",
       "    </tr>\n",
       "    <tr>\n",
       "      <th>1</th>\n",
       "      <td>0bfee1a0-6d5e-40da-a446-d04e73b1b177</td>\n",
       "      <td>37de64d5-e901-4a56-9ea0-af0c24c069cf</td>\n",
       "      <td>389.96</td>\n",
       "      <td>2024-02-25 08:09:45</td>\n",
       "      <td>debit card</td>\n",
       "      <td>electronics</td>\n",
       "      <td>2</td>\n",
       "      <td>40</td>\n",
       "      <td>East Timothy</td>\n",
       "      <td>desktop</td>\n",
       "      <td>208.106.249.121</td>\n",
       "      <td>634 May Keys\\nPort Cherylview, NV 75063</td>\n",
       "      <td>634 May Keys\\nPort Cherylview, NV 75063</td>\n",
       "      <td>0</td>\n",
       "      <td>72</td>\n",
       "      <td>8</td>\n",
       "    </tr>\n",
       "    <tr>\n",
       "      <th>2</th>\n",
       "      <td>e588eef4-b754-468e-9d90-d0e0abfc1af0</td>\n",
       "      <td>1bac88d6-4b22-409a-a06b-425119c57225</td>\n",
       "      <td>134.19</td>\n",
       "      <td>2024-03-18 03:42:55</td>\n",
       "      <td>PayPal</td>\n",
       "      <td>home &amp; garden</td>\n",
       "      <td>2</td>\n",
       "      <td>22</td>\n",
       "      <td>Davismouth</td>\n",
       "      <td>tablet</td>\n",
       "      <td>76.63.88.212</td>\n",
       "      <td>16282 Dana Falls Suite 790\\nRothhaven, IL 15564</td>\n",
       "      <td>16282 Dana Falls Suite 790\\nRothhaven, IL 15564</td>\n",
       "      <td>0</td>\n",
       "      <td>63</td>\n",
       "      <td>3</td>\n",
       "    </tr>\n",
       "    <tr>\n",
       "      <th>3</th>\n",
       "      <td>4de46e52-60c3-49d9-be39-636681009789</td>\n",
       "      <td>2357c76e-9253-4ceb-b44e-ef4b71cb7d4d</td>\n",
       "      <td>226.17</td>\n",
       "      <td>2024-03-16 20:41:31</td>\n",
       "      <td>bank transfer</td>\n",
       "      <td>clothing</td>\n",
       "      <td>5</td>\n",
       "      <td>31</td>\n",
       "      <td>Lynnberg</td>\n",
       "      <td>desktop</td>\n",
       "      <td>207.208.171.73</td>\n",
       "      <td>828 Strong Loaf Apt. 646\\nNew Joshua, UT 84798</td>\n",
       "      <td>828 Strong Loaf Apt. 646\\nNew Joshua, UT 84798</td>\n",
       "      <td>0</td>\n",
       "      <td>124</td>\n",
       "      <td>20</td>\n",
       "    </tr>\n",
       "    <tr>\n",
       "      <th>4</th>\n",
       "      <td>074a76de-fe2d-443e-a00c-f044cdb68e21</td>\n",
       "      <td>45071bc5-9588-43ea-8093-023caec8ea1c</td>\n",
       "      <td>121.53</td>\n",
       "      <td>2024-01-15 05:08:17</td>\n",
       "      <td>bank transfer</td>\n",
       "      <td>clothing</td>\n",
       "      <td>2</td>\n",
       "      <td>51</td>\n",
       "      <td>South Nicole</td>\n",
       "      <td>tablet</td>\n",
       "      <td>190.172.14.169</td>\n",
       "      <td>29799 Jason Hills Apt. 439\\nWest Richardtown, ...</td>\n",
       "      <td>29799 Jason Hills Apt. 439\\nWest Richardtown, ...</td>\n",
       "      <td>0</td>\n",
       "      <td>158</td>\n",
       "      <td>5</td>\n",
       "    </tr>\n",
       "  </tbody>\n",
       "</table>\n",
       "</div>"
      ],
      "text/plain": [
       "                         Transaction ID                           Customer ID  \\\n",
       "0  15d2e414-8735-46fc-9e02-80b472b2580f  d1b87f62-51b2-493b-ad6a-77e0fe13e785   \n",
       "1  0bfee1a0-6d5e-40da-a446-d04e73b1b177  37de64d5-e901-4a56-9ea0-af0c24c069cf   \n",
       "2  e588eef4-b754-468e-9d90-d0e0abfc1af0  1bac88d6-4b22-409a-a06b-425119c57225   \n",
       "3  4de46e52-60c3-49d9-be39-636681009789  2357c76e-9253-4ceb-b44e-ef4b71cb7d4d   \n",
       "4  074a76de-fe2d-443e-a00c-f044cdb68e21  45071bc5-9588-43ea-8093-023caec8ea1c   \n",
       "\n",
       "   Transaction Amount     Transaction Date Payment Method Product Category  \\\n",
       "0               58.09  2024-02-20 05:58:41  bank transfer      electronics   \n",
       "1              389.96  2024-02-25 08:09:45     debit card      electronics   \n",
       "2              134.19  2024-03-18 03:42:55         PayPal    home & garden   \n",
       "3              226.17  2024-03-16 20:41:31  bank transfer         clothing   \n",
       "4              121.53  2024-01-15 05:08:17  bank transfer         clothing   \n",
       "\n",
       "   Quantity  Customer Age Customer Location Device Used       IP Address  \\\n",
       "0         1            17     Amandaborough      tablet   212.195.49.198   \n",
       "1         2            40      East Timothy     desktop  208.106.249.121   \n",
       "2         2            22        Davismouth      tablet     76.63.88.212   \n",
       "3         5            31          Lynnberg     desktop   207.208.171.73   \n",
       "4         2            51      South Nicole      tablet   190.172.14.169   \n",
       "\n",
       "                                    Shipping Address  \\\n",
       "0                   Unit 8934 Box 0058\\nDPO AA 05437   \n",
       "1            634 May Keys\\nPort Cherylview, NV 75063   \n",
       "2    16282 Dana Falls Suite 790\\nRothhaven, IL 15564   \n",
       "3     828 Strong Loaf Apt. 646\\nNew Joshua, UT 84798   \n",
       "4  29799 Jason Hills Apt. 439\\nWest Richardtown, ...   \n",
       "\n",
       "                                     Billing Address  Is Fraudulent  \\\n",
       "0                   Unit 8934 Box 0058\\nDPO AA 05437              0   \n",
       "1            634 May Keys\\nPort Cherylview, NV 75063              0   \n",
       "2    16282 Dana Falls Suite 790\\nRothhaven, IL 15564              0   \n",
       "3     828 Strong Loaf Apt. 646\\nNew Joshua, UT 84798              0   \n",
       "4  29799 Jason Hills Apt. 439\\nWest Richardtown, ...              0   \n",
       "\n",
       "   Account Age Days  Transaction Hour  \n",
       "0                30                 5  \n",
       "1                72                 8  \n",
       "2                63                 3  \n",
       "3               124                20  \n",
       "4               158                 5  "
      ]
     },
     "execution_count": 3,
     "metadata": {},
     "output_type": "execute_result"
    }
   ],
   "source": [
    "users_transact_data = pd.read_csv('/home/comp10/.cache/kagglehub/datasets/shriyashjagtap/fraudulent-e-commerce-transactions/versions/2/Fraudulent_E-Commerce_Transaction_Data.csv')\n",
    "users_transact_data.head()"
   ]
  },
  {
   "cell_type": "code",
   "execution_count": 4,
   "id": "0a3d0397-4baf-43d3-b8fa-41b42376815c",
   "metadata": {},
   "outputs": [
    {
     "data": {
      "text/html": [
       "<div>\n",
       "<style scoped>\n",
       "    .dataframe tbody tr th:only-of-type {\n",
       "        vertical-align: middle;\n",
       "    }\n",
       "\n",
       "    .dataframe tbody tr th {\n",
       "        vertical-align: top;\n",
       "    }\n",
       "\n",
       "    .dataframe thead th {\n",
       "        text-align: right;\n",
       "    }\n",
       "</style>\n",
       "<table border=\"1\" class=\"dataframe\">\n",
       "  <thead>\n",
       "    <tr style=\"text-align: right;\">\n",
       "      <th></th>\n",
       "      <th>Transaction ID</th>\n",
       "      <th>Customer ID</th>\n",
       "      <th>Transaction Amount</th>\n",
       "      <th>Transaction Date</th>\n",
       "      <th>Payment Method</th>\n",
       "      <th>Product Category</th>\n",
       "      <th>Quantity</th>\n",
       "      <th>Customer Age</th>\n",
       "      <th>Customer Location</th>\n",
       "      <th>Device Used</th>\n",
       "      <th>IP Address</th>\n",
       "      <th>Shipping Address</th>\n",
       "      <th>Billing Address</th>\n",
       "      <th>Is Fraudulent</th>\n",
       "      <th>Account Age Days</th>\n",
       "      <th>Transaction Hour</th>\n",
       "    </tr>\n",
       "  </thead>\n",
       "  <tbody>\n",
       "    <tr>\n",
       "      <th>0</th>\n",
       "      <td>c12e07a0-8a06-4c0d-b5cc-04f3af688570</td>\n",
       "      <td>8ca9f102-02a4-4207-ab63-484e83a1bdf0</td>\n",
       "      <td>42.32</td>\n",
       "      <td>2024-03-24 23:42:43</td>\n",
       "      <td>PayPal</td>\n",
       "      <td>electronics</td>\n",
       "      <td>1</td>\n",
       "      <td>40</td>\n",
       "      <td>East Jameshaven</td>\n",
       "      <td>desktop</td>\n",
       "      <td>110.87.246.85</td>\n",
       "      <td>5399 Rachel Stravenue Suite 718\\nNorth Blakebu...</td>\n",
       "      <td>5399 Rachel Stravenue Suite 718\\nNorth Blakebu...</td>\n",
       "      <td>0</td>\n",
       "      <td>282</td>\n",
       "      <td>23</td>\n",
       "    </tr>\n",
       "    <tr>\n",
       "      <th>1</th>\n",
       "      <td>7d187603-7961-4fce-9827-9698e2b6a201</td>\n",
       "      <td>4d158416-caae-4b09-bd5b-15235deb9129</td>\n",
       "      <td>301.34</td>\n",
       "      <td>2024-01-22 00:53:31</td>\n",
       "      <td>credit card</td>\n",
       "      <td>electronics</td>\n",
       "      <td>3</td>\n",
       "      <td>35</td>\n",
       "      <td>Kingstad</td>\n",
       "      <td>tablet</td>\n",
       "      <td>14.73.104.153</td>\n",
       "      <td>5230 Stephanie Forge\\nCollinsbury, PR 81853</td>\n",
       "      <td>5230 Stephanie Forge\\nCollinsbury, PR 81853</td>\n",
       "      <td>0</td>\n",
       "      <td>223</td>\n",
       "      <td>0</td>\n",
       "    </tr>\n",
       "    <tr>\n",
       "      <th>2</th>\n",
       "      <td>f2c14f9d-92df-4aaf-8931-ceaf4e63ed72</td>\n",
       "      <td>ccae47b8-75c7-4f5a-aa9e-957deced2137</td>\n",
       "      <td>340.32</td>\n",
       "      <td>2024-01-22 08:06:03</td>\n",
       "      <td>debit card</td>\n",
       "      <td>toys &amp; games</td>\n",
       "      <td>5</td>\n",
       "      <td>29</td>\n",
       "      <td>North Ryan</td>\n",
       "      <td>desktop</td>\n",
       "      <td>67.58.94.93</td>\n",
       "      <td>195 Cole Oval\\nPort Larry, IA 58422</td>\n",
       "      <td>4772 David Stravenue Apt. 447\\nVelasquezside, ...</td>\n",
       "      <td>0</td>\n",
       "      <td>360</td>\n",
       "      <td>8</td>\n",
       "    </tr>\n",
       "    <tr>\n",
       "      <th>3</th>\n",
       "      <td>e9949bfa-194d-486b-84da-9565fca9e5ce</td>\n",
       "      <td>b04960c0-aeee-4907-b1cd-4819016adcef</td>\n",
       "      <td>95.77</td>\n",
       "      <td>2024-01-16 20:34:53</td>\n",
       "      <td>credit card</td>\n",
       "      <td>electronics</td>\n",
       "      <td>5</td>\n",
       "      <td>45</td>\n",
       "      <td>Kaylaville</td>\n",
       "      <td>mobile</td>\n",
       "      <td>202.122.126.216</td>\n",
       "      <td>7609 Cynthia Square\\nWest Brenda, NV 23016</td>\n",
       "      <td>7609 Cynthia Square\\nWest Brenda, NV 23016</td>\n",
       "      <td>0</td>\n",
       "      <td>325</td>\n",
       "      <td>20</td>\n",
       "    </tr>\n",
       "    <tr>\n",
       "      <th>4</th>\n",
       "      <td>7362837c-7538-434e-8731-0df713f5f26d</td>\n",
       "      <td>de9d6351-b3a7-4bc7-9a55-8f013eb66928</td>\n",
       "      <td>77.45</td>\n",
       "      <td>2024-01-16 15:47:23</td>\n",
       "      <td>credit card</td>\n",
       "      <td>clothing</td>\n",
       "      <td>5</td>\n",
       "      <td>42</td>\n",
       "      <td>North Edwardborough</td>\n",
       "      <td>desktop</td>\n",
       "      <td>96.77.232.76</td>\n",
       "      <td>2494 Robert Ramp Suite 313\\nRobinsonport, AS 5...</td>\n",
       "      <td>2494 Robert Ramp Suite 313\\nRobinsonport, AS 5...</td>\n",
       "      <td>0</td>\n",
       "      <td>116</td>\n",
       "      <td>15</td>\n",
       "    </tr>\n",
       "  </tbody>\n",
       "</table>\n",
       "</div>"
      ],
      "text/plain": [
       "                         Transaction ID                           Customer ID  \\\n",
       "0  c12e07a0-8a06-4c0d-b5cc-04f3af688570  8ca9f102-02a4-4207-ab63-484e83a1bdf0   \n",
       "1  7d187603-7961-4fce-9827-9698e2b6a201  4d158416-caae-4b09-bd5b-15235deb9129   \n",
       "2  f2c14f9d-92df-4aaf-8931-ceaf4e63ed72  ccae47b8-75c7-4f5a-aa9e-957deced2137   \n",
       "3  e9949bfa-194d-486b-84da-9565fca9e5ce  b04960c0-aeee-4907-b1cd-4819016adcef   \n",
       "4  7362837c-7538-434e-8731-0df713f5f26d  de9d6351-b3a7-4bc7-9a55-8f013eb66928   \n",
       "\n",
       "   Transaction Amount     Transaction Date Payment Method Product Category  \\\n",
       "0               42.32  2024-03-24 23:42:43         PayPal      electronics   \n",
       "1              301.34  2024-01-22 00:53:31    credit card      electronics   \n",
       "2              340.32  2024-01-22 08:06:03     debit card     toys & games   \n",
       "3               95.77  2024-01-16 20:34:53    credit card      electronics   \n",
       "4               77.45  2024-01-16 15:47:23    credit card         clothing   \n",
       "\n",
       "   Quantity  Customer Age    Customer Location Device Used       IP Address  \\\n",
       "0         1            40      East Jameshaven     desktop    110.87.246.85   \n",
       "1         3            35             Kingstad      tablet    14.73.104.153   \n",
       "2         5            29           North Ryan     desktop      67.58.94.93   \n",
       "3         5            45           Kaylaville      mobile  202.122.126.216   \n",
       "4         5            42  North Edwardborough     desktop     96.77.232.76   \n",
       "\n",
       "                                    Shipping Address  \\\n",
       "0  5399 Rachel Stravenue Suite 718\\nNorth Blakebu...   \n",
       "1        5230 Stephanie Forge\\nCollinsbury, PR 81853   \n",
       "2                195 Cole Oval\\nPort Larry, IA 58422   \n",
       "3         7609 Cynthia Square\\nWest Brenda, NV 23016   \n",
       "4  2494 Robert Ramp Suite 313\\nRobinsonport, AS 5...   \n",
       "\n",
       "                                     Billing Address  Is Fraudulent  \\\n",
       "0  5399 Rachel Stravenue Suite 718\\nNorth Blakebu...              0   \n",
       "1        5230 Stephanie Forge\\nCollinsbury, PR 81853              0   \n",
       "2  4772 David Stravenue Apt. 447\\nVelasquezside, ...              0   \n",
       "3         7609 Cynthia Square\\nWest Brenda, NV 23016              0   \n",
       "4  2494 Robert Ramp Suite 313\\nRobinsonport, AS 5...              0   \n",
       "\n",
       "   Account Age Days  Transaction Hour  \n",
       "0               282                23  \n",
       "1               223                 0  \n",
       "2               360                 8  \n",
       "3               325                20  \n",
       "4               116                15  "
      ]
     },
     "execution_count": 4,
     "metadata": {},
     "output_type": "execute_result"
    }
   ],
   "source": [
    "user_live_test_data = pd.read_csv('/home/comp10/.cache/kagglehub/datasets/shriyashjagtap/fraudulent-e-commerce-transactions/versions/2/Fraudulent_E-Commerce_Transaction_Data_2.csv')\n",
    "user_live_test_data.head()"
   ]
  },
  {
   "cell_type": "code",
   "execution_count": 5,
   "id": "7c524c56-2f6a-4651-9395-38a5d47455ef",
   "metadata": {},
   "outputs": [
    {
     "name": "stdout",
     "output_type": "stream",
     "text": [
      "(23634, 16)\n"
     ]
    },
    {
     "data": {
      "text/html": [
       "<div>\n",
       "<style scoped>\n",
       "    .dataframe tbody tr th:only-of-type {\n",
       "        vertical-align: middle;\n",
       "    }\n",
       "\n",
       "    .dataframe tbody tr th {\n",
       "        vertical-align: top;\n",
       "    }\n",
       "\n",
       "    .dataframe thead th {\n",
       "        text-align: right;\n",
       "    }\n",
       "</style>\n",
       "<table border=\"1\" class=\"dataframe\">\n",
       "  <thead>\n",
       "    <tr style=\"text-align: right;\">\n",
       "      <th></th>\n",
       "      <th>Transaction ID</th>\n",
       "      <th>Customer ID</th>\n",
       "      <th>Transaction Amount</th>\n",
       "      <th>Transaction Date</th>\n",
       "      <th>Payment Method</th>\n",
       "      <th>Product Category</th>\n",
       "      <th>Quantity</th>\n",
       "      <th>Customer Age</th>\n",
       "      <th>Customer Location</th>\n",
       "      <th>Device Used</th>\n",
       "      <th>IP Address</th>\n",
       "      <th>Shipping Address</th>\n",
       "      <th>Billing Address</th>\n",
       "      <th>Is Fraudulent</th>\n",
       "      <th>Account Age Days</th>\n",
       "      <th>Transaction Hour</th>\n",
       "    </tr>\n",
       "  </thead>\n",
       "  <tbody>\n",
       "    <tr>\n",
       "      <th>0</th>\n",
       "      <td>15d2e414-8735-46fc-9e02-80b472b2580f</td>\n",
       "      <td>d1b87f62-51b2-493b-ad6a-77e0fe13e785</td>\n",
       "      <td>58.09</td>\n",
       "      <td>2024-02-20 05:58:41</td>\n",
       "      <td>bank transfer</td>\n",
       "      <td>electronics</td>\n",
       "      <td>1</td>\n",
       "      <td>17</td>\n",
       "      <td>Amandaborough</td>\n",
       "      <td>tablet</td>\n",
       "      <td>212.195.49.198</td>\n",
       "      <td>Unit 8934 Box 0058\\nDPO AA 05437</td>\n",
       "      <td>Unit 8934 Box 0058\\nDPO AA 05437</td>\n",
       "      <td>0</td>\n",
       "      <td>30</td>\n",
       "      <td>5</td>\n",
       "    </tr>\n",
       "    <tr>\n",
       "      <th>1</th>\n",
       "      <td>0bfee1a0-6d5e-40da-a446-d04e73b1b177</td>\n",
       "      <td>37de64d5-e901-4a56-9ea0-af0c24c069cf</td>\n",
       "      <td>389.96</td>\n",
       "      <td>2024-02-25 08:09:45</td>\n",
       "      <td>debit card</td>\n",
       "      <td>electronics</td>\n",
       "      <td>2</td>\n",
       "      <td>40</td>\n",
       "      <td>East Timothy</td>\n",
       "      <td>desktop</td>\n",
       "      <td>208.106.249.121</td>\n",
       "      <td>634 May Keys\\nPort Cherylview, NV 75063</td>\n",
       "      <td>634 May Keys\\nPort Cherylview, NV 75063</td>\n",
       "      <td>0</td>\n",
       "      <td>72</td>\n",
       "      <td>8</td>\n",
       "    </tr>\n",
       "    <tr>\n",
       "      <th>2</th>\n",
       "      <td>e588eef4-b754-468e-9d90-d0e0abfc1af0</td>\n",
       "      <td>1bac88d6-4b22-409a-a06b-425119c57225</td>\n",
       "      <td>134.19</td>\n",
       "      <td>2024-03-18 03:42:55</td>\n",
       "      <td>PayPal</td>\n",
       "      <td>home &amp; garden</td>\n",
       "      <td>2</td>\n",
       "      <td>22</td>\n",
       "      <td>Davismouth</td>\n",
       "      <td>tablet</td>\n",
       "      <td>76.63.88.212</td>\n",
       "      <td>16282 Dana Falls Suite 790\\nRothhaven, IL 15564</td>\n",
       "      <td>16282 Dana Falls Suite 790\\nRothhaven, IL 15564</td>\n",
       "      <td>0</td>\n",
       "      <td>63</td>\n",
       "      <td>3</td>\n",
       "    </tr>\n",
       "    <tr>\n",
       "      <th>3</th>\n",
       "      <td>4de46e52-60c3-49d9-be39-636681009789</td>\n",
       "      <td>2357c76e-9253-4ceb-b44e-ef4b71cb7d4d</td>\n",
       "      <td>226.17</td>\n",
       "      <td>2024-03-16 20:41:31</td>\n",
       "      <td>bank transfer</td>\n",
       "      <td>clothing</td>\n",
       "      <td>5</td>\n",
       "      <td>31</td>\n",
       "      <td>Lynnberg</td>\n",
       "      <td>desktop</td>\n",
       "      <td>207.208.171.73</td>\n",
       "      <td>828 Strong Loaf Apt. 646\\nNew Joshua, UT 84798</td>\n",
       "      <td>828 Strong Loaf Apt. 646\\nNew Joshua, UT 84798</td>\n",
       "      <td>0</td>\n",
       "      <td>124</td>\n",
       "      <td>20</td>\n",
       "    </tr>\n",
       "    <tr>\n",
       "      <th>4</th>\n",
       "      <td>074a76de-fe2d-443e-a00c-f044cdb68e21</td>\n",
       "      <td>45071bc5-9588-43ea-8093-023caec8ea1c</td>\n",
       "      <td>121.53</td>\n",
       "      <td>2024-01-15 05:08:17</td>\n",
       "      <td>bank transfer</td>\n",
       "      <td>clothing</td>\n",
       "      <td>2</td>\n",
       "      <td>51</td>\n",
       "      <td>South Nicole</td>\n",
       "      <td>tablet</td>\n",
       "      <td>190.172.14.169</td>\n",
       "      <td>29799 Jason Hills Apt. 439\\nWest Richardtown, ...</td>\n",
       "      <td>29799 Jason Hills Apt. 439\\nWest Richardtown, ...</td>\n",
       "      <td>0</td>\n",
       "      <td>158</td>\n",
       "      <td>5</td>\n",
       "    </tr>\n",
       "  </tbody>\n",
       "</table>\n",
       "</div>"
      ],
      "text/plain": [
       "                         Transaction ID                           Customer ID  \\\n",
       "0  15d2e414-8735-46fc-9e02-80b472b2580f  d1b87f62-51b2-493b-ad6a-77e0fe13e785   \n",
       "1  0bfee1a0-6d5e-40da-a446-d04e73b1b177  37de64d5-e901-4a56-9ea0-af0c24c069cf   \n",
       "2  e588eef4-b754-468e-9d90-d0e0abfc1af0  1bac88d6-4b22-409a-a06b-425119c57225   \n",
       "3  4de46e52-60c3-49d9-be39-636681009789  2357c76e-9253-4ceb-b44e-ef4b71cb7d4d   \n",
       "4  074a76de-fe2d-443e-a00c-f044cdb68e21  45071bc5-9588-43ea-8093-023caec8ea1c   \n",
       "\n",
       "   Transaction Amount     Transaction Date Payment Method Product Category  \\\n",
       "0               58.09  2024-02-20 05:58:41  bank transfer      electronics   \n",
       "1              389.96  2024-02-25 08:09:45     debit card      electronics   \n",
       "2              134.19  2024-03-18 03:42:55         PayPal    home & garden   \n",
       "3              226.17  2024-03-16 20:41:31  bank transfer         clothing   \n",
       "4              121.53  2024-01-15 05:08:17  bank transfer         clothing   \n",
       "\n",
       "   Quantity  Customer Age Customer Location Device Used       IP Address  \\\n",
       "0         1            17     Amandaborough      tablet   212.195.49.198   \n",
       "1         2            40      East Timothy     desktop  208.106.249.121   \n",
       "2         2            22        Davismouth      tablet     76.63.88.212   \n",
       "3         5            31          Lynnberg     desktop   207.208.171.73   \n",
       "4         2            51      South Nicole      tablet   190.172.14.169   \n",
       "\n",
       "                                    Shipping Address  \\\n",
       "0                   Unit 8934 Box 0058\\nDPO AA 05437   \n",
       "1            634 May Keys\\nPort Cherylview, NV 75063   \n",
       "2    16282 Dana Falls Suite 790\\nRothhaven, IL 15564   \n",
       "3     828 Strong Loaf Apt. 646\\nNew Joshua, UT 84798   \n",
       "4  29799 Jason Hills Apt. 439\\nWest Richardtown, ...   \n",
       "\n",
       "                                     Billing Address  Is Fraudulent  \\\n",
       "0                   Unit 8934 Box 0058\\nDPO AA 05437              0   \n",
       "1            634 May Keys\\nPort Cherylview, NV 75063              0   \n",
       "2    16282 Dana Falls Suite 790\\nRothhaven, IL 15564              0   \n",
       "3     828 Strong Loaf Apt. 646\\nNew Joshua, UT 84798              0   \n",
       "4  29799 Jason Hills Apt. 439\\nWest Richardtown, ...              0   \n",
       "\n",
       "   Account Age Days  Transaction Hour  \n",
       "0                30                 5  \n",
       "1                72                 8  \n",
       "2                63                 3  \n",
       "3               124                20  \n",
       "4               158                 5  "
      ]
     },
     "execution_count": 5,
     "metadata": {},
     "output_type": "execute_result"
    }
   ],
   "source": [
    "print(user_live_test_data.shape)\n",
    "users_transact_data.head()"
   ]
  },
  {
   "cell_type": "code",
   "execution_count": 6,
   "id": "43b15087-159c-41bd-8255-91d9fee6a86a",
   "metadata": {},
   "outputs": [
    {
     "data": {
      "text/html": [
       "<div>\n",
       "<style scoped>\n",
       "    .dataframe tbody tr th:only-of-type {\n",
       "        vertical-align: middle;\n",
       "    }\n",
       "\n",
       "    .dataframe tbody tr th {\n",
       "        vertical-align: top;\n",
       "    }\n",
       "\n",
       "    .dataframe thead th {\n",
       "        text-align: right;\n",
       "    }\n",
       "</style>\n",
       "<table border=\"1\" class=\"dataframe\">\n",
       "  <thead>\n",
       "    <tr style=\"text-align: right;\">\n",
       "      <th></th>\n",
       "      <th>Transaction ID</th>\n",
       "      <th>Customer ID</th>\n",
       "      <th>Transaction Amount</th>\n",
       "      <th>Transaction Date</th>\n",
       "      <th>Payment Method</th>\n",
       "      <th>Product Category</th>\n",
       "      <th>Quantity</th>\n",
       "      <th>Customer Age</th>\n",
       "      <th>Customer Location</th>\n",
       "      <th>Device Used</th>\n",
       "      <th>IP Address</th>\n",
       "      <th>Shipping Address</th>\n",
       "      <th>Billing Address</th>\n",
       "      <th>Is Fraudulent</th>\n",
       "      <th>Account Age Days</th>\n",
       "      <th>Transaction Hour</th>\n",
       "    </tr>\n",
       "  </thead>\n",
       "  <tbody>\n",
       "    <tr>\n",
       "      <th>0</th>\n",
       "      <td>69c99073-bf9a-4f39-87d6-0bac726fe43b</td>\n",
       "      <td>37fc6628-9d40-477c-b576-4e739af7eb51</td>\n",
       "      <td>84.91</td>\n",
       "      <td>2024-03-30 19:07:37</td>\n",
       "      <td>bank transfer</td>\n",
       "      <td>electronics</td>\n",
       "      <td>1</td>\n",
       "      <td>31</td>\n",
       "      <td>South Richard</td>\n",
       "      <td>tablet</td>\n",
       "      <td>78.16.79.0</td>\n",
       "      <td>297 Anthony Creek Suite 388\\nNorth Michaelfurt...</td>\n",
       "      <td>297 Anthony Creek Suite 388\\nNorth Michaelfurt...</td>\n",
       "      <td>0</td>\n",
       "      <td>34</td>\n",
       "      <td>19</td>\n",
       "    </tr>\n",
       "    <tr>\n",
       "      <th>1</th>\n",
       "      <td>7eae0592-d64b-45f0-aa01-b4d224328a0b</td>\n",
       "      <td>14f1b38e-72f1-4a82-aa5a-d422aa990279</td>\n",
       "      <td>30.99</td>\n",
       "      <td>2024-02-23 02:10:27</td>\n",
       "      <td>credit card</td>\n",
       "      <td>electronics</td>\n",
       "      <td>3</td>\n",
       "      <td>47</td>\n",
       "      <td>Amberside</td>\n",
       "      <td>mobile</td>\n",
       "      <td>102.33.181.96</td>\n",
       "      <td>USNV Diaz\\nFPO AA 86306</td>\n",
       "      <td>USNV Diaz\\nFPO AA 86306</td>\n",
       "      <td>0</td>\n",
       "      <td>95</td>\n",
       "      <td>2</td>\n",
       "    </tr>\n",
       "    <tr>\n",
       "      <th>2</th>\n",
       "      <td>16ad4695-16d5-4b6e-b65d-0308473d82c1</td>\n",
       "      <td>a7f6f1a6-220d-44eb-b8b8-e27a655e5cdc</td>\n",
       "      <td>310.32</td>\n",
       "      <td>2024-01-05 19:14:48</td>\n",
       "      <td>debit card</td>\n",
       "      <td>clothing</td>\n",
       "      <td>4</td>\n",
       "      <td>50</td>\n",
       "      <td>South Brianburgh</td>\n",
       "      <td>mobile</td>\n",
       "      <td>139.222.215.225</td>\n",
       "      <td>588 Darrell Neck\\nTannerville, OR 16918</td>\n",
       "      <td>588 Darrell Neck\\nTannerville, OR 16918</td>\n",
       "      <td>0</td>\n",
       "      <td>304</td>\n",
       "      <td>19</td>\n",
       "    </tr>\n",
       "    <tr>\n",
       "      <th>3</th>\n",
       "      <td>271e4574-c2cc-422e-96cd-2ac4cb25d8e0</td>\n",
       "      <td>801e4f9f-ed11-4992-9ff1-d2ab329e72b7</td>\n",
       "      <td>40.50</td>\n",
       "      <td>2024-02-18 15:44:20</td>\n",
       "      <td>bank transfer</td>\n",
       "      <td>home &amp; garden</td>\n",
       "      <td>1</td>\n",
       "      <td>38</td>\n",
       "      <td>Christianfort</td>\n",
       "      <td>tablet</td>\n",
       "      <td>166.120.49.97</td>\n",
       "      <td>98931 Teresa Glen\\nEast Donna, AZ 79166</td>\n",
       "      <td>98931 Teresa Glen\\nEast Donna, AZ 79166</td>\n",
       "      <td>0</td>\n",
       "      <td>14</td>\n",
       "      <td>15</td>\n",
       "    </tr>\n",
       "    <tr>\n",
       "      <th>4</th>\n",
       "      <td>e409f671-5c17-43f0-a7ed-06d2a648c5eb</td>\n",
       "      <td>0f97f0b6-0575-4e51-8b5d-571e2ec27cd3</td>\n",
       "      <td>537.91</td>\n",
       "      <td>2024-02-25 13:48:44</td>\n",
       "      <td>debit card</td>\n",
       "      <td>home &amp; garden</td>\n",
       "      <td>2</td>\n",
       "      <td>31</td>\n",
       "      <td>Sarafort</td>\n",
       "      <td>tablet</td>\n",
       "      <td>144.152.197.120</td>\n",
       "      <td>11610 Miller Ford Suite 999\\nTaraborough, MN 2...</td>\n",
       "      <td>11610 Miller Ford Suite 999\\nTaraborough, MN 2...</td>\n",
       "      <td>0</td>\n",
       "      <td>274</td>\n",
       "      <td>13</td>\n",
       "    </tr>\n",
       "  </tbody>\n",
       "</table>\n",
       "</div>"
      ],
      "text/plain": [
       "                         Transaction ID                           Customer ID  \\\n",
       "0  69c99073-bf9a-4f39-87d6-0bac726fe43b  37fc6628-9d40-477c-b576-4e739af7eb51   \n",
       "1  7eae0592-d64b-45f0-aa01-b4d224328a0b  14f1b38e-72f1-4a82-aa5a-d422aa990279   \n",
       "2  16ad4695-16d5-4b6e-b65d-0308473d82c1  a7f6f1a6-220d-44eb-b8b8-e27a655e5cdc   \n",
       "3  271e4574-c2cc-422e-96cd-2ac4cb25d8e0  801e4f9f-ed11-4992-9ff1-d2ab329e72b7   \n",
       "4  e409f671-5c17-43f0-a7ed-06d2a648c5eb  0f97f0b6-0575-4e51-8b5d-571e2ec27cd3   \n",
       "\n",
       "   Transaction Amount     Transaction Date Payment Method Product Category  \\\n",
       "0               84.91  2024-03-30 19:07:37  bank transfer      electronics   \n",
       "1               30.99  2024-02-23 02:10:27    credit card      electronics   \n",
       "2              310.32  2024-01-05 19:14:48     debit card         clothing   \n",
       "3               40.50  2024-02-18 15:44:20  bank transfer    home & garden   \n",
       "4              537.91  2024-02-25 13:48:44     debit card    home & garden   \n",
       "\n",
       "   Quantity  Customer Age Customer Location Device Used       IP Address  \\\n",
       "0         1            31     South Richard      tablet       78.16.79.0   \n",
       "1         3            47         Amberside      mobile    102.33.181.96   \n",
       "2         4            50  South Brianburgh      mobile  139.222.215.225   \n",
       "3         1            38     Christianfort      tablet    166.120.49.97   \n",
       "4         2            31          Sarafort      tablet  144.152.197.120   \n",
       "\n",
       "                                    Shipping Address  \\\n",
       "0  297 Anthony Creek Suite 388\\nNorth Michaelfurt...   \n",
       "1                            USNV Diaz\\nFPO AA 86306   \n",
       "2            588 Darrell Neck\\nTannerville, OR 16918   \n",
       "3            98931 Teresa Glen\\nEast Donna, AZ 79166   \n",
       "4  11610 Miller Ford Suite 999\\nTaraborough, MN 2...   \n",
       "\n",
       "                                     Billing Address  Is Fraudulent  \\\n",
       "0  297 Anthony Creek Suite 388\\nNorth Michaelfurt...              0   \n",
       "1                            USNV Diaz\\nFPO AA 86306              0   \n",
       "2            588 Darrell Neck\\nTannerville, OR 16918              0   \n",
       "3            98931 Teresa Glen\\nEast Donna, AZ 79166              0   \n",
       "4  11610 Miller Ford Suite 999\\nTaraborough, MN 2...              0   \n",
       "\n",
       "   Account Age Days  Transaction Hour  \n",
       "0                34                19  \n",
       "1                95                 2  \n",
       "2               304                19  \n",
       "3                14                15  \n",
       "4               274                13  "
      ]
     },
     "execution_count": 6,
     "metadata": {},
     "output_type": "execute_result"
    }
   ],
   "source": [
    "# Shuffle the DataFrame\n",
    "transac_data = users_transact_data.sample(frac=1, random_state=42).reset_index(drop=True)\n",
    "transac_data.head()"
   ]
  },
  {
   "cell_type": "code",
   "execution_count": 7,
   "id": "712a4109-1778-4574-b743-11c88db81a1c",
   "metadata": {},
   "outputs": [
    {
     "data": {
      "text/plain": [
       "(1472952, 16)"
      ]
     },
     "execution_count": 7,
     "metadata": {},
     "output_type": "execute_result"
    }
   ],
   "source": [
    "transac_data.shape"
   ]
  },
  {
   "cell_type": "code",
   "execution_count": 8,
   "id": "6ea80e5a-64bf-4802-a88d-b6389d8caa7c",
   "metadata": {},
   "outputs": [
    {
     "data": {
      "text/plain": [
       "Index(['Transaction ID', 'Customer ID', 'Transaction Amount',\n",
       "       'Transaction Date', 'Payment Method', 'Product Category', 'Quantity',\n",
       "       'Customer Age', 'Customer Location', 'Device Used', 'IP Address',\n",
       "       'Shipping Address', 'Billing Address', 'Is Fraudulent',\n",
       "       'Account Age Days', 'Transaction Hour'],\n",
       "      dtype='object')"
      ]
     },
     "execution_count": 8,
     "metadata": {},
     "output_type": "execute_result"
    }
   ],
   "source": [
    "transac_data.columns             # All column names"
   ]
  },
  {
   "cell_type": "code",
   "execution_count": 9,
   "id": "e5cf4e63-75a5-4da1-af20-59d7559559e7",
   "metadata": {},
   "outputs": [
    {
     "data": {
      "text/plain": [
       "Transaction ID         object\n",
       "Customer ID            object\n",
       "Transaction Amount    float64\n",
       "Transaction Date       object\n",
       "Payment Method         object\n",
       "Product Category       object\n",
       "Quantity                int64\n",
       "Customer Age            int64\n",
       "Customer Location      object\n",
       "Device Used            object\n",
       "IP Address             object\n",
       "Shipping Address       object\n",
       "Billing Address        object\n",
       "Is Fraudulent           int64\n",
       "Account Age Days        int64\n",
       "Transaction Hour        int64\n",
       "dtype: object"
      ]
     },
     "execution_count": 9,
     "metadata": {},
     "output_type": "execute_result"
    }
   ],
   "source": [
    "transac_data.dtypes              # Data types of each column"
   ]
  },
  {
   "cell_type": "code",
   "execution_count": 10,
   "id": "46ab793e-f01d-4fef-a112-b112ffc7103f",
   "metadata": {},
   "outputs": [
    {
     "name": "stdout",
     "output_type": "stream",
     "text": [
      "<class 'pandas.core.frame.DataFrame'>\n",
      "RangeIndex: 1472952 entries, 0 to 1472951\n",
      "Data columns (total 16 columns):\n",
      " #   Column              Non-Null Count    Dtype  \n",
      "---  ------              --------------    -----  \n",
      " 0   Transaction ID      1472952 non-null  object \n",
      " 1   Customer ID         1472952 non-null  object \n",
      " 2   Transaction Amount  1472952 non-null  float64\n",
      " 3   Transaction Date    1472952 non-null  object \n",
      " 4   Payment Method      1472952 non-null  object \n",
      " 5   Product Category    1472952 non-null  object \n",
      " 6   Quantity            1472952 non-null  int64  \n",
      " 7   Customer Age        1472952 non-null  int64  \n",
      " 8   Customer Location   1472952 non-null  object \n",
      " 9   Device Used         1472952 non-null  object \n",
      " 10  IP Address          1472952 non-null  object \n",
      " 11  Shipping Address    1472952 non-null  object \n",
      " 12  Billing Address     1472952 non-null  object \n",
      " 13  Is Fraudulent       1472952 non-null  int64  \n",
      " 14  Account Age Days    1472952 non-null  int64  \n",
      " 15  Transaction Hour    1472952 non-null  int64  \n",
      "dtypes: float64(1), int64(5), object(10)\n",
      "memory usage: 179.8+ MB\n"
     ]
    }
   ],
   "source": [
    "transac_data.info()              # Summary: data types + non-null counts"
   ]
  },
  {
   "cell_type": "code",
   "execution_count": 11,
   "id": "d6c03b02-d5bb-4512-86bb-505da7a44792",
   "metadata": {},
   "outputs": [
    {
     "data": {
      "text/plain": [
       "Transaction ID        0\n",
       "Customer ID           0\n",
       "Transaction Amount    0\n",
       "Transaction Date      0\n",
       "Payment Method        0\n",
       "Product Category      0\n",
       "Quantity              0\n",
       "Customer Age          0\n",
       "Customer Location     0\n",
       "Device Used           0\n",
       "IP Address            0\n",
       "Shipping Address      0\n",
       "Billing Address       0\n",
       "Is Fraudulent         0\n",
       "Account Age Days      0\n",
       "Transaction Hour      0\n",
       "dtype: int64"
      ]
     },
     "execution_count": 11,
     "metadata": {},
     "output_type": "execute_result"
    }
   ],
   "source": [
    "transac_data.isnull().sum()           # Count missing values"
   ]
  },
  {
   "cell_type": "code",
   "execution_count": 12,
   "id": "fa56ac21-2870-4900-b9f5-15a44ee68c0a",
   "metadata": {},
   "outputs": [
    {
     "data": {
      "text/plain": [
       "Transaction ID        0.0\n",
       "Customer ID           0.0\n",
       "Transaction Amount    0.0\n",
       "Transaction Date      0.0\n",
       "Payment Method        0.0\n",
       "Product Category      0.0\n",
       "Quantity              0.0\n",
       "Customer Age          0.0\n",
       "Customer Location     0.0\n",
       "Device Used           0.0\n",
       "IP Address            0.0\n",
       "Shipping Address      0.0\n",
       "Billing Address       0.0\n",
       "Is Fraudulent         0.0\n",
       "Account Age Days      0.0\n",
       "Transaction Hour      0.0\n",
       "dtype: float64"
      ]
     },
     "execution_count": 12,
     "metadata": {},
     "output_type": "execute_result"
    }
   ],
   "source": [
    "transac_data.isnull().mean() * 100    # % missing values"
   ]
  },
  {
   "cell_type": "code",
   "execution_count": 13,
   "id": "38fa7eff-27dc-482b-9110-cd0d20f6fd0c",
   "metadata": {},
   "outputs": [],
   "source": [
    "# sns.heatmap(transac_data.isnull(), cbar=False)  # Visual map"
   ]
  },
  {
   "cell_type": "code",
   "execution_count": 14,
   "id": "c40495d9-dfb4-4930-acf2-0b29d45a47f1",
   "metadata": {},
   "outputs": [
    {
     "data": {
      "text/html": [
       "<div>\n",
       "<style scoped>\n",
       "    .dataframe tbody tr th:only-of-type {\n",
       "        vertical-align: middle;\n",
       "    }\n",
       "\n",
       "    .dataframe tbody tr th {\n",
       "        vertical-align: top;\n",
       "    }\n",
       "\n",
       "    .dataframe thead th {\n",
       "        text-align: right;\n",
       "    }\n",
       "</style>\n",
       "<table border=\"1\" class=\"dataframe\">\n",
       "  <thead>\n",
       "    <tr style=\"text-align: right;\">\n",
       "      <th></th>\n",
       "      <th>Transaction Amount</th>\n",
       "      <th>Quantity</th>\n",
       "      <th>Customer Age</th>\n",
       "      <th>Is Fraudulent</th>\n",
       "      <th>Account Age Days</th>\n",
       "      <th>Transaction Hour</th>\n",
       "    </tr>\n",
       "  </thead>\n",
       "  <tbody>\n",
       "    <tr>\n",
       "      <th>count</th>\n",
       "      <td>1.472952e+06</td>\n",
       "      <td>1.472952e+06</td>\n",
       "      <td>1.472952e+06</td>\n",
       "      <td>1.472952e+06</td>\n",
       "      <td>1.472952e+06</td>\n",
       "      <td>1.472952e+06</td>\n",
       "    </tr>\n",
       "    <tr>\n",
       "      <th>mean</th>\n",
       "      <td>2.267683e+02</td>\n",
       "      <td>3.000230e+00</td>\n",
       "      <td>3.451208e+01</td>\n",
       "      <td>5.012926e-02</td>\n",
       "      <td>1.796464e+02</td>\n",
       "      <td>1.128696e+01</td>\n",
       "    </tr>\n",
       "    <tr>\n",
       "      <th>std</th>\n",
       "      <td>2.703951e+02</td>\n",
       "      <td>1.414736e+00</td>\n",
       "      <td>1.000313e+01</td>\n",
       "      <td>2.182117e-01</td>\n",
       "      <td>1.068642e+02</td>\n",
       "      <td>6.975995e+00</td>\n",
       "    </tr>\n",
       "    <tr>\n",
       "      <th>min</th>\n",
       "      <td>1.000000e+01</td>\n",
       "      <td>1.000000e+00</td>\n",
       "      <td>-1.600000e+01</td>\n",
       "      <td>0.000000e+00</td>\n",
       "      <td>1.000000e+00</td>\n",
       "      <td>0.000000e+00</td>\n",
       "    </tr>\n",
       "    <tr>\n",
       "      <th>25%</th>\n",
       "      <td>6.861000e+01</td>\n",
       "      <td>2.000000e+00</td>\n",
       "      <td>2.800000e+01</td>\n",
       "      <td>0.000000e+00</td>\n",
       "      <td>8.600000e+01</td>\n",
       "      <td>5.000000e+00</td>\n",
       "    </tr>\n",
       "    <tr>\n",
       "      <th>50%</th>\n",
       "      <td>1.517600e+02</td>\n",
       "      <td>3.000000e+00</td>\n",
       "      <td>3.500000e+01</td>\n",
       "      <td>0.000000e+00</td>\n",
       "      <td>1.790000e+02</td>\n",
       "      <td>1.100000e+01</td>\n",
       "    </tr>\n",
       "    <tr>\n",
       "      <th>75%</th>\n",
       "      <td>2.960500e+02</td>\n",
       "      <td>4.000000e+00</td>\n",
       "      <td>4.100000e+01</td>\n",
       "      <td>0.000000e+00</td>\n",
       "      <td>2.720000e+02</td>\n",
       "      <td>1.700000e+01</td>\n",
       "    </tr>\n",
       "    <tr>\n",
       "      <th>max</th>\n",
       "      <td>1.270175e+04</td>\n",
       "      <td>5.000000e+00</td>\n",
       "      <td>8.600000e+01</td>\n",
       "      <td>1.000000e+00</td>\n",
       "      <td>3.650000e+02</td>\n",
       "      <td>2.300000e+01</td>\n",
       "    </tr>\n",
       "  </tbody>\n",
       "</table>\n",
       "</div>"
      ],
      "text/plain": [
       "       Transaction Amount      Quantity  Customer Age  Is Fraudulent  \\\n",
       "count        1.472952e+06  1.472952e+06  1.472952e+06   1.472952e+06   \n",
       "mean         2.267683e+02  3.000230e+00  3.451208e+01   5.012926e-02   \n",
       "std          2.703951e+02  1.414736e+00  1.000313e+01   2.182117e-01   \n",
       "min          1.000000e+01  1.000000e+00 -1.600000e+01   0.000000e+00   \n",
       "25%          6.861000e+01  2.000000e+00  2.800000e+01   0.000000e+00   \n",
       "50%          1.517600e+02  3.000000e+00  3.500000e+01   0.000000e+00   \n",
       "75%          2.960500e+02  4.000000e+00  4.100000e+01   0.000000e+00   \n",
       "max          1.270175e+04  5.000000e+00  8.600000e+01   1.000000e+00   \n",
       "\n",
       "       Account Age Days  Transaction Hour  \n",
       "count      1.472952e+06      1.472952e+06  \n",
       "mean       1.796464e+02      1.128696e+01  \n",
       "std        1.068642e+02      6.975995e+00  \n",
       "min        1.000000e+00      0.000000e+00  \n",
       "25%        8.600000e+01      5.000000e+00  \n",
       "50%        1.790000e+02      1.100000e+01  \n",
       "75%        2.720000e+02      1.700000e+01  \n",
       "max        3.650000e+02      2.300000e+01  "
      ]
     },
     "execution_count": 14,
     "metadata": {},
     "output_type": "execute_result"
    }
   ],
   "source": [
    "transac_data.describe()  # Count, mean, std, min, max, etc."
   ]
  },
  {
   "cell_type": "code",
   "execution_count": 15,
   "id": "38ae1af4-c9e2-43d4-9fc9-9fc92bd34782",
   "metadata": {},
   "outputs": [
    {
     "data": {
      "text/plain": [
       "Payment Method\n",
       "credit card      368429\n",
       "bank transfer    368278\n",
       "debit card       368277\n",
       "PayPal           367968\n",
       "Name: count, dtype: int64"
      ]
     },
     "execution_count": 15,
     "metadata": {},
     "output_type": "execute_result"
    }
   ],
   "source": [
    "transac_data['Payment Method'].value_counts()"
   ]
  },
  {
   "cell_type": "code",
   "execution_count": 16,
   "id": "a8d11615-9104-4263-b78e-143a60af696b",
   "metadata": {},
   "outputs": [
    {
     "data": {
      "text/plain": [
       "Product Category\n",
       "health & beauty    20.052724\n",
       "electronics        20.047768\n",
       "clothing           19.981574\n",
       "toys & games       19.977976\n",
       "home & garden      19.939957\n",
       "Name: proportion, dtype: float64"
      ]
     },
     "execution_count": 16,
     "metadata": {},
     "output_type": "execute_result"
    }
   ],
   "source": [
    "transac_data['Product Category'].value_counts(normalize=True) * 100  # % share"
   ]
  },
  {
   "cell_type": "code",
   "execution_count": 17,
   "id": "4ddab742-ba4c-42f9-9b5f-52be948838f4",
   "metadata": {},
   "outputs": [
    {
     "data": {
      "text/plain": [
       "Transaction ID        1472952\n",
       "Customer ID           1472952\n",
       "Transaction Amount     108998\n",
       "Transaction Date      1346684\n",
       "Payment Method              4\n",
       "Product Category            5\n",
       "Quantity                    5\n",
       "Customer Age               97\n",
       "Customer Location       99135\n",
       "Device Used                 3\n",
       "IP Address            1472651\n",
       "Shipping Address      1472948\n",
       "Billing Address       1472949\n",
       "Is Fraudulent               2\n",
       "Account Age Days          365\n",
       "Transaction Hour           24\n",
       "dtype: int64"
      ]
     },
     "execution_count": 17,
     "metadata": {},
     "output_type": "execute_result"
    }
   ],
   "source": [
    "transac_data.nunique()  # Number of unique values per column"
   ]
  },
  {
   "cell_type": "code",
   "execution_count": 18,
   "id": "80d74b29-32d7-4230-88e2-1838878a5ac6",
   "metadata": {},
   "outputs": [
    {
     "data": {
      "text/plain": [
       "np.int64(0)"
      ]
     },
     "execution_count": 18,
     "metadata": {},
     "output_type": "execute_result"
    }
   ],
   "source": [
    "transac_data.duplicated().sum()"
   ]
  },
  {
   "cell_type": "code",
   "execution_count": 19,
   "id": "9941cefc-832a-421e-bbfd-88aade94bea3",
   "metadata": {},
   "outputs": [
    {
     "data": {
      "text/plain": [
       "Is Fraudulent\n",
       "0    1399114\n",
       "1      73838\n",
       "Name: count, dtype: int64"
      ]
     },
     "execution_count": 19,
     "metadata": {},
     "output_type": "execute_result"
    }
   ],
   "source": [
    "transac_data['Is Fraudulent'].value_counts()"
   ]
  },
  {
   "cell_type": "code",
   "execution_count": 20,
   "id": "ef102c74-3ae5-4eaf-a401-743e9c2d5f5d",
   "metadata": {},
   "outputs": [
    {
     "data": {
      "text/plain": [
       "<Axes: xlabel='Is Fraudulent', ylabel='count'>"
      ]
     },
     "execution_count": 20,
     "metadata": {},
     "output_type": "execute_result"
    },
    {
     "data": {
      "image/png": "[encoded data removed]",
      "text/plain": [
       "<Figure size 640x480 with 1 Axes>"
      ]
     },
     "metadata": {},
     "output_type": "display_data"
    }
   ],
   "source": [
    "sns.countplot(x='Is Fraudulent', data=transac_data)"
   ]
  },
  {
   "cell_type": "code",
   "execution_count": 21,
   "id": "d711b1b8-b561-4ccf-81bf-997e3b2e6ee4",
   "metadata": {},
   "outputs": [
    {
     "data": {
      "text/plain": [
       "<Axes: >"
      ]
     },
     "execution_count": 21,
     "metadata": {},
     "output_type": "execute_result"
    },
    {
     "data": {
      "image/png": "[encoded data removed]",
      "text/plain": [
       "<Figure size 640x480 with 1 Axes>"
      ]
     },
     "metadata": {},
     "output_type": "display_data"
    }
   ],
   "source": [
    "transac_data['Transaction Amount'].hist(bins=50)"
   ]
  },
  {
   "cell_type": "code",
   "execution_count": 22,
   "id": "fd146979-372c-4bcf-83ae-e300a1a3914d",
   "metadata": {},
   "outputs": [],
   "source": [
    "# transac_data.head()"
   ]
  },
  {
   "cell_type": "code",
   "execution_count": 23,
   "id": "5925401c-547b-44ee-b453-29ffdec03fd8",
   "metadata": {},
   "outputs": [
    {
     "data": {
      "image/png": "[encoded data removed]",
      "text/plain": [
       "<Figure size 640x480 with 1 Axes>"
      ]
     },
     "metadata": {},
     "output_type": "display_data"
    }
   ],
   "source": [
    "# Customer Age vs Is Fraudulent\n",
    "# Create age groups\n",
    "transac_data['Age Group'] = pd.cut(transac_data['Customer Age'], bins=[0, 20, 30, 40, 50, 60, 100], \n",
    "                                   labels=['0-20', '21-30', '31-40', '41-50', '51-60', '60+'])\n",
    "\n",
    "# Count frauds per age group\n",
    "age_fraud = transac_data.groupby('Age Group')['Is Fraudulent'].value_counts(normalize=True).unstack().fillna(0)\n",
    "\n",
    "# Plot\n",
    "age_fraud.plot(kind='bar', stacked=True, colormap='coolwarm')\n",
    "plt.title(\"Fraud Distribution by Age Group\")\n",
    "plt.ylabel(\"Proportion\")\n",
    "plt.xticks(rotation=0)\n",
    "plt.show()"
   ]
  },
  {
   "cell_type": "code",
   "execution_count": 24,
   "id": "367559dd-9eb3-4bb4-9a02-7c066e3d656d",
   "metadata": {},
   "outputs": [
    {
     "data": {
      "image/png": "[encoded data removed]",
      "text/plain": [
       "<Figure size 1200x600 with 1 Axes>"
      ]
     },
     "metadata": {},
     "output_type": "display_data"
    }
   ],
   "source": [
    "fraud_by_category = transac_data.groupby('Product Category')['Is Fraudulent'].value_counts(normalize=True).unstack().fillna(0)\n",
    "fraud_by_category.plot(kind='bar', stacked=True, figsize=(12,6), colormap='coolwarm')\n",
    "plt.title(\"Fraud Rate by Product Category\")\n",
    "plt.ylabel(\"Proportion\")\n",
    "plt.xticks(rotation=45)\n",
    "plt.show()"
   ]
  },
  {
   "cell_type": "code",
   "execution_count": 25,
   "id": "d30c0970-05e2-4a9b-bc7c-552f26bc64d5",
   "metadata": {},
   "outputs": [
    {
     "data": {
      "image/png": "[encoded data removed]",
      "text/plain": [
       "<Figure size 640x480 with 1 Axes>"
      ]
     },
     "metadata": {},
     "output_type": "display_data"
    }
   ],
   "source": [
    "fraud_by_payment = transac_data.groupby('Payment Method')['Is Fraudulent'].value_counts(normalize=True).unstack().fillna(0)\n",
    "fraud_by_payment.plot(kind='bar', stacked=True, colormap='coolwarm')\n",
    "plt.title(\"Fraud Rate by Payment Method\")\n",
    "plt.ylabel(\"Proportion\")\n",
    "plt.xticks(rotation=45)\n",
    "plt.show()"
   ]
  },
  {
   "cell_type": "code",
   "execution_count": 26,
   "id": "4fd3de9e-9f80-4a30-bde3-bc52b0217b2c",
   "metadata": {},
   "outputs": [
    {
     "data": {
      "image/png": "[encoded data removed]",
      "text/plain": [
       "<Figure size 640x480 with 1 Axes>"
      ]
     },
     "metadata": {},
     "output_type": "display_data"
    }
   ],
   "source": [
    "fraud_by_device = transac_data.groupby('Device Used')['Is Fraudulent'].value_counts(normalize=True).unstack().fillna(0)\n",
    "fraud_by_device.plot(kind='bar', stacked=True, colormap='coolwarm')\n",
    "plt.title(\"Fraud Rate by Device Used\")\n",
    "plt.ylabel(\"Proportion\")\n",
    "plt.xticks(rotation=45)\n",
    "plt.show()"
   ]
  },
  {
   "cell_type": "code",
   "execution_count": 27,
   "id": "91dd8eae-9fe0-4bba-bbef-ad5fa688bb2b",
   "metadata": {},
   "outputs": [
    {
     "data": {
      "image/png": "[encoded data removed]",
      "text/plain": [
       "<Figure size 1200x600 with 1 Axes>"
      ]
     },
     "metadata": {},
     "output_type": "display_data"
    }
   ],
   "source": [
    "hourly_fraud = transac_data.groupby('Transaction Hour')['Is Fraudulent'].value_counts(normalize=True).unstack().fillna(0)\n",
    "hourly_fraud.plot(kind='bar', stacked=True, figsize=(12,6), colormap='coolwarm')\n",
    "plt.title(\"Fraud Rate by Transaction Hour\")\n",
    "plt.ylabel(\"Proportion\")\n",
    "plt.xticks(rotation=0)\n",
    "plt.show()"
   ]
  },
  {
   "cell_type": "markdown",
   "id": "b9c100d2-8ed1-4f65-b375-15f628d7efd9",
   "metadata": {},
   "source": [
    "### Outliers"
   ]
  },
  {
   "cell_type": "code",
   "execution_count": 28,
   "id": "50b6d863-5e24-45b2-a6ae-a0fbd0a8ee77",
   "metadata": {},
   "outputs": [],
   "source": [
    "def detect_outliers_iqr(data, column):\n",
    "    Q1 = data[column].quantile(0.25)\n",
    "    Q3 = data[column].quantile(0.75)\n",
    "    IQR = Q3 - Q1\n",
    "    lower = Q1 - 1.5 * IQR\n",
    "    upper = Q3 + 1.5 * IQR\n",
    "    outliers = data[(data[column] < lower) | (data[column] > upper)]\n",
    "    return outliers"
   ]
  },
  {
   "cell_type": "code",
   "execution_count": 29,
   "id": "cbc8d394-ee85-45c0-b9e7-f9a1f03057e8",
   "metadata": {},
   "outputs": [
    {
     "name": "stdout",
     "output_type": "stream",
     "text": [
      "Outliers found: 79180\n",
      "Transaction Amount\n",
      "661.21    11\n",
      "637.70    10\n",
      "709.90    10\n",
      "687.45    10\n",
      "641.00    10\n",
      "695.15    10\n",
      "648.22    10\n",
      "656.20     9\n",
      "690.80     9\n",
      "743.65     9\n",
      "Name: count, dtype: int64\n"
     ]
    }
   ],
   "source": [
    "# Transaction Amount\n",
    "outliers = detect_outliers_iqr(transac_data, 'Transaction Amount')\n",
    "print(f\"Outliers found: {len(outliers)}\")\n",
    "print(outliers['Transaction Amount'].value_counts().head(10))  # see common extreme values"
   ]
  },
  {
   "cell_type": "code",
   "execution_count": 30,
   "id": "889b8717-bbd3-450d-b277-1983694f174d",
   "metadata": {},
   "outputs": [
    {
     "data": {
      "text/plain": [
       "Text(0, 0.5, 'Frequency')"
      ]
     },
     "execution_count": 30,
     "metadata": {},
     "output_type": "execute_result"
    },
    {
     "data": {
      "image/png": "[encoded data removed]",
      "text/plain": [
       "<Figure size 1400x600 with 1 Axes>"
      ]
     },
     "metadata": {},
     "output_type": "display_data"
    }
   ],
   "source": [
    "plt.figure(figsize=(14, 6))\n",
    "\n",
    "plt.subplot(1, 2, 1)\n",
    "sns.histplot(transac_data['Transaction Amount'], bins=100, kde=True, color='tomato')\n",
    "plt.title('Transaction Amount - Before Removing Outliers')\n",
    "plt.xlabel('Transaction Amount')\n",
    "plt.ylabel('Frequency')"
   ]
  },
  {
   "cell_type": "markdown",
   "id": "c118ec85-3652-4060-b2ef-36f3432b92a9",
   "metadata": {},
   "source": [
    " fraud detection model, outliers might actually be the signal, not noise — especially if large transactions are often fraudulent."
   ]
  },
  {
   "cell_type": "code",
   "execution_count": 31,
   "id": "9123cd0e-773b-4efa-9085-78abbfa3a66a",
   "metadata": {},
   "outputs": [
    {
     "name": "stdout",
     "output_type": "stream",
     "text": [
      "Outliers found: 0\n"
     ]
    }
   ],
   "source": [
    "# Quantity\n",
    "outliers = detect_outliers_iqr(transac_data, 'Quantity')\n",
    "print(f\"Outliers found: {len(outliers)}\")"
   ]
  },
  {
   "cell_type": "code",
   "execution_count": 32,
   "id": "8f998b56-65a7-4452-9f7a-02aea1323d76",
   "metadata": {},
   "outputs": [
    {
     "name": "stdout",
     "output_type": "stream",
     "text": [
      "Outliers found: 13746\n",
      "Customer Age\n",
      "8     1775\n",
      "61    1706\n",
      "62    1326\n",
      "7     1326\n",
      "63    1037\n",
      "6     1010\n",
      "64     811\n",
      "5      721\n",
      "65     559\n",
      "4      554\n",
      "Name: count, dtype: int64\n"
     ]
    }
   ],
   "source": [
    "# Customer Age\n",
    "outliers = detect_outliers_iqr(transac_data, 'Customer Age')\n",
    "print(f\"Outliers found: {len(outliers)}\")\n",
    "print(outliers['Customer Age'].value_counts().head(10))"
   ]
  },
  {
   "cell_type": "code",
   "execution_count": 33,
   "id": "5ba8670f-a414-4e96-9587-7237681dcf15",
   "metadata": {},
   "outputs": [
    {
     "data": {
      "image/png": "[encoded data removed]",
      "text/plain": [
       "<Figure size 640x480 with 1 Axes>"
      ]
     },
     "metadata": {},
     "output_type": "display_data"
    }
   ],
   "source": [
    "sns.boxplot(x=transac_data['Customer Age'])\n",
    "plt.title(\"Boxplot for Transaction Amount\")\n",
    "plt.show()"
   ]
  },
  {
   "cell_type": "code",
   "execution_count": 34,
   "id": "bb4b0f3c-cefb-4fb0-a013-755f82794aad",
   "metadata": {},
   "outputs": [
    {
     "data": {
      "text/plain": [
       "Text(0, 0.5, 'Frequency')"
      ]
     },
     "execution_count": 34,
     "metadata": {},
     "output_type": "execute_result"
    },
    {
     "data": {
      "image/png": "[encoded data removed]",
      "text/plain": [
       "<Figure size 1400x600 with 1 Axes>"
      ]
     },
     "metadata": {},
     "output_type": "display_data"
    }
   ],
   "source": [
    "plt.figure(figsize=(14, 6))\n",
    "\n",
    "plt.subplot(1, 2, 1)\n",
    "sns.histplot(transac_data['Customer Age'], bins=50, kde=True, color='orange')\n",
    "plt.title('Customer Age')\n",
    "plt.xlabel('Customer Age')\n",
    "plt.ylabel('Frequency')"
   ]
  },
  {
   "cell_type": "code",
   "execution_count": 35,
   "id": "51dc772f-cacb-4d1a-96bc-e0cc5c3e0dae",
   "metadata": {},
   "outputs": [
    {
     "data": {
      "text/plain": [
       "(1472952, 17)"
      ]
     },
     "execution_count": 35,
     "metadata": {},
     "output_type": "execute_result"
    }
   ],
   "source": [
    "transac_data.shape"
   ]
  },
  {
   "cell_type": "code",
   "execution_count": 36,
   "id": "92c6871c-b7d9-4b77-9099-a7f8bd358adf",
   "metadata": {},
   "outputs": [],
   "source": [
    "# 4–10 Likely invalid — no 5-year-old customers unless this is a toy store.\n",
    "# Drop clearly invalid ages (like < 10)\n",
    "transac_data = transac_data[transac_data['Customer Age'] >= 10]"
   ]
  },
  {
   "cell_type": "code",
   "execution_count": 37,
   "id": "f85cf5db-b25f-4467-8562-263637216d65",
   "metadata": {},
   "outputs": [
    {
     "data": {
      "image/png": "[encoded data removed]",
      "text/plain": [
       "<Figure size 640x480 with 1 Axes>"
      ]
     },
     "metadata": {},
     "output_type": "display_data"
    }
   ],
   "source": [
    "plt.subplot(1, 2, 2)\n",
    "sns.histplot(transac_data['Customer Age'], bins=50, kde=True, color='green')\n",
    "plt.title('Customer Age - After Removing Outliers')\n",
    "plt.xlabel('Customer Age')\n",
    "plt.ylabel('Frequency')\n",
    "\n",
    "plt.tight_layout()\n",
    "plt.show()"
   ]
  },
  {
   "cell_type": "code",
   "execution_count": 38,
   "id": "e02f7bf6-413d-4005-863a-03de6b30ef35",
   "metadata": {},
   "outputs": [
    {
     "data": {
      "text/plain": [
       "(1463822, 17)"
      ]
     },
     "execution_count": 38,
     "metadata": {},
     "output_type": "execute_result"
    }
   ],
   "source": [
    "transac_data.shape"
   ]
  },
  {
   "cell_type": "code",
   "execution_count": 39,
   "id": "4ad09749-7ddf-4611-a3cf-7c648338591b",
   "metadata": {},
   "outputs": [
    {
     "data": {
      "text/plain": [
       "9130"
      ]
     },
     "execution_count": 39,
     "metadata": {},
     "output_type": "execute_result"
    }
   ],
   "source": [
    "1472952 - 1463822"
   ]
  },
  {
   "cell_type": "code",
   "execution_count": 40,
   "id": "87adfde5-9f4d-45f0-a847-02f1b0aab7e7",
   "metadata": {},
   "outputs": [
    {
     "name": "stdout",
     "output_type": "stream",
     "text": [
      "Outliers found: 0\n"
     ]
    }
   ],
   "source": [
    "# Account Age Days\n",
    "outliers = detect_outliers_iqr(transac_data, 'Account Age Days')\n",
    "print(f\"Outliers found: {len(outliers)}\")"
   ]
  },
  {
   "cell_type": "code",
   "execution_count": 41,
   "id": "8fc89104-b166-49c5-8107-c29fa1295dad",
   "metadata": {},
   "outputs": [
    {
     "name": "stdout",
     "output_type": "stream",
     "text": [
      "Outliers found: 0\n"
     ]
    }
   ],
   "source": [
    "# Transaction Hour\n",
    "outliers = detect_outliers_iqr(transac_data, 'Transaction Hour')\n",
    "print(f\"Outliers found: {len(outliers)}\")"
   ]
  },
  {
   "cell_type": "code",
   "execution_count": 42,
   "id": "ad4cbc49-bb52-440e-a6d2-a8d2a2f6b692",
   "metadata": {},
   "outputs": [
    {
     "data": {
      "text/html": [
       "<div>\n",
       "<style scoped>\n",
       "    .dataframe tbody tr th:only-of-type {\n",
       "        vertical-align: middle;\n",
       "    }\n",
       "\n",
       "    .dataframe tbody tr th {\n",
       "        vertical-align: top;\n",
       "    }\n",
       "\n",
       "    .dataframe thead th {\n",
       "        text-align: right;\n",
       "    }\n",
       "</style>\n",
       "<table border=\"1\" class=\"dataframe\">\n",
       "  <thead>\n",
       "    <tr style=\"text-align: right;\">\n",
       "      <th></th>\n",
       "      <th>Transaction ID</th>\n",
       "      <th>Customer ID</th>\n",
       "      <th>Transaction Amount</th>\n",
       "      <th>Transaction Date</th>\n",
       "      <th>Payment Method</th>\n",
       "      <th>Product Category</th>\n",
       "      <th>Quantity</th>\n",
       "      <th>Customer Age</th>\n",
       "      <th>Customer Location</th>\n",
       "      <th>Device Used</th>\n",
       "      <th>IP Address</th>\n",
       "      <th>Shipping Address</th>\n",
       "      <th>Billing Address</th>\n",
       "      <th>Is Fraudulent</th>\n",
       "      <th>Account Age Days</th>\n",
       "      <th>Transaction Hour</th>\n",
       "      <th>Age Group</th>\n",
       "    </tr>\n",
       "  </thead>\n",
       "  <tbody>\n",
       "    <tr>\n",
       "      <th>0</th>\n",
       "      <td>69c99073-bf9a-4f39-87d6-0bac726fe43b</td>\n",
       "      <td>37fc6628-9d40-477c-b576-4e739af7eb51</td>\n",
       "      <td>84.91</td>\n",
       "      <td>2024-03-30 19:07:37</td>\n",
       "      <td>bank transfer</td>\n",
       "      <td>electronics</td>\n",
       "      <td>1</td>\n",
       "      <td>31</td>\n",
       "      <td>South Richard</td>\n",
       "      <td>tablet</td>\n",
       "      <td>78.16.79.0</td>\n",
       "      <td>297 Anthony Creek Suite 388\\nNorth Michaelfurt...</td>\n",
       "      <td>297 Anthony Creek Suite 388\\nNorth Michaelfurt...</td>\n",
       "      <td>0</td>\n",
       "      <td>34</td>\n",
       "      <td>19</td>\n",
       "      <td>31-40</td>\n",
       "    </tr>\n",
       "    <tr>\n",
       "      <th>1</th>\n",
       "      <td>7eae0592-d64b-45f0-aa01-b4d224328a0b</td>\n",
       "      <td>14f1b38e-72f1-4a82-aa5a-d422aa990279</td>\n",
       "      <td>30.99</td>\n",
       "      <td>2024-02-23 02:10:27</td>\n",
       "      <td>credit card</td>\n",
       "      <td>electronics</td>\n",
       "      <td>3</td>\n",
       "      <td>47</td>\n",
       "      <td>Amberside</td>\n",
       "      <td>mobile</td>\n",
       "      <td>102.33.181.96</td>\n",
       "      <td>USNV Diaz\\nFPO AA 86306</td>\n",
       "      <td>USNV Diaz\\nFPO AA 86306</td>\n",
       "      <td>0</td>\n",
       "      <td>95</td>\n",
       "      <td>2</td>\n",
       "      <td>41-50</td>\n",
       "    </tr>\n",
       "    <tr>\n",
       "      <th>2</th>\n",
       "      <td>16ad4695-16d5-4b6e-b65d-0308473d82c1</td>\n",
       "      <td>a7f6f1a6-220d-44eb-b8b8-e27a655e5cdc</td>\n",
       "      <td>310.32</td>\n",
       "      <td>2024-01-05 19:14:48</td>\n",
       "      <td>debit card</td>\n",
       "      <td>clothing</td>\n",
       "      <td>4</td>\n",
       "      <td>50</td>\n",
       "      <td>South Brianburgh</td>\n",
       "      <td>mobile</td>\n",
       "      <td>139.222.215.225</td>\n",
       "      <td>588 Darrell Neck\\nTannerville, OR 16918</td>\n",
       "      <td>588 Darrell Neck\\nTannerville, OR 16918</td>\n",
       "      <td>0</td>\n",
       "      <td>304</td>\n",
       "      <td>19</td>\n",
       "      <td>41-50</td>\n",
       "    </tr>\n",
       "    <tr>\n",
       "      <th>3</th>\n",
       "      <td>271e4574-c2cc-422e-96cd-2ac4cb25d8e0</td>\n",
       "      <td>801e4f9f-ed11-4992-9ff1-d2ab329e72b7</td>\n",
       "      <td>40.50</td>\n",
       "      <td>2024-02-18 15:44:20</td>\n",
       "      <td>bank transfer</td>\n",
       "      <td>home &amp; garden</td>\n",
       "      <td>1</td>\n",
       "      <td>38</td>\n",
       "      <td>Christianfort</td>\n",
       "      <td>tablet</td>\n",
       "      <td>166.120.49.97</td>\n",
       "      <td>98931 Teresa Glen\\nEast Donna, AZ 79166</td>\n",
       "      <td>98931 Teresa Glen\\nEast Donna, AZ 79166</td>\n",
       "      <td>0</td>\n",
       "      <td>14</td>\n",
       "      <td>15</td>\n",
       "      <td>31-40</td>\n",
       "    </tr>\n",
       "    <tr>\n",
       "      <th>4</th>\n",
       "      <td>e409f671-5c17-43f0-a7ed-06d2a648c5eb</td>\n",
       "      <td>0f97f0b6-0575-4e51-8b5d-571e2ec27cd3</td>\n",
       "      <td>537.91</td>\n",
       "      <td>2024-02-25 13:48:44</td>\n",
       "      <td>debit card</td>\n",
       "      <td>home &amp; garden</td>\n",
       "      <td>2</td>\n",
       "      <td>31</td>\n",
       "      <td>Sarafort</td>\n",
       "      <td>tablet</td>\n",
       "      <td>144.152.197.120</td>\n",
       "      <td>11610 Miller Ford Suite 999\\nTaraborough, MN 2...</td>\n",
       "      <td>11610 Miller Ford Suite 999\\nTaraborough, MN 2...</td>\n",
       "      <td>0</td>\n",
       "      <td>274</td>\n",
       "      <td>13</td>\n",
       "      <td>31-40</td>\n",
       "    </tr>\n",
       "  </tbody>\n",
       "</table>\n",
       "</div>"
      ],
      "text/plain": [
       "                         Transaction ID                           Customer ID  \\\n",
       "0  69c99073-bf9a-4f39-87d6-0bac726fe43b  37fc6628-9d40-477c-b576-4e739af7eb51   \n",
       "1  7eae0592-d64b-45f0-aa01-b4d224328a0b  14f1b38e-72f1-4a82-aa5a-d422aa990279   \n",
       "2  16ad4695-16d5-4b6e-b65d-0308473d82c1  a7f6f1a6-220d-44eb-b8b8-e27a655e5cdc   \n",
       "3  271e4574-c2cc-422e-96cd-2ac4cb25d8e0  801e4f9f-ed11-4992-9ff1-d2ab329e72b7   \n",
       "4  e409f671-5c17-43f0-a7ed-06d2a648c5eb  0f97f0b6-0575-4e51-8b5d-571e2ec27cd3   \n",
       "\n",
       "   Transaction Amount     Transaction Date Payment Method Product Category  \\\n",
       "0               84.91  2024-03-30 19:07:37  bank transfer      electronics   \n",
       "1               30.99  2024-02-23 02:10:27    credit card      electronics   \n",
       "2              310.32  2024-01-05 19:14:48     debit card         clothing   \n",
       "3               40.50  2024-02-18 15:44:20  bank transfer    home & garden   \n",
       "4              537.91  2024-02-25 13:48:44     debit card    home & garden   \n",
       "\n",
       "   Quantity  Customer Age Customer Location Device Used       IP Address  \\\n",
       "0         1            31     South Richard      tablet       78.16.79.0   \n",
       "1         3            47         Amberside      mobile    102.33.181.96   \n",
       "2         4            50  South Brianburgh      mobile  139.222.215.225   \n",
       "3         1            38     Christianfort      tablet    166.120.49.97   \n",
       "4         2            31          Sarafort      tablet  144.152.197.120   \n",
       "\n",
       "                                    Shipping Address  \\\n",
       "0  297 Anthony Creek Suite 388\\nNorth Michaelfurt...   \n",
       "1                            USNV Diaz\\nFPO AA 86306   \n",
       "2            588 Darrell Neck\\nTannerville, OR 16918   \n",
       "3            98931 Teresa Glen\\nEast Donna, AZ 79166   \n",
       "4  11610 Miller Ford Suite 999\\nTaraborough, MN 2...   \n",
       "\n",
       "                                     Billing Address  Is Fraudulent  \\\n",
       "0  297 Anthony Creek Suite 388\\nNorth Michaelfurt...              0   \n",
       "1                            USNV Diaz\\nFPO AA 86306              0   \n",
       "2            588 Darrell Neck\\nTannerville, OR 16918              0   \n",
       "3            98931 Teresa Glen\\nEast Donna, AZ 79166              0   \n",
       "4  11610 Miller Ford Suite 999\\nTaraborough, MN 2...              0   \n",
       "\n",
       "   Account Age Days  Transaction Hour Age Group  \n",
       "0                34                19     31-40  \n",
       "1                95                 2     41-50  \n",
       "2               304                19     41-50  \n",
       "3                14                15     31-40  \n",
       "4               274                13     31-40  "
      ]
     },
     "execution_count": 42,
     "metadata": {},
     "output_type": "execute_result"
    }
   ],
   "source": [
    "transac_data.head()"
   ]
  },
  {
   "cell_type": "code",
   "execution_count": null,
   "id": "f1d1f502-ed17-4a88-92fc-84b6f63adb75",
   "metadata": {},
   "outputs": [],
   "source": []
  },
  {
   "cell_type": "markdown",
   "id": "ae0eaa7a-bbd3-4ac4-a0ad-b69e6fbcd50f",
   "metadata": {},
   "source": [
    "# Data Cleaning & Preprocessing"
   ]
  },
  {
   "cell_type": "code",
   "execution_count": 43,
   "id": "6e997bb1-c9ac-4c03-a955-b189eaf44e9e",
   "metadata": {},
   "outputs": [],
   "source": [
    "from sklearn.model_selection import train_test_split\n",
    "import category_encoders as ce\n",
    "from collections import Counter\n",
    "from sklearn.compose import ColumnTransformer\n",
    "from sklearn.preprocessing import StandardScaler, OneHotEncoder\n",
    "from imblearn.over_sampling import SMOTE\n",
    "\n",
    "from sklearn.linear_model import LogisticRegression\n",
    "from sklearn.metrics import classification_report, confusion_matrix, accuracy_score"
   ]
  },
  {
   "cell_type": "code",
   "execution_count": 44,
   "id": "9ef1af1a-4e8b-4d7d-a4d9-203934b8d913",
   "metadata": {},
   "outputs": [
    {
     "data": {
      "text/plain": [
       "Transaction ID        0.0\n",
       "Customer ID           0.0\n",
       "Transaction Amount    0.0\n",
       "Transaction Date      0.0\n",
       "Payment Method        0.0\n",
       "Product Category      0.0\n",
       "Quantity              0.0\n",
       "Customer Age          0.0\n",
       "Customer Location     0.0\n",
       "Device Used           0.0\n",
       "IP Address            0.0\n",
       "Shipping Address      0.0\n",
       "Billing Address       0.0\n",
       "Is Fraudulent         0.0\n",
       "Account Age Days      0.0\n",
       "Transaction Hour      0.0\n",
       "Age Group             0.0\n",
       "dtype: float64"
      ]
     },
     "execution_count": 44,
     "metadata": {},
     "output_type": "execute_result"
    }
   ],
   "source": [
    "# View missing value % per column\n",
    "transac_data.isnull().mean().sort_values(ascending=False) * 100"
   ]
  },
  {
   "cell_type": "code",
   "execution_count": 45,
   "id": "b5042fbf-6938-4269-9b23-18bdc67e5c1a",
   "metadata": {},
   "outputs": [],
   "source": [
    "transac_data['Transaction Date'] = pd.to_datetime(transac_data['Transaction Date'])"
   ]
  },
  {
   "cell_type": "code",
   "execution_count": 46,
   "id": "9d454488-fe30-478d-9b16-e7323265cd3f",
   "metadata": {},
   "outputs": [
    {
     "name": "stdout",
     "output_type": "stream",
     "text": [
      "Number of duplicate rows: 0\n"
     ]
    }
   ],
   "source": [
    "duplicates = transac_data.duplicated().sum()\n",
    "print(f\"Number of duplicate rows: {duplicates}\")"
   ]
  },
  {
   "cell_type": "code",
   "execution_count": 47,
   "id": "85bd77ee-8823-45cb-bf55-0a9e3fac829e",
   "metadata": {},
   "outputs": [
    {
     "data": {
      "text/html": [
       "<div>\n",
       "<style scoped>\n",
       "    .dataframe tbody tr th:only-of-type {\n",
       "        vertical-align: middle;\n",
       "    }\n",
       "\n",
       "    .dataframe tbody tr th {\n",
       "        vertical-align: top;\n",
       "    }\n",
       "\n",
       "    .dataframe thead th {\n",
       "        text-align: right;\n",
       "    }\n",
       "</style>\n",
       "<table border=\"1\" class=\"dataframe\">\n",
       "  <thead>\n",
       "    <tr style=\"text-align: right;\">\n",
       "      <th></th>\n",
       "      <th>Transaction ID</th>\n",
       "      <th>Customer ID</th>\n",
       "      <th>Transaction Amount</th>\n",
       "      <th>Transaction Date</th>\n",
       "      <th>Payment Method</th>\n",
       "      <th>Product Category</th>\n",
       "      <th>Quantity</th>\n",
       "      <th>Customer Age</th>\n",
       "      <th>Customer Location</th>\n",
       "      <th>Device Used</th>\n",
       "      <th>IP Address</th>\n",
       "      <th>Shipping Address</th>\n",
       "      <th>Billing Address</th>\n",
       "      <th>Is Fraudulent</th>\n",
       "      <th>Account Age Days</th>\n",
       "      <th>Transaction Hour</th>\n",
       "      <th>Age Group</th>\n",
       "    </tr>\n",
       "  </thead>\n",
       "  <tbody>\n",
       "    <tr>\n",
       "      <th>1452475</th>\n",
       "      <td>2fa025f0-b244-4ab6-b102-2df835aee822</td>\n",
       "      <td>e66c489e-f33a-44f6-bf18-b0920aaba07b</td>\n",
       "      <td>890.18</td>\n",
       "      <td>2024-01-09 00:23:03</td>\n",
       "      <td>bank transfer</td>\n",
       "      <td>electronics</td>\n",
       "      <td>2</td>\n",
       "      <td>35</td>\n",
       "      <td>Luceroport</td>\n",
       "      <td>desktop</td>\n",
       "      <td>222.206.84.178</td>\n",
       "      <td>992 Carter Flats\\nGeorgehaven, MH 03883</td>\n",
       "      <td>805 Morales Spurs\\nWest Staceyberg, MP 66689</td>\n",
       "      <td>1</td>\n",
       "      <td>72</td>\n",
       "      <td>0</td>\n",
       "      <td>31-40</td>\n",
       "    </tr>\n",
       "    <tr>\n",
       "      <th>107516</th>\n",
       "      <td>fa10cc16-1508-4d86-9f8d-58a1eb8e36b9</td>\n",
       "      <td>b5175e41-edb9-43e0-9ef9-9033741c7917</td>\n",
       "      <td>52.06</td>\n",
       "      <td>2024-02-05 13:44:47</td>\n",
       "      <td>bank transfer</td>\n",
       "      <td>home &amp; garden</td>\n",
       "      <td>1</td>\n",
       "      <td>47</td>\n",
       "      <td>Port Danielborough</td>\n",
       "      <td>mobile</td>\n",
       "      <td>178.213.86.211</td>\n",
       "      <td>9920 Kevin Crescent\\nFullerburgh, NE 02984</td>\n",
       "      <td>9920 Kevin Crescent\\nFullerburgh, NE 02984</td>\n",
       "      <td>0</td>\n",
       "      <td>312</td>\n",
       "      <td>13</td>\n",
       "      <td>41-50</td>\n",
       "    </tr>\n",
       "    <tr>\n",
       "      <th>73316</th>\n",
       "      <td>e78b8961-614a-4f42-9b7d-9a545b87ad23</td>\n",
       "      <td>075ec0e4-790d-4453-a7a0-34325dcec274</td>\n",
       "      <td>27.77</td>\n",
       "      <td>2024-02-13 06:23:31</td>\n",
       "      <td>PayPal</td>\n",
       "      <td>toys &amp; games</td>\n",
       "      <td>4</td>\n",
       "      <td>23</td>\n",
       "      <td>Wrightview</td>\n",
       "      <td>mobile</td>\n",
       "      <td>197.121.175.174</td>\n",
       "      <td>87131 Jones Estate\\nChelseafurt, NH 98449</td>\n",
       "      <td>87131 Jones Estate\\nChelseafurt, NH 98449</td>\n",
       "      <td>0</td>\n",
       "      <td>45</td>\n",
       "      <td>6</td>\n",
       "      <td>21-30</td>\n",
       "    </tr>\n",
       "    <tr>\n",
       "      <th>1001314</th>\n",
       "      <td>693e67cf-8687-427c-be04-fa650d8a38a3</td>\n",
       "      <td>fdeb679b-c292-45d0-b699-14aef869ba31</td>\n",
       "      <td>85.81</td>\n",
       "      <td>2024-03-25 20:57:38</td>\n",
       "      <td>PayPal</td>\n",
       "      <td>electronics</td>\n",
       "      <td>2</td>\n",
       "      <td>44</td>\n",
       "      <td>Townsendport</td>\n",
       "      <td>desktop</td>\n",
       "      <td>6.175.231.80</td>\n",
       "      <td>79177 Klein Radial\\nKerrfort, MS 88090</td>\n",
       "      <td>79177 Klein Radial\\nKerrfort, MS 88090</td>\n",
       "      <td>0</td>\n",
       "      <td>216</td>\n",
       "      <td>20</td>\n",
       "      <td>41-50</td>\n",
       "    </tr>\n",
       "  </tbody>\n",
       "</table>\n",
       "</div>"
      ],
      "text/plain": [
       "                               Transaction ID  \\\n",
       "1452475  2fa025f0-b244-4ab6-b102-2df835aee822   \n",
       "107516   fa10cc16-1508-4d86-9f8d-58a1eb8e36b9   \n",
       "73316    e78b8961-614a-4f42-9b7d-9a545b87ad23   \n",
       "1001314  693e67cf-8687-427c-be04-fa650d8a38a3   \n",
       "\n",
       "                                  Customer ID  Transaction Amount  \\\n",
       "1452475  e66c489e-f33a-44f6-bf18-b0920aaba07b              890.18   \n",
       "107516   b5175e41-edb9-43e0-9ef9-9033741c7917               52.06   \n",
       "73316    075ec0e4-790d-4453-a7a0-34325dcec274               27.77   \n",
       "1001314  fdeb679b-c292-45d0-b699-14aef869ba31               85.81   \n",
       "\n",
       "           Transaction Date Payment Method Product Category  Quantity  \\\n",
       "1452475 2024-01-09 00:23:03  bank transfer      electronics         2   \n",
       "107516  2024-02-05 13:44:47  bank transfer    home & garden         1   \n",
       "73316   2024-02-13 06:23:31         PayPal     toys & games         4   \n",
       "1001314 2024-03-25 20:57:38         PayPal      electronics         2   \n",
       "\n",
       "         Customer Age   Customer Location Device Used       IP Address  \\\n",
       "1452475            35          Luceroport     desktop   222.206.84.178   \n",
       "107516             47  Port Danielborough      mobile   178.213.86.211   \n",
       "73316              23          Wrightview      mobile  197.121.175.174   \n",
       "1001314            44        Townsendport     desktop     6.175.231.80   \n",
       "\n",
       "                                   Shipping Address  \\\n",
       "1452475     992 Carter Flats\\nGeorgehaven, MH 03883   \n",
       "107516   9920 Kevin Crescent\\nFullerburgh, NE 02984   \n",
       "73316     87131 Jones Estate\\nChelseafurt, NH 98449   \n",
       "1001314      79177 Klein Radial\\nKerrfort, MS 88090   \n",
       "\n",
       "                                      Billing Address  Is Fraudulent  \\\n",
       "1452475  805 Morales Spurs\\nWest Staceyberg, MP 66689              1   \n",
       "107516     9920 Kevin Crescent\\nFullerburgh, NE 02984              0   \n",
       "73316       87131 Jones Estate\\nChelseafurt, NH 98449              0   \n",
       "1001314        79177 Klein Radial\\nKerrfort, MS 88090              0   \n",
       "\n",
       "         Account Age Days  Transaction Hour Age Group  \n",
       "1452475                72                 0     31-40  \n",
       "107516                312                13     41-50  \n",
       "73316                  45                 6     21-30  \n",
       "1001314               216                20     41-50  "
      ]
     },
     "execution_count": 47,
     "metadata": {},
     "output_type": "execute_result"
    }
   ],
   "source": [
    "transac_data.sample(4)"
   ]
  },
  {
   "cell_type": "code",
   "execution_count": 48,
   "id": "e53c7e59-07c2-4c66-8a62-30bad9c61f09",
   "metadata": {
    "scrolled": true
   },
   "outputs": [],
   "source": [
    "transac_data.drop(['Transaction ID', 'Customer ID', 'IP Address', 'Shipping Address', 'Billing Address', 'Age Group'], axis=1, inplace=True)"
   ]
  },
  {
   "cell_type": "code",
   "execution_count": 49,
   "id": "4d33da54-4d66-4623-9260-52d3e7cd02bd",
   "metadata": {},
   "outputs": [
    {
     "data": {
      "text/html": [
       "<div>\n",
       "<style scoped>\n",
       "    .dataframe tbody tr th:only-of-type {\n",
       "        vertical-align: middle;\n",
       "    }\n",
       "\n",
       "    .dataframe tbody tr th {\n",
       "        vertical-align: top;\n",
       "    }\n",
       "\n",
       "    .dataframe thead th {\n",
       "        text-align: right;\n",
       "    }\n",
       "</style>\n",
       "<table border=\"1\" class=\"dataframe\">\n",
       "  <thead>\n",
       "    <tr style=\"text-align: right;\">\n",
       "      <th></th>\n",
       "      <th>Transaction Amount</th>\n",
       "      <th>Transaction Date</th>\n",
       "      <th>Payment Method</th>\n",
       "      <th>Product Category</th>\n",
       "      <th>Quantity</th>\n",
       "      <th>Customer Age</th>\n",
       "      <th>Customer Location</th>\n",
       "      <th>Device Used</th>\n",
       "      <th>Is Fraudulent</th>\n",
       "      <th>Account Age Days</th>\n",
       "      <th>Transaction Hour</th>\n",
       "    </tr>\n",
       "  </thead>\n",
       "  <tbody>\n",
       "    <tr>\n",
       "      <th>0</th>\n",
       "      <td>84.91</td>\n",
       "      <td>2024-03-30 19:07:37</td>\n",
       "      <td>bank transfer</td>\n",
       "      <td>electronics</td>\n",
       "      <td>1</td>\n",
       "      <td>31</td>\n",
       "      <td>South Richard</td>\n",
       "      <td>tablet</td>\n",
       "      <td>0</td>\n",
       "      <td>34</td>\n",
       "      <td>19</td>\n",
       "    </tr>\n",
       "    <tr>\n",
       "      <th>1</th>\n",
       "      <td>30.99</td>\n",
       "      <td>2024-02-23 02:10:27</td>\n",
       "      <td>credit card</td>\n",
       "      <td>electronics</td>\n",
       "      <td>3</td>\n",
       "      <td>47</td>\n",
       "      <td>Amberside</td>\n",
       "      <td>mobile</td>\n",
       "      <td>0</td>\n",
       "      <td>95</td>\n",
       "      <td>2</td>\n",
       "    </tr>\n",
       "    <tr>\n",
       "      <th>2</th>\n",
       "      <td>310.32</td>\n",
       "      <td>2024-01-05 19:14:48</td>\n",
       "      <td>debit card</td>\n",
       "      <td>clothing</td>\n",
       "      <td>4</td>\n",
       "      <td>50</td>\n",
       "      <td>South Brianburgh</td>\n",
       "      <td>mobile</td>\n",
       "      <td>0</td>\n",
       "      <td>304</td>\n",
       "      <td>19</td>\n",
       "    </tr>\n",
       "    <tr>\n",
       "      <th>3</th>\n",
       "      <td>40.50</td>\n",
       "      <td>2024-02-18 15:44:20</td>\n",
       "      <td>bank transfer</td>\n",
       "      <td>home &amp; garden</td>\n",
       "      <td>1</td>\n",
       "      <td>38</td>\n",
       "      <td>Christianfort</td>\n",
       "      <td>tablet</td>\n",
       "      <td>0</td>\n",
       "      <td>14</td>\n",
       "      <td>15</td>\n",
       "    </tr>\n",
       "    <tr>\n",
       "      <th>4</th>\n",
       "      <td>537.91</td>\n",
       "      <td>2024-02-25 13:48:44</td>\n",
       "      <td>debit card</td>\n",
       "      <td>home &amp; garden</td>\n",
       "      <td>2</td>\n",
       "      <td>31</td>\n",
       "      <td>Sarafort</td>\n",
       "      <td>tablet</td>\n",
       "      <td>0</td>\n",
       "      <td>274</td>\n",
       "      <td>13</td>\n",
       "    </tr>\n",
       "  </tbody>\n",
       "</table>\n",
       "</div>"
      ],
      "text/plain": [
       "   Transaction Amount    Transaction Date Payment Method Product Category  \\\n",
       "0               84.91 2024-03-30 19:07:37  bank transfer      electronics   \n",
       "1               30.99 2024-02-23 02:10:27    credit card      electronics   \n",
       "2              310.32 2024-01-05 19:14:48     debit card         clothing   \n",
       "3               40.50 2024-02-18 15:44:20  bank transfer    home & garden   \n",
       "4              537.91 2024-02-25 13:48:44     debit card    home & garden   \n",
       "\n",
       "   Quantity  Customer Age Customer Location Device Used  Is Fraudulent  \\\n",
       "0         1            31     South Richard      tablet              0   \n",
       "1         3            47         Amberside      mobile              0   \n",
       "2         4            50  South Brianburgh      mobile              0   \n",
       "3         1            38     Christianfort      tablet              0   \n",
       "4         2            31          Sarafort      tablet              0   \n",
       "\n",
       "   Account Age Days  Transaction Hour  \n",
       "0                34                19  \n",
       "1                95                 2  \n",
       "2               304                19  \n",
       "3                14                15  \n",
       "4               274                13  "
      ]
     },
     "execution_count": 49,
     "metadata": {},
     "output_type": "execute_result"
    }
   ],
   "source": [
    "transac_data.head()"
   ]
  },
  {
   "cell_type": "code",
   "execution_count": 50,
   "id": "b1814440-0cba-43a9-af19-ce4f3dd163cb",
   "metadata": {},
   "outputs": [
    {
     "name": "stdout",
     "output_type": "stream",
     "text": [
      "<class 'pandas.core.frame.DataFrame'>\n",
      "Index: 1463822 entries, 0 to 1472951\n",
      "Data columns (total 11 columns):\n",
      " #   Column              Non-Null Count    Dtype         \n",
      "---  ------              --------------    -----         \n",
      " 0   Transaction Amount  1463822 non-null  float64       \n",
      " 1   Transaction Date    1463822 non-null  datetime64[ns]\n",
      " 2   Payment Method      1463822 non-null  object        \n",
      " 3   Product Category    1463822 non-null  object        \n",
      " 4   Quantity            1463822 non-null  int64         \n",
      " 5   Customer Age        1463822 non-null  int64         \n",
      " 6   Customer Location   1463822 non-null  object        \n",
      " 7   Device Used         1463822 non-null  object        \n",
      " 8   Is Fraudulent       1463822 non-null  int64         \n",
      " 9   Account Age Days    1463822 non-null  int64         \n",
      " 10  Transaction Hour    1463822 non-null  int64         \n",
      "dtypes: datetime64[ns](1), float64(1), int64(5), object(4)\n",
      "memory usage: 134.0+ MB\n"
     ]
    }
   ],
   "source": [
    "transac_data.info()"
   ]
  },
  {
   "cell_type": "code",
   "execution_count": 51,
   "id": "160ddaf3-3276-4277-b865-795e52283a82",
   "metadata": {},
   "outputs": [],
   "source": [
    "X = transac_data.drop('Is Fraudulent', axis=1)\n",
    "y = transac_data['Is Fraudulent']"
   ]
  },
  {
   "cell_type": "code",
   "execution_count": 52,
   "id": "ba8ea0f8-c4be-4135-8ecd-f2d346aa1fb3",
   "metadata": {},
   "outputs": [],
   "source": [
    "#stratify when target is imbalanced\n",
    "X_train, X_test, y_train, y_test = train_test_split(X, y, test_size=0.2, stratify=y, random_state=42)"
   ]
  },
  {
   "cell_type": "code",
   "execution_count": 53,
   "id": "e0a4c89f-4732-4a87-97c7-ac74c8448467",
   "metadata": {},
   "outputs": [],
   "source": [
    "# Target Encoding is initialized with the smoothing=10 parameter to prevent overfitting by smoothing the encoding values.\n",
    "\n",
    "# Using Target Encoding with smoothing\n",
    "encoder = ce.TargetEncoder(cols=['Customer Location'], smoothing=10)\n",
    "\n",
    "# Fit the encoder on the training data and transform it\n",
    "X_train_encoded = encoder.fit_transform(X_train, y_train)\n",
    "\n",
    "# Apply the same transformation on the test data\n",
    "X_test_encoded = encoder.transform(X_test)"
   ]
  },
  {
   "cell_type": "code",
   "execution_count": null,
   "id": "74fa46ea-1b2b-48c4-80ce-4c7bb47985ed",
   "metadata": {},
   "outputs": [],
   "source": [
    "import joblib\n",
    "# Save the target encoder\n",
    "joblib.dump(encoder, 'target_encoder.pkl')"
   ]
  },
  {
   "cell_type": "code",
   "execution_count": 54,
   "id": "45455fe2-a9e8-4f69-ab84-da04387a2eb9",
   "metadata": {},
   "outputs": [
    {
     "data": {
      "text/html": [
       "<div>\n",
       "<style scoped>\n",
       "    .dataframe tbody tr th:only-of-type {\n",
       "        vertical-align: middle;\n",
       "    }\n",
       "\n",
       "    .dataframe tbody tr th {\n",
       "        vertical-align: top;\n",
       "    }\n",
       "\n",
       "    .dataframe thead th {\n",
       "        text-align: right;\n",
       "    }\n",
       "</style>\n",
       "<table border=\"1\" class=\"dataframe\">\n",
       "  <thead>\n",
       "    <tr style=\"text-align: right;\">\n",
       "      <th></th>\n",
       "      <th>Transaction Amount</th>\n",
       "      <th>Transaction Date</th>\n",
       "      <th>Payment Method</th>\n",
       "      <th>Product Category</th>\n",
       "      <th>Quantity</th>\n",
       "      <th>Customer Age</th>\n",
       "      <th>Customer Location</th>\n",
       "      <th>Device Used</th>\n",
       "      <th>Account Age Days</th>\n",
       "      <th>Transaction Hour</th>\n",
       "    </tr>\n",
       "  </thead>\n",
       "  <tbody>\n",
       "    <tr>\n",
       "      <th>750355</th>\n",
       "      <td>374.79</td>\n",
       "      <td>2024-01-27 18:39:49</td>\n",
       "      <td>debit card</td>\n",
       "      <td>clothing</td>\n",
       "      <td>3</td>\n",
       "      <td>40</td>\n",
       "      <td>0.018330</td>\n",
       "      <td>desktop</td>\n",
       "      <td>84</td>\n",
       "      <td>18</td>\n",
       "    </tr>\n",
       "    <tr>\n",
       "      <th>968045</th>\n",
       "      <td>240.64</td>\n",
       "      <td>2024-03-11 12:35:12</td>\n",
       "      <td>debit card</td>\n",
       "      <td>clothing</td>\n",
       "      <td>2</td>\n",
       "      <td>41</td>\n",
       "      <td>0.066116</td>\n",
       "      <td>desktop</td>\n",
       "      <td>233</td>\n",
       "      <td>12</td>\n",
       "    </tr>\n",
       "    <tr>\n",
       "      <th>1128139</th>\n",
       "      <td>14.56</td>\n",
       "      <td>2024-01-16 16:31:25</td>\n",
       "      <td>PayPal</td>\n",
       "      <td>health &amp; beauty</td>\n",
       "      <td>3</td>\n",
       "      <td>42</td>\n",
       "      <td>0.051325</td>\n",
       "      <td>tablet</td>\n",
       "      <td>163</td>\n",
       "      <td>16</td>\n",
       "    </tr>\n",
       "    <tr>\n",
       "      <th>1205536</th>\n",
       "      <td>24.64</td>\n",
       "      <td>2024-01-25 08:18:16</td>\n",
       "      <td>credit card</td>\n",
       "      <td>toys &amp; games</td>\n",
       "      <td>1</td>\n",
       "      <td>46</td>\n",
       "      <td>0.060954</td>\n",
       "      <td>mobile</td>\n",
       "      <td>267</td>\n",
       "      <td>8</td>\n",
       "    </tr>\n",
       "    <tr>\n",
       "      <th>973448</th>\n",
       "      <td>122.43</td>\n",
       "      <td>2024-01-01 08:11:28</td>\n",
       "      <td>debit card</td>\n",
       "      <td>toys &amp; games</td>\n",
       "      <td>4</td>\n",
       "      <td>42</td>\n",
       "      <td>0.088204</td>\n",
       "      <td>mobile</td>\n",
       "      <td>212</td>\n",
       "      <td>8</td>\n",
       "    </tr>\n",
       "    <tr>\n",
       "      <th>...</th>\n",
       "      <td>...</td>\n",
       "      <td>...</td>\n",
       "      <td>...</td>\n",
       "      <td>...</td>\n",
       "      <td>...</td>\n",
       "      <td>...</td>\n",
       "      <td>...</td>\n",
       "      <td>...</td>\n",
       "      <td>...</td>\n",
       "      <td>...</td>\n",
       "    </tr>\n",
       "    <tr>\n",
       "      <th>1130911</th>\n",
       "      <td>41.45</td>\n",
       "      <td>2024-01-10 08:12:24</td>\n",
       "      <td>credit card</td>\n",
       "      <td>toys &amp; games</td>\n",
       "      <td>5</td>\n",
       "      <td>24</td>\n",
       "      <td>0.036657</td>\n",
       "      <td>desktop</td>\n",
       "      <td>135</td>\n",
       "      <td>8</td>\n",
       "    </tr>\n",
       "    <tr>\n",
       "      <th>831207</th>\n",
       "      <td>52.78</td>\n",
       "      <td>2024-03-25 08:35:33</td>\n",
       "      <td>credit card</td>\n",
       "      <td>home &amp; garden</td>\n",
       "      <td>2</td>\n",
       "      <td>21</td>\n",
       "      <td>0.057685</td>\n",
       "      <td>desktop</td>\n",
       "      <td>92</td>\n",
       "      <td>8</td>\n",
       "    </tr>\n",
       "    <tr>\n",
       "      <th>1130635</th>\n",
       "      <td>292.75</td>\n",
       "      <td>2024-02-08 18:30:30</td>\n",
       "      <td>credit card</td>\n",
       "      <td>electronics</td>\n",
       "      <td>5</td>\n",
       "      <td>23</td>\n",
       "      <td>0.077212</td>\n",
       "      <td>desktop</td>\n",
       "      <td>283</td>\n",
       "      <td>18</td>\n",
       "    </tr>\n",
       "    <tr>\n",
       "      <th>961800</th>\n",
       "      <td>469.00</td>\n",
       "      <td>2024-01-24 00:18:46</td>\n",
       "      <td>debit card</td>\n",
       "      <td>health &amp; beauty</td>\n",
       "      <td>5</td>\n",
       "      <td>33</td>\n",
       "      <td>0.030007</td>\n",
       "      <td>tablet</td>\n",
       "      <td>96</td>\n",
       "      <td>0</td>\n",
       "    </tr>\n",
       "    <tr>\n",
       "      <th>67780</th>\n",
       "      <td>12.01</td>\n",
       "      <td>2024-02-22 14:09:32</td>\n",
       "      <td>debit card</td>\n",
       "      <td>clothing</td>\n",
       "      <td>2</td>\n",
       "      <td>14</td>\n",
       "      <td>0.018716</td>\n",
       "      <td>desktop</td>\n",
       "      <td>331</td>\n",
       "      <td>14</td>\n",
       "    </tr>\n",
       "  </tbody>\n",
       "</table>\n",
       "<p>1171057 rows × 10 columns</p>\n",
       "</div>"
      ],
      "text/plain": [
       "         Transaction Amount    Transaction Date Payment Method  \\\n",
       "750355               374.79 2024-01-27 18:39:49     debit card   \n",
       "968045               240.64 2024-03-11 12:35:12     debit card   \n",
       "1128139               14.56 2024-01-16 16:31:25         PayPal   \n",
       "1205536               24.64 2024-01-25 08:18:16    credit card   \n",
       "973448               122.43 2024-01-01 08:11:28     debit card   \n",
       "...                     ...                 ...            ...   \n",
       "1130911               41.45 2024-01-10 08:12:24    credit card   \n",
       "831207                52.78 2024-03-25 08:35:33    credit card   \n",
       "1130635              292.75 2024-02-08 18:30:30    credit card   \n",
       "961800               469.00 2024-01-24 00:18:46     debit card   \n",
       "67780                 12.01 2024-02-22 14:09:32     debit card   \n",
       "\n",
       "        Product Category  Quantity  Customer Age  Customer Location  \\\n",
       "750355          clothing         3            40           0.018330   \n",
       "968045          clothing         2            41           0.066116   \n",
       "1128139  health & beauty         3            42           0.051325   \n",
       "1205536     toys & games         1            46           0.060954   \n",
       "973448      toys & games         4            42           0.088204   \n",
       "...                  ...       ...           ...                ...   \n",
       "1130911     toys & games         5            24           0.036657   \n",
       "831207     home & garden         2            21           0.057685   \n",
       "1130635      electronics         5            23           0.077212   \n",
       "961800   health & beauty         5            33           0.030007   \n",
       "67780           clothing         2            14           0.018716   \n",
       "\n",
       "        Device Used  Account Age Days  Transaction Hour  \n",
       "750355      desktop                84                18  \n",
       "968045      desktop               233                12  \n",
       "1128139      tablet               163                16  \n",
       "1205536      mobile               267                 8  \n",
       "973448       mobile               212                 8  \n",
       "...             ...               ...               ...  \n",
       "1130911     desktop               135                 8  \n",
       "831207      desktop                92                 8  \n",
       "1130635     desktop               283                18  \n",
       "961800       tablet                96                 0  \n",
       "67780       desktop               331                14  \n",
       "\n",
       "[1171057 rows x 10 columns]"
      ]
     },
     "execution_count": 54,
     "metadata": {},
     "output_type": "execute_result"
    }
   ],
   "source": [
    "X_train_encoded"
   ]
  },
  {
   "cell_type": "code",
   "execution_count": 55,
   "id": "bef5cdfb-e8a9-4f05-bfec-30da4ad8719a",
   "metadata": {},
   "outputs": [],
   "source": [
    "# Define Columns for Encoding & Scaling\n",
    "categorical_cols = ['Payment Method', 'Product Category', 'Device Used']\n",
    "numerical_cols = ['Transaction Amount', 'Quantity', 'Customer Age', 'Account Age Days', 'Transaction Hour']"
   ]
  },
  {
   "cell_type": "code",
   "execution_count": 56,
   "id": "9c096b82-2d9d-444b-8d9b-4984ae059c5f",
   "metadata": {},
   "outputs": [
    {
     "data": {
      "text/plain": [
       "Product Category    5\n",
       "Payment Method      4\n",
       "Device Used         3\n",
       "dtype: int64"
      ]
     },
     "execution_count": 56,
     "metadata": {},
     "output_type": "execute_result"
    }
   ],
   "source": [
    "X[categorical_cols].nunique().sort_values(ascending=False)"
   ]
  },
  {
   "cell_type": "code",
   "execution_count": 57,
   "id": "662cb5d2-ef57-4160-87cf-ecd37c108269",
   "metadata": {},
   "outputs": [],
   "source": [
    "preprocessor = ColumnTransformer(\n",
    "    transformers=[\n",
    "        ('num', StandardScaler(), numerical_cols),\n",
    "        ('cat', OneHotEncoder(drop='first', sparse_output=False, handle_unknown='ignore'), categorical_cols)\n",
    "    ]\n",
    ")"
   ]
  },
  {
   "cell_type": "code",
   "execution_count": 58,
   "id": "dbfdd221-1b81-4ed2-a15c-11813239ef68",
   "metadata": {},
   "outputs": [],
   "source": [
    "# Fit and transform the encoded training data\n",
    "X_train_preprocessed = preprocessor.fit_transform(X_train_encoded)\n",
    "\n",
    "# Transform the encoded test data\n",
    "X_test_preprocessed = preprocessor.transform(X_test_encoded)"
   ]
  },
  {
   "cell_type": "code",
   "execution_count": null,
   "id": "8d9f4c9b-48b1-4d5d-9962-e857186bb345",
   "metadata": {},
   "outputs": [],
   "source": [
    "# Save the preprocessor (ColumnTransformer)\n",
    "joblib.dump(preprocessor, 'columntransformer_preprocessor.pkl')"
   ]
  },
  {
   "cell_type": "code",
   "execution_count": 59,
   "id": "d6e5a48e-7213-465f-8201-b1109eab0899",
   "metadata": {},
   "outputs": [
    {
     "data": {
      "text/plain": [
       "array([[ 5.47879362e-01,  5.79260041e-05,  5.43431161e-01, ...,\n",
       "         0.00000000e+00,  0.00000000e+00,  0.00000000e+00],\n",
       "       [ 5.13802751e-02, -7.06553039e-01,  6.45717942e-01, ...,\n",
       "         0.00000000e+00,  0.00000000e+00,  0.00000000e+00],\n",
       "       [-7.85358552e-01,  5.79260041e-05,  7.48004722e-01, ...,\n",
       "         0.00000000e+00,  0.00000000e+00,  1.00000000e+00],\n",
       "       ...,\n",
       "       [ 2.44243245e-01,  1.41327986e+00, -1.19544411e+00, ...,\n",
       "         0.00000000e+00,  0.00000000e+00,  0.00000000e+00],\n",
       "       [ 8.96557551e-01,  1.41327986e+00, -1.72576302e-01, ...,\n",
       "         0.00000000e+00,  0.00000000e+00,  1.00000000e+00],\n",
       "       [-7.94796291e-01, -7.06553039e-01, -2.11602513e+00, ...,\n",
       "         0.00000000e+00,  0.00000000e+00,  0.00000000e+00]],\n",
       "      shape=(1171057, 14))"
      ]
     },
     "execution_count": 59,
     "metadata": {},
     "output_type": "execute_result"
    }
   ],
   "source": [
    "X_train_preprocessed"
   ]
  },
  {
   "cell_type": "code",
   "execution_count": 60,
   "id": "eeb50b57-3bef-48f6-ac3b-c3a99948ca5b",
   "metadata": {},
   "outputs": [
    {
     "data": {
      "text/html": [
       "<div>\n",
       "<style scoped>\n",
       "    .dataframe tbody tr th:only-of-type {\n",
       "        vertical-align: middle;\n",
       "    }\n",
       "\n",
       "    .dataframe tbody tr th {\n",
       "        vertical-align: top;\n",
       "    }\n",
       "\n",
       "    .dataframe thead th {\n",
       "        text-align: right;\n",
       "    }\n",
       "</style>\n",
       "<table border=\"1\" class=\"dataframe\">\n",
       "  <thead>\n",
       "    <tr style=\"text-align: right;\">\n",
       "      <th></th>\n",
       "      <th>Transaction Amount</th>\n",
       "      <th>Quantity</th>\n",
       "      <th>Customer Age</th>\n",
       "      <th>Account Age Days</th>\n",
       "      <th>Transaction Hour</th>\n",
       "      <th>Payment Method_bank transfer</th>\n",
       "      <th>Payment Method_credit card</th>\n",
       "      <th>Payment Method_debit card</th>\n",
       "      <th>Product Category_electronics</th>\n",
       "      <th>Product Category_health &amp; beauty</th>\n",
       "      <th>Product Category_home &amp; garden</th>\n",
       "      <th>Product Category_toys &amp; games</th>\n",
       "      <th>Device Used_mobile</th>\n",
       "      <th>Device Used_tablet</th>\n",
       "    </tr>\n",
       "  </thead>\n",
       "  <tbody>\n",
       "    <tr>\n",
       "      <th>0</th>\n",
       "      <td>0.547879</td>\n",
       "      <td>0.000058</td>\n",
       "      <td>0.543431</td>\n",
       "      <td>-0.894785</td>\n",
       "      <td>0.961046</td>\n",
       "      <td>0.0</td>\n",
       "      <td>0.0</td>\n",
       "      <td>1.0</td>\n",
       "      <td>0.0</td>\n",
       "      <td>0.0</td>\n",
       "      <td>0.0</td>\n",
       "      <td>0.0</td>\n",
       "      <td>0.0</td>\n",
       "      <td>0.0</td>\n",
       "    </tr>\n",
       "    <tr>\n",
       "      <th>1</th>\n",
       "      <td>0.051380</td>\n",
       "      <td>-0.706553</td>\n",
       "      <td>0.645718</td>\n",
       "      <td>0.499181</td>\n",
       "      <td>0.100948</td>\n",
       "      <td>0.0</td>\n",
       "      <td>0.0</td>\n",
       "      <td>1.0</td>\n",
       "      <td>0.0</td>\n",
       "      <td>0.0</td>\n",
       "      <td>0.0</td>\n",
       "      <td>0.0</td>\n",
       "      <td>0.0</td>\n",
       "      <td>0.0</td>\n",
       "    </tr>\n",
       "    <tr>\n",
       "      <th>2</th>\n",
       "      <td>-0.785359</td>\n",
       "      <td>0.000058</td>\n",
       "      <td>0.748005</td>\n",
       "      <td>-0.155703</td>\n",
       "      <td>0.674347</td>\n",
       "      <td>0.0</td>\n",
       "      <td>0.0</td>\n",
       "      <td>0.0</td>\n",
       "      <td>0.0</td>\n",
       "      <td>1.0</td>\n",
       "      <td>0.0</td>\n",
       "      <td>0.0</td>\n",
       "      <td>0.0</td>\n",
       "      <td>1.0</td>\n",
       "    </tr>\n",
       "    <tr>\n",
       "      <th>3</th>\n",
       "      <td>-0.748052</td>\n",
       "      <td>-1.413164</td>\n",
       "      <td>1.157152</td>\n",
       "      <td>0.817267</td>\n",
       "      <td>-0.472451</td>\n",
       "      <td>0.0</td>\n",
       "      <td>1.0</td>\n",
       "      <td>0.0</td>\n",
       "      <td>0.0</td>\n",
       "      <td>0.0</td>\n",
       "      <td>0.0</td>\n",
       "      <td>1.0</td>\n",
       "      <td>1.0</td>\n",
       "      <td>0.0</td>\n",
       "    </tr>\n",
       "    <tr>\n",
       "      <th>4</th>\n",
       "      <td>-0.386124</td>\n",
       "      <td>0.706669</td>\n",
       "      <td>0.748005</td>\n",
       "      <td>0.302716</td>\n",
       "      <td>-0.472451</td>\n",
       "      <td>0.0</td>\n",
       "      <td>0.0</td>\n",
       "      <td>1.0</td>\n",
       "      <td>0.0</td>\n",
       "      <td>0.0</td>\n",
       "      <td>0.0</td>\n",
       "      <td>1.0</td>\n",
       "      <td>1.0</td>\n",
       "      <td>0.0</td>\n",
       "    </tr>\n",
       "  </tbody>\n",
       "</table>\n",
       "</div>"
      ],
      "text/plain": [
       "   Transaction Amount  Quantity  Customer Age  Account Age Days  \\\n",
       "0            0.547879  0.000058      0.543431         -0.894785   \n",
       "1            0.051380 -0.706553      0.645718          0.499181   \n",
       "2           -0.785359  0.000058      0.748005         -0.155703   \n",
       "3           -0.748052 -1.413164      1.157152          0.817267   \n",
       "4           -0.386124  0.706669      0.748005          0.302716   \n",
       "\n",
       "   Transaction Hour  Payment Method_bank transfer  Payment Method_credit card  \\\n",
       "0          0.961046                           0.0                         0.0   \n",
       "1          0.100948                           0.0                         0.0   \n",
       "2          0.674347                           0.0                         0.0   \n",
       "3         -0.472451                           0.0                         1.0   \n",
       "4         -0.472451                           0.0                         0.0   \n",
       "\n",
       "   Payment Method_debit card  Product Category_electronics  \\\n",
       "0                        1.0                           0.0   \n",
       "1                        1.0                           0.0   \n",
       "2                        0.0                           0.0   \n",
       "3                        0.0                           0.0   \n",
       "4                        1.0                           0.0   \n",
       "\n",
       "   Product Category_health & beauty  Product Category_home & garden  \\\n",
       "0                               0.0                             0.0   \n",
       "1                               0.0                             0.0   \n",
       "2                               1.0                             0.0   \n",
       "3                               0.0                             0.0   \n",
       "4                               0.0                             0.0   \n",
       "\n",
       "   Product Category_toys & games  Device Used_mobile  Device Used_tablet  \n",
       "0                            0.0                 0.0                 0.0  \n",
       "1                            0.0                 0.0                 0.0  \n",
       "2                            0.0                 0.0                 1.0  \n",
       "3                            1.0                 1.0                 0.0  \n",
       "4                            1.0                 1.0                 0.0  "
      ]
     },
     "execution_count": 60,
     "metadata": {},
     "output_type": "execute_result"
    }
   ],
   "source": [
    "# Get column names from the categorical columns (after OneHotEncoding)\n",
    "categorical_column_names = preprocessor.transformers_[1][1].get_feature_names_out(categorical_cols)\n",
    "all_column_names = numerical_cols + categorical_column_names.tolist()\n",
    "\n",
    "# Create DataFrame\n",
    "X_train_preprocessed_df = pd.DataFrame(X_train_preprocessed, columns=all_column_names)\n",
    "\n",
    "# Check the first few rows\n",
    "X_train_preprocessed_df.head()"
   ]
  },
  {
   "cell_type": "code",
   "execution_count": 61,
   "id": "242ea6ec-de87-4f28-a79a-a27f65db2d65",
   "metadata": {},
   "outputs": [
    {
     "name": "stdout",
     "output_type": "stream",
     "text": [
      "After SMOTE: Counter({0: 1112337, 1: 1112337})\n"
     ]
    }
   ],
   "source": [
    "# Initialize SMOTE\n",
    "smote = SMOTE(random_state=42)\n",
    "\n",
    "# Apply it to preprocessed training data\n",
    "X_train_balanced, y_train_balanced = smote.fit_resample(X_train_preprocessed, y_train)\n",
    "\n",
    "# Check new class distribution\n",
    "print(\"After SMOTE:\", Counter(y_train_balanced))"
   ]
  },
  {
   "cell_type": "code",
   "execution_count": null,
   "id": "a7a4d8f2-223e-4c8c-9e39-d3e72953fa76",
   "metadata": {},
   "outputs": [],
   "source": []
  },
  {
   "cell_type": "markdown",
   "id": "5b8a9580-5462-4bf5-9002-51247a464219",
   "metadata": {},
   "source": [
    "# Model Building"
   ]
  },
  {
   "cell_type": "markdown",
   "id": "dbe1b9ca-d680-4aae-a8e0-1f06a7118b28",
   "metadata": {},
   "source": [
    "##### LogisticRegression"
   ]
  },
  {
   "cell_type": "code",
   "execution_count": 62,
   "id": "c8fbef89-5078-41ee-b1f0-39e2b9e6d446",
   "metadata": {},
   "outputs": [
    {
     "name": "stdout",
     "output_type": "stream",
     "text": [
      "Accuracy: 72.2477072054378\n",
      "Classification Report:\n",
      "               precision    recall  f1-score   support\n",
      "\n",
      "           0       0.98      0.73      0.83    278085\n",
      "           1       0.11      0.67      0.20     14680\n",
      "\n",
      "    accuracy                           0.72    292765\n",
      "   macro avg       0.55      0.70      0.51    292765\n",
      "weighted avg       0.93      0.72      0.80    292765\n",
      "\n"
     ]
    }
   ],
   "source": [
    "logrg = LogisticRegression(max_iter=1000, class_weight='balanced')\n",
    "logrg.fit(X_train_balanced, y_train_balanced)\n",
    "\n",
    "# Predict on original test set\n",
    "y_pred = logrg.predict(X_test_preprocessed)\n",
    "\n",
    "# Evaluate\n",
    "print(\"Accuracy:\", accuracy_score(y_test, y_pred)*100)\n",
    "# print(\"Confusion Matrix:\\n\", confusion_matrix(y_test, y_pred))\n",
    "print(\"Classification Report:\\n\", classification_report(y_test, y_pred))"
   ]
  },
  {
   "cell_type": "code",
   "execution_count": 63,
   "id": "1daa6a30-7a87-4acf-aa62-60d33abb3404",
   "metadata": {},
   "outputs": [
    {
     "data": {
      "image/png": "[encoded data removed]",
      "text/plain": [
       "<Figure size 640x480 with 1 Axes>"
      ]
     },
     "metadata": {},
     "output_type": "display_data"
    },
    {
     "name": "stdout",
     "output_type": "stream",
     "text": [
      "              precision    recall  f1-score   support\n",
      "\n",
      "           0       0.98      0.37      0.54    278085\n",
      "           1       0.07      0.89      0.13     14680\n",
      "\n",
      "    accuracy                           0.39    292765\n",
      "   macro avg       0.53      0.63      0.33    292765\n",
      "weighted avg       0.94      0.39      0.52    292765\n",
      "\n"
     ]
    }
   ],
   "source": [
    "from sklearn.metrics import precision_recall_curve\n",
    "\n",
    "y_probs = logrg.predict_proba(X_test_preprocessed)[:, 1]\n",
    "prec, rec, thresh = precision_recall_curve(y_test, y_probs)\n",
    "\n",
    "# Plot PR curve\n",
    "import matplotlib.pyplot as plt\n",
    "plt.plot(thresh, prec[:-1], label='Precision')\n",
    "plt.plot(thresh, rec[:-1], label='Recall')\n",
    "plt.xlabel('Threshold')\n",
    "plt.legend()\n",
    "plt.title(\"Precision-Recall vs Threshold\")\n",
    "plt.show()\n",
    "\n",
    "# Pick a better threshold\n",
    "custom_thresh = 0.3  # example\n",
    "y_pred_thresh = (y_probs >= custom_thresh).astype(int)\n",
    "print(classification_report(y_test, y_pred_thresh))"
   ]
  },
  {
   "cell_type": "markdown",
   "id": "7305efb5-ae1a-49a8-90e8-f75fd5a59618",
   "metadata": {},
   "source": [
    "##### Random Forest"
   ]
  },
  {
   "cell_type": "code",
   "execution_count": 64,
   "id": "472ecc53-7561-4da6-97a8-0f5a6b4b9b5f",
   "metadata": {},
   "outputs": [
    {
     "name": "stdout",
     "output_type": "stream",
     "text": [
      "Accuracy: 93.7294417023893\n",
      "Classification Report:\n",
      "               precision    recall  f1-score   support\n",
      "\n",
      "           0       0.96      0.97      0.97    278085\n",
      "           1       0.36      0.33      0.35     14680\n",
      "\n",
      "    accuracy                           0.94    292765\n",
      "   macro avg       0.66      0.65      0.66    292765\n",
      "weighted avg       0.93      0.94      0.94    292765\n",
      "\n"
     ]
    }
   ],
   "source": [
    "from sklearn.ensemble import RandomForestClassifier\n",
    "\n",
    "# Baseline model\n",
    "rf_model = RandomForestClassifier(random_state=42)\n",
    "rf_model.fit(X_train_balanced, y_train_balanced)\n",
    "\n",
    "# Predict\n",
    "y_pred_rf = rf_model.predict(X_test_preprocessed)\n",
    "\n",
    "# Evaluate\n",
    "print(\"Accuracy:\", accuracy_score(y_test, y_pred_rf)*100)\n",
    "# print(\"Confusion Matrix:\\n\", confusion_matrix(y_test, y_pred_rf))\n",
    "print(\"Classification Report:\\n\", classification_report(y_test, y_pred_rf))"
   ]
  },
  {
   "cell_type": "code",
   "execution_count": null,
   "id": "3bd6e330-750a-4c07-a08f-97567f448ad7",
   "metadata": {},
   "outputs": [],
   "source": []
  },
  {
   "cell_type": "markdown",
   "id": "b0aba82f-792f-40c7-8902-d0bf1b880ea1",
   "metadata": {},
   "source": [
    "##### XGBoost Classifier"
   ]
  },
  {
   "cell_type": "code",
   "execution_count": 65,
   "id": "5ea0bb2b-b267-48ae-ad84-97facd375cc0",
   "metadata": {},
   "outputs": [
    {
     "name": "stdout",
     "output_type": "stream",
     "text": [
      "🔍 Accuracy: 91.84875241234437\n",
      "📊 Confusion Matrix:\n",
      " [[262125  15960]\n",
      " [  7904   6776]]\n",
      "📄 Classification Report:\n",
      "               precision    recall  f1-score   support\n",
      "\n",
      "           0       0.97      0.94      0.96    278085\n",
      "           1       0.30      0.46      0.36     14680\n",
      "\n",
      "    accuracy                           0.92    292765\n",
      "   macro avg       0.63      0.70      0.66    292765\n",
      "weighted avg       0.94      0.92      0.93    292765\n",
      "\n",
      "🏁 ROC-AUC Score: 0.8049864405689379\n"
     ]
    }
   ],
   "source": [
    "from xgboost import XGBClassifier\n",
    "from sklearn.metrics import accuracy_score, confusion_matrix, classification_report, roc_auc_score\n",
    "\n",
    "# Initialize the XGBoost Classifier\n",
    "xgb_model = XGBClassifier(\n",
    "    n_estimators=100,\n",
    "    max_depth=6,\n",
    "    learning_rate=0.1,\n",
    "    subsample=0.8,\n",
    "    colsample_bytree=0.8,\n",
    "    use_label_encoder=False,\n",
    "    eval_metric='logloss',\n",
    "    random_state=42,\n",
    "    n_jobs=-1\n",
    ")\n",
    "\n",
    "# Train the model\n",
    "xgb_model.fit(X_train_balanced, y_train_balanced)\n",
    "\n",
    "# Predict on the original test data\n",
    "y_pred = xgb_model.predict(X_test_preprocessed)\n",
    "y_pred_proba = xgb_model.predict_proba(X_test_preprocessed)[:, 1]\n",
    "\n",
    "# Evaluate\n",
    "print(\"🔍 Accuracy:\", accuracy_score(y_test, y_pred) * 100)\n",
    "print(\"📊 Confusion Matrix:\\n\", confusion_matrix(y_test, y_pred))\n",
    "print(\"📄 Classification Report:\\n\", classification_report(y_test, y_pred))\n",
    "print(\"🏁 ROC-AUC Score:\", roc_auc_score(y_test, y_pred_proba))\n"
   ]
  },
  {
   "cell_type": "code",
   "execution_count": 66,
   "id": "abf8fad6-1098-491d-9f91-9a23bba24c1a",
   "metadata": {},
   "outputs": [
    {
     "data": {
      "image/png": "[encoded data removed]",
      "text/plain": [
       "<Figure size 640x480 with 1 Axes>"
      ]
     },
     "metadata": {},
     "output_type": "display_data"
    }
   ],
   "source": [
    "from sklearn.metrics import precision_recall_curve, auc\n",
    "import matplotlib.pyplot as plt\n",
    "\n",
    "y_scores = xgb_model.predict_proba(X_test_preprocessed)[:, 1]\n",
    "precision, recall, _ = precision_recall_curve(y_test, y_scores)\n",
    "pr_auc = auc(recall, precision)\n",
    "\n",
    "plt.plot(recall, precision, marker='.')\n",
    "plt.xlabel('Recall')\n",
    "plt.ylabel('Precision')\n",
    "plt.title(f'Precision-Recall Curve (AUC = {pr_auc:.2f})')\n",
    "plt.grid()\n",
    "plt.show()"
   ]
  },
  {
   "cell_type": "code",
   "execution_count": 67,
   "id": "4b02aceb-aa68-4b12-9421-bb284d82bcfa",
   "metadata": {},
   "outputs": [],
   "source": [
    "import joblib\n",
    "\n",
    "# Save model\n",
    "joblib.dump(xgb_model, 'xgb_fraud_model.pkl')  # Working within scikit-learn pipelines, easy integration\n",
    "# Load model later\n",
    "# xgb_loaded = joblib.load('xgb_fraud_model.pkl')\n",
    "\n",
    "# Save model in native XGBoost format\n",
    "xgb_model.save_model('xgb_fraud_model_mini.json')  # Portability (e.g., deployment, cross-language support)"
   ]
  },
  {
   "cell_type": "code",
   "execution_count": null,
   "id": "422cde98-1b38-4cb0-aaac-c12a7203a206",
   "metadata": {},
   "outputs": [],
   "source": []
  }
 ],
 "metadata": {
  "kernelspec": {
   "display_name": "Python 3 (ipykernel)",
   "language": "python",
   "name": "python3"
  },
  "language_info": {
   "codemirror_mode": {
    "name": "ipython",
    "version": 3
   },
   "file_extension": ".py",
   "mimetype": "text/x-python",
   "name": "python",
   "nbconvert_exporter": "python",
   "pygments_lexer": "ipython3",
   "version": "3.12.3"
  }
 },
 "nbformat": 4,
 "nbformat_minor": 5
}
