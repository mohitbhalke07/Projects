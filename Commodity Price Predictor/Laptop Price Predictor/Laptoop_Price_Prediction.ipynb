{
 "cells": [
  {
   "cell_type": "code",
   "execution_count": 1,
   "id": "18e57991",
   "metadata": {},
   "outputs": [],
   "source": [
    "import pandas as pd\n",
    "import numpy as np"
   ]
  },
  {
   "cell_type": "code",
   "execution_count": 2,
   "id": "64e7f1f0",
   "metadata": {},
   "outputs": [],
   "source": [
    "#data1 = pd.read_csv(\"laptop1.csv\")\n",
    "data = pd.read_csv(\"laptop2.csv\")"
   ]
  },
  {
   "cell_type": "code",
   "execution_count": 3,
   "id": "a46cd5e2",
   "metadata": {},
   "outputs": [
    {
     "data": {
      "text/html": [
       "<div>\n",
       "<style scoped>\n",
       "    .dataframe tbody tr th:only-of-type {\n",
       "        vertical-align: middle;\n",
       "    }\n",
       "\n",
       "    .dataframe tbody tr th {\n",
       "        vertical-align: top;\n",
       "    }\n",
       "\n",
       "    .dataframe thead th {\n",
       "        text-align: right;\n",
       "    }\n",
       "</style>\n",
       "<table border=\"1\" class=\"dataframe\">\n",
       "  <thead>\n",
       "    <tr style=\"text-align: right;\">\n",
       "      <th></th>\n",
       "      <th>Unnamed: 0</th>\n",
       "      <th>Name</th>\n",
       "      <th>Processor</th>\n",
       "      <th>RAM</th>\n",
       "      <th>Operating System</th>\n",
       "      <th>Storage</th>\n",
       "      <th>Display</th>\n",
       "      <th>Warranty</th>\n",
       "      <th>Price</th>\n",
       "      <th>rating</th>\n",
       "    </tr>\n",
       "  </thead>\n",
       "  <tbody>\n",
       "    <tr>\n",
       "      <th>0</th>\n",
       "      <td>0</td>\n",
       "      <td>Lenovo Ideapad S145 Core i5 10th Gen - (8 GB/1...</td>\n",
       "      <td>Intel Core i5 Processor (10th Gen)</td>\n",
       "      <td>8 GB DDR4 RAM</td>\n",
       "      <td>64 bit Windows 10 Operating System</td>\n",
       "      <td>1 TB HDD</td>\n",
       "      <td>39.62 cm (15.6 inch) Display</td>\n",
       "      <td>1 Year Onsite Warranty</td>\n",
       "      <td>₹43,990</td>\n",
       "      <td>3.9</td>\n",
       "    </tr>\n",
       "    <tr>\n",
       "      <th>1</th>\n",
       "      <td>1</td>\n",
       "      <td>Lenovo IdeaPad Core i3 11th Gen - (8 GB/256 GB...</td>\n",
       "      <td>Intel Core i3 Processor (11th Gen)</td>\n",
       "      <td>8 GB DDR4 RAM</td>\n",
       "      <td>64 bit Windows 10 Operating System</td>\n",
       "      <td>256 GB SSD</td>\n",
       "      <td>35.56 cm (14 Inch) Display</td>\n",
       "      <td>1 Year Onsite Warranty</td>\n",
       "      <td>₹43,990</td>\n",
       "      <td>4.2</td>\n",
       "    </tr>\n",
       "    <tr>\n",
       "      <th>2</th>\n",
       "      <td>2</td>\n",
       "      <td>HP Pentium Quad Core - (8 GB/256 GB SSD/Window...</td>\n",
       "      <td>Intel Pentium Quad Core Processor</td>\n",
       "      <td>8 GB DDR4 RAM</td>\n",
       "      <td>64 bit Windows 10 Operating System</td>\n",
       "      <td>256 GB SSD</td>\n",
       "      <td>35.56 cm (14 inch) Display</td>\n",
       "      <td>1 Year Onsite Warranty</td>\n",
       "      <td>₹31,490</td>\n",
       "      <td>4.6</td>\n",
       "    </tr>\n",
       "    <tr>\n",
       "      <th>3</th>\n",
       "      <td>3</td>\n",
       "      <td>HP 14s Core i3 11th Gen - (8 GB/256 GB SSD/Win...</td>\n",
       "      <td>Intel Core i3 Processor (11th Gen)</td>\n",
       "      <td>8 GB DDR4 RAM</td>\n",
       "      <td>64 bit Windows 10 Operating System</td>\n",
       "      <td>256 GB SSD</td>\n",
       "      <td>35.56 cm (14 inch) Display</td>\n",
       "      <td>1 Year Onsite Warranty</td>\n",
       "      <td>₹40,990</td>\n",
       "      <td>4.1</td>\n",
       "    </tr>\n",
       "    <tr>\n",
       "      <th>4</th>\n",
       "      <td>4</td>\n",
       "      <td>HP 15s Athlon Dual Core - (4 GB/1 TB HDD/Windo...</td>\n",
       "      <td>AMD Athlon Dual Core Processor</td>\n",
       "      <td>4 GB DDR4 RAM</td>\n",
       "      <td>64 bit Windows 10 Operating System</td>\n",
       "      <td>1 TB HDD</td>\n",
       "      <td>39.62 cm (15.6 inch) Display</td>\n",
       "      <td>1 Year Onsite Warranty</td>\n",
       "      <td>₹27,490</td>\n",
       "      <td>4.1</td>\n",
       "    </tr>\n",
       "  </tbody>\n",
       "</table>\n",
       "</div>"
      ],
      "text/plain": [
       "   Unnamed: 0                                               Name  \\\n",
       "0           0  Lenovo Ideapad S145 Core i5 10th Gen - (8 GB/1...   \n",
       "1           1  Lenovo IdeaPad Core i3 11th Gen - (8 GB/256 GB...   \n",
       "2           2  HP Pentium Quad Core - (8 GB/256 GB SSD/Window...   \n",
       "3           3  HP 14s Core i3 11th Gen - (8 GB/256 GB SSD/Win...   \n",
       "4           4  HP 15s Athlon Dual Core - (4 GB/1 TB HDD/Windo...   \n",
       "\n",
       "                            Processor            RAM  \\\n",
       "0  Intel Core i5 Processor (10th Gen)  8 GB DDR4 RAM   \n",
       "1  Intel Core i3 Processor (11th Gen)  8 GB DDR4 RAM   \n",
       "2   Intel Pentium Quad Core Processor  8 GB DDR4 RAM   \n",
       "3  Intel Core i3 Processor (11th Gen)  8 GB DDR4 RAM   \n",
       "4      AMD Athlon Dual Core Processor  4 GB DDR4 RAM   \n",
       "\n",
       "                     Operating System     Storage  \\\n",
       "0  64 bit Windows 10 Operating System    1 TB HDD   \n",
       "1  64 bit Windows 10 Operating System  256 GB SSD   \n",
       "2  64 bit Windows 10 Operating System  256 GB SSD   \n",
       "3  64 bit Windows 10 Operating System  256 GB SSD   \n",
       "4  64 bit Windows 10 Operating System    1 TB HDD   \n",
       "\n",
       "                        Display                Warranty    Price  rating  \n",
       "0  39.62 cm (15.6 inch) Display  1 Year Onsite Warranty  ₹43,990     3.9  \n",
       "1    35.56 cm (14 Inch) Display  1 Year Onsite Warranty  ₹43,990     4.2  \n",
       "2    35.56 cm (14 inch) Display  1 Year Onsite Warranty  ₹31,490     4.6  \n",
       "3    35.56 cm (14 inch) Display  1 Year Onsite Warranty  ₹40,990     4.1  \n",
       "4  39.62 cm (15.6 inch) Display  1 Year Onsite Warranty  ₹27,490     4.1  "
      ]
     },
     "execution_count": 3,
     "metadata": {},
     "output_type": "execute_result"
    }
   ],
   "source": [
    "data.head()"
   ]
  },
  {
   "cell_type": "code",
   "execution_count": 4,
   "id": "f6bc6723",
   "metadata": {},
   "outputs": [
    {
     "data": {
      "text/plain": [
       "(550, 10)"
      ]
     },
     "execution_count": 4,
     "metadata": {},
     "output_type": "execute_result"
    }
   ],
   "source": [
    "data.shape"
   ]
  },
  {
   "cell_type": "code",
   "execution_count": 5,
   "id": "aac65e30",
   "metadata": {},
   "outputs": [
    {
     "data": {
      "text/plain": [
       "0"
      ]
     },
     "execution_count": 5,
     "metadata": {},
     "output_type": "execute_result"
    }
   ],
   "source": [
    "data.duplicated().sum()"
   ]
  },
  {
   "cell_type": "code",
   "execution_count": 6,
   "id": "3bfaa3b7",
   "metadata": {},
   "outputs": [],
   "source": [
    "data.drop(columns=[\"Unnamed: 0\", \"Warranty\", \"rating\"], inplace=True)"
   ]
  },
  {
   "cell_type": "code",
   "execution_count": 7,
   "id": "e7bcd167",
   "metadata": {},
   "outputs": [
    {
     "data": {
      "text/html": [
       "<div>\n",
       "<style scoped>\n",
       "    .dataframe tbody tr th:only-of-type {\n",
       "        vertical-align: middle;\n",
       "    }\n",
       "\n",
       "    .dataframe tbody tr th {\n",
       "        vertical-align: top;\n",
       "    }\n",
       "\n",
       "    .dataframe thead th {\n",
       "        text-align: right;\n",
       "    }\n",
       "</style>\n",
       "<table border=\"1\" class=\"dataframe\">\n",
       "  <thead>\n",
       "    <tr style=\"text-align: right;\">\n",
       "      <th></th>\n",
       "      <th>Name</th>\n",
       "      <th>Processor</th>\n",
       "      <th>RAM</th>\n",
       "      <th>Operating System</th>\n",
       "      <th>Storage</th>\n",
       "      <th>Display</th>\n",
       "      <th>Price</th>\n",
       "    </tr>\n",
       "  </thead>\n",
       "  <tbody>\n",
       "    <tr>\n",
       "      <th>52</th>\n",
       "      <td>ASUS TUF Dash F15 (2021) Core i5 11th Gen - (1...</td>\n",
       "      <td>AMD Ryzen 5 Hexa Core Processor</td>\n",
       "      <td>16 GB DDR4 RAM</td>\n",
       "      <td>64 bit Windows 10 Operating System</td>\n",
       "      <td>512 GB SSD</td>\n",
       "      <td>33.78 cm (13.3 inch) Display</td>\n",
       "      <td>₹94,990</td>\n",
       "    </tr>\n",
       "    <tr>\n",
       "      <th>2</th>\n",
       "      <td>HP Pentium Quad Core - (8 GB/256 GB SSD/Window...</td>\n",
       "      <td>Intel Pentium Quad Core Processor</td>\n",
       "      <td>8 GB DDR4 RAM</td>\n",
       "      <td>64 bit Windows 10 Operating System</td>\n",
       "      <td>256 GB SSD</td>\n",
       "      <td>35.56 cm (14 inch) Display</td>\n",
       "      <td>₹31,490</td>\n",
       "    </tr>\n",
       "    <tr>\n",
       "      <th>98</th>\n",
       "      <td>ASUS ROG Flow X13 Ryzen 9 Octa Core 5900HS - (...</td>\n",
       "      <td>Intel Core i3 Processor (10th Gen)</td>\n",
       "      <td>32 GB LPDDR4X RAM</td>\n",
       "      <td>64 bit Windows 10 Operating System</td>\n",
       "      <td>1 TB HDD</td>\n",
       "      <td>Matrix Display, Dragon Center, Cooler Boost 5,...</td>\n",
       "      <td>₹1,54,990</td>\n",
       "    </tr>\n",
       "    <tr>\n",
       "      <th>202</th>\n",
       "      <td>HP 15s Core i5 11th Gen - (8 GB/1 TB HDD/Windo...</td>\n",
       "      <td>Intel Core i5 Processor (11th Gen)</td>\n",
       "      <td>8 GB DDR4 RAM</td>\n",
       "      <td>64 bit Windows 10 Operating System</td>\n",
       "      <td>1 TB HDD</td>\n",
       "      <td>39.62 cm (15.6 inch) Display</td>\n",
       "      <td>₹53,490</td>\n",
       "    </tr>\n",
       "    <tr>\n",
       "      <th>380</th>\n",
       "      <td>HP 15s Pentium Gold - (4 GB/1 TB HDD/Windows 1...</td>\n",
       "      <td>Intel Core i5 Processor (10th Gen)</td>\n",
       "      <td>4 GB DDR4 RAM</td>\n",
       "      <td>64 bit Windows 10 Operating System</td>\n",
       "      <td>512 GB SSD</td>\n",
       "      <td>Matrix Display, Dragon Center, Cooler Boost 5,...</td>\n",
       "      <td>₹27,990</td>\n",
       "    </tr>\n",
       "  </tbody>\n",
       "</table>\n",
       "</div>"
      ],
      "text/plain": [
       "                                                  Name  \\\n",
       "52   ASUS TUF Dash F15 (2021) Core i5 11th Gen - (1...   \n",
       "2    HP Pentium Quad Core - (8 GB/256 GB SSD/Window...   \n",
       "98   ASUS ROG Flow X13 Ryzen 9 Octa Core 5900HS - (...   \n",
       "202  HP 15s Core i5 11th Gen - (8 GB/1 TB HDD/Windo...   \n",
       "380  HP 15s Pentium Gold - (4 GB/1 TB HDD/Windows 1...   \n",
       "\n",
       "                              Processor                RAM  \\\n",
       "52      AMD Ryzen 5 Hexa Core Processor     16 GB DDR4 RAM   \n",
       "2     Intel Pentium Quad Core Processor      8 GB DDR4 RAM   \n",
       "98   Intel Core i3 Processor (10th Gen)  32 GB LPDDR4X RAM   \n",
       "202  Intel Core i5 Processor (11th Gen)      8 GB DDR4 RAM   \n",
       "380  Intel Core i5 Processor (10th Gen)      4 GB DDR4 RAM   \n",
       "\n",
       "                       Operating System     Storage  \\\n",
       "52   64 bit Windows 10 Operating System  512 GB SSD   \n",
       "2    64 bit Windows 10 Operating System  256 GB SSD   \n",
       "98   64 bit Windows 10 Operating System    1 TB HDD   \n",
       "202  64 bit Windows 10 Operating System    1 TB HDD   \n",
       "380  64 bit Windows 10 Operating System  512 GB SSD   \n",
       "\n",
       "                                               Display      Price  \n",
       "52                        33.78 cm (13.3 inch) Display    ₹94,990  \n",
       "2                           35.56 cm (14 inch) Display    ₹31,490  \n",
       "98   Matrix Display, Dragon Center, Cooler Boost 5,...  ₹1,54,990  \n",
       "202                       39.62 cm (15.6 inch) Display    ₹53,490  \n",
       "380  Matrix Display, Dragon Center, Cooler Boost 5,...    ₹27,990  "
      ]
     },
     "execution_count": 7,
     "metadata": {},
     "output_type": "execute_result"
    }
   ],
   "source": [
    "data.sample(5)"
   ]
  },
  {
   "cell_type": "markdown",
   "id": "34d2241d",
   "metadata": {},
   "source": [
    "# DATA PREPROCESSING\n"
   ]
  },
  {
   "cell_type": "code",
   "execution_count": 8,
   "id": "a1239fe5",
   "metadata": {},
   "outputs": [],
   "source": [
    "import string"
   ]
  },
  {
   "cell_type": "code",
   "execution_count": 9,
   "id": "30511bf6",
   "metadata": {},
   "outputs": [
    {
     "name": "stdout",
     "output_type": "stream",
     "text": [
      "<class 'pandas.core.frame.DataFrame'>\n",
      "RangeIndex: 550 entries, 0 to 549\n",
      "Data columns (total 7 columns):\n",
      " #   Column            Non-Null Count  Dtype \n",
      "---  ------            --------------  ----- \n",
      " 0   Name              550 non-null    object\n",
      " 1   Processor         550 non-null    object\n",
      " 2   RAM               550 non-null    object\n",
      " 3   Operating System  550 non-null    object\n",
      " 4   Storage           550 non-null    object\n",
      " 5   Display           550 non-null    object\n",
      " 6   Price             550 non-null    object\n",
      "dtypes: object(7)\n",
      "memory usage: 30.2+ KB\n"
     ]
    }
   ],
   "source": [
    "data.info()"
   ]
  },
  {
   "cell_type": "code",
   "execution_count": 10,
   "id": "1b6d7e24",
   "metadata": {},
   "outputs": [],
   "source": [
    "data[\"Name\"] = data[\"Name\"].str.split(\" \").str.slice(0,3).str.join(\" \")"
   ]
  },
  {
   "cell_type": "code",
   "execution_count": 11,
   "id": "37045f65",
   "metadata": {},
   "outputs": [
    {
     "data": {
      "text/html": [
       "<div>\n",
       "<style scoped>\n",
       "    .dataframe tbody tr th:only-of-type {\n",
       "        vertical-align: middle;\n",
       "    }\n",
       "\n",
       "    .dataframe tbody tr th {\n",
       "        vertical-align: top;\n",
       "    }\n",
       "\n",
       "    .dataframe thead th {\n",
       "        text-align: right;\n",
       "    }\n",
       "</style>\n",
       "<table border=\"1\" class=\"dataframe\">\n",
       "  <thead>\n",
       "    <tr style=\"text-align: right;\">\n",
       "      <th></th>\n",
       "      <th>Name</th>\n",
       "      <th>Processor</th>\n",
       "      <th>RAM</th>\n",
       "      <th>Operating System</th>\n",
       "      <th>Storage</th>\n",
       "      <th>Display</th>\n",
       "      <th>Price</th>\n",
       "    </tr>\n",
       "  </thead>\n",
       "  <tbody>\n",
       "    <tr>\n",
       "      <th>0</th>\n",
       "      <td>Lenovo Ideapad S145</td>\n",
       "      <td>Intel Core i5 Processor (10th Gen)</td>\n",
       "      <td>8 GB DDR4 RAM</td>\n",
       "      <td>64 bit Windows 10 Operating System</td>\n",
       "      <td>1 TB HDD</td>\n",
       "      <td>39.62 cm (15.6 inch) Display</td>\n",
       "      <td>₹43,990</td>\n",
       "    </tr>\n",
       "    <tr>\n",
       "      <th>1</th>\n",
       "      <td>Lenovo IdeaPad Core</td>\n",
       "      <td>Intel Core i3 Processor (11th Gen)</td>\n",
       "      <td>8 GB DDR4 RAM</td>\n",
       "      <td>64 bit Windows 10 Operating System</td>\n",
       "      <td>256 GB SSD</td>\n",
       "      <td>35.56 cm (14 Inch) Display</td>\n",
       "      <td>₹43,990</td>\n",
       "    </tr>\n",
       "    <tr>\n",
       "      <th>2</th>\n",
       "      <td>HP Pentium Quad</td>\n",
       "      <td>Intel Pentium Quad Core Processor</td>\n",
       "      <td>8 GB DDR4 RAM</td>\n",
       "      <td>64 bit Windows 10 Operating System</td>\n",
       "      <td>256 GB SSD</td>\n",
       "      <td>35.56 cm (14 inch) Display</td>\n",
       "      <td>₹31,490</td>\n",
       "    </tr>\n",
       "    <tr>\n",
       "      <th>3</th>\n",
       "      <td>HP 14s Core</td>\n",
       "      <td>Intel Core i3 Processor (11th Gen)</td>\n",
       "      <td>8 GB DDR4 RAM</td>\n",
       "      <td>64 bit Windows 10 Operating System</td>\n",
       "      <td>256 GB SSD</td>\n",
       "      <td>35.56 cm (14 inch) Display</td>\n",
       "      <td>₹40,990</td>\n",
       "    </tr>\n",
       "    <tr>\n",
       "      <th>4</th>\n",
       "      <td>HP 15s Athlon</td>\n",
       "      <td>AMD Athlon Dual Core Processor</td>\n",
       "      <td>4 GB DDR4 RAM</td>\n",
       "      <td>64 bit Windows 10 Operating System</td>\n",
       "      <td>1 TB HDD</td>\n",
       "      <td>39.62 cm (15.6 inch) Display</td>\n",
       "      <td>₹27,490</td>\n",
       "    </tr>\n",
       "  </tbody>\n",
       "</table>\n",
       "</div>"
      ],
      "text/plain": [
       "                  Name                           Processor            RAM  \\\n",
       "0  Lenovo Ideapad S145  Intel Core i5 Processor (10th Gen)  8 GB DDR4 RAM   \n",
       "1  Lenovo IdeaPad Core  Intel Core i3 Processor (11th Gen)  8 GB DDR4 RAM   \n",
       "2      HP Pentium Quad   Intel Pentium Quad Core Processor  8 GB DDR4 RAM   \n",
       "3          HP 14s Core  Intel Core i3 Processor (11th Gen)  8 GB DDR4 RAM   \n",
       "4        HP 15s Athlon      AMD Athlon Dual Core Processor  4 GB DDR4 RAM   \n",
       "\n",
       "                     Operating System     Storage  \\\n",
       "0  64 bit Windows 10 Operating System    1 TB HDD   \n",
       "1  64 bit Windows 10 Operating System  256 GB SSD   \n",
       "2  64 bit Windows 10 Operating System  256 GB SSD   \n",
       "3  64 bit Windows 10 Operating System  256 GB SSD   \n",
       "4  64 bit Windows 10 Operating System    1 TB HDD   \n",
       "\n",
       "                        Display    Price  \n",
       "0  39.62 cm (15.6 inch) Display  ₹43,990  \n",
       "1    35.56 cm (14 Inch) Display  ₹43,990  \n",
       "2    35.56 cm (14 inch) Display  ₹31,490  \n",
       "3    35.56 cm (14 inch) Display  ₹40,990  \n",
       "4  39.62 cm (15.6 inch) Display  ₹27,490  "
      ]
     },
     "execution_count": 11,
     "metadata": {},
     "output_type": "execute_result"
    }
   ],
   "source": [
    "data.head()"
   ]
  },
  {
   "cell_type": "code",
   "execution_count": 12,
   "id": "61696f9a",
   "metadata": {
    "scrolled": true
   },
   "outputs": [
    {
     "data": {
      "text/plain": [
       "Intel Core i5 Processor (10th Gen)                          100\n",
       "Intel Core i7 Processor (10th Gen)                           98\n",
       "Intel Core i5 Processor (11th Gen)                           69\n",
       "Intel Core i3 Processor (11th Gen)                           51\n",
       "Intel Core i5 Processor (8th Gen)                            32\n",
       "Intel Core i3 Processor (10th Gen)                           27\n",
       "AMD Ryzen 7 Octa Core Processor                              27\n",
       "Intel Core i7 Processor (11th Gen)                           24\n",
       "AMD Ryzen 5 Quad Core Processor                              16\n",
       "AMD Ryzen 5 Hexa Core Processor                              13\n",
       "AMD Ryzen 3 Dual Core Processor                              12\n",
       "Intel Core i5 Processor (9th Gen)                            10\n",
       "Intel Core i7 Processor (8th Gen)                             9\n",
       "Intel Celeron Dual Core Processor                             8\n",
       "Intel Core i7 Processor (7th Gen)                             6\n",
       "Intel Core i9 Processor (10th Gen)                            5\n",
       "Intel Core i7 Processor (9th Gen)                             5\n",
       "Intel Core i5 Processor (7th Gen)                             5\n",
       "AMD Ryzen 9 Octa Core Processor                               4\n",
       "AMD Ryzen 7 Quad Core Processor                               3\n",
       "AMD Ryzen 5 Quad Core Processor (3rd Gen)                     3\n",
       "AMD Ryzen 7 Octa Core Processor (5th Gen)                     2\n",
       "AMD Ryzen 5 Hexa Core Processor (5th Gen)                     2\n",
       "AMD APU Dual Core A6 Processor                                2\n",
       "AMD Athlon Dual Core Processor                                2\n",
       "Intel Evo platform feat 11th Gen Intel Core i7 processor      2\n",
       "Intel Core i3 Processor (8th Gen)                             1\n",
       "Intel Core i3 Processor (7th Gen)                             1\n",
       "Intel Core i9 Processor (9th Gen)                             1\n",
       "Microsoft Core i5 Processor (11th Gen)                        1\n",
       "Intel Core i9 Processor (8th Gen)                             1\n",
       "Intel Evo platform feat 11th Gen Intel Core i5 processor      1\n",
       "AMD Dual Core Processor                                       1\n",
       "Intel Pentium Quad Core Processor                             1\n",
       "AMD APU Dual Core A4 Processor                                1\n",
       "AMD Ryzen 7 Hexa Core Processor                               1\n",
       "AMD Ryzen 3 Quad Core Processor                               1\n",
       "AMD Ryzen 5 Dual Core Processor                               1\n",
       "Intel Core i3 Processor (5th Gen)                             1\n",
       "Name: Processor, dtype: int64"
      ]
     },
     "execution_count": 12,
     "metadata": {},
     "output_type": "execute_result"
    }
   ],
   "source": [
    "data[\"Processor\"].value_counts()"
   ]
  },
  {
   "cell_type": "code",
   "execution_count": 13,
   "id": "d18ef3c8",
   "metadata": {},
   "outputs": [],
   "source": [
    "data[\"Processor\"] = data[\"Processor\"].str.split(\" \").str.slice(0,3).str.join(\" \")\n",
    "data = data[data[\"Processor\"]!= \"Intel Evo platform feat 11th Gen Intel Core i7 processor\"]\n",
    "data = data[data[\"Processor\"]!= \"Intel Evo platform feat 11th Gen Intel Core i5 processor\"]\n",
    "data = data[data[\"Processor\"]!= \"AMD APU Dual\"]\n",
    "data = data[data[\"Processor\"]!= \"Intel Celeron Dual\"]\n",
    "data = data[data[\"Processor\"]!= \"Intel Evo platform\"]\n",
    "data = data[data[\"Processor\"]!= \"AMD Athlon Dual\"]"
   ]
  },
  {
   "cell_type": "code",
   "execution_count": 14,
   "id": "28f594ba",
   "metadata": {},
   "outputs": [
    {
     "data": {
      "text/html": [
       "<div>\n",
       "<style scoped>\n",
       "    .dataframe tbody tr th:only-of-type {\n",
       "        vertical-align: middle;\n",
       "    }\n",
       "\n",
       "    .dataframe tbody tr th {\n",
       "        vertical-align: top;\n",
       "    }\n",
       "\n",
       "    .dataframe thead th {\n",
       "        text-align: right;\n",
       "    }\n",
       "</style>\n",
       "<table border=\"1\" class=\"dataframe\">\n",
       "  <thead>\n",
       "    <tr style=\"text-align: right;\">\n",
       "      <th></th>\n",
       "      <th>Name</th>\n",
       "      <th>Processor</th>\n",
       "      <th>RAM</th>\n",
       "      <th>Operating System</th>\n",
       "      <th>Storage</th>\n",
       "      <th>Display</th>\n",
       "      <th>Price</th>\n",
       "    </tr>\n",
       "  </thead>\n",
       "  <tbody>\n",
       "    <tr>\n",
       "      <th>0</th>\n",
       "      <td>Lenovo Ideapad S145</td>\n",
       "      <td>Intel Core i5</td>\n",
       "      <td>8 GB DDR4 RAM</td>\n",
       "      <td>64 bit Windows 10 Operating System</td>\n",
       "      <td>1 TB HDD</td>\n",
       "      <td>39.62 cm (15.6 inch) Display</td>\n",
       "      <td>₹43,990</td>\n",
       "    </tr>\n",
       "    <tr>\n",
       "      <th>1</th>\n",
       "      <td>Lenovo IdeaPad Core</td>\n",
       "      <td>Intel Core i3</td>\n",
       "      <td>8 GB DDR4 RAM</td>\n",
       "      <td>64 bit Windows 10 Operating System</td>\n",
       "      <td>256 GB SSD</td>\n",
       "      <td>35.56 cm (14 Inch) Display</td>\n",
       "      <td>₹43,990</td>\n",
       "    </tr>\n",
       "    <tr>\n",
       "      <th>2</th>\n",
       "      <td>HP Pentium Quad</td>\n",
       "      <td>Intel Pentium Quad</td>\n",
       "      <td>8 GB DDR4 RAM</td>\n",
       "      <td>64 bit Windows 10 Operating System</td>\n",
       "      <td>256 GB SSD</td>\n",
       "      <td>35.56 cm (14 inch) Display</td>\n",
       "      <td>₹31,490</td>\n",
       "    </tr>\n",
       "    <tr>\n",
       "      <th>3</th>\n",
       "      <td>HP 14s Core</td>\n",
       "      <td>Intel Core i3</td>\n",
       "      <td>8 GB DDR4 RAM</td>\n",
       "      <td>64 bit Windows 10 Operating System</td>\n",
       "      <td>256 GB SSD</td>\n",
       "      <td>35.56 cm (14 inch) Display</td>\n",
       "      <td>₹40,990</td>\n",
       "    </tr>\n",
       "    <tr>\n",
       "      <th>5</th>\n",
       "      <td>Lenovo IdeaPad 3</td>\n",
       "      <td>Intel Core i5</td>\n",
       "      <td>8 GB DDR4 RAM</td>\n",
       "      <td>64 bit Windows 10 Operating System</td>\n",
       "      <td>1 TB HDD</td>\n",
       "      <td>39.62 cm (15.6 inch) Display</td>\n",
       "      <td>₹42,990</td>\n",
       "    </tr>\n",
       "  </tbody>\n",
       "</table>\n",
       "</div>"
      ],
      "text/plain": [
       "                  Name           Processor            RAM  \\\n",
       "0  Lenovo Ideapad S145       Intel Core i5  8 GB DDR4 RAM   \n",
       "1  Lenovo IdeaPad Core       Intel Core i3  8 GB DDR4 RAM   \n",
       "2      HP Pentium Quad  Intel Pentium Quad  8 GB DDR4 RAM   \n",
       "3          HP 14s Core       Intel Core i3  8 GB DDR4 RAM   \n",
       "5     Lenovo IdeaPad 3       Intel Core i5  8 GB DDR4 RAM   \n",
       "\n",
       "                     Operating System     Storage  \\\n",
       "0  64 bit Windows 10 Operating System    1 TB HDD   \n",
       "1  64 bit Windows 10 Operating System  256 GB SSD   \n",
       "2  64 bit Windows 10 Operating System  256 GB SSD   \n",
       "3  64 bit Windows 10 Operating System  256 GB SSD   \n",
       "5  64 bit Windows 10 Operating System    1 TB HDD   \n",
       "\n",
       "                        Display    Price  \n",
       "0  39.62 cm (15.6 inch) Display  ₹43,990  \n",
       "1    35.56 cm (14 Inch) Display  ₹43,990  \n",
       "2    35.56 cm (14 inch) Display  ₹31,490  \n",
       "3    35.56 cm (14 inch) Display  ₹40,990  \n",
       "5  39.62 cm (15.6 inch) Display  ₹42,990  "
      ]
     },
     "execution_count": 14,
     "metadata": {},
     "output_type": "execute_result"
    }
   ],
   "source": [
    "data.head()"
   ]
  },
  {
   "cell_type": "code",
   "execution_count": 15,
   "id": "cb4d6d6b",
   "metadata": {},
   "outputs": [
    {
     "data": {
      "text/plain": [
       "8 GB DDR4 RAM                                    285\n",
       "16 GB DDR4 RAM                                   123\n",
       "4 GB DDR4 RAM                                     62\n",
       "16 GB LPDDR4X RAM                                 16\n",
       "8 GB LPDDR4X RAM                                  13\n",
       "8 GB LPDDR3 RAM                                   10\n",
       "32 GB DDR4 RAM                                     8\n",
       "8 GB DDR3 RAM                                      6\n",
       "16 GB LPDDR3 RAM                                   4\n",
       "16 GB DDR3 RAM                                     3\n",
       "Upgradable SSD Upto 512 GB and RAM Upto 32 GB      1\n",
       "12 GB DDR4 RAM                                     1\n",
       "32 GB LPDDR4X RAM                                  1\n",
       "4 GB DDR3 RAM                                      1\n",
       "Name: RAM, dtype: int64"
      ]
     },
     "execution_count": 15,
     "metadata": {},
     "output_type": "execute_result"
    }
   ],
   "source": [
    "data[\"RAM\"].value_counts()"
   ]
  },
  {
   "cell_type": "code",
   "execution_count": 16,
   "id": "461c5d2c",
   "metadata": {},
   "outputs": [],
   "source": [
    "data = data[data[\"RAM\"]!= \"Upgradable SSD Upto 512 GB and RAM Upto 32 GB\"]\n",
    "data[\"RAM\"] = data[\"RAM\"].str.split(\" \").str.get(0).astype(int)"
   ]
  },
  {
   "cell_type": "code",
   "execution_count": 17,
   "id": "c6c8771d",
   "metadata": {},
   "outputs": [
    {
     "data": {
      "text/html": [
       "<div>\n",
       "<style scoped>\n",
       "    .dataframe tbody tr th:only-of-type {\n",
       "        vertical-align: middle;\n",
       "    }\n",
       "\n",
       "    .dataframe tbody tr th {\n",
       "        vertical-align: top;\n",
       "    }\n",
       "\n",
       "    .dataframe thead th {\n",
       "        text-align: right;\n",
       "    }\n",
       "</style>\n",
       "<table border=\"1\" class=\"dataframe\">\n",
       "  <thead>\n",
       "    <tr style=\"text-align: right;\">\n",
       "      <th></th>\n",
       "      <th>Name</th>\n",
       "      <th>Processor</th>\n",
       "      <th>RAM</th>\n",
       "      <th>Operating System</th>\n",
       "      <th>Storage</th>\n",
       "      <th>Display</th>\n",
       "      <th>Price</th>\n",
       "    </tr>\n",
       "  </thead>\n",
       "  <tbody>\n",
       "    <tr>\n",
       "      <th>0</th>\n",
       "      <td>Lenovo Ideapad S145</td>\n",
       "      <td>Intel Core i5</td>\n",
       "      <td>8</td>\n",
       "      <td>64 bit Windows 10 Operating System</td>\n",
       "      <td>1 TB HDD</td>\n",
       "      <td>39.62 cm (15.6 inch) Display</td>\n",
       "      <td>₹43,990</td>\n",
       "    </tr>\n",
       "    <tr>\n",
       "      <th>1</th>\n",
       "      <td>Lenovo IdeaPad Core</td>\n",
       "      <td>Intel Core i3</td>\n",
       "      <td>8</td>\n",
       "      <td>64 bit Windows 10 Operating System</td>\n",
       "      <td>256 GB SSD</td>\n",
       "      <td>35.56 cm (14 Inch) Display</td>\n",
       "      <td>₹43,990</td>\n",
       "    </tr>\n",
       "    <tr>\n",
       "      <th>2</th>\n",
       "      <td>HP Pentium Quad</td>\n",
       "      <td>Intel Pentium Quad</td>\n",
       "      <td>8</td>\n",
       "      <td>64 bit Windows 10 Operating System</td>\n",
       "      <td>256 GB SSD</td>\n",
       "      <td>35.56 cm (14 inch) Display</td>\n",
       "      <td>₹31,490</td>\n",
       "    </tr>\n",
       "    <tr>\n",
       "      <th>3</th>\n",
       "      <td>HP 14s Core</td>\n",
       "      <td>Intel Core i3</td>\n",
       "      <td>8</td>\n",
       "      <td>64 bit Windows 10 Operating System</td>\n",
       "      <td>256 GB SSD</td>\n",
       "      <td>35.56 cm (14 inch) Display</td>\n",
       "      <td>₹40,990</td>\n",
       "    </tr>\n",
       "    <tr>\n",
       "      <th>5</th>\n",
       "      <td>Lenovo IdeaPad 3</td>\n",
       "      <td>Intel Core i5</td>\n",
       "      <td>8</td>\n",
       "      <td>64 bit Windows 10 Operating System</td>\n",
       "      <td>1 TB HDD</td>\n",
       "      <td>39.62 cm (15.6 inch) Display</td>\n",
       "      <td>₹42,990</td>\n",
       "    </tr>\n",
       "  </tbody>\n",
       "</table>\n",
       "</div>"
      ],
      "text/plain": [
       "                  Name           Processor  RAM  \\\n",
       "0  Lenovo Ideapad S145       Intel Core i5    8   \n",
       "1  Lenovo IdeaPad Core       Intel Core i3    8   \n",
       "2      HP Pentium Quad  Intel Pentium Quad    8   \n",
       "3          HP 14s Core       Intel Core i3    8   \n",
       "5     Lenovo IdeaPad 3       Intel Core i5    8   \n",
       "\n",
       "                     Operating System     Storage  \\\n",
       "0  64 bit Windows 10 Operating System    1 TB HDD   \n",
       "1  64 bit Windows 10 Operating System  256 GB SSD   \n",
       "2  64 bit Windows 10 Operating System  256 GB SSD   \n",
       "3  64 bit Windows 10 Operating System  256 GB SSD   \n",
       "5  64 bit Windows 10 Operating System    1 TB HDD   \n",
       "\n",
       "                        Display    Price  \n",
       "0  39.62 cm (15.6 inch) Display  ₹43,990  \n",
       "1    35.56 cm (14 Inch) Display  ₹43,990  \n",
       "2    35.56 cm (14 inch) Display  ₹31,490  \n",
       "3    35.56 cm (14 inch) Display  ₹40,990  \n",
       "5  39.62 cm (15.6 inch) Display  ₹42,990  "
      ]
     },
     "execution_count": 17,
     "metadata": {},
     "output_type": "execute_result"
    }
   ],
   "source": [
    "data.head()"
   ]
  },
  {
   "cell_type": "code",
   "execution_count": 18,
   "id": "e0126148",
   "metadata": {},
   "outputs": [
    {
     "data": {
      "text/plain": [
       "64 bit Windows 10 Operating System                                                                                         477\n",
       "Windows 10 Operating System                                                                                                 22\n",
       "Mac OS Operating System                                                                                                     19\n",
       "Pre-installed Genuine Windows 10 Operating System (Includes Built-in Security, Free Automated Updates, Latest Features)     10\n",
       "64 bit Chrome Operating System                                                                                               3\n",
       "DOS Operating System                                                                                                         2\n",
       "Name: Operating System, dtype: int64"
      ]
     },
     "execution_count": 18,
     "metadata": {},
     "output_type": "execute_result"
    }
   ],
   "source": [
    "data[\"Operating System\"].value_counts()"
   ]
  },
  {
   "cell_type": "code",
   "execution_count": 19,
   "id": "f535dfe2",
   "metadata": {},
   "outputs": [],
   "source": [
    "data[\"Operating System\"] = data[\"Operating System\"].str.split(\" \").str.get(0)\n",
    "data = data[data[\"Operating System\"].str.isnumeric()]\n",
    "data[\"Operating System\"] = data[\"Operating System\"].astype(int)"
   ]
  },
  {
   "cell_type": "code",
   "execution_count": 20,
   "id": "6f871035",
   "metadata": {},
   "outputs": [
    {
     "data": {
      "text/html": [
       "<div>\n",
       "<style scoped>\n",
       "    .dataframe tbody tr th:only-of-type {\n",
       "        vertical-align: middle;\n",
       "    }\n",
       "\n",
       "    .dataframe tbody tr th {\n",
       "        vertical-align: top;\n",
       "    }\n",
       "\n",
       "    .dataframe thead th {\n",
       "        text-align: right;\n",
       "    }\n",
       "</style>\n",
       "<table border=\"1\" class=\"dataframe\">\n",
       "  <thead>\n",
       "    <tr style=\"text-align: right;\">\n",
       "      <th></th>\n",
       "      <th>Name</th>\n",
       "      <th>Processor</th>\n",
       "      <th>RAM</th>\n",
       "      <th>Operating System</th>\n",
       "      <th>Storage</th>\n",
       "      <th>Display</th>\n",
       "      <th>Price</th>\n",
       "    </tr>\n",
       "  </thead>\n",
       "  <tbody>\n",
       "    <tr>\n",
       "      <th>0</th>\n",
       "      <td>Lenovo Ideapad S145</td>\n",
       "      <td>Intel Core i5</td>\n",
       "      <td>8</td>\n",
       "      <td>64</td>\n",
       "      <td>1 TB HDD</td>\n",
       "      <td>39.62 cm (15.6 inch) Display</td>\n",
       "      <td>₹43,990</td>\n",
       "    </tr>\n",
       "    <tr>\n",
       "      <th>1</th>\n",
       "      <td>Lenovo IdeaPad Core</td>\n",
       "      <td>Intel Core i3</td>\n",
       "      <td>8</td>\n",
       "      <td>64</td>\n",
       "      <td>256 GB SSD</td>\n",
       "      <td>35.56 cm (14 Inch) Display</td>\n",
       "      <td>₹43,990</td>\n",
       "    </tr>\n",
       "    <tr>\n",
       "      <th>2</th>\n",
       "      <td>HP Pentium Quad</td>\n",
       "      <td>Intel Pentium Quad</td>\n",
       "      <td>8</td>\n",
       "      <td>64</td>\n",
       "      <td>256 GB SSD</td>\n",
       "      <td>35.56 cm (14 inch) Display</td>\n",
       "      <td>₹31,490</td>\n",
       "    </tr>\n",
       "    <tr>\n",
       "      <th>3</th>\n",
       "      <td>HP 14s Core</td>\n",
       "      <td>Intel Core i3</td>\n",
       "      <td>8</td>\n",
       "      <td>64</td>\n",
       "      <td>256 GB SSD</td>\n",
       "      <td>35.56 cm (14 inch) Display</td>\n",
       "      <td>₹40,990</td>\n",
       "    </tr>\n",
       "    <tr>\n",
       "      <th>5</th>\n",
       "      <td>Lenovo IdeaPad 3</td>\n",
       "      <td>Intel Core i5</td>\n",
       "      <td>8</td>\n",
       "      <td>64</td>\n",
       "      <td>1 TB HDD</td>\n",
       "      <td>39.62 cm (15.6 inch) Display</td>\n",
       "      <td>₹42,990</td>\n",
       "    </tr>\n",
       "  </tbody>\n",
       "</table>\n",
       "</div>"
      ],
      "text/plain": [
       "                  Name           Processor  RAM  Operating System     Storage  \\\n",
       "0  Lenovo Ideapad S145       Intel Core i5    8                64    1 TB HDD   \n",
       "1  Lenovo IdeaPad Core       Intel Core i3    8                64  256 GB SSD   \n",
       "2      HP Pentium Quad  Intel Pentium Quad    8                64  256 GB SSD   \n",
       "3          HP 14s Core       Intel Core i3    8                64  256 GB SSD   \n",
       "5     Lenovo IdeaPad 3       Intel Core i5    8                64    1 TB HDD   \n",
       "\n",
       "                        Display    Price  \n",
       "0  39.62 cm (15.6 inch) Display  ₹43,990  \n",
       "1    35.56 cm (14 Inch) Display  ₹43,990  \n",
       "2    35.56 cm (14 inch) Display  ₹31,490  \n",
       "3    35.56 cm (14 inch) Display  ₹40,990  \n",
       "5  39.62 cm (15.6 inch) Display  ₹42,990  "
      ]
     },
     "execution_count": 20,
     "metadata": {},
     "output_type": "execute_result"
    }
   ],
   "source": [
    "data.head()"
   ]
  },
  {
   "cell_type": "code",
   "execution_count": 21,
   "id": "7492849a",
   "metadata": {},
   "outputs": [
    {
     "data": {
      "text/plain": [
       "512 GB SSD                                                 185\n",
       "1 TB HDD|256 GB SSD                                         89\n",
       "1 TB HDD                                                    75\n",
       "256 GB SSD                                                  66\n",
       "1 TB SSD                                                    52\n",
       "1 TB HDD|128 GB SSD                                          5\n",
       "128 GB SSD                                                   2\n",
       "1 TB HDD|512 GB SSD                                          2\n",
       "512 GB SSD for Reduced Boot Up Time and in Game Loading      1\n",
       "128 GB NVMe PCIe 3.0 x4 SSD                                  1\n",
       "512 GB HDD|512 GB SSD                                        1\n",
       "128 GB SSD for Reduced Boot Up Time and in Game Loading      1\n",
       "Name: Storage, dtype: int64"
      ]
     },
     "execution_count": 21,
     "metadata": {},
     "output_type": "execute_result"
    }
   ],
   "source": [
    "data[\"Storage\"].value_counts()"
   ]
  },
  {
   "cell_type": "code",
   "execution_count": 22,
   "id": "a27c89a1",
   "metadata": {},
   "outputs": [],
   "source": [
    "data[\"Storage\"] = data[\"Storage\"].str.split(\" \").str.get(0).str.join(\"\").astype(int)\n",
    "data = data[data[\"Storage\"]!= \"Storage\"]"
   ]
  },
  {
   "cell_type": "code",
   "execution_count": 23,
   "id": "80e2a6fa",
   "metadata": {},
   "outputs": [
    {
     "data": {
      "text/html": [
       "<div>\n",
       "<style scoped>\n",
       "    .dataframe tbody tr th:only-of-type {\n",
       "        vertical-align: middle;\n",
       "    }\n",
       "\n",
       "    .dataframe tbody tr th {\n",
       "        vertical-align: top;\n",
       "    }\n",
       "\n",
       "    .dataframe thead th {\n",
       "        text-align: right;\n",
       "    }\n",
       "</style>\n",
       "<table border=\"1\" class=\"dataframe\">\n",
       "  <thead>\n",
       "    <tr style=\"text-align: right;\">\n",
       "      <th></th>\n",
       "      <th>Name</th>\n",
       "      <th>Processor</th>\n",
       "      <th>RAM</th>\n",
       "      <th>Operating System</th>\n",
       "      <th>Storage</th>\n",
       "      <th>Display</th>\n",
       "      <th>Price</th>\n",
       "    </tr>\n",
       "  </thead>\n",
       "  <tbody>\n",
       "    <tr>\n",
       "      <th>0</th>\n",
       "      <td>Lenovo Ideapad S145</td>\n",
       "      <td>Intel Core i5</td>\n",
       "      <td>8</td>\n",
       "      <td>64</td>\n",
       "      <td>1</td>\n",
       "      <td>39.62 cm (15.6 inch) Display</td>\n",
       "      <td>₹43,990</td>\n",
       "    </tr>\n",
       "    <tr>\n",
       "      <th>1</th>\n",
       "      <td>Lenovo IdeaPad Core</td>\n",
       "      <td>Intel Core i3</td>\n",
       "      <td>8</td>\n",
       "      <td>64</td>\n",
       "      <td>256</td>\n",
       "      <td>35.56 cm (14 Inch) Display</td>\n",
       "      <td>₹43,990</td>\n",
       "    </tr>\n",
       "    <tr>\n",
       "      <th>2</th>\n",
       "      <td>HP Pentium Quad</td>\n",
       "      <td>Intel Pentium Quad</td>\n",
       "      <td>8</td>\n",
       "      <td>64</td>\n",
       "      <td>256</td>\n",
       "      <td>35.56 cm (14 inch) Display</td>\n",
       "      <td>₹31,490</td>\n",
       "    </tr>\n",
       "    <tr>\n",
       "      <th>3</th>\n",
       "      <td>HP 14s Core</td>\n",
       "      <td>Intel Core i3</td>\n",
       "      <td>8</td>\n",
       "      <td>64</td>\n",
       "      <td>256</td>\n",
       "      <td>35.56 cm (14 inch) Display</td>\n",
       "      <td>₹40,990</td>\n",
       "    </tr>\n",
       "    <tr>\n",
       "      <th>5</th>\n",
       "      <td>Lenovo IdeaPad 3</td>\n",
       "      <td>Intel Core i5</td>\n",
       "      <td>8</td>\n",
       "      <td>64</td>\n",
       "      <td>1</td>\n",
       "      <td>39.62 cm (15.6 inch) Display</td>\n",
       "      <td>₹42,990</td>\n",
       "    </tr>\n",
       "  </tbody>\n",
       "</table>\n",
       "</div>"
      ],
      "text/plain": [
       "                  Name           Processor  RAM  Operating System  Storage  \\\n",
       "0  Lenovo Ideapad S145       Intel Core i5    8                64        1   \n",
       "1  Lenovo IdeaPad Core       Intel Core i3    8                64      256   \n",
       "2      HP Pentium Quad  Intel Pentium Quad    8                64      256   \n",
       "3          HP 14s Core       Intel Core i3    8                64      256   \n",
       "5     Lenovo IdeaPad 3       Intel Core i5    8                64        1   \n",
       "\n",
       "                        Display    Price  \n",
       "0  39.62 cm (15.6 inch) Display  ₹43,990  \n",
       "1    35.56 cm (14 Inch) Display  ₹43,990  \n",
       "2    35.56 cm (14 inch) Display  ₹31,490  \n",
       "3    35.56 cm (14 inch) Display  ₹40,990  \n",
       "5  39.62 cm (15.6 inch) Display  ₹42,990  "
      ]
     },
     "execution_count": 23,
     "metadata": {},
     "output_type": "execute_result"
    }
   ],
   "source": [
    "data.head()"
   ]
  },
  {
   "cell_type": "code",
   "execution_count": 24,
   "id": "43ee3ce4",
   "metadata": {},
   "outputs": [
    {
     "data": {
      "text/plain": [
       "39.62 cm (15.6 inch) Display                                                                                                                       217\n",
       "35.56 cm (14 inch) Display                                                                                                                         103\n",
       "33.78 cm (13.3 inch) Display                                                                                                                        33\n",
       "Matrix Display, Dragon Center, Cooler Boost 5, Nahimic 3                                                                                            22\n",
       "35.56 cm (14 Inch) Display                                                                                                                          19\n",
       "35.56 cm (14 inch) Touchscreen Display                                                                                                              16\n",
       "33.78 cm (13.3 inch) Touchscreen Display                                                                                                            12\n",
       "SHIFT, SteelSeries Engine 3, Matrix Display (Extend), Dragon Center, GamingMode, VR Ready, Cooler Boost 5, Nahimic 3, Nahimic VR, Giant Speaker      9\n",
       "15.6 inches Full HD IPS Thin Bezel Display (144Hz, 45% NTSC Color Gamut)                                                                             8\n",
       "39.62 cm (15.6 inch) Touchscreen Display                                                                                                             5\n",
       "39.62 cm (15.6 Inch) Display                                                                                                                         5\n",
       "33.02 cm (13 inch) Display                                                                                                                           4\n",
       "33.78 cm (13.3 Inch) Display                                                                                                                         4\n",
       "40.64 cm (16 inch) Display                                                                                                                           3\n",
       "34.04 cm (13.4 inch) Touchscreen Display                                                                                                             3\n",
       "35.56 cm (14 inches) Touchscreen Display                                                                                                             2\n",
       "30.48 cm (12 inch) Touchscreen Display                                                                                                               2\n",
       "Full HD LED Backlit Display                                                                                                                          2\n",
       "Full HD LED Backlit Anti-glare Display for Better Visual Experience                                                                                  1\n",
       "31.24 cm (12.3 inch) Touchscreen Display                                                                                                             1\n",
       "43.94 cm (17.3 inch) Display                                                                                                                         1\n",
       "35.56 cm (14 inches) Display                                                                                                                         1\n",
       "38.1 cm (15 inch) Display                                                                                                                            1\n",
       "29.46 cm (11.6 inch) Touchscreen Display                                                                                                             1\n",
       "34.54 cm (13.6 inch) Touchscreen Display                                                                                                             1\n",
       "35.56 cm (14 Inch) Touchscreen Display                                                                                                               1\n",
       "34.29 cm (13.5 inch) Touchscreen Display                                                                                                             1\n",
       "15.6 inches Full HD IPS Thin Bezel Display (60Hz, 45% NTSC Color Gamut)                                                                              1\n",
       "25.4 cm (10 inch) Touchscreen Display                                                                                                                1\n",
       "Name: Display, dtype: int64"
      ]
     },
     "execution_count": 24,
     "metadata": {},
     "output_type": "execute_result"
    }
   ],
   "source": [
    "data[\"Display\"].value_counts()"
   ]
  },
  {
   "cell_type": "code",
   "execution_count": 25,
   "id": "96181e11",
   "metadata": {},
   "outputs": [],
   "source": [
    "data = data[data[\"Display\"]!= \"SHIFT, SteelSeries Engine 3, Matrix Display (Extend), Dragon Center, GamingMode, VR Ready, Cooler Boost 5, Nahimic 3, Nahimic VR, Giant Speaker\"]\n",
    "data = data[data[\"Display\"]!= \"Matrix Display, Dragon Center, Cooler Boost 5, Nahimic 3\"]\n",
    "data = data[data[\"Display\"]!= \"Full HD LED Backlit Anti-glare Display for Better Visual Experience\"]\n",
    "data = data[data[\"Display\"]!= \"Full HD LED Backlit Display\"]\n",
    "data[\"Display\"] = data[\"Display\"].str.split(\" \").str.get(0).astype(float)"
   ]
  },
  {
   "cell_type": "code",
   "execution_count": 26,
   "id": "68be60c1",
   "metadata": {},
   "outputs": [
    {
     "data": {
      "text/html": [
       "<div>\n",
       "<style scoped>\n",
       "    .dataframe tbody tr th:only-of-type {\n",
       "        vertical-align: middle;\n",
       "    }\n",
       "\n",
       "    .dataframe tbody tr th {\n",
       "        vertical-align: top;\n",
       "    }\n",
       "\n",
       "    .dataframe thead th {\n",
       "        text-align: right;\n",
       "    }\n",
       "</style>\n",
       "<table border=\"1\" class=\"dataframe\">\n",
       "  <thead>\n",
       "    <tr style=\"text-align: right;\">\n",
       "      <th></th>\n",
       "      <th>Name</th>\n",
       "      <th>Processor</th>\n",
       "      <th>RAM</th>\n",
       "      <th>Operating System</th>\n",
       "      <th>Storage</th>\n",
       "      <th>Display</th>\n",
       "      <th>Price</th>\n",
       "    </tr>\n",
       "  </thead>\n",
       "  <tbody>\n",
       "    <tr>\n",
       "      <th>0</th>\n",
       "      <td>Lenovo Ideapad S145</td>\n",
       "      <td>Intel Core i5</td>\n",
       "      <td>8</td>\n",
       "      <td>64</td>\n",
       "      <td>1</td>\n",
       "      <td>39.62</td>\n",
       "      <td>₹43,990</td>\n",
       "    </tr>\n",
       "    <tr>\n",
       "      <th>1</th>\n",
       "      <td>Lenovo IdeaPad Core</td>\n",
       "      <td>Intel Core i3</td>\n",
       "      <td>8</td>\n",
       "      <td>64</td>\n",
       "      <td>256</td>\n",
       "      <td>35.56</td>\n",
       "      <td>₹43,990</td>\n",
       "    </tr>\n",
       "    <tr>\n",
       "      <th>2</th>\n",
       "      <td>HP Pentium Quad</td>\n",
       "      <td>Intel Pentium Quad</td>\n",
       "      <td>8</td>\n",
       "      <td>64</td>\n",
       "      <td>256</td>\n",
       "      <td>35.56</td>\n",
       "      <td>₹31,490</td>\n",
       "    </tr>\n",
       "    <tr>\n",
       "      <th>3</th>\n",
       "      <td>HP 14s Core</td>\n",
       "      <td>Intel Core i3</td>\n",
       "      <td>8</td>\n",
       "      <td>64</td>\n",
       "      <td>256</td>\n",
       "      <td>35.56</td>\n",
       "      <td>₹40,990</td>\n",
       "    </tr>\n",
       "    <tr>\n",
       "      <th>5</th>\n",
       "      <td>Lenovo IdeaPad 3</td>\n",
       "      <td>Intel Core i5</td>\n",
       "      <td>8</td>\n",
       "      <td>64</td>\n",
       "      <td>1</td>\n",
       "      <td>39.62</td>\n",
       "      <td>₹42,990</td>\n",
       "    </tr>\n",
       "  </tbody>\n",
       "</table>\n",
       "</div>"
      ],
      "text/plain": [
       "                  Name           Processor  RAM  Operating System  Storage  \\\n",
       "0  Lenovo Ideapad S145       Intel Core i5    8                64        1   \n",
       "1  Lenovo IdeaPad Core       Intel Core i3    8                64      256   \n",
       "2      HP Pentium Quad  Intel Pentium Quad    8                64      256   \n",
       "3          HP 14s Core       Intel Core i3    8                64      256   \n",
       "5     Lenovo IdeaPad 3       Intel Core i5    8                64        1   \n",
       "\n",
       "   Display    Price  \n",
       "0    39.62  ₹43,990  \n",
       "1    35.56  ₹43,990  \n",
       "2    35.56  ₹31,490  \n",
       "3    35.56  ₹40,990  \n",
       "5    39.62  ₹42,990  "
      ]
     },
     "execution_count": 26,
     "metadata": {},
     "output_type": "execute_result"
    }
   ],
   "source": [
    "data.head()"
   ]
  },
  {
   "cell_type": "code",
   "execution_count": 27,
   "id": "433bf0e6",
   "metadata": {},
   "outputs": [],
   "source": [
    "data[\"Price\"] = data[\"Price\"].str.replace(\"₹\",\"\")\n",
    "data[\"Price\"] = data[\"Price\"].str.replace(\",\",\"\").astype(int)"
   ]
  },
  {
   "cell_type": "code",
   "execution_count": 28,
   "id": "c2fd3d6f",
   "metadata": {},
   "outputs": [
    {
     "data": {
      "text/html": [
       "<div>\n",
       "<style scoped>\n",
       "    .dataframe tbody tr th:only-of-type {\n",
       "        vertical-align: middle;\n",
       "    }\n",
       "\n",
       "    .dataframe tbody tr th {\n",
       "        vertical-align: top;\n",
       "    }\n",
       "\n",
       "    .dataframe thead th {\n",
       "        text-align: right;\n",
       "    }\n",
       "</style>\n",
       "<table border=\"1\" class=\"dataframe\">\n",
       "  <thead>\n",
       "    <tr style=\"text-align: right;\">\n",
       "      <th></th>\n",
       "      <th>Name</th>\n",
       "      <th>Processor</th>\n",
       "      <th>RAM</th>\n",
       "      <th>Operating System</th>\n",
       "      <th>Storage</th>\n",
       "      <th>Display</th>\n",
       "      <th>Price</th>\n",
       "    </tr>\n",
       "  </thead>\n",
       "  <tbody>\n",
       "    <tr>\n",
       "      <th>0</th>\n",
       "      <td>Lenovo Ideapad S145</td>\n",
       "      <td>Intel Core i5</td>\n",
       "      <td>8</td>\n",
       "      <td>64</td>\n",
       "      <td>1</td>\n",
       "      <td>39.62</td>\n",
       "      <td>43990</td>\n",
       "    </tr>\n",
       "    <tr>\n",
       "      <th>1</th>\n",
       "      <td>Lenovo IdeaPad Core</td>\n",
       "      <td>Intel Core i3</td>\n",
       "      <td>8</td>\n",
       "      <td>64</td>\n",
       "      <td>256</td>\n",
       "      <td>35.56</td>\n",
       "      <td>43990</td>\n",
       "    </tr>\n",
       "    <tr>\n",
       "      <th>2</th>\n",
       "      <td>HP Pentium Quad</td>\n",
       "      <td>Intel Pentium Quad</td>\n",
       "      <td>8</td>\n",
       "      <td>64</td>\n",
       "      <td>256</td>\n",
       "      <td>35.56</td>\n",
       "      <td>31490</td>\n",
       "    </tr>\n",
       "    <tr>\n",
       "      <th>3</th>\n",
       "      <td>HP 14s Core</td>\n",
       "      <td>Intel Core i3</td>\n",
       "      <td>8</td>\n",
       "      <td>64</td>\n",
       "      <td>256</td>\n",
       "      <td>35.56</td>\n",
       "      <td>40990</td>\n",
       "    </tr>\n",
       "    <tr>\n",
       "      <th>5</th>\n",
       "      <td>Lenovo IdeaPad 3</td>\n",
       "      <td>Intel Core i5</td>\n",
       "      <td>8</td>\n",
       "      <td>64</td>\n",
       "      <td>1</td>\n",
       "      <td>39.62</td>\n",
       "      <td>42990</td>\n",
       "    </tr>\n",
       "  </tbody>\n",
       "</table>\n",
       "</div>"
      ],
      "text/plain": [
       "                  Name           Processor  RAM  Operating System  Storage  \\\n",
       "0  Lenovo Ideapad S145       Intel Core i5    8                64        1   \n",
       "1  Lenovo IdeaPad Core       Intel Core i3    8                64      256   \n",
       "2      HP Pentium Quad  Intel Pentium Quad    8                64      256   \n",
       "3          HP 14s Core       Intel Core i3    8                64      256   \n",
       "5     Lenovo IdeaPad 3       Intel Core i5    8                64        1   \n",
       "\n",
       "   Display  Price  \n",
       "0    39.62  43990  \n",
       "1    35.56  43990  \n",
       "2    35.56  31490  \n",
       "3    35.56  40990  \n",
       "5    39.62  42990  "
      ]
     },
     "execution_count": 28,
     "metadata": {},
     "output_type": "execute_result"
    }
   ],
   "source": [
    "data.head()"
   ]
  },
  {
   "cell_type": "code",
   "execution_count": 29,
   "id": "aa86ec62",
   "metadata": {},
   "outputs": [
    {
     "name": "stdout",
     "output_type": "stream",
     "text": [
      "<class 'pandas.core.frame.DataFrame'>\n",
      "Int64Index: 446 entries, 0 to 549\n",
      "Data columns (total 7 columns):\n",
      " #   Column            Non-Null Count  Dtype  \n",
      "---  ------            --------------  -----  \n",
      " 0   Name              446 non-null    object \n",
      " 1   Processor         446 non-null    object \n",
      " 2   RAM               446 non-null    int32  \n",
      " 3   Operating System  446 non-null    int32  \n",
      " 4   Storage           446 non-null    int32  \n",
      " 5   Display           446 non-null    float64\n",
      " 6   Price             446 non-null    int32  \n",
      "dtypes: float64(1), int32(4), object(2)\n",
      "memory usage: 20.9+ KB\n"
     ]
    }
   ],
   "source": [
    "data.info()"
   ]
  },
  {
   "cell_type": "code",
   "execution_count": 30,
   "id": "ba47cad2",
   "metadata": {},
   "outputs": [
    {
     "data": {
      "text/plain": [
       "Intel Core i5         179\n",
       "Intel Core i7         120\n",
       "Intel Core i3          68\n",
       "AMD Ryzen 5            32\n",
       "AMD Ryzen 7            26\n",
       "AMD Ryzen 3            10\n",
       "Intel Core i9           5\n",
       "AMD Ryzen 9             3\n",
       "Microsoft Core i5       1\n",
       "Intel Pentium Quad      1\n",
       "AMD Dual Core           1\n",
       "Name: Processor, dtype: int64"
      ]
     },
     "execution_count": 30,
     "metadata": {},
     "output_type": "execute_result"
    }
   ],
   "source": [
    "data[\"Processor\"].value_counts()"
   ]
  },
  {
   "cell_type": "code",
   "execution_count": 31,
   "id": "4e1601f8",
   "metadata": {},
   "outputs": [
    {
     "data": {
      "text/html": [
       "<div>\n",
       "<style scoped>\n",
       "    .dataframe tbody tr th:only-of-type {\n",
       "        vertical-align: middle;\n",
       "    }\n",
       "\n",
       "    .dataframe tbody tr th {\n",
       "        vertical-align: top;\n",
       "    }\n",
       "\n",
       "    .dataframe thead th {\n",
       "        text-align: right;\n",
       "    }\n",
       "</style>\n",
       "<table border=\"1\" class=\"dataframe\">\n",
       "  <thead>\n",
       "    <tr style=\"text-align: right;\">\n",
       "      <th></th>\n",
       "      <th>RAM</th>\n",
       "      <th>Operating System</th>\n",
       "      <th>Storage</th>\n",
       "      <th>Display</th>\n",
       "      <th>Price</th>\n",
       "    </tr>\n",
       "  </thead>\n",
       "  <tbody>\n",
       "    <tr>\n",
       "      <th>count</th>\n",
       "      <td>446.000000</td>\n",
       "      <td>446.0</td>\n",
       "      <td>446.000000</td>\n",
       "      <td>446.000000</td>\n",
       "      <td>446.000000</td>\n",
       "    </tr>\n",
       "    <tr>\n",
       "      <th>mean</th>\n",
       "      <td>9.955157</td>\n",
       "      <td>64.0</td>\n",
       "      <td>237.235426</td>\n",
       "      <td>36.979664</td>\n",
       "      <td>77895.495516</td>\n",
       "    </tr>\n",
       "    <tr>\n",
       "      <th>std</th>\n",
       "      <td>4.787414</td>\n",
       "      <td>0.0</td>\n",
       "      <td>236.173076</td>\n",
       "      <td>3.961600</td>\n",
       "      <td>43341.810219</td>\n",
       "    </tr>\n",
       "    <tr>\n",
       "      <th>min</th>\n",
       "      <td>4.000000</td>\n",
       "      <td>64.0</td>\n",
       "      <td>1.000000</td>\n",
       "      <td>15.600000</td>\n",
       "      <td>23480.000000</td>\n",
       "    </tr>\n",
       "    <tr>\n",
       "      <th>25%</th>\n",
       "      <td>8.000000</td>\n",
       "      <td>64.0</td>\n",
       "      <td>1.000000</td>\n",
       "      <td>35.560000</td>\n",
       "      <td>45121.750000</td>\n",
       "    </tr>\n",
       "    <tr>\n",
       "      <th>50%</th>\n",
       "      <td>8.000000</td>\n",
       "      <td>64.0</td>\n",
       "      <td>256.000000</td>\n",
       "      <td>39.620000</td>\n",
       "      <td>64253.500000</td>\n",
       "    </tr>\n",
       "    <tr>\n",
       "      <th>75%</th>\n",
       "      <td>16.000000</td>\n",
       "      <td>64.0</td>\n",
       "      <td>512.000000</td>\n",
       "      <td>39.620000</td>\n",
       "      <td>99867.500000</td>\n",
       "    </tr>\n",
       "    <tr>\n",
       "      <th>max</th>\n",
       "      <td>32.000000</td>\n",
       "      <td>64.0</td>\n",
       "      <td>512.000000</td>\n",
       "      <td>43.940000</td>\n",
       "      <td>338990.000000</td>\n",
       "    </tr>\n",
       "  </tbody>\n",
       "</table>\n",
       "</div>"
      ],
      "text/plain": [
       "              RAM  Operating System     Storage     Display          Price\n",
       "count  446.000000             446.0  446.000000  446.000000     446.000000\n",
       "mean     9.955157              64.0  237.235426   36.979664   77895.495516\n",
       "std      4.787414               0.0  236.173076    3.961600   43341.810219\n",
       "min      4.000000              64.0    1.000000   15.600000   23480.000000\n",
       "25%      8.000000              64.0    1.000000   35.560000   45121.750000\n",
       "50%      8.000000              64.0  256.000000   39.620000   64253.500000\n",
       "75%     16.000000              64.0  512.000000   39.620000   99867.500000\n",
       "max     32.000000              64.0  512.000000   43.940000  338990.000000"
      ]
     },
     "execution_count": 31,
     "metadata": {},
     "output_type": "execute_result"
    }
   ],
   "source": [
    "data.describe()"
   ]
  },
  {
   "cell_type": "code",
   "execution_count": 32,
   "id": "a82a9076",
   "metadata": {},
   "outputs": [
    {
     "data": {
      "text/html": [
       "<div>\n",
       "<style scoped>\n",
       "    .dataframe tbody tr th:only-of-type {\n",
       "        vertical-align: middle;\n",
       "    }\n",
       "\n",
       "    .dataframe tbody tr th {\n",
       "        vertical-align: top;\n",
       "    }\n",
       "\n",
       "    .dataframe thead th {\n",
       "        text-align: right;\n",
       "    }\n",
       "</style>\n",
       "<table border=\"1\" class=\"dataframe\">\n",
       "  <thead>\n",
       "    <tr style=\"text-align: right;\">\n",
       "      <th></th>\n",
       "      <th>Name</th>\n",
       "      <th>Processor</th>\n",
       "      <th>RAM</th>\n",
       "      <th>Operating System</th>\n",
       "      <th>Storage</th>\n",
       "      <th>Display</th>\n",
       "      <th>Price</th>\n",
       "    </tr>\n",
       "  </thead>\n",
       "  <tbody>\n",
       "    <tr>\n",
       "      <th>250</th>\n",
       "      <td>ASUS ZenBook Pro</td>\n",
       "      <td>Intel Core i5</td>\n",
       "      <td>32</td>\n",
       "      <td>64</td>\n",
       "      <td>512</td>\n",
       "      <td>39.62</td>\n",
       "      <td>338990</td>\n",
       "    </tr>\n",
       "  </tbody>\n",
       "</table>\n",
       "</div>"
      ],
      "text/plain": [
       "                 Name      Processor  RAM  Operating System  Storage  Display  \\\n",
       "250  ASUS ZenBook Pro  Intel Core i5   32                64      512    39.62   \n",
       "\n",
       "      Price  \n",
       "250  338990  "
      ]
     },
     "execution_count": 32,
     "metadata": {},
     "output_type": "execute_result"
    }
   ],
   "source": [
    "data[data[\"Price\"]>=338990]"
   ]
  },
  {
   "cell_type": "code",
   "execution_count": 33,
   "id": "bd865cc5",
   "metadata": {},
   "outputs": [],
   "source": [
    "data = data[data[\"Price\"]<338990]"
   ]
  },
  {
   "cell_type": "code",
   "execution_count": 34,
   "id": "a153b04e",
   "metadata": {},
   "outputs": [],
   "source": [
    "data = data.reset_index(drop=True)"
   ]
  },
  {
   "cell_type": "code",
   "execution_count": 35,
   "id": "07a66529",
   "metadata": {},
   "outputs": [
    {
     "data": {
      "text/html": [
       "<div>\n",
       "<style scoped>\n",
       "    .dataframe tbody tr th:only-of-type {\n",
       "        vertical-align: middle;\n",
       "    }\n",
       "\n",
       "    .dataframe tbody tr th {\n",
       "        vertical-align: top;\n",
       "    }\n",
       "\n",
       "    .dataframe thead th {\n",
       "        text-align: right;\n",
       "    }\n",
       "</style>\n",
       "<table border=\"1\" class=\"dataframe\">\n",
       "  <thead>\n",
       "    <tr style=\"text-align: right;\">\n",
       "      <th></th>\n",
       "      <th>Name</th>\n",
       "      <th>Processor</th>\n",
       "      <th>RAM</th>\n",
       "      <th>Operating System</th>\n",
       "      <th>Storage</th>\n",
       "      <th>Display</th>\n",
       "      <th>Price</th>\n",
       "    </tr>\n",
       "  </thead>\n",
       "  <tbody>\n",
       "    <tr>\n",
       "      <th>0</th>\n",
       "      <td>Lenovo Ideapad S145</td>\n",
       "      <td>Intel Core i5</td>\n",
       "      <td>8</td>\n",
       "      <td>64</td>\n",
       "      <td>1</td>\n",
       "      <td>39.62</td>\n",
       "      <td>43990</td>\n",
       "    </tr>\n",
       "    <tr>\n",
       "      <th>1</th>\n",
       "      <td>Lenovo IdeaPad Core</td>\n",
       "      <td>Intel Core i3</td>\n",
       "      <td>8</td>\n",
       "      <td>64</td>\n",
       "      <td>256</td>\n",
       "      <td>35.56</td>\n",
       "      <td>43990</td>\n",
       "    </tr>\n",
       "    <tr>\n",
       "      <th>2</th>\n",
       "      <td>HP Pentium Quad</td>\n",
       "      <td>Intel Pentium Quad</td>\n",
       "      <td>8</td>\n",
       "      <td>64</td>\n",
       "      <td>256</td>\n",
       "      <td>35.56</td>\n",
       "      <td>31490</td>\n",
       "    </tr>\n",
       "    <tr>\n",
       "      <th>3</th>\n",
       "      <td>HP 14s Core</td>\n",
       "      <td>Intel Core i3</td>\n",
       "      <td>8</td>\n",
       "      <td>64</td>\n",
       "      <td>256</td>\n",
       "      <td>35.56</td>\n",
       "      <td>40990</td>\n",
       "    </tr>\n",
       "    <tr>\n",
       "      <th>4</th>\n",
       "      <td>Lenovo IdeaPad 3</td>\n",
       "      <td>Intel Core i5</td>\n",
       "      <td>8</td>\n",
       "      <td>64</td>\n",
       "      <td>1</td>\n",
       "      <td>39.62</td>\n",
       "      <td>42990</td>\n",
       "    </tr>\n",
       "  </tbody>\n",
       "</table>\n",
       "</div>"
      ],
      "text/plain": [
       "                  Name           Processor  RAM  Operating System  Storage  \\\n",
       "0  Lenovo Ideapad S145       Intel Core i5    8                64        1   \n",
       "1  Lenovo IdeaPad Core       Intel Core i3    8                64      256   \n",
       "2      HP Pentium Quad  Intel Pentium Quad    8                64      256   \n",
       "3          HP 14s Core       Intel Core i3    8                64      256   \n",
       "4     Lenovo IdeaPad 3       Intel Core i5    8                64        1   \n",
       "\n",
       "   Display  Price  \n",
       "0    39.62  43990  \n",
       "1    35.56  43990  \n",
       "2    35.56  31490  \n",
       "3    35.56  40990  \n",
       "4    39.62  42990  "
      ]
     },
     "execution_count": 35,
     "metadata": {},
     "output_type": "execute_result"
    }
   ],
   "source": [
    "data.head()"
   ]
  },
  {
   "cell_type": "code",
   "execution_count": 36,
   "id": "3458279b",
   "metadata": {},
   "outputs": [
    {
     "data": {
      "text/plain": [
       "(445, 7)"
      ]
     },
     "execution_count": 36,
     "metadata": {},
     "output_type": "execute_result"
    }
   ],
   "source": [
    "data.shape"
   ]
  },
  {
   "cell_type": "code",
   "execution_count": 37,
   "id": "c4beb750",
   "metadata": {},
   "outputs": [],
   "source": [
    "data.to_csv(\"Cleaned_Laptop_Details\")"
   ]
  },
  {
   "cell_type": "markdown",
   "id": "8c39122b",
   "metadata": {},
   "source": [
    "# MODEL BUILDING"
   ]
  },
  {
   "cell_type": "code",
   "execution_count": 38,
   "id": "e7f45f4f",
   "metadata": {},
   "outputs": [],
   "source": [
    "from sklearn.compose import make_column_transformer\n",
    "from sklearn.preprocessing import OneHotEncoder\n",
    "from sklearn.model_selection import train_test_split\n",
    "from sklearn.linear_model import LinearRegression\n",
    "from sklearn.tree import DecisionTreeRegressor\n",
    "from sklearn.ensemble import RandomForestRegressor, VotingRegressor, StackingRegressor\n",
    "from sklearn.pipeline import make_pipeline\n",
    "from sklearn.metrics import r2_score\n",
    "import pickle"
   ]
  },
  {
   "cell_type": "code",
   "execution_count": 39,
   "id": "76ce4bbe",
   "metadata": {},
   "outputs": [
    {
     "data": {
      "text/plain": [
       "[array(['ALIENWARE Core i7', 'ALIENWARE Core i9', 'APPLE MacBook Pro',\n",
       "        'ASUS ASUS TUF', 'ASUS Celeron Dual', 'ASUS Core i3',\n",
       "        'ASUS Core i5', 'ASUS ExpertBook B9', 'ASUS ExpertBook P1',\n",
       "        'ASUS ExpertBook P2', 'ASUS Pro P5', 'ASUS ROG Flow',\n",
       "        'ASUS ROG Strix', 'ASUS ROG Zephyrus', 'ASUS Ryzen 3',\n",
       "        'ASUS Ryzen 5', 'ASUS Ryzen 7', 'ASUS TUF Dash', 'ASUS TUF Gaming',\n",
       "        'ASUS VivoBook 14', 'ASUS VivoBook 15', 'ASUS VivoBook Core',\n",
       "        'ASUS VivoBook Flip', 'ASUS VivoBook S', 'ASUS VivoBook Ultra',\n",
       "        'ASUS Vivobook 14', 'ASUS Vivobook 15', 'ASUS Vivobook Core',\n",
       "        'ASUS Vivobook Gaming', 'ASUS Vivobook S', 'ASUS Vivobook Ultra',\n",
       "        'ASUS ZenBook 13', 'ASUS ZenBook 14', 'ASUS ZenBook Classic',\n",
       "        'ASUS ZenBook Core', 'ASUS ZenBook Duo', 'ASUS ZenBook Flip',\n",
       "        'ASUS ZenBook Pro', 'ASUS Zephyrus G14', 'ASUS vivobook Flip',\n",
       "        'Avita Liber Core', 'Avita Liber V14', 'DELL 3501 Core',\n",
       "        'DELL Core i3', 'DELL Core i5', 'DELL G3 Core', 'DELL G7 Core',\n",
       "        'DELL GAMING G5', 'DELL INSPIRON Core', 'DELL Inspiron 15',\n",
       "        'DELL Inspiron 3505', 'DELL Inspiron 7000', 'DELL Inspiron Core',\n",
       "        'DELL Latitude 3400', 'DELL Latitude 5300', 'DELL VOSTRO 5401',\n",
       "        'DELL Vostro Core', 'DELL XPS 13', 'DELL XPS 7390',\n",
       "        'HP 12b Celeron', 'HP 14a Celeron', 'HP 14s Core', 'HP 14s Ryzen',\n",
       "        'HP 15s Core', 'HP 15s Dual', 'HP 15s Ryzen', 'HP 250 G7',\n",
       "        'HP Core i3', 'HP Core i5', 'HP Envy Core', 'HP Envy x360',\n",
       "        'HP Omen Core', 'HP Pavilion 13', 'HP Pavilion Core',\n",
       "        'HP Pavilion Gaming', 'HP Pavilion Laptop', 'HP Pavilion x360',\n",
       "        'HP Pentium Quad', 'HP Ryzen 5', 'HP Spectre x360', 'LG Gram 14',\n",
       "        'LG Gram 15', 'LG Gram Core', 'Lenovo APU Dual',\n",
       "        'Lenovo Celeron Dual', 'Lenovo Core i3', 'Lenovo Core i5',\n",
       "        'Lenovo Core i9', 'Lenovo IdeaPad 3', 'Lenovo IdeaPad 5',\n",
       "        'Lenovo IdeaPad Core', 'Lenovo IdeaPad Flex',\n",
       "        'Lenovo IdeaPad Gaming', 'Lenovo IdeaPad Ryzen',\n",
       "        'Lenovo Ideapad 130', 'Lenovo Ideapad 3', 'Lenovo Ideapad 5',\n",
       "        'Lenovo Ideapad 720S', 'Lenovo Ideapad Flex',\n",
       "        'Lenovo Ideapad Gaming', 'Lenovo Ideapad S145',\n",
       "        'Lenovo Ideapad Slim', 'Lenovo Legion 7i', 'Lenovo Legion Core',\n",
       "        'Lenovo Legion Y540', 'Lenovo ThinkPad Core',\n",
       "        'Lenovo ThinkPad E14', 'Lenovo ThinkPad E15',\n",
       "        'Lenovo Thinkpad E14', 'Lenovo X390 Core', 'Lenovo Yoga C640',\n",
       "        'Lenovo Yoga S7', 'Lenovo Yoga Slim', 'MICROSOFT Surface Go',\n",
       "        'MICROSOFT Surface Laptop', 'MICROSOFT Surface Pro',\n",
       "        'MSI Bravo 15', 'MSI Core i7', 'MSI Creator 17', 'MSI GF63 Thin',\n",
       "        'MSI GF65 Thin', 'MSI GL Core', 'MSI GL65 Leopard',\n",
       "        'MSI GP65 Leopard', 'MSI GP66 Leopard', 'MSI GS Core',\n",
       "        'MSI Modern 14', 'MSI Prestige 14', 'MSI Prestige 15',\n",
       "        'MSI Summit E15', 'Nexstgo Core i5', 'Nokia PureBook X14',\n",
       "        'Vaio E Series', 'Vaio SE Series', 'acer Aspire 3',\n",
       "        'acer Aspire 5', 'acer Aspire 7', 'acer ConceptD 5',\n",
       "        'acer NITRO 5', 'acer P2 Series', 'acer Predator Core',\n",
       "        'acer Predator Helios', 'acer Spin 7', 'acer Swift 3',\n",
       "        'acer Swift 5'], dtype=object),\n",
       " array(['AMD Dual Core', 'AMD Ryzen 3', 'AMD Ryzen 5', 'AMD Ryzen 7',\n",
       "        'AMD Ryzen 9', 'Intel Core i3', 'Intel Core i5', 'Intel Core i7',\n",
       "        'Intel Core i9', 'Intel Pentium Quad', 'Microsoft Core i5'],\n",
       "       dtype=object)]"
      ]
     },
     "execution_count": 39,
     "metadata": {},
     "output_type": "execute_result"
    }
   ],
   "source": [
    "ohe = OneHotEncoder()\n",
    "ohe.fit(data[[\"Name\",\"Processor\"]])\n",
    "ohe.categories_"
   ]
  },
  {
   "cell_type": "code",
   "execution_count": 40,
   "id": "a04642fc",
   "metadata": {},
   "outputs": [],
   "source": [
    "clmn_tfr = make_column_transformer(\n",
    "    (OneHotEncoder(categories=ohe.categories_), [\"Name\",\"Processor\"]),\n",
    "    remainder=\"passthrough\")"
   ]
  },
  {
   "cell_type": "code",
   "execution_count": 41,
   "id": "c67d39c4",
   "metadata": {},
   "outputs": [],
   "source": [
    "x = data.drop(columns=\"Price\")\n",
    "y = data[\"Price\"]"
   ]
  },
  {
   "cell_type": "code",
   "execution_count": 42,
   "id": "94bd097b",
   "metadata": {},
   "outputs": [
    {
     "name": "stdout",
     "output_type": "stream",
     "text": [
      "i=  523\n",
      "0.8176539609397577\n"
     ]
    }
   ],
   "source": [
    "score = []\n",
    "for i in range(1001):\n",
    "    x_train, x_test, y_train, y_test = train_test_split(x,y, test_size=0.2, random_state=i)\n",
    "    lr = LinearRegression()\n",
    "    pipe = make_pipeline(clmn_tfr,lr)\n",
    "    pipe.fit(x_train,y_train)\n",
    "    pred = pipe.predict(x_test)\n",
    "    score.append(r2_score(y_test,pred))\n",
    "print(\"i= \",np.argmax(score))\n",
    "print(score[np.argmax(score)])"
   ]
  },
  {
   "cell_type": "code",
   "execution_count": 43,
   "id": "607fb60a",
   "metadata": {},
   "outputs": [
    {
     "name": "stdout",
     "output_type": "stream",
     "text": [
      "i=  640\n",
      "0.6752363454061003\n"
     ]
    }
   ],
   "source": [
    "score = []\n",
    "for i in range(1001):\n",
    "    x_train, x_test, y_train, y_test = train_test_split(x,y, test_size=0.2, random_state=i)\n",
    "    dt = DecisionTreeRegressor()\n",
    "    pipe = make_pipeline(clmn_tfr,dt)\n",
    "    pipe.fit(x_train,y_train)\n",
    "    pred = pipe.predict(x_test)\n",
    "    score.append(r2_score(y_test,pred))\n",
    "print(\"i= \",np.argmax(score))\n",
    "print(score[np.argmax(score)])"
   ]
  },
  {
   "cell_type": "code",
   "execution_count": 44,
   "id": "3ab50ec7",
   "metadata": {},
   "outputs": [
    {
     "name": "stdout",
     "output_type": "stream",
     "text": [
      "i=  178\n",
      "0.6796626629644518\n"
     ]
    }
   ],
   "source": [
    "score = []\n",
    "for i in range(1001):\n",
    "    x_train, x_test, y_train, y_test = train_test_split(x,y, test_size=0.2, random_state=i)\n",
    "    rf = RandomForestRegressor()\n",
    "    pipe = make_pipeline(clmn_tfr,rf)\n",
    "    pipe.fit(x_train,y_train)\n",
    "    pred = pipe.predict(x_test)\n",
    "    score.append(r2_score(y_test,pred))\n",
    "print(\"i= \",np.argmax(score))\n",
    "print(score[np.argmax(score)])"
   ]
  },
  {
   "cell_type": "code",
   "execution_count": 48,
   "id": "f58ce98f",
   "metadata": {},
   "outputs": [
    {
     "data": {
      "text/plain": [
       "81.76539609397577"
      ]
     },
     "execution_count": 48,
     "metadata": {},
     "output_type": "execute_result"
    }
   ],
   "source": [
    "x_train, x_test, y_train, y_test = train_test_split(x,y, test_size=0.2, random_state=523)\n",
    "lr = LinearRegression()\n",
    "pipe = make_pipeline(clmn_tfr,lr)\n",
    "pipe.fit(x_train,y_train)\n",
    "pred = pipe.predict(x_test)\n",
    "r2_score(y_test,pred)*100"
   ]
  },
  {
   "cell_type": "code",
   "execution_count": 46,
   "id": "7d94e1ad",
   "metadata": {},
   "outputs": [],
   "source": [
    "pickle.dump(pipe,open(\"Laptop_Price_Prediction.pkl\",\"wb\"))"
   ]
  },
  {
   "cell_type": "code",
   "execution_count": 47,
   "id": "7eba3006",
   "metadata": {},
   "outputs": [
    {
     "data": {
      "text/plain": [
       "array([53194.9970803])"
      ]
     },
     "execution_count": 47,
     "metadata": {},
     "output_type": "execute_result"
    }
   ],
   "source": [
    "#Eg\n",
    "pipe.predict(pd.DataFrame([[\"acer Aspire 5\",\"Intel Core i3\",4,32,1,25]], columns=[\"Name\",\"Processor\",\"RAM\",\"Operating System\",\"Storage\",\"Display\"]))"
   ]
  },
  {
   "cell_type": "code",
   "execution_count": null,
   "id": "43204c44",
   "metadata": {},
   "outputs": [],
   "source": []
  }
 ],
 "metadata": {
  "kernelspec": {
   "display_name": "Python 3 (ipykernel)",
   "language": "python",
   "name": "python3"
  },
  "language_info": {
   "codemirror_mode": {
    "name": "ipython",
    "version": 3
   },
   "file_extension": ".py",
   "mimetype": "text/x-python",
   "name": "python",
   "nbconvert_exporter": "python",
   "pygments_lexer": "ipython3",
   "version": "3.9.12"
  }
 },
 "nbformat": 4,
 "nbformat_minor": 5
}
