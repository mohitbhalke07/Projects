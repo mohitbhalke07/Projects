{
 "cells": [
  {
   "cell_type": "code",
   "execution_count": 1,
   "id": "3ebf5161",
   "metadata": {},
   "outputs": [],
   "source": [
    "import pandas as pd\n",
    "import numpy as np"
   ]
  },
  {
   "cell_type": "code",
   "execution_count": 2,
   "id": "6ba25cc2",
   "metadata": {},
   "outputs": [],
   "source": [
    "data = pd.read_csv(\"Car1.csv\")"
   ]
  },
  {
   "cell_type": "code",
   "execution_count": 3,
   "id": "5718c056",
   "metadata": {},
   "outputs": [
    {
     "data": {
      "text/html": [
       "<div>\n",
       "<style scoped>\n",
       "    .dataframe tbody tr th:only-of-type {\n",
       "        vertical-align: middle;\n",
       "    }\n",
       "\n",
       "    .dataframe tbody tr th {\n",
       "        vertical-align: top;\n",
       "    }\n",
       "\n",
       "    .dataframe thead th {\n",
       "        text-align: right;\n",
       "    }\n",
       "</style>\n",
       "<table border=\"1\" class=\"dataframe\">\n",
       "  <thead>\n",
       "    <tr style=\"text-align: right;\">\n",
       "      <th></th>\n",
       "      <th>Name</th>\n",
       "      <th>Year</th>\n",
       "      <th>Kilometers_Driven</th>\n",
       "      <th>Fuel_Type</th>\n",
       "      <th>Transmission</th>\n",
       "      <th>Owner_Type</th>\n",
       "      <th>Mileage</th>\n",
       "      <th>Engine</th>\n",
       "      <th>Power</th>\n",
       "      <th>Seats</th>\n",
       "      <th>Price</th>\n",
       "    </tr>\n",
       "  </thead>\n",
       "  <tbody>\n",
       "    <tr>\n",
       "      <th>0</th>\n",
       "      <td>Maruti Wagon R LXI CNG</td>\n",
       "      <td>2010</td>\n",
       "      <td>72000</td>\n",
       "      <td>CNG</td>\n",
       "      <td>Manual</td>\n",
       "      <td>First</td>\n",
       "      <td>26.6 km/kg</td>\n",
       "      <td>998 CC</td>\n",
       "      <td>58.16 bhp</td>\n",
       "      <td>5.0</td>\n",
       "      <td>1.75</td>\n",
       "    </tr>\n",
       "    <tr>\n",
       "      <th>1</th>\n",
       "      <td>Hyundai Creta 1.6 CRDi SX Option</td>\n",
       "      <td>2015</td>\n",
       "      <td>41000</td>\n",
       "      <td>Diesel</td>\n",
       "      <td>Manual</td>\n",
       "      <td>First</td>\n",
       "      <td>19.67 kmpl</td>\n",
       "      <td>1582 CC</td>\n",
       "      <td>126.2 bhp</td>\n",
       "      <td>5.0</td>\n",
       "      <td>12.50</td>\n",
       "    </tr>\n",
       "    <tr>\n",
       "      <th>2</th>\n",
       "      <td>Honda Jazz V</td>\n",
       "      <td>2011</td>\n",
       "      <td>46000</td>\n",
       "      <td>Petrol</td>\n",
       "      <td>Manual</td>\n",
       "      <td>First</td>\n",
       "      <td>18.2 kmpl</td>\n",
       "      <td>1199 CC</td>\n",
       "      <td>88.7 bhp</td>\n",
       "      <td>5.0</td>\n",
       "      <td>4.50</td>\n",
       "    </tr>\n",
       "    <tr>\n",
       "      <th>3</th>\n",
       "      <td>Maruti Ertiga VDI</td>\n",
       "      <td>2012</td>\n",
       "      <td>87000</td>\n",
       "      <td>Diesel</td>\n",
       "      <td>Manual</td>\n",
       "      <td>First</td>\n",
       "      <td>20.77 kmpl</td>\n",
       "      <td>1248 CC</td>\n",
       "      <td>88.76 bhp</td>\n",
       "      <td>7.0</td>\n",
       "      <td>6.00</td>\n",
       "    </tr>\n",
       "    <tr>\n",
       "      <th>4</th>\n",
       "      <td>Audi A4 New 2.0 TDI Multitronic</td>\n",
       "      <td>2013</td>\n",
       "      <td>40670</td>\n",
       "      <td>Diesel</td>\n",
       "      <td>Automatic</td>\n",
       "      <td>Second</td>\n",
       "      <td>15.2 kmpl</td>\n",
       "      <td>1968 CC</td>\n",
       "      <td>140.8 bhp</td>\n",
       "      <td>5.0</td>\n",
       "      <td>17.74</td>\n",
       "    </tr>\n",
       "  </tbody>\n",
       "</table>\n",
       "</div>"
      ],
      "text/plain": [
       "                               Name  Year  Kilometers_Driven Fuel_Type  \\\n",
       "0            Maruti Wagon R LXI CNG  2010              72000       CNG   \n",
       "1  Hyundai Creta 1.6 CRDi SX Option  2015              41000    Diesel   \n",
       "2                      Honda Jazz V  2011              46000    Petrol   \n",
       "3                 Maruti Ertiga VDI  2012              87000    Diesel   \n",
       "4   Audi A4 New 2.0 TDI Multitronic  2013              40670    Diesel   \n",
       "\n",
       "  Transmission Owner_Type     Mileage   Engine      Power  Seats  Price  \n",
       "0       Manual      First  26.6 km/kg   998 CC  58.16 bhp    5.0   1.75  \n",
       "1       Manual      First  19.67 kmpl  1582 CC  126.2 bhp    5.0  12.50  \n",
       "2       Manual      First   18.2 kmpl  1199 CC   88.7 bhp    5.0   4.50  \n",
       "3       Manual      First  20.77 kmpl  1248 CC  88.76 bhp    7.0   6.00  \n",
       "4    Automatic     Second   15.2 kmpl  1968 CC  140.8 bhp    5.0  17.74  "
      ]
     },
     "execution_count": 3,
     "metadata": {},
     "output_type": "execute_result"
    }
   ],
   "source": [
    "data = data.drop(columns=[\"Unnamed: 0\", \"Location\", \"New_Price\"])\n",
    "data.head()"
   ]
  },
  {
   "cell_type": "code",
   "execution_count": 4,
   "id": "da246907",
   "metadata": {},
   "outputs": [
    {
     "data": {
      "text/plain": [
       "(6019, 11)"
      ]
     },
     "execution_count": 4,
     "metadata": {},
     "output_type": "execute_result"
    }
   ],
   "source": [
    "data.shape"
   ]
  },
  {
   "cell_type": "code",
   "execution_count": 5,
   "id": "9adff886",
   "metadata": {},
   "outputs": [
    {
     "data": {
      "text/plain": [
       "Name                 0.000000\n",
       "Year                 0.000000\n",
       "Kilometers_Driven    0.000000\n",
       "Fuel_Type            0.000000\n",
       "Transmission         0.000000\n",
       "Owner_Type           0.000000\n",
       "Mileage              0.033228\n",
       "Engine               0.598106\n",
       "Power                0.598106\n",
       "Seats                0.697790\n",
       "Price                0.000000\n",
       "dtype: float64"
      ]
     },
     "execution_count": 5,
     "metadata": {},
     "output_type": "execute_result"
    }
   ],
   "source": [
    "data.isnull().mean()*100"
   ]
  },
  {
   "cell_type": "code",
   "execution_count": 6,
   "id": "81959d3b",
   "metadata": {},
   "outputs": [],
   "source": [
    "data.dropna(inplace=True)"
   ]
  },
  {
   "cell_type": "code",
   "execution_count": 7,
   "id": "2a20fc76",
   "metadata": {},
   "outputs": [
    {
     "data": {
      "text/plain": [
       "(5975, 11)"
      ]
     },
     "execution_count": 7,
     "metadata": {},
     "output_type": "execute_result"
    }
   ],
   "source": [
    "data.shape"
   ]
  },
  {
   "cell_type": "code",
   "execution_count": 8,
   "id": "5065d602",
   "metadata": {},
   "outputs": [
    {
     "name": "stdout",
     "output_type": "stream",
     "text": [
      "<class 'pandas.core.frame.DataFrame'>\n",
      "Int64Index: 5975 entries, 0 to 6018\n",
      "Data columns (total 11 columns):\n",
      " #   Column             Non-Null Count  Dtype  \n",
      "---  ------             --------------  -----  \n",
      " 0   Name               5975 non-null   object \n",
      " 1   Year               5975 non-null   int64  \n",
      " 2   Kilometers_Driven  5975 non-null   int64  \n",
      " 3   Fuel_Type          5975 non-null   object \n",
      " 4   Transmission       5975 non-null   object \n",
      " 5   Owner_Type         5975 non-null   object \n",
      " 6   Mileage            5975 non-null   object \n",
      " 7   Engine             5975 non-null   object \n",
      " 8   Power              5975 non-null   object \n",
      " 9   Seats              5975 non-null   float64\n",
      " 10  Price              5975 non-null   float64\n",
      "dtypes: float64(2), int64(2), object(7)\n",
      "memory usage: 560.2+ KB\n"
     ]
    }
   ],
   "source": [
    "data.info()"
   ]
  },
  {
   "cell_type": "code",
   "execution_count": 9,
   "id": "0a259f86",
   "metadata": {},
   "outputs": [
    {
     "data": {
      "text/html": [
       "<div>\n",
       "<style scoped>\n",
       "    .dataframe tbody tr th:only-of-type {\n",
       "        vertical-align: middle;\n",
       "    }\n",
       "\n",
       "    .dataframe tbody tr th {\n",
       "        vertical-align: top;\n",
       "    }\n",
       "\n",
       "    .dataframe thead th {\n",
       "        text-align: right;\n",
       "    }\n",
       "</style>\n",
       "<table border=\"1\" class=\"dataframe\">\n",
       "  <thead>\n",
       "    <tr style=\"text-align: right;\">\n",
       "      <th></th>\n",
       "      <th>Name</th>\n",
       "      <th>Year</th>\n",
       "      <th>Kilometers_Driven</th>\n",
       "      <th>Fuel_Type</th>\n",
       "      <th>Transmission</th>\n",
       "      <th>Owner_Type</th>\n",
       "      <th>Mileage</th>\n",
       "      <th>Engine</th>\n",
       "      <th>Power</th>\n",
       "      <th>Seats</th>\n",
       "      <th>Price</th>\n",
       "    </tr>\n",
       "  </thead>\n",
       "  <tbody>\n",
       "    <tr>\n",
       "      <th>0</th>\n",
       "      <td>Maruti Wagon R LXI CNG</td>\n",
       "      <td>2010</td>\n",
       "      <td>72000</td>\n",
       "      <td>CNG</td>\n",
       "      <td>Manual</td>\n",
       "      <td>First</td>\n",
       "      <td>26.6 km/kg</td>\n",
       "      <td>998 CC</td>\n",
       "      <td>58.16 bhp</td>\n",
       "      <td>5.0</td>\n",
       "      <td>1.75</td>\n",
       "    </tr>\n",
       "    <tr>\n",
       "      <th>1</th>\n",
       "      <td>Hyundai Creta 1.6 CRDi SX Option</td>\n",
       "      <td>2015</td>\n",
       "      <td>41000</td>\n",
       "      <td>Diesel</td>\n",
       "      <td>Manual</td>\n",
       "      <td>First</td>\n",
       "      <td>19.67 kmpl</td>\n",
       "      <td>1582 CC</td>\n",
       "      <td>126.2 bhp</td>\n",
       "      <td>5.0</td>\n",
       "      <td>12.50</td>\n",
       "    </tr>\n",
       "    <tr>\n",
       "      <th>2</th>\n",
       "      <td>Honda Jazz V</td>\n",
       "      <td>2011</td>\n",
       "      <td>46000</td>\n",
       "      <td>Petrol</td>\n",
       "      <td>Manual</td>\n",
       "      <td>First</td>\n",
       "      <td>18.2 kmpl</td>\n",
       "      <td>1199 CC</td>\n",
       "      <td>88.7 bhp</td>\n",
       "      <td>5.0</td>\n",
       "      <td>4.50</td>\n",
       "    </tr>\n",
       "    <tr>\n",
       "      <th>3</th>\n",
       "      <td>Maruti Ertiga VDI</td>\n",
       "      <td>2012</td>\n",
       "      <td>87000</td>\n",
       "      <td>Diesel</td>\n",
       "      <td>Manual</td>\n",
       "      <td>First</td>\n",
       "      <td>20.77 kmpl</td>\n",
       "      <td>1248 CC</td>\n",
       "      <td>88.76 bhp</td>\n",
       "      <td>7.0</td>\n",
       "      <td>6.00</td>\n",
       "    </tr>\n",
       "    <tr>\n",
       "      <th>4</th>\n",
       "      <td>Audi A4 New 2.0 TDI Multitronic</td>\n",
       "      <td>2013</td>\n",
       "      <td>40670</td>\n",
       "      <td>Diesel</td>\n",
       "      <td>Automatic</td>\n",
       "      <td>Second</td>\n",
       "      <td>15.2 kmpl</td>\n",
       "      <td>1968 CC</td>\n",
       "      <td>140.8 bhp</td>\n",
       "      <td>5.0</td>\n",
       "      <td>17.74</td>\n",
       "    </tr>\n",
       "  </tbody>\n",
       "</table>\n",
       "</div>"
      ],
      "text/plain": [
       "                               Name  Year  Kilometers_Driven Fuel_Type  \\\n",
       "0            Maruti Wagon R LXI CNG  2010              72000       CNG   \n",
       "1  Hyundai Creta 1.6 CRDi SX Option  2015              41000    Diesel   \n",
       "2                      Honda Jazz V  2011              46000    Petrol   \n",
       "3                 Maruti Ertiga VDI  2012              87000    Diesel   \n",
       "4   Audi A4 New 2.0 TDI Multitronic  2013              40670    Diesel   \n",
       "\n",
       "  Transmission Owner_Type     Mileage   Engine      Power  Seats  Price  \n",
       "0       Manual      First  26.6 km/kg   998 CC  58.16 bhp    5.0   1.75  \n",
       "1       Manual      First  19.67 kmpl  1582 CC  126.2 bhp    5.0  12.50  \n",
       "2       Manual      First   18.2 kmpl  1199 CC   88.7 bhp    5.0   4.50  \n",
       "3       Manual      First  20.77 kmpl  1248 CC  88.76 bhp    7.0   6.00  \n",
       "4    Automatic     Second   15.2 kmpl  1968 CC  140.8 bhp    5.0  17.74  "
      ]
     },
     "execution_count": 9,
     "metadata": {},
     "output_type": "execute_result"
    }
   ],
   "source": [
    "data.head()"
   ]
  },
  {
   "cell_type": "markdown",
   "id": "a6121274",
   "metadata": {},
   "source": [
    "# DATA PREPROCESSING"
   ]
  },
  {
   "cell_type": "code",
   "execution_count": 10,
   "id": "a8120f61",
   "metadata": {},
   "outputs": [
    {
     "data": {
      "text/plain": [
       "Mahindra XUV500 W8 2WD                      49\n",
       "Maruti Swift VDI                            45\n",
       "Maruti Swift Dzire VDI                      34\n",
       "Honda City 1.5 S MT                         34\n",
       "Maruti Swift VDI BSIV                       31\n",
       "                                            ..\n",
       "Mahindra Scorpio LX BS IV                    1\n",
       "Skoda Rapid Ultima 1.6 MPI Ambition Plus     1\n",
       "BMW 3 Series 330 Ci Convertible              1\n",
       "Datsun redi-GO T                             1\n",
       "Skoda Fabia 1.4 MPI Ambiente                 1\n",
       "Name: Name, Length: 1855, dtype: int64"
      ]
     },
     "execution_count": 10,
     "metadata": {},
     "output_type": "execute_result"
    }
   ],
   "source": [
    "data[\"Name\"].value_counts()"
   ]
  },
  {
   "cell_type": "code",
   "execution_count": 11,
   "id": "76250c7b",
   "metadata": {},
   "outputs": [],
   "source": [
    "data[\"Name\"] = data[\"Name\"].str.split(\" \").str.slice(0,2).str.join(\" \")"
   ]
  },
  {
   "cell_type": "code",
   "execution_count": 12,
   "id": "00e5eac8",
   "metadata": {},
   "outputs": [
    {
     "data": {
      "text/plain": [
       "Diesel    3195\n",
       "Petrol    2714\n",
       "CNG         56\n",
       "LPG         10\n",
       "Name: Fuel_Type, dtype: int64"
      ]
     },
     "execution_count": 12,
     "metadata": {},
     "output_type": "execute_result"
    }
   ],
   "source": [
    "data[\"Fuel_Type\"].value_counts()"
   ]
  },
  {
   "cell_type": "code",
   "execution_count": 13,
   "id": "12096a17",
   "metadata": {},
   "outputs": [
    {
     "data": {
      "text/plain": [
       "Manual       4266\n",
       "Automatic    1709\n",
       "Name: Transmission, dtype: int64"
      ]
     },
     "execution_count": 13,
     "metadata": {},
     "output_type": "execute_result"
    }
   ],
   "source": [
    "data[\"Transmission\"].value_counts()"
   ]
  },
  {
   "cell_type": "code",
   "execution_count": 14,
   "id": "53e9f21e",
   "metadata": {},
   "outputs": [
    {
     "data": {
      "text/plain": [
       "array(['First', 'Second', 'Fourth & Above', 'Third'], dtype=object)"
      ]
     },
     "execution_count": 14,
     "metadata": {},
     "output_type": "execute_result"
    }
   ],
   "source": [
    "data[\"Owner_Type\"].unique()"
   ]
  },
  {
   "cell_type": "code",
   "execution_count": 15,
   "id": "2fe388e6",
   "metadata": {},
   "outputs": [],
   "source": [
    "data = data[data[\"Owner_Type\"] != \"Fourth & Above\"]"
   ]
  },
  {
   "cell_type": "code",
   "execution_count": 16,
   "id": "af33a681",
   "metadata": {},
   "outputs": [
    {
     "data": {
      "text/plain": [
       "(5967, 11)"
      ]
     },
     "execution_count": 16,
     "metadata": {},
     "output_type": "execute_result"
    }
   ],
   "source": [
    "data.shape"
   ]
  },
  {
   "cell_type": "code",
   "execution_count": 17,
   "id": "7e68ddea",
   "metadata": {
    "scrolled": true
   },
   "outputs": [
    {
     "data": {
      "text/plain": [
       "array(['26.6 km/kg', '19.67 kmpl', '18.2 kmpl', '20.77 kmpl', '15.2 kmpl',\n",
       "       '21.1 km/kg', '23.08 kmpl', '11.36 kmpl', '20.54 kmpl',\n",
       "       '22.3 kmpl', '21.56 kmpl', '16.8 kmpl', '25.2 kmpl', '12.7 kmpl',\n",
       "       '0.0 kmpl', '13.5 kmpl', '25.8 kmpl', '28.4 kmpl', '20.45 kmpl',\n",
       "       '14.84 kmpl', '22.69 kmpl', '23.65 kmpl', '13.53 kmpl',\n",
       "       '18.5 kmpl', '14.4 kmpl', '20.92 kmpl', '17.5 kmpl', '19.01 kmpl',\n",
       "       '14.53 kmpl', '11.18 kmpl', '12.4 kmpl', '16.09 kmpl', '14.0 kmpl',\n",
       "       '24.3 kmpl', '18.15 kmpl', '11.74 kmpl', '22.07 kmpl', '19.7 kmpl',\n",
       "       '25.4 kmpl', '25.32 kmpl', '14.62 kmpl', '14.28 kmpl', '14.9 kmpl',\n",
       "       '11.25 kmpl', '24.4 kmpl', '16.55 kmpl', '17.11 kmpl', '22.9 kmpl',\n",
       "       '17.8 kmpl', '18.9 kmpl', '15.04 kmpl', '25.17 kmpl', '20.36 kmpl',\n",
       "       '13.29 kmpl', '13.68 kmpl', '20.0 kmpl', '15.8 kmpl', '25.0 kmpl',\n",
       "       '16.4 kmpl', '24.52 kmpl', '22.1 kmpl', '8.5 kmpl', '15.1 kmpl',\n",
       "       '16.95 kmpl', '19.64 kmpl', '16.5 kmpl', '18.53 kmpl', '12.8 kmpl',\n",
       "       '17.57 kmpl', '18.0 kmpl', '23.2 kmpl', '16.73 kmpl', '17.0 kmpl',\n",
       "       '13.0 kmpl', '17.68 kmpl', '22.7 kmpl', '16.2 kmpl', '15.26 kmpl',\n",
       "       '23.0 kmpl', '19.83 kmpl', '14.94 kmpl', '17.71 kmpl',\n",
       "       '14.74 kmpl', '16.0 kmpl', '22.32 kmpl', '12.99 kmpl', '23.3 kmpl',\n",
       "       '19.15 kmpl', '10.8 kmpl', '15.0 kmpl', '22.0 kmpl', '21.9 kmpl',\n",
       "       '12.05 kmpl', '11.7 kmpl', '21.21 kmpl', '20.73 kmpl', '21.1 kmpl',\n",
       "       '24.07 kmpl', '19.0 kmpl', '20.58 kmpl', '19.27 kmpl', '11.5 kmpl',\n",
       "       '18.6 kmpl', '21.14 kmpl', '11.05 kmpl', '21.76 kmpl', '7.81 kmpl',\n",
       "       '21.66 kmpl', '17.2 kmpl', '20.63 kmpl', '19.4 kmpl', '14.8 kmpl',\n",
       "       '26.0 kmpl', '20.4 kmpl', '21.5 kmpl', '15.3 kmpl', '17.9 kmpl',\n",
       "       '16.6 kmpl', '22.54 kmpl', '25.44 kmpl', '13.7 kmpl', '22.48 kmpl',\n",
       "       '12.9 kmpl', '19.98 kmpl', '21.4 kmpl', '19.81 kmpl', '15.4 kmpl',\n",
       "       '25.47 kmpl', '19.87 kmpl', '17.45 kmpl', '14.7 kmpl',\n",
       "       '15.64 kmpl', '15.73 kmpl', '23.59 kmpl', '27.4 kmpl',\n",
       "       '20.46 kmpl', '15.29 kmpl', '20.51 kmpl', '11.8 kmpl', '14.3 kmpl',\n",
       "       '14.67 kmpl', '17.19 kmpl', '21.03 kmpl', '22.5 kmpl',\n",
       "       '16.82 kmpl', '11.72 kmpl', '17.4 kmpl', '17.05 kmpl', '24.0 kmpl',\n",
       "       '28.09 kmpl', '20.5 kmpl', '13.1 kmpl', '19.91 kmpl', '18.7 kmpl',\n",
       "       '16.38 kmpl', '11.57 kmpl', '17.3 kmpl', '22.95 kmpl',\n",
       "       '18.88 kmpl', '23.4 kmpl', '22.74 kmpl', '12.07 kmpl', '17.1 kmpl',\n",
       "       '18.48 kmpl', '16.47 kmpl', '23.1 kmpl', '14.07 kmpl',\n",
       "       '16.02 kmpl', '19.3 kmpl', '17.7 kmpl', '9.52 kmpl', '14.75 kmpl',\n",
       "       '26.3 km/kg', '11.3 kmpl', '21.12 kmpl', '21.02 kmpl',\n",
       "       '14.45 kmpl', '19.33 kmpl', '13.8 kmpl', '24.7 kmpl', '11.0 kmpl',\n",
       "       '11.07 kmpl', '16.1 kmpl', '21.43 kmpl', '14.21 kmpl',\n",
       "       '18.86 kmpl', '16.07 kmpl', '13.49 kmpl', '20.38 kmpl',\n",
       "       '12.0 kmpl', '17.01 kmpl', '13.2 kmpl', '20.37 kmpl', '15.1 km/kg',\n",
       "       '15.96 kmpl', '14.16 kmpl', '13.17 kmpl', '27.62 kmpl',\n",
       "       '25.1 kmpl', '15.17 kmpl', '11.33 kmpl', '17.92 kmpl',\n",
       "       '12.55 kmpl', '12.6 kmpl', '17.72 kmpl', '18.16 kmpl',\n",
       "       '15.68 kmpl', '15.5 kmpl', '12.1 kmpl', '14.83 kmpl', '17.6 kmpl',\n",
       "       '14.6 kmpl', '14.66 kmpl', '10.93 kmpl', '20.68 kmpl', '9.9 kmpl',\n",
       "       '21.13 kmpl', '20.14 kmpl', '19.2 kmpl', '27.3 kmpl', '16.36 kmpl',\n",
       "       '26.59 kmpl', '12.5 kmpl', '13.6 kmpl', '15.06 kmpl', '10.13 kmpl',\n",
       "       '17.21 kmpl', '15.97 kmpl', '10.5 kmpl', '14.69 kmpl', '23.9 kmpl',\n",
       "       '19.1 kmpl', '21.27 kmpl', '15.9 kmpl', '20.7 kmpl', '14.1 kmpl',\n",
       "       '20.89 kmpl', '18.12 kmpl', '12.3 kmpl', '19.71 kmpl', '9.43 kmpl',\n",
       "       '13.4 kmpl', '13.14 kmpl', '18.1 kmpl', '22.77 kmpl', '14.49 kmpl',\n",
       "       '12.39 kmpl', '10.91 kmpl', '20.85 kmpl', '15.63 kmpl',\n",
       "       '27.39 kmpl', '18.3 kmpl', '16.78 kmpl', '25.5 kmpl', '10.0 kmpl',\n",
       "       '13.73 kmpl', '24.2 kmpl', '14.02 kmpl', '26.83 km/kg',\n",
       "       '16.77 kmpl', '24.5 kmpl', '20.34 kmpl', '21.7 kmpl', '14.33 kmpl',\n",
       "       '21.64 kmpl', '13.2 km/kg', '19.16 kmpl', '16.93 kmpl', '9.0 kmpl',\n",
       "       '26.2 km/kg', '16.3 kmpl', '12.62 kmpl', '17.3 km/kg',\n",
       "       '20.64 kmpl', '14.24 kmpl', '18.06 kmpl', '10.2 kmpl', '10.1 kmpl',\n",
       "       '18.25 kmpl', '13.93 kmpl', '25.83 kmpl', '8.6 kmpl', '13.24 kmpl',\n",
       "       '17.09 kmpl', '23.84 kmpl', '8.45 kmpl', '19.6 kmpl', '19.5 kmpl',\n",
       "       '20.3 kmpl', '16.05 kmpl', '11.2 kmpl', '27.03 kmpl', '18.78 kmpl',\n",
       "       '12.35 kmpl', '14.59 kmpl', '17.32 kmpl', '14.95 kmpl',\n",
       "       '13.22 kmpl', '23.03 kmpl', '33.44 km/kg', '15.6 kmpl',\n",
       "       '19.12 kmpl', '10.98 kmpl', '33.54 km/kg', '16.46 kmpl',\n",
       "       '18.4 kmpl', '11.1 kmpl', '13.01 kmpl', '18.8 kmpl', '16.52 kmpl',\n",
       "       '18.44 kmpl', '19.49 kmpl', '23.5 kmpl', '23.8 kmpl', '12.65 kmpl',\n",
       "       '20.65 kmpl', '21.72 kmpl', '12.19 kmpl', '26.1 kmpl',\n",
       "       '18.33 kmpl', '12.81 kmpl', '17.5 km/kg', '17.06 kmpl',\n",
       "       '17.67 kmpl', '19.34 kmpl', '8.3 kmpl', '16.96 kmpl', '11.79 kmpl',\n",
       "       '20.86 kmpl', '16.98 kmpl', '11.68 kmpl', '15.74 kmpl',\n",
       "       '15.7 kmpl', '18.49 kmpl', '19.59 kmpl', '11.4 kmpl', '13.06 kmpl',\n",
       "       '21.0 kmpl', '15.15 kmpl', '16.9 kmpl', '18.23 kmpl', '25.0 km/kg',\n",
       "       '17.16 kmpl', '17.43 kmpl', '19.08 kmpl', '18.56 kmpl',\n",
       "       '11.9 kmpl', '10.9 kmpl', '24.6 km/kg', '21.79 kmpl', '12.95 kmpl',\n",
       "       '25.6 kmpl', '13.45 km/kg', '26.21 kmpl', '13.58 kmpl',\n",
       "       '16.25 kmpl', '10.4 kmpl', '17.44 kmpl', '19.2 km/kg',\n",
       "       '22.71 kmpl', '17.54 kmpl', '22.1 km/kg', '17.0 km/kg',\n",
       "       '15.87 kmpl', '9.5 kmpl', '11.56 kmpl', '14.39 kmpl', '19.09 kmpl',\n",
       "       '17.85 kmpl', '31.79 km/kg', '18.18 kmpl', '21.19 kmpl',\n",
       "       '21.8 kmpl', '15.42 kmpl', '14.47 kmpl', '19.69 kmpl',\n",
       "       '12.83 kmpl', '8.0 kmpl', '22.8 km/kg', '12.63 kmpl', '14.57 kmpl',\n",
       "       '27.28 kmpl', '15.41 kmpl', '32.26 km/kg', '18.19 kmpl',\n",
       "       '13.33 kmpl', '16.7 kmpl', '17.84 kmpl', '20.0 km/kg',\n",
       "       '23.19 kmpl', '11.49 kmpl', '18.51 kmpl', '13.44 kmpl', '8.7 kmpl',\n",
       "       '8.77 kmpl', '17.97 kmpl', '23.57 kmpl', '12.37 kmpl', '9.1 kmpl',\n",
       "       '12.51 kmpl', '19.44 kmpl', '21.38 kmpl', '16.51 kmpl',\n",
       "       '24.8 kmpl', '14.42 kmpl', '14.53 km/kg', '26.8 kmpl',\n",
       "       '24.04 kmpl', '9.8 kmpl', '19.68 kmpl', '21.4 km/kg', '21.2 kmpl',\n",
       "       '19.72 kmpl', '14.2 kmpl', '12.98 kmpl', '23.01 kmpl',\n",
       "       '16.12 kmpl', '9.3 kmpl', '15.85 kmpl', '17.88 kmpl', '10.6 kmpl',\n",
       "       '11.78 kmpl', '7.94 kmpl', '25.01 kmpl', '8.1 kmpl', '13.9 kmpl',\n",
       "       '11.62 kmpl', '20.62 kmpl', '15.11 kmpl', '10.37 kmpl',\n",
       "       '18.59 kmpl', '9.74 kmpl', '14.81 kmpl', '8.2 kmpl', '12.97 kmpl',\n",
       "       '7.5 kmpl', '30.46 km/kg', '6.4 kmpl', '12.85 kmpl', '18.69 kmpl',\n",
       "       '17.24 kmpl'], dtype=object)"
      ]
     },
     "execution_count": 17,
     "metadata": {},
     "output_type": "execute_result"
    }
   ],
   "source": [
    "data[\"Mileage\"].unique()"
   ]
  },
  {
   "cell_type": "code",
   "execution_count": 18,
   "id": "854751e4",
   "metadata": {},
   "outputs": [],
   "source": [
    "data[\"Mileage\"] = data[\"Mileage\"].str.split(\" \").str.get(0).astype(float)"
   ]
  },
  {
   "cell_type": "code",
   "execution_count": 19,
   "id": "43cd3ff5",
   "metadata": {
    "scrolled": true
   },
   "outputs": [
    {
     "data": {
      "text/plain": [
       "array(['998 CC', '1582 CC', '1199 CC', '1248 CC', '1968 CC', '814 CC',\n",
       "       '1461 CC', '2755 CC', '1598 CC', '1462 CC', '1497 CC', '2179 CC',\n",
       "       '2477 CC', '1498 CC', '2143 CC', '1995 CC', '1984 CC', '1197 CC',\n",
       "       '1798 CC', '2696 CC', '2698 CC', '1061 CC', '1198 CC', '2987 CC',\n",
       "       '796 CC', '624 CC', '1999 CC', '1991 CC', '2694 CC', '1120 CC',\n",
       "       '2498 CC', '799 CC', '2393 CC', '1399 CC', '1796 CC', '2148 CC',\n",
       "       '1396 CC', '1950 CC', '4806 CC', '1998 CC', '2494 CC', '1086 CC',\n",
       "       '1193 CC', '2982 CC', '1493 CC', '2967 CC', '2993 CC', '1196 CC',\n",
       "       '1799 CC', '2497 CC', '2354 CC', '1373 CC', '2996 CC', '1591 CC',\n",
       "       '2894 CC', '5461 CC', '1595 CC', '936 CC', '1997 CC', '1896 CC',\n",
       "       '1390 CC', '1364 CC', '2199 CC', '993 CC', '999 CC', '1405 CC',\n",
       "       '2956 CC', '1794 CC', '995 CC', '2496 CC', '1599 CC', '2400 CC',\n",
       "       '1495 CC', '2523 CC', '793 CC', '4134 CC', '1596 CC', '1395 CC',\n",
       "       '2953 CC', '1586 CC', '2362 CC', '1496 CC', '1368 CC', '1298 CC',\n",
       "       '1956 CC', '1299 CC', '3498 CC', '2835 CC', '1150 CC', '3198 CC',\n",
       "       '1343 CC', '1499 CC', '1186 CC', '1590 CC', '2609 CC', '2499 CC',\n",
       "       '2446 CC', '1978 CC', '2360 CC', '3436 CC', '2198 CC', '4367 CC',\n",
       "       '2706 CC', '1422 CC', '2979 CC', '1969 CC', '1489 CC', '2489 CC',\n",
       "       '1242 CC', '1388 CC', '1172 CC', '2495 CC', '1194 CC', '3200 CC',\n",
       "       '1781 CC', '1341 CC', '2773 CC', '3597 CC', '1985 CC', '2147 CC',\n",
       "       '1047 CC', '2999 CC', '2995 CC', '2997 CC', '1948 CC', '2359 CC',\n",
       "       '4395 CC', '2349 CC', '2720 CC', '1468 CC', '3197 CC', '2487 CC',\n",
       "       '1597 CC', '2771 CC', '4951 CC', '970 CC', '2925 CC', '2200 CC',\n",
       "       '5000 CC', '2149 CC', '5998 CC', '2092 CC', '5204 CC', '2112 CC',\n",
       "       '1797 CC'], dtype=object)"
      ]
     },
     "execution_count": 19,
     "metadata": {},
     "output_type": "execute_result"
    }
   ],
   "source": [
    "data[\"Engine\"].unique()"
   ]
  },
  {
   "cell_type": "code",
   "execution_count": 20,
   "id": "3e709149",
   "metadata": {},
   "outputs": [],
   "source": [
    "data[\"Engine\"] = data[\"Engine\"].str.split(\" \").str.get(0).astype(int)"
   ]
  },
  {
   "cell_type": "code",
   "execution_count": 21,
   "id": "332d914c",
   "metadata": {
    "scrolled": true
   },
   "outputs": [
    {
     "data": {
      "text/plain": [
       "array(['58.16 bhp', '126.2 bhp', '88.7 bhp', '88.76 bhp', '140.8 bhp',\n",
       "       '55.2 bhp', '63.1 bhp', '171.5 bhp', '103.6 bhp', '74 bhp',\n",
       "       '103.25 bhp', '116.3 bhp', '187.7 bhp', '115 bhp', '175.56 bhp',\n",
       "       '98.6 bhp', '83.8 bhp', '167.62 bhp', '190 bhp', '88.5 bhp',\n",
       "       '177.01 bhp', '80 bhp', '67.1 bhp', '108.45 bhp', '138.1 bhp',\n",
       "       '184 bhp', '179.5 bhp', '103.5 bhp', '64 bhp', '82 bhp',\n",
       "       '254.8 bhp', '73.9 bhp', '46.3 bhp', '37.5 bhp', '77 bhp',\n",
       "       '82.9 bhp', '149.92 bhp', '138.03 bhp', '112.2 bhp', '163.7 bhp',\n",
       "       '71 bhp', '105 bhp', '174.33 bhp', '75 bhp', '103.2 bhp',\n",
       "       '53.3 bhp', '78.9 bhp', '147.6 bhp', '147.8 bhp', '68 bhp',\n",
       "       '186 bhp', '170 bhp', '69 bhp', '140 bhp', '78 bhp', '194 bhp',\n",
       "       '500 bhp', '108.5 bhp', '86.8 bhp', '187.74 bhp', 'null bhp',\n",
       "       '132 bhp', '102 bhp', '86.7 bhp', '73.94 bhp', '117.3 bhp',\n",
       "       '218 bhp', '168.5 bhp', '89.84 bhp', '110 bhp', '90 bhp',\n",
       "       '82.85 bhp', '67 bhp', '241.4 bhp', '35 bhp', '270.9 bhp',\n",
       "       '126.32 bhp', '73 bhp', '130 bhp', '100.6 bhp', '150 bhp',\n",
       "       '75.94 bhp', '215 bhp', '107.3 bhp', '37.48 bhp', '120 bhp',\n",
       "       '178 bhp', '152 bhp', '91.1 bhp', '85.80 bhp', '362.07 bhp',\n",
       "       '121.3 bhp', '143 bhp', '81.80 bhp', '171 bhp', '76.8 bhp',\n",
       "       '103.52 bhp', '444 bhp', '362.9 bhp', '67.06 bhp', '120.7 bhp',\n",
       "       '258 bhp', '81.86 bhp', '112 bhp', '88.73 bhp', '57.6 bhp',\n",
       "       '157.75 bhp', '102.5 bhp', '201.1 bhp', '83.1 bhp', '68.05 bhp',\n",
       "       '88.50 bhp', '106 bhp', '100 bhp', '81.83 bhp', '85 bhp',\n",
       "       '64.1 bhp', '177.5 bhp', '246.7 bhp', '177.46 bhp', '65 bhp',\n",
       "       '67.04 bhp', '189.08 bhp', '53.5 bhp', '194.3 bhp', '70 bhp',\n",
       "       '183 bhp', '254.79 bhp', '66.1 bhp', '76 bhp', '60 bhp',\n",
       "       '123.24 bhp', '47.3 bhp', '118 bhp', '88.8 bhp', '177 bhp',\n",
       "       '136 bhp', '201.15 bhp', '93.7 bhp', '177.6 bhp', '313 bhp',\n",
       "       '245 bhp', '125 bhp', '141 bhp', '227 bhp', '62 bhp', '141.1 bhp',\n",
       "       '83.14 bhp', '192 bhp', '67.05 bhp', '47 bhp', '235 bhp', '37 bhp',\n",
       "       '87.2 bhp', '203 bhp', '204 bhp', '246.74 bhp', '122 bhp',\n",
       "       '282 bhp', '181 bhp', '224 bhp', '94 bhp', '367 bhp', '98.79 bhp',\n",
       "       '62.1 bhp', '174.3 bhp', '114 bhp', '335.2 bhp', '169 bhp',\n",
       "       '191.34 bhp', '108.49 bhp', '138.02 bhp', '156 bhp', '187.4 bhp',\n",
       "       '66 bhp', '103.3 bhp', '164.7 bhp', '79.4 bhp', '198.5 bhp',\n",
       "       '154 bhp', '73.8 bhp', '181.43 bhp', '85.8 bhp', '207.8 bhp',\n",
       "       '108.4 bhp', '88 bhp', '63 bhp', '82.5 bhp', '364.9 bhp',\n",
       "       '107.2 bhp', '113.98 bhp', '126.3 bhp', '185 bhp', '237.4 bhp',\n",
       "       '99.6 bhp', '66.7 bhp', '160 bhp', '306 bhp', '98.59 bhp',\n",
       "       '92.7 bhp', '147.51 bhp', '197.2 bhp', '167.6 bhp', '165 bhp',\n",
       "       '110.4 bhp', '73.97 bhp', '147.9 bhp', '99 bhp', '116.6 bhp',\n",
       "       '148 bhp', '34.2 bhp', '155 bhp', '197 bhp', '108.62 bhp',\n",
       "       '118.3 bhp', '38.4 bhp', '241.38 bhp', '153.86 bhp', '226.6 bhp',\n",
       "       '84.8 bhp', '53.64 bhp', '158.2 bhp', '69.01 bhp', '181.03 bhp',\n",
       "       '58.2 bhp', '104.68 bhp', '126.24 bhp', '73.75 bhp', '158 bhp',\n",
       "       '130.2 bhp', '57.5 bhp', '97.7 bhp', '121.4 bhp', '98.96 bhp',\n",
       "       '174.5 bhp', '308 bhp', '121.36 bhp', '138 bhp', '265 bhp',\n",
       "       '84 bhp', '321 bhp', '91.72 bhp', '65.3 bhp', '88.2 bhp', '93 bhp',\n",
       "       '35.5 bhp', '86.79 bhp', '157.7 bhp', '40.3 bhp', '91.7 bhp',\n",
       "       '180 bhp', '114.4 bhp', '158.8 bhp', '157.8 bhp', '123.7 bhp',\n",
       "       '56.3 bhp', '189 bhp', '104 bhp', '210 bhp', '270.88 bhp',\n",
       "       '142 bhp', '255 bhp', '236 bhp', '167.7 bhp', '148.31 bhp',\n",
       "       '80.46 bhp', '138.08 bhp', '250 bhp', '74.9 bhp', '91.2 bhp',\n",
       "       '102.57 bhp', '97.6 bhp', '102.53 bhp', '240 bhp', '254 bhp',\n",
       "       '112.4 bhp', '73.74 bhp', '108.495 bhp', '116.9 bhp', '101 bhp',\n",
       "       '320 bhp', '70.02 bhp', '261.49 bhp', '105.5 bhp', '550 bhp',\n",
       "       '168.7 bhp', '55.23 bhp', '94.68 bhp', '152.88 bhp', '163.2 bhp',\n",
       "       '203.2 bhp', '241 bhp', '95 bhp', '163.5 bhp', '200 bhp',\n",
       "       '271.23 bhp', '63.12 bhp', '85.7 bhp', '308.43 bhp', '118.6 bhp',\n",
       "       '199.3 bhp', '83.83 bhp', '55 bhp', '83 bhp', '300 bhp', '201 bhp',\n",
       "       '262.6 bhp', '163 bhp', '58.33 bhp', '86.76 bhp', '76.9 bhp',\n",
       "       '174.57 bhp', '301.73 bhp', '68.1 bhp', '162 bhp', '394.3 bhp',\n",
       "       '80.9 bhp', '147.5 bhp', '272 bhp', '340 bhp', '120.33 bhp',\n",
       "       '82.4 bhp', '231.1 bhp', '335.3 bhp', '333 bhp', '198.25 bhp',\n",
       "       '224.34 bhp', '402 bhp', '261 bhp', '61 bhp', '144 bhp',\n",
       "       '71.01 bhp', '271.72 bhp', '134 bhp', '135.1 bhp', '92 bhp',\n",
       "       '64.08 bhp', '261.5 bhp', '123.37 bhp', '175.67 bhp', '53 bhp',\n",
       "       '110.5 bhp', '178.4 bhp', '193.1 bhp', '395 bhp', '48.21 bhp',\n",
       "       '450 bhp', '421 bhp', '89.75 bhp', '387.3 bhp', '130.3 bhp',\n",
       "       '281.61 bhp', '52.8 bhp', '139.01 bhp', '208 bhp', '503 bhp',\n",
       "       '168 bhp', '98.82 bhp', '139.07 bhp', '83.11 bhp', '74.93 bhp',\n",
       "       '382 bhp', '74.96 bhp', '552 bhp', '127 bhp', '560 bhp',\n",
       "       '116.4 bhp', '161.6 bhp', '488.1 bhp', '103 bhp', '181.04 bhp'],\n",
       "      dtype=object)"
      ]
     },
     "execution_count": 21,
     "metadata": {},
     "output_type": "execute_result"
    }
   ],
   "source": [
    "data[\"Power\"].unique()"
   ]
  },
  {
   "cell_type": "code",
   "execution_count": 22,
   "id": "b790a357",
   "metadata": {},
   "outputs": [],
   "source": [
    "data[\"Power\"] = data[\"Power\"].str.split(\" \").str.get(0)\n",
    "data = data[data[\"Power\"] != \"null\"]\n",
    "data[\"Power\"] = data[\"Power\"].astype(float)"
   ]
  },
  {
   "cell_type": "code",
   "execution_count": 23,
   "id": "ad3371ce",
   "metadata": {},
   "outputs": [
    {
     "data": {
      "text/html": [
       "<div>\n",
       "<style scoped>\n",
       "    .dataframe tbody tr th:only-of-type {\n",
       "        vertical-align: middle;\n",
       "    }\n",
       "\n",
       "    .dataframe tbody tr th {\n",
       "        vertical-align: top;\n",
       "    }\n",
       "\n",
       "    .dataframe thead th {\n",
       "        text-align: right;\n",
       "    }\n",
       "</style>\n",
       "<table border=\"1\" class=\"dataframe\">\n",
       "  <thead>\n",
       "    <tr style=\"text-align: right;\">\n",
       "      <th></th>\n",
       "      <th>Name</th>\n",
       "      <th>Year</th>\n",
       "      <th>Kilometers_Driven</th>\n",
       "      <th>Fuel_Type</th>\n",
       "      <th>Transmission</th>\n",
       "      <th>Owner_Type</th>\n",
       "      <th>Mileage</th>\n",
       "      <th>Engine</th>\n",
       "      <th>Power</th>\n",
       "      <th>Seats</th>\n",
       "      <th>Price</th>\n",
       "    </tr>\n",
       "  </thead>\n",
       "  <tbody>\n",
       "    <tr>\n",
       "      <th>0</th>\n",
       "      <td>Maruti Wagon</td>\n",
       "      <td>2010</td>\n",
       "      <td>72000</td>\n",
       "      <td>CNG</td>\n",
       "      <td>Manual</td>\n",
       "      <td>First</td>\n",
       "      <td>26.60</td>\n",
       "      <td>998</td>\n",
       "      <td>58.16</td>\n",
       "      <td>5.0</td>\n",
       "      <td>1.75</td>\n",
       "    </tr>\n",
       "    <tr>\n",
       "      <th>1</th>\n",
       "      <td>Hyundai Creta</td>\n",
       "      <td>2015</td>\n",
       "      <td>41000</td>\n",
       "      <td>Diesel</td>\n",
       "      <td>Manual</td>\n",
       "      <td>First</td>\n",
       "      <td>19.67</td>\n",
       "      <td>1582</td>\n",
       "      <td>126.20</td>\n",
       "      <td>5.0</td>\n",
       "      <td>12.50</td>\n",
       "    </tr>\n",
       "    <tr>\n",
       "      <th>2</th>\n",
       "      <td>Honda Jazz</td>\n",
       "      <td>2011</td>\n",
       "      <td>46000</td>\n",
       "      <td>Petrol</td>\n",
       "      <td>Manual</td>\n",
       "      <td>First</td>\n",
       "      <td>18.20</td>\n",
       "      <td>1199</td>\n",
       "      <td>88.70</td>\n",
       "      <td>5.0</td>\n",
       "      <td>4.50</td>\n",
       "    </tr>\n",
       "    <tr>\n",
       "      <th>3</th>\n",
       "      <td>Maruti Ertiga</td>\n",
       "      <td>2012</td>\n",
       "      <td>87000</td>\n",
       "      <td>Diesel</td>\n",
       "      <td>Manual</td>\n",
       "      <td>First</td>\n",
       "      <td>20.77</td>\n",
       "      <td>1248</td>\n",
       "      <td>88.76</td>\n",
       "      <td>7.0</td>\n",
       "      <td>6.00</td>\n",
       "    </tr>\n",
       "    <tr>\n",
       "      <th>4</th>\n",
       "      <td>Audi A4</td>\n",
       "      <td>2013</td>\n",
       "      <td>40670</td>\n",
       "      <td>Diesel</td>\n",
       "      <td>Automatic</td>\n",
       "      <td>Second</td>\n",
       "      <td>15.20</td>\n",
       "      <td>1968</td>\n",
       "      <td>140.80</td>\n",
       "      <td>5.0</td>\n",
       "      <td>17.74</td>\n",
       "    </tr>\n",
       "  </tbody>\n",
       "</table>\n",
       "</div>"
      ],
      "text/plain": [
       "            Name  Year  Kilometers_Driven Fuel_Type Transmission Owner_Type  \\\n",
       "0   Maruti Wagon  2010              72000       CNG       Manual      First   \n",
       "1  Hyundai Creta  2015              41000    Diesel       Manual      First   \n",
       "2     Honda Jazz  2011              46000    Petrol       Manual      First   \n",
       "3  Maruti Ertiga  2012              87000    Diesel       Manual      First   \n",
       "4        Audi A4  2013              40670    Diesel    Automatic     Second   \n",
       "\n",
       "   Mileage  Engine   Power  Seats  Price  \n",
       "0    26.60     998   58.16    5.0   1.75  \n",
       "1    19.67    1582  126.20    5.0  12.50  \n",
       "2    18.20    1199   88.70    5.0   4.50  \n",
       "3    20.77    1248   88.76    7.0   6.00  \n",
       "4    15.20    1968  140.80    5.0  17.74  "
      ]
     },
     "execution_count": 23,
     "metadata": {},
     "output_type": "execute_result"
    }
   ],
   "source": [
    "data.head()"
   ]
  },
  {
   "cell_type": "code",
   "execution_count": 24,
   "id": "7c1cec51",
   "metadata": {},
   "outputs": [
    {
     "data": {
      "text/plain": [
       "array([ 5.,  7.,  8.,  4.,  6.,  2., 10.,  9.])"
      ]
     },
     "execution_count": 24,
     "metadata": {},
     "output_type": "execute_result"
    }
   ],
   "source": [
    "data[\"Seats\"].unique()"
   ]
  },
  {
   "cell_type": "code",
   "execution_count": 25,
   "id": "53ea1fea",
   "metadata": {},
   "outputs": [],
   "source": [
    "data[\"Seats\"] = data[\"Seats\"].astype(int)"
   ]
  },
  {
   "cell_type": "code",
   "execution_count": 26,
   "id": "8d3f54f8",
   "metadata": {},
   "outputs": [
    {
     "data": {
      "text/plain": [
       "array([ 1.75, 12.5 ,  4.5 , ...,  2.27, 17.56,  7.43])"
      ]
     },
     "execution_count": 26,
     "metadata": {},
     "output_type": "execute_result"
    }
   ],
   "source": [
    "data[\"Price\"].unique()"
   ]
  },
  {
   "cell_type": "code",
   "execution_count": 27,
   "id": "f71182cc",
   "metadata": {},
   "outputs": [],
   "source": [
    "data[\"Price\"] = data[\"Price\"]*100000 \n",
    "data[\"Price\"] = data[\"Price\"].astype(int)"
   ]
  },
  {
   "cell_type": "code",
   "execution_count": 28,
   "id": "25b8713e",
   "metadata": {},
   "outputs": [
    {
     "data": {
      "text/html": [
       "<div>\n",
       "<style scoped>\n",
       "    .dataframe tbody tr th:only-of-type {\n",
       "        vertical-align: middle;\n",
       "    }\n",
       "\n",
       "    .dataframe tbody tr th {\n",
       "        vertical-align: top;\n",
       "    }\n",
       "\n",
       "    .dataframe thead th {\n",
       "        text-align: right;\n",
       "    }\n",
       "</style>\n",
       "<table border=\"1\" class=\"dataframe\">\n",
       "  <thead>\n",
       "    <tr style=\"text-align: right;\">\n",
       "      <th></th>\n",
       "      <th>Name</th>\n",
       "      <th>Year</th>\n",
       "      <th>Kilometers_Driven</th>\n",
       "      <th>Fuel_Type</th>\n",
       "      <th>Transmission</th>\n",
       "      <th>Owner_Type</th>\n",
       "      <th>Mileage</th>\n",
       "      <th>Engine</th>\n",
       "      <th>Power</th>\n",
       "      <th>Seats</th>\n",
       "      <th>Price</th>\n",
       "    </tr>\n",
       "  </thead>\n",
       "  <tbody>\n",
       "    <tr>\n",
       "      <th>0</th>\n",
       "      <td>Maruti Wagon</td>\n",
       "      <td>2010</td>\n",
       "      <td>72000</td>\n",
       "      <td>CNG</td>\n",
       "      <td>Manual</td>\n",
       "      <td>First</td>\n",
       "      <td>26.60</td>\n",
       "      <td>998</td>\n",
       "      <td>58.16</td>\n",
       "      <td>5</td>\n",
       "      <td>175000</td>\n",
       "    </tr>\n",
       "    <tr>\n",
       "      <th>1</th>\n",
       "      <td>Hyundai Creta</td>\n",
       "      <td>2015</td>\n",
       "      <td>41000</td>\n",
       "      <td>Diesel</td>\n",
       "      <td>Manual</td>\n",
       "      <td>First</td>\n",
       "      <td>19.67</td>\n",
       "      <td>1582</td>\n",
       "      <td>126.20</td>\n",
       "      <td>5</td>\n",
       "      <td>1250000</td>\n",
       "    </tr>\n",
       "    <tr>\n",
       "      <th>2</th>\n",
       "      <td>Honda Jazz</td>\n",
       "      <td>2011</td>\n",
       "      <td>46000</td>\n",
       "      <td>Petrol</td>\n",
       "      <td>Manual</td>\n",
       "      <td>First</td>\n",
       "      <td>18.20</td>\n",
       "      <td>1199</td>\n",
       "      <td>88.70</td>\n",
       "      <td>5</td>\n",
       "      <td>450000</td>\n",
       "    </tr>\n",
       "    <tr>\n",
       "      <th>3</th>\n",
       "      <td>Maruti Ertiga</td>\n",
       "      <td>2012</td>\n",
       "      <td>87000</td>\n",
       "      <td>Diesel</td>\n",
       "      <td>Manual</td>\n",
       "      <td>First</td>\n",
       "      <td>20.77</td>\n",
       "      <td>1248</td>\n",
       "      <td>88.76</td>\n",
       "      <td>7</td>\n",
       "      <td>600000</td>\n",
       "    </tr>\n",
       "    <tr>\n",
       "      <th>4</th>\n",
       "      <td>Audi A4</td>\n",
       "      <td>2013</td>\n",
       "      <td>40670</td>\n",
       "      <td>Diesel</td>\n",
       "      <td>Automatic</td>\n",
       "      <td>Second</td>\n",
       "      <td>15.20</td>\n",
       "      <td>1968</td>\n",
       "      <td>140.80</td>\n",
       "      <td>5</td>\n",
       "      <td>1773999</td>\n",
       "    </tr>\n",
       "  </tbody>\n",
       "</table>\n",
       "</div>"
      ],
      "text/plain": [
       "            Name  Year  Kilometers_Driven Fuel_Type Transmission Owner_Type  \\\n",
       "0   Maruti Wagon  2010              72000       CNG       Manual      First   \n",
       "1  Hyundai Creta  2015              41000    Diesel       Manual      First   \n",
       "2     Honda Jazz  2011              46000    Petrol       Manual      First   \n",
       "3  Maruti Ertiga  2012              87000    Diesel       Manual      First   \n",
       "4        Audi A4  2013              40670    Diesel    Automatic     Second   \n",
       "\n",
       "   Mileage  Engine   Power  Seats    Price  \n",
       "0    26.60     998   58.16      5   175000  \n",
       "1    19.67    1582  126.20      5  1250000  \n",
       "2    18.20    1199   88.70      5   450000  \n",
       "3    20.77    1248   88.76      7   600000  \n",
       "4    15.20    1968  140.80      5  1773999  "
      ]
     },
     "execution_count": 28,
     "metadata": {},
     "output_type": "execute_result"
    }
   ],
   "source": [
    "data.head()"
   ]
  },
  {
   "cell_type": "code",
   "execution_count": 29,
   "id": "f1ebad8c",
   "metadata": {},
   "outputs": [
    {
     "data": {
      "text/plain": [
       "Name                 0.0\n",
       "Year                 0.0\n",
       "Kilometers_Driven    0.0\n",
       "Fuel_Type            0.0\n",
       "Transmission         0.0\n",
       "Owner_Type           0.0\n",
       "Mileage              0.0\n",
       "Engine               0.0\n",
       "Power                0.0\n",
       "Seats                0.0\n",
       "Price                0.0\n",
       "dtype: float64"
      ]
     },
     "execution_count": 29,
     "metadata": {},
     "output_type": "execute_result"
    }
   ],
   "source": [
    "data.isnull().mean()*100"
   ]
  },
  {
   "cell_type": "code",
   "execution_count": 30,
   "id": "ed7638f4",
   "metadata": {},
   "outputs": [
    {
     "data": {
      "text/plain": [
       "2"
      ]
     },
     "execution_count": 30,
     "metadata": {},
     "output_type": "execute_result"
    }
   ],
   "source": [
    "data.duplicated().sum()"
   ]
  },
  {
   "cell_type": "code",
   "execution_count": 31,
   "id": "1568bc34",
   "metadata": {},
   "outputs": [],
   "source": [
    "data.drop_duplicates(inplace=True)"
   ]
  },
  {
   "cell_type": "code",
   "execution_count": 32,
   "id": "0448fb6f",
   "metadata": {},
   "outputs": [
    {
     "name": "stdout",
     "output_type": "stream",
     "text": [
      "<class 'pandas.core.frame.DataFrame'>\n",
      "Int64Index: 5863 entries, 0 to 6018\n",
      "Data columns (total 11 columns):\n",
      " #   Column             Non-Null Count  Dtype  \n",
      "---  ------             --------------  -----  \n",
      " 0   Name               5863 non-null   object \n",
      " 1   Year               5863 non-null   int64  \n",
      " 2   Kilometers_Driven  5863 non-null   int64  \n",
      " 3   Fuel_Type          5863 non-null   object \n",
      " 4   Transmission       5863 non-null   object \n",
      " 5   Owner_Type         5863 non-null   object \n",
      " 6   Mileage            5863 non-null   float64\n",
      " 7   Engine             5863 non-null   int32  \n",
      " 8   Power              5863 non-null   float64\n",
      " 9   Seats              5863 non-null   int32  \n",
      " 10  Price              5863 non-null   int32  \n",
      "dtypes: float64(2), int32(3), int64(2), object(4)\n",
      "memory usage: 480.9+ KB\n"
     ]
    }
   ],
   "source": [
    "data.info()"
   ]
  },
  {
   "cell_type": "code",
   "execution_count": 33,
   "id": "e8bf8ad0",
   "metadata": {},
   "outputs": [
    {
     "data": {
      "text/html": [
       "<div>\n",
       "<style scoped>\n",
       "    .dataframe tbody tr th:only-of-type {\n",
       "        vertical-align: middle;\n",
       "    }\n",
       "\n",
       "    .dataframe tbody tr th {\n",
       "        vertical-align: top;\n",
       "    }\n",
       "\n",
       "    .dataframe thead th {\n",
       "        text-align: right;\n",
       "    }\n",
       "</style>\n",
       "<table border=\"1\" class=\"dataframe\">\n",
       "  <thead>\n",
       "    <tr style=\"text-align: right;\">\n",
       "      <th></th>\n",
       "      <th>Year</th>\n",
       "      <th>Kilometers_Driven</th>\n",
       "      <th>Mileage</th>\n",
       "      <th>Engine</th>\n",
       "      <th>Power</th>\n",
       "      <th>Seats</th>\n",
       "      <th>Price</th>\n",
       "    </tr>\n",
       "  </thead>\n",
       "  <tbody>\n",
       "    <tr>\n",
       "      <th>count</th>\n",
       "      <td>5863.000000</td>\n",
       "      <td>5.863000e+03</td>\n",
       "      <td>5863.000000</td>\n",
       "      <td>5863.000000</td>\n",
       "      <td>5863.000000</td>\n",
       "      <td>5863.000000</td>\n",
       "      <td>5.863000e+03</td>\n",
       "    </tr>\n",
       "    <tr>\n",
       "      <th>mean</th>\n",
       "      <td>2013.485246</td>\n",
       "      <td>5.824431e+04</td>\n",
       "      <td>18.281695</td>\n",
       "      <td>1625.636705</td>\n",
       "      <td>113.304813</td>\n",
       "      <td>5.282961</td>\n",
       "      <td>9.612995e+05</td>\n",
       "    </tr>\n",
       "    <tr>\n",
       "      <th>std</th>\n",
       "      <td>3.158998</td>\n",
       "      <td>9.216867e+04</td>\n",
       "      <td>4.363242</td>\n",
       "      <td>601.583170</td>\n",
       "      <td>53.900870</td>\n",
       "      <td>0.804242</td>\n",
       "      <td>1.125552e+06</td>\n",
       "    </tr>\n",
       "    <tr>\n",
       "      <th>min</th>\n",
       "      <td>1998.000000</td>\n",
       "      <td>1.710000e+02</td>\n",
       "      <td>0.000000</td>\n",
       "      <td>624.000000</td>\n",
       "      <td>34.200000</td>\n",
       "      <td>2.000000</td>\n",
       "      <td>4.400000e+04</td>\n",
       "    </tr>\n",
       "    <tr>\n",
       "      <th>25%</th>\n",
       "      <td>2012.000000</td>\n",
       "      <td>3.339350e+04</td>\n",
       "      <td>15.290000</td>\n",
       "      <td>1198.000000</td>\n",
       "      <td>75.000000</td>\n",
       "      <td>5.000000</td>\n",
       "      <td>3.535000e+05</td>\n",
       "    </tr>\n",
       "    <tr>\n",
       "      <th>50%</th>\n",
       "      <td>2014.000000</td>\n",
       "      <td>5.255300e+04</td>\n",
       "      <td>18.250000</td>\n",
       "      <td>1496.000000</td>\n",
       "      <td>97.700000</td>\n",
       "      <td>5.000000</td>\n",
       "      <td>5.750000e+05</td>\n",
       "    </tr>\n",
       "    <tr>\n",
       "      <th>75%</th>\n",
       "      <td>2016.000000</td>\n",
       "      <td>7.220300e+04</td>\n",
       "      <td>21.100000</td>\n",
       "      <td>1988.000000</td>\n",
       "      <td>138.100000</td>\n",
       "      <td>5.000000</td>\n",
       "      <td>1.006000e+06</td>\n",
       "    </tr>\n",
       "    <tr>\n",
       "      <th>max</th>\n",
       "      <td>2019.000000</td>\n",
       "      <td>6.500000e+06</td>\n",
       "      <td>33.540000</td>\n",
       "      <td>5998.000000</td>\n",
       "      <td>560.000000</td>\n",
       "      <td>10.000000</td>\n",
       "      <td>1.600000e+07</td>\n",
       "    </tr>\n",
       "  </tbody>\n",
       "</table>\n",
       "</div>"
      ],
      "text/plain": [
       "              Year  Kilometers_Driven      Mileage       Engine        Power  \\\n",
       "count  5863.000000       5.863000e+03  5863.000000  5863.000000  5863.000000   \n",
       "mean   2013.485246       5.824431e+04    18.281695  1625.636705   113.304813   \n",
       "std       3.158998       9.216867e+04     4.363242   601.583170    53.900870   \n",
       "min    1998.000000       1.710000e+02     0.000000   624.000000    34.200000   \n",
       "25%    2012.000000       3.339350e+04    15.290000  1198.000000    75.000000   \n",
       "50%    2014.000000       5.255300e+04    18.250000  1496.000000    97.700000   \n",
       "75%    2016.000000       7.220300e+04    21.100000  1988.000000   138.100000   \n",
       "max    2019.000000       6.500000e+06    33.540000  5998.000000   560.000000   \n",
       "\n",
       "             Seats         Price  \n",
       "count  5863.000000  5.863000e+03  \n",
       "mean      5.282961  9.612995e+05  \n",
       "std       0.804242  1.125552e+06  \n",
       "min       2.000000  4.400000e+04  \n",
       "25%       5.000000  3.535000e+05  \n",
       "50%       5.000000  5.750000e+05  \n",
       "75%       5.000000  1.006000e+06  \n",
       "max      10.000000  1.600000e+07  "
      ]
     },
     "execution_count": 33,
     "metadata": {},
     "output_type": "execute_result"
    }
   ],
   "source": [
    "data.describe()"
   ]
  },
  {
   "cell_type": "code",
   "execution_count": 34,
   "id": "dcea0427",
   "metadata": {},
   "outputs": [],
   "source": [
    "data = data[data[\"Mileage\"]>0.0]"
   ]
  },
  {
   "cell_type": "code",
   "execution_count": 35,
   "id": "9c6b022f",
   "metadata": {},
   "outputs": [],
   "source": [
    "data = data.reset_index(drop=True)"
   ]
  },
  {
   "cell_type": "code",
   "execution_count": 36,
   "id": "4a1311b6",
   "metadata": {},
   "outputs": [
    {
     "data": {
      "text/plain": [
       "(5835, 11)"
      ]
     },
     "execution_count": 36,
     "metadata": {},
     "output_type": "execute_result"
    }
   ],
   "source": [
    "data.shape"
   ]
  },
  {
   "cell_type": "code",
   "execution_count": 37,
   "id": "e3345769",
   "metadata": {},
   "outputs": [
    {
     "data": {
      "text/html": [
       "<div>\n",
       "<style scoped>\n",
       "    .dataframe tbody tr th:only-of-type {\n",
       "        vertical-align: middle;\n",
       "    }\n",
       "\n",
       "    .dataframe tbody tr th {\n",
       "        vertical-align: top;\n",
       "    }\n",
       "\n",
       "    .dataframe thead th {\n",
       "        text-align: right;\n",
       "    }\n",
       "</style>\n",
       "<table border=\"1\" class=\"dataframe\">\n",
       "  <thead>\n",
       "    <tr style=\"text-align: right;\">\n",
       "      <th></th>\n",
       "      <th>Name</th>\n",
       "      <th>Year</th>\n",
       "      <th>Kilometers_Driven</th>\n",
       "      <th>Fuel_Type</th>\n",
       "      <th>Transmission</th>\n",
       "      <th>Owner_Type</th>\n",
       "      <th>Mileage</th>\n",
       "      <th>Engine</th>\n",
       "      <th>Power</th>\n",
       "      <th>Seats</th>\n",
       "      <th>Price</th>\n",
       "    </tr>\n",
       "  </thead>\n",
       "  <tbody>\n",
       "    <tr>\n",
       "      <th>0</th>\n",
       "      <td>Maruti Wagon</td>\n",
       "      <td>2010</td>\n",
       "      <td>72000</td>\n",
       "      <td>CNG</td>\n",
       "      <td>Manual</td>\n",
       "      <td>First</td>\n",
       "      <td>26.60</td>\n",
       "      <td>998</td>\n",
       "      <td>58.16</td>\n",
       "      <td>5</td>\n",
       "      <td>175000</td>\n",
       "    </tr>\n",
       "    <tr>\n",
       "      <th>1</th>\n",
       "      <td>Hyundai Creta</td>\n",
       "      <td>2015</td>\n",
       "      <td>41000</td>\n",
       "      <td>Diesel</td>\n",
       "      <td>Manual</td>\n",
       "      <td>First</td>\n",
       "      <td>19.67</td>\n",
       "      <td>1582</td>\n",
       "      <td>126.20</td>\n",
       "      <td>5</td>\n",
       "      <td>1250000</td>\n",
       "    </tr>\n",
       "    <tr>\n",
       "      <th>2</th>\n",
       "      <td>Honda Jazz</td>\n",
       "      <td>2011</td>\n",
       "      <td>46000</td>\n",
       "      <td>Petrol</td>\n",
       "      <td>Manual</td>\n",
       "      <td>First</td>\n",
       "      <td>18.20</td>\n",
       "      <td>1199</td>\n",
       "      <td>88.70</td>\n",
       "      <td>5</td>\n",
       "      <td>450000</td>\n",
       "    </tr>\n",
       "    <tr>\n",
       "      <th>3</th>\n",
       "      <td>Maruti Ertiga</td>\n",
       "      <td>2012</td>\n",
       "      <td>87000</td>\n",
       "      <td>Diesel</td>\n",
       "      <td>Manual</td>\n",
       "      <td>First</td>\n",
       "      <td>20.77</td>\n",
       "      <td>1248</td>\n",
       "      <td>88.76</td>\n",
       "      <td>7</td>\n",
       "      <td>600000</td>\n",
       "    </tr>\n",
       "    <tr>\n",
       "      <th>4</th>\n",
       "      <td>Audi A4</td>\n",
       "      <td>2013</td>\n",
       "      <td>40670</td>\n",
       "      <td>Diesel</td>\n",
       "      <td>Automatic</td>\n",
       "      <td>Second</td>\n",
       "      <td>15.20</td>\n",
       "      <td>1968</td>\n",
       "      <td>140.80</td>\n",
       "      <td>5</td>\n",
       "      <td>1773999</td>\n",
       "    </tr>\n",
       "  </tbody>\n",
       "</table>\n",
       "</div>"
      ],
      "text/plain": [
       "            Name  Year  Kilometers_Driven Fuel_Type Transmission Owner_Type  \\\n",
       "0   Maruti Wagon  2010              72000       CNG       Manual      First   \n",
       "1  Hyundai Creta  2015              41000    Diesel       Manual      First   \n",
       "2     Honda Jazz  2011              46000    Petrol       Manual      First   \n",
       "3  Maruti Ertiga  2012              87000    Diesel       Manual      First   \n",
       "4        Audi A4  2013              40670    Diesel    Automatic     Second   \n",
       "\n",
       "   Mileage  Engine   Power  Seats    Price  \n",
       "0    26.60     998   58.16      5   175000  \n",
       "1    19.67    1582  126.20      5  1250000  \n",
       "2    18.20    1199   88.70      5   450000  \n",
       "3    20.77    1248   88.76      7   600000  \n",
       "4    15.20    1968  140.80      5  1773999  "
      ]
     },
     "execution_count": 37,
     "metadata": {},
     "output_type": "execute_result"
    }
   ],
   "source": [
    "data.head()"
   ]
  },
  {
   "cell_type": "code",
   "execution_count": 38,
   "id": "709eacbb",
   "metadata": {},
   "outputs": [
    {
     "data": {
      "text/plain": [
       "array([2010, 2015, 2011, 2012, 2013, 2016, 2018, 2014, 2017, 2009, 2008,\n",
       "       2007, 2006, 2019, 2004, 2002, 2000, 2005, 2003, 1999, 1998, 2001],\n",
       "      dtype=int64)"
      ]
     },
     "execution_count": 38,
     "metadata": {},
     "output_type": "execute_result"
    }
   ],
   "source": [
    "data[\"Year\"].unique()"
   ]
  },
  {
   "cell_type": "code",
   "execution_count": 39,
   "id": "306f5c04",
   "metadata": {},
   "outputs": [],
   "source": [
    "data.to_csv(\"Cleaned_Car_Details\")"
   ]
  },
  {
   "cell_type": "markdown",
   "id": "11ed5e9a",
   "metadata": {},
   "source": [
    "# MODEL BUILDING"
   ]
  },
  {
   "cell_type": "code",
   "execution_count": 40,
   "id": "db5168a2",
   "metadata": {},
   "outputs": [],
   "source": [
    "from sklearn.compose import make_column_transformer\n",
    "from sklearn.preprocessing import OneHotEncoder, MinMaxScaler\n",
    "from sklearn.linear_model import LinearRegression\n",
    "from sklearn.tree import DecisionTreeRegressor\n",
    "from sklearn.ensemble import RandomForestRegressor, StackingRegressor\n",
    "from sklearn.model_selection import train_test_split\n",
    "from sklearn.pipeline import make_pipeline\n",
    "from sklearn.metrics import r2_score\n",
    "import pickle"
   ]
  },
  {
   "cell_type": "code",
   "execution_count": 41,
   "id": "49b2bd5d",
   "metadata": {
    "scrolled": true
   },
   "outputs": [
    {
     "data": {
      "text/plain": [
       "[array(['Ambassador Classic', 'Audi A3', 'Audi A4', 'Audi A6', 'Audi A7',\n",
       "        'Audi A8', 'Audi Q3', 'Audi Q5', 'Audi Q7', 'Audi RS5', 'Audi TT',\n",
       "        'BMW 1', 'BMW 3', 'BMW 5', 'BMW 6', 'BMW 7', 'BMW X1', 'BMW X3',\n",
       "        'BMW X5', 'BMW X6', 'BMW Z4', 'Bentley Continental',\n",
       "        'Chevrolet Aveo', 'Chevrolet Beat', 'Chevrolet Captiva',\n",
       "        'Chevrolet Cruze', 'Chevrolet Enjoy', 'Chevrolet Optra',\n",
       "        'Chevrolet Sail', 'Chevrolet Spark', 'Chevrolet Tavera',\n",
       "        'Datsun GO', 'Datsun Redi', 'Datsun redi-GO', 'Fiat Avventura',\n",
       "        'Fiat Grande', 'Fiat Linea', 'Fiat Punto', 'Force One',\n",
       "        'Ford Aspire', 'Ford Classic', 'Ford EcoSport', 'Ford Ecosport',\n",
       "        'Ford Endeavour', 'Ford Fiesta', 'Ford Figo', 'Ford Freestyle',\n",
       "        'Ford Fusion', 'Ford Ikon', 'Ford Mustang', 'Honda Accord',\n",
       "        'Honda Amaze', 'Honda BR-V', 'Honda BRV', 'Honda Brio',\n",
       "        'Honda CR-V', 'Honda City', 'Honda Civic', 'Honda Jazz',\n",
       "        'Honda Mobilio', 'Honda WR-V', 'Honda WRV', 'Hyundai Accent',\n",
       "        'Hyundai Creta', 'Hyundai EON', 'Hyundai Elantra', 'Hyundai Elite',\n",
       "        'Hyundai Getz', 'Hyundai Grand', 'Hyundai Santa', 'Hyundai Santro',\n",
       "        'Hyundai Sonata', 'Hyundai Tucson', 'Hyundai Verna',\n",
       "        'Hyundai Xcent', 'Hyundai i10', 'Hyundai i20', 'ISUZU D-MAX',\n",
       "        'Isuzu MUX', 'Jaguar F', 'Jaguar XE', 'Jaguar XF', 'Jaguar XJ',\n",
       "        'Jeep Compass', 'Lamborghini Gallardo', 'Land Rover',\n",
       "        'Mahindra Bolero', 'Mahindra KUV', 'Mahindra Logan',\n",
       "        'Mahindra NuvoSport', 'Mahindra Quanto', 'Mahindra Renault',\n",
       "        'Mahindra Scorpio', 'Mahindra Ssangyong', 'Mahindra TUV',\n",
       "        'Mahindra Thar', 'Mahindra Verito', 'Mahindra XUV300',\n",
       "        'Mahindra XUV500', 'Mahindra Xylo', 'Maruti 800', 'Maruti A-Star',\n",
       "        'Maruti Alto', 'Maruti Baleno', 'Maruti Celerio', 'Maruti Ciaz',\n",
       "        'Maruti Dzire', 'Maruti Eeco', 'Maruti Ertiga', 'Maruti Esteem',\n",
       "        'Maruti Grand', 'Maruti Ignis', 'Maruti Omni', 'Maruti Ritz',\n",
       "        'Maruti S', 'Maruti S-Cross', 'Maruti SX4', 'Maruti Swift',\n",
       "        'Maruti Versa', 'Maruti Vitara', 'Maruti Wagon', 'Maruti Zen',\n",
       "        'Mercedes-Benz A', 'Mercedes-Benz B', 'Mercedes-Benz CLA',\n",
       "        'Mercedes-Benz CLS-Class', 'Mercedes-Benz E-Class',\n",
       "        'Mercedes-Benz GL-Class', 'Mercedes-Benz GLA', 'Mercedes-Benz GLC',\n",
       "        'Mercedes-Benz GLE', 'Mercedes-Benz GLS', 'Mercedes-Benz M-Class',\n",
       "        'Mercedes-Benz New', 'Mercedes-Benz R-Class', 'Mercedes-Benz S',\n",
       "        'Mercedes-Benz S-Class', 'Mercedes-Benz SL-Class',\n",
       "        'Mercedes-Benz SLC', 'Mercedes-Benz SLK-Class', 'Mini Clubman',\n",
       "        'Mini Cooper', 'Mini Countryman', 'Mitsubishi Cedia',\n",
       "        'Mitsubishi Lancer', 'Mitsubishi Montero', 'Mitsubishi Outlander',\n",
       "        'Mitsubishi Pajero', 'Nissan Evalia', 'Nissan Micra',\n",
       "        'Nissan Sunny', 'Nissan Teana', 'Nissan Terrano', 'Nissan X-Trail',\n",
       "        'Porsche Boxster', 'Porsche Cayenne', 'Porsche Panamera',\n",
       "        'Renault Captur', 'Renault Duster', 'Renault Fluence',\n",
       "        'Renault KWID', 'Renault Koleos', 'Renault Lodgy', 'Renault Pulse',\n",
       "        'Renault Scala', 'Skoda Fabia', 'Skoda Laura', 'Skoda Octavia',\n",
       "        'Skoda Rapid', 'Skoda Superb', 'Skoda Yeti', 'Tata Bolt',\n",
       "        'Tata Hexa', 'Tata Indica', 'Tata Indigo', 'Tata Manza',\n",
       "        'Tata Nano', 'Tata New', 'Tata Nexon', 'Tata Safari', 'Tata Sumo',\n",
       "        'Tata Tiago', 'Tata Tigor', 'Tata Venture', 'Tata Xenon',\n",
       "        'Tata Zest', 'Toyota Camry', 'Toyota Corolla', 'Toyota Etios',\n",
       "        'Toyota Fortuner', 'Toyota Innova', 'Toyota Platinum',\n",
       "        'Toyota Qualis', 'Volkswagen Ameo', 'Volkswagen Beetle',\n",
       "        'Volkswagen CrossPolo', 'Volkswagen Jetta', 'Volkswagen Passat',\n",
       "        'Volkswagen Polo', 'Volkswagen Tiguan', 'Volkswagen Vento',\n",
       "        'Volvo S60', 'Volvo S80', 'Volvo V40', 'Volvo XC60', 'Volvo XC90'],\n",
       "       dtype=object),\n",
       " array(['CNG', 'Diesel', 'LPG', 'Petrol'], dtype=object),\n",
       " array(['Automatic', 'Manual'], dtype=object),\n",
       " array(['First', 'Second', 'Third'], dtype=object)]"
      ]
     },
     "execution_count": 41,
     "metadata": {},
     "output_type": "execute_result"
    }
   ],
   "source": [
    "ohe = OneHotEncoder()\n",
    "ohe.fit(data[[\"Name\", \"Fuel_Type\",\"Transmission\",\"Owner_Type\"]])\n",
    "ohe.categories_"
   ]
  },
  {
   "cell_type": "code",
   "execution_count": 42,
   "id": "2e5d3346",
   "metadata": {},
   "outputs": [],
   "source": [
    "clmn_tfr = make_column_transformer((OneHotEncoder(categories=ohe.categories_), [\"Name\", \"Fuel_Type\",\"Transmission\",\"Owner_Type\"]),\n",
    "                                   (MinMaxScaler(), [\"Year\",\"Kilometers_Driven\",\"Mileage\",\"Engine\",\"Power\",\"Seats\"]),\n",
    "                                    remainder=\"passthrough\")"
   ]
  },
  {
   "cell_type": "code",
   "execution_count": 43,
   "id": "76a3e227",
   "metadata": {},
   "outputs": [],
   "source": [
    "x = data.drop(columns=\"Price\")\n",
    "y = data[\"Price\"]"
   ]
  },
  {
   "cell_type": "code",
   "execution_count": 43,
   "id": "22c46ccb",
   "metadata": {},
   "outputs": [
    {
     "name": "stdout",
     "output_type": "stream",
     "text": [
      "i=  546\n",
      "0.8759369160013818\n"
     ]
    }
   ],
   "source": [
    "score = []\n",
    "for i in range(1001):\n",
    "    x_train, x_test, y_train, y_test = train_test_split(x,y, test_size=0.2, random_state=i)\n",
    "    lr = LinearRegression()\n",
    "    pipe = make_pipeline(clmn_tfr,lr)\n",
    "    pipe.fit(x_train,y_train)\n",
    "    pred = pipe.predict(x_test)\n",
    "    score.append(r2_score(y_test,pred))\n",
    "print(\"i= \",np.argmax(score))\n",
    "print(score[np.argmax(score)])"
   ]
  },
  {
   "cell_type": "code",
   "execution_count": 44,
   "id": "f89879a0",
   "metadata": {},
   "outputs": [
    {
     "name": "stdout",
     "output_type": "stream",
     "text": [
      "i=  946\n",
      "0.9117598767246287\n"
     ]
    }
   ],
   "source": [
    "score = []\n",
    "for i in range(1001):\n",
    "    x_train, x_test, y_train, y_test = train_test_split(x,y, test_size=0.2, random_state=i)\n",
    "    dt = DecisionTreeRegressor()\n",
    "    pipe = make_pipeline(clmn_tfr,dt)\n",
    "    pipe.fit(x_train,y_train)\n",
    "    pred = pipe.predict(x_test)\n",
    "    score.append(r2_score(y_test,pred))\n",
    "print(\"i= \",np.argmax(score))\n",
    "print(score[np.argmax(score)])"
   ]
  },
  {
   "cell_type": "code",
   "execution_count": 45,
   "id": "0e01c891",
   "metadata": {},
   "outputs": [
    {
     "name": "stdout",
     "output_type": "stream",
     "text": [
      "i=  31\n",
      "0.9275722651348756\n"
     ]
    }
   ],
   "source": [
    "score = []\n",
    "for i in range(50):\n",
    "    x_train, x_test, y_train, y_test = train_test_split(x,y, test_size=0.2, random_state=i)\n",
    "    rf = RandomForestRegressor()\n",
    "    pipe = make_pipeline(clmn_tfr,rf)\n",
    "    pipe.fit(x_train,y_train)\n",
    "    pred = pipe.predict(x_test)\n",
    "    score.append(r2_score(y_test,pred))\n",
    "print(\"i= \",np.argmax(score))\n",
    "print(score[np.argmax(score)])"
   ]
  },
  {
   "cell_type": "code",
   "execution_count": 44,
   "id": "c918b94c",
   "metadata": {},
   "outputs": [
    {
     "data": {
      "text/plain": [
       "92.61694746639726"
      ]
     },
     "execution_count": 44,
     "metadata": {},
     "output_type": "execute_result"
    }
   ],
   "source": [
    "x_train, x_test, y_train, y_test = train_test_split(x,y, test_size=0.2, random_state=18)\n",
    "rf = RandomForestRegressor()\n",
    "model = make_pipeline(clmn_tfr,rf)\n",
    "model.fit(x_train,y_train)\n",
    "pred = model.predict(x_test)\n",
    "r2_score(y_test,pred)*100"
   ]
  },
  {
   "cell_type": "code",
   "execution_count": 45,
   "id": "15063e80",
   "metadata": {},
   "outputs": [],
   "source": [
    "pickle.dump(model,open(\"Car_Price_Prediction.pkl\",\"wb\"))"
   ]
  },
  {
   "cell_type": "code",
   "execution_count": null,
   "id": "2fc83f2a",
   "metadata": {},
   "outputs": [],
   "source": []
  }
 ],
 "metadata": {
  "kernelspec": {
   "display_name": "Python 3 (ipykernel)",
   "language": "python",
   "name": "python3"
  },
  "language_info": {
   "codemirror_mode": {
    "name": "ipython",
    "version": 3
   },
   "file_extension": ".py",
   "mimetype": "text/x-python",
   "name": "python",
   "nbconvert_exporter": "python",
   "pygments_lexer": "ipython3",
   "version": "3.9.12"
  }
 },
 "nbformat": 4,
 "nbformat_minor": 5
}
