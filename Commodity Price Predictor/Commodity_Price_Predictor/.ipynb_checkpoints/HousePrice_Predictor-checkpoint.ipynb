{
 "cells": [
  {
   "cell_type": "code",
   "execution_count": 1,
   "id": "f32f794b",
   "metadata": {},
   "outputs": [],
   "source": [
    "import pandas as pd\n",
    "import numpy as np\n",
    "import matplotlib.pyplot as plt\n",
    "import seaborn as sns\n",
    "\n",
    "from sklearn.preprocessing import OneHotEncoder\n",
    "from sklearn.preprocessing import MinMaxScaler, StandardScaler\n",
    "from sklearn.preprocessing import PolynomialFeatures\n",
    "from sklearn.model_selection import train_test_split, cross_val_score\n",
    "from sklearn.compose import ColumnTransformer, make_column_transformer\n",
    "from sklearn.pipeline import make_pipeline\n",
    "from sklearn.model_selection import GridSearchCV\n",
    "\n",
    "from sklearn.ensemble import RandomForestRegressor\n",
    "\n",
    "from sklearn.metrics import r2_score\n",
    "import pickle"
   ]
  },
  {
   "cell_type": "code",
   "execution_count": 62,
   "id": "ca622b02",
   "metadata": {},
   "outputs": [],
   "source": [
    "data = pd.read_csv(\"House Data.csv\")"
   ]
  },
  {
   "cell_type": "markdown",
   "id": "619af618",
   "metadata": {},
   "source": [
    "# Data Understanding"
   ]
  },
  {
   "cell_type": "code",
   "execution_count": 63,
   "id": "a94f6449",
   "metadata": {},
   "outputs": [
    {
     "data": {
      "text/html": [
       "<div>\n",
       "<style scoped>\n",
       "    .dataframe tbody tr th:only-of-type {\n",
       "        vertical-align: middle;\n",
       "    }\n",
       "\n",
       "    .dataframe tbody tr th {\n",
       "        vertical-align: top;\n",
       "    }\n",
       "\n",
       "    .dataframe thead th {\n",
       "        text-align: right;\n",
       "    }\n",
       "</style>\n",
       "<table border=\"1\" class=\"dataframe\">\n",
       "  <thead>\n",
       "    <tr style=\"text-align: right;\">\n",
       "      <th></th>\n",
       "      <th>area_type</th>\n",
       "      <th>availability</th>\n",
       "      <th>size</th>\n",
       "      <th>society</th>\n",
       "      <th>total_sqft</th>\n",
       "      <th>bath</th>\n",
       "      <th>balcony</th>\n",
       "      <th>price</th>\n",
       "      <th>site_location</th>\n",
       "    </tr>\n",
       "  </thead>\n",
       "  <tbody>\n",
       "    <tr>\n",
       "      <th>0</th>\n",
       "      <td>Super built-up  Area</td>\n",
       "      <td>19-Dec</td>\n",
       "      <td>2 BHK</td>\n",
       "      <td>Coomee</td>\n",
       "      <td>1056</td>\n",
       "      <td>2.0</td>\n",
       "      <td>1.0</td>\n",
       "      <td>39.07</td>\n",
       "      <td>Alandi Road</td>\n",
       "    </tr>\n",
       "    <tr>\n",
       "      <th>1</th>\n",
       "      <td>Plot  Area</td>\n",
       "      <td>Ready To Move</td>\n",
       "      <td>4 Bedroom</td>\n",
       "      <td>Theanmp</td>\n",
       "      <td>2600</td>\n",
       "      <td>5.0</td>\n",
       "      <td>3.0</td>\n",
       "      <td>120.00</td>\n",
       "      <td>Ambegaon Budruk</td>\n",
       "    </tr>\n",
       "    <tr>\n",
       "      <th>2</th>\n",
       "      <td>Built-up  Area</td>\n",
       "      <td>Ready To Move</td>\n",
       "      <td>3 BHK</td>\n",
       "      <td>NaN</td>\n",
       "      <td>1440</td>\n",
       "      <td>2.0</td>\n",
       "      <td>3.0</td>\n",
       "      <td>62.00</td>\n",
       "      <td>Anandnagar</td>\n",
       "    </tr>\n",
       "    <tr>\n",
       "      <th>3</th>\n",
       "      <td>Super built-up  Area</td>\n",
       "      <td>Ready To Move</td>\n",
       "      <td>3 BHK</td>\n",
       "      <td>Soiewre</td>\n",
       "      <td>1521</td>\n",
       "      <td>3.0</td>\n",
       "      <td>1.0</td>\n",
       "      <td>95.00</td>\n",
       "      <td>Aundh</td>\n",
       "    </tr>\n",
       "    <tr>\n",
       "      <th>4</th>\n",
       "      <td>Super built-up  Area</td>\n",
       "      <td>Ready To Move</td>\n",
       "      <td>2 BHK</td>\n",
       "      <td>NaN</td>\n",
       "      <td>1200</td>\n",
       "      <td>2.0</td>\n",
       "      <td>1.0</td>\n",
       "      <td>51.00</td>\n",
       "      <td>Aundh Road</td>\n",
       "    </tr>\n",
       "  </tbody>\n",
       "</table>\n",
       "</div>"
      ],
      "text/plain": [
       "              area_type   availability       size  society total_sqft  bath  \\\n",
       "0  Super built-up  Area         19-Dec      2 BHK  Coomee        1056   2.0   \n",
       "1            Plot  Area  Ready To Move  4 Bedroom  Theanmp       2600   5.0   \n",
       "2        Built-up  Area  Ready To Move      3 BHK      NaN       1440   2.0   \n",
       "3  Super built-up  Area  Ready To Move      3 BHK  Soiewre       1521   3.0   \n",
       "4  Super built-up  Area  Ready To Move      2 BHK      NaN       1200   2.0   \n",
       "\n",
       "   balcony   price    site_location  \n",
       "0      1.0   39.07      Alandi Road  \n",
       "1      3.0  120.00  Ambegaon Budruk  \n",
       "2      3.0   62.00       Anandnagar  \n",
       "3      1.0   95.00            Aundh  \n",
       "4      1.0   51.00       Aundh Road  "
      ]
     },
     "execution_count": 63,
     "metadata": {},
     "output_type": "execute_result"
    }
   ],
   "source": [
    "data.head()"
   ]
  },
  {
   "cell_type": "code",
   "execution_count": 64,
   "id": "ced60a9f",
   "metadata": {},
   "outputs": [
    {
     "data": {
      "text/plain": [
       "(13320, 9)"
      ]
     },
     "execution_count": 64,
     "metadata": {},
     "output_type": "execute_result"
    }
   ],
   "source": [
    "data.shape"
   ]
  },
  {
   "cell_type": "code",
   "execution_count": 65,
   "id": "c9678804",
   "metadata": {},
   "outputs": [
    {
     "data": {
      "text/html": [
       "<div>\n",
       "<style scoped>\n",
       "    .dataframe tbody tr th:only-of-type {\n",
       "        vertical-align: middle;\n",
       "    }\n",
       "\n",
       "    .dataframe tbody tr th {\n",
       "        vertical-align: top;\n",
       "    }\n",
       "\n",
       "    .dataframe thead th {\n",
       "        text-align: right;\n",
       "    }\n",
       "</style>\n",
       "<table border=\"1\" class=\"dataframe\">\n",
       "  <thead>\n",
       "    <tr style=\"text-align: right;\">\n",
       "      <th></th>\n",
       "      <th>area_type</th>\n",
       "      <th>availability</th>\n",
       "      <th>size</th>\n",
       "      <th>society</th>\n",
       "      <th>total_sqft</th>\n",
       "      <th>bath</th>\n",
       "      <th>balcony</th>\n",
       "      <th>price</th>\n",
       "      <th>site_location</th>\n",
       "    </tr>\n",
       "  </thead>\n",
       "  <tbody>\n",
       "    <tr>\n",
       "      <th>5920</th>\n",
       "      <td>Super built-up  Area</td>\n",
       "      <td>Ready To Move</td>\n",
       "      <td>3 BHK</td>\n",
       "      <td>PrdgeSo</td>\n",
       "      <td>2582</td>\n",
       "      <td>5.0</td>\n",
       "      <td>2.0</td>\n",
       "      <td>250.00</td>\n",
       "      <td>Navi Peth</td>\n",
       "    </tr>\n",
       "    <tr>\n",
       "      <th>344</th>\n",
       "      <td>Super built-up  Area</td>\n",
       "      <td>21-Dec</td>\n",
       "      <td>1 BHK</td>\n",
       "      <td>PrarePa</td>\n",
       "      <td>525</td>\n",
       "      <td>NaN</td>\n",
       "      <td>NaN</td>\n",
       "      <td>21.53</td>\n",
       "      <td>Model colony</td>\n",
       "    </tr>\n",
       "    <tr>\n",
       "      <th>89</th>\n",
       "      <td>Plot  Area</td>\n",
       "      <td>Ready To Move</td>\n",
       "      <td>6 Bedroom</td>\n",
       "      <td>NaN</td>\n",
       "      <td>710</td>\n",
       "      <td>6.0</td>\n",
       "      <td>3.0</td>\n",
       "      <td>160.00</td>\n",
       "      <td>Viman Nagar</td>\n",
       "    </tr>\n",
       "    <tr>\n",
       "      <th>8854</th>\n",
       "      <td>Super built-up  Area</td>\n",
       "      <td>Ready To Move</td>\n",
       "      <td>2 BHK</td>\n",
       "      <td>NaN</td>\n",
       "      <td>708</td>\n",
       "      <td>2.0</td>\n",
       "      <td>1.0</td>\n",
       "      <td>32.00</td>\n",
       "      <td>Dhole Patil Road</td>\n",
       "    </tr>\n",
       "    <tr>\n",
       "      <th>8053</th>\n",
       "      <td>Super built-up  Area</td>\n",
       "      <td>Ready To Move</td>\n",
       "      <td>2 BHK</td>\n",
       "      <td>SLnssPr</td>\n",
       "      <td>1155</td>\n",
       "      <td>2.0</td>\n",
       "      <td>2.0</td>\n",
       "      <td>40.43</td>\n",
       "      <td>Swargate</td>\n",
       "    </tr>\n",
       "  </tbody>\n",
       "</table>\n",
       "</div>"
      ],
      "text/plain": [
       "                 area_type   availability       size  society total_sqft  \\\n",
       "5920  Super built-up  Area  Ready To Move      3 BHK  PrdgeSo       2582   \n",
       "344   Super built-up  Area         21-Dec      1 BHK  PrarePa        525   \n",
       "89              Plot  Area  Ready To Move  6 Bedroom      NaN        710   \n",
       "8854  Super built-up  Area  Ready To Move      2 BHK      NaN        708   \n",
       "8053  Super built-up  Area  Ready To Move      2 BHK  SLnssPr       1155   \n",
       "\n",
       "      bath  balcony   price     site_location  \n",
       "5920   5.0      2.0  250.00         Navi Peth  \n",
       "344    NaN      NaN   21.53      Model colony  \n",
       "89     6.0      3.0  160.00       Viman Nagar  \n",
       "8854   2.0      1.0   32.00  Dhole Patil Road  \n",
       "8053   2.0      2.0   40.43          Swargate  "
      ]
     },
     "execution_count": 65,
     "metadata": {},
     "output_type": "execute_result"
    }
   ],
   "source": [
    "data.sample(5)"
   ]
  },
  {
   "cell_type": "code",
   "execution_count": 66,
   "id": "5c70c1e7",
   "metadata": {},
   "outputs": [
    {
     "data": {
      "text/html": [
       "<div>\n",
       "<style scoped>\n",
       "    .dataframe tbody tr th:only-of-type {\n",
       "        vertical-align: middle;\n",
       "    }\n",
       "\n",
       "    .dataframe tbody tr th {\n",
       "        vertical-align: top;\n",
       "    }\n",
       "\n",
       "    .dataframe thead th {\n",
       "        text-align: right;\n",
       "    }\n",
       "</style>\n",
       "<table border=\"1\" class=\"dataframe\">\n",
       "  <thead>\n",
       "    <tr style=\"text-align: right;\">\n",
       "      <th></th>\n",
       "      <th>bath</th>\n",
       "      <th>balcony</th>\n",
       "      <th>price</th>\n",
       "    </tr>\n",
       "  </thead>\n",
       "  <tbody>\n",
       "    <tr>\n",
       "      <th>count</th>\n",
       "      <td>13247.000000</td>\n",
       "      <td>12711.000000</td>\n",
       "      <td>13320.000000</td>\n",
       "    </tr>\n",
       "    <tr>\n",
       "      <th>mean</th>\n",
       "      <td>2.692610</td>\n",
       "      <td>1.584376</td>\n",
       "      <td>112.565627</td>\n",
       "    </tr>\n",
       "    <tr>\n",
       "      <th>std</th>\n",
       "      <td>1.341458</td>\n",
       "      <td>0.817263</td>\n",
       "      <td>148.971674</td>\n",
       "    </tr>\n",
       "    <tr>\n",
       "      <th>min</th>\n",
       "      <td>1.000000</td>\n",
       "      <td>0.000000</td>\n",
       "      <td>8.000000</td>\n",
       "    </tr>\n",
       "    <tr>\n",
       "      <th>25%</th>\n",
       "      <td>2.000000</td>\n",
       "      <td>1.000000</td>\n",
       "      <td>50.000000</td>\n",
       "    </tr>\n",
       "    <tr>\n",
       "      <th>50%</th>\n",
       "      <td>2.000000</td>\n",
       "      <td>2.000000</td>\n",
       "      <td>72.000000</td>\n",
       "    </tr>\n",
       "    <tr>\n",
       "      <th>75%</th>\n",
       "      <td>3.000000</td>\n",
       "      <td>2.000000</td>\n",
       "      <td>120.000000</td>\n",
       "    </tr>\n",
       "    <tr>\n",
       "      <th>max</th>\n",
       "      <td>40.000000</td>\n",
       "      <td>3.000000</td>\n",
       "      <td>3600.000000</td>\n",
       "    </tr>\n",
       "  </tbody>\n",
       "</table>\n",
       "</div>"
      ],
      "text/plain": [
       "               bath       balcony         price\n",
       "count  13247.000000  12711.000000  13320.000000\n",
       "mean       2.692610      1.584376    112.565627\n",
       "std        1.341458      0.817263    148.971674\n",
       "min        1.000000      0.000000      8.000000\n",
       "25%        2.000000      1.000000     50.000000\n",
       "50%        2.000000      2.000000     72.000000\n",
       "75%        3.000000      2.000000    120.000000\n",
       "max       40.000000      3.000000   3600.000000"
      ]
     },
     "execution_count": 66,
     "metadata": {},
     "output_type": "execute_result"
    }
   ],
   "source": [
    "data.describe()"
   ]
  },
  {
   "cell_type": "code",
   "execution_count": 67,
   "id": "2c7f8d6d",
   "metadata": {
    "scrolled": true
   },
   "outputs": [
    {
     "name": "stdout",
     "output_type": "stream",
     "text": [
      "<class 'pandas.core.frame.DataFrame'>\n",
      "RangeIndex: 13320 entries, 0 to 13319\n",
      "Data columns (total 9 columns):\n",
      " #   Column         Non-Null Count  Dtype  \n",
      "---  ------         --------------  -----  \n",
      " 0   area_type      13320 non-null  object \n",
      " 1   availability   13320 non-null  object \n",
      " 2   size           13304 non-null  object \n",
      " 3   society        7818 non-null   object \n",
      " 4   total_sqft     13320 non-null  object \n",
      " 5   bath           13247 non-null  float64\n",
      " 6   balcony        12711 non-null  float64\n",
      " 7   price          13320 non-null  float64\n",
      " 8   site_location  13319 non-null  object \n",
      "dtypes: float64(3), object(6)\n",
      "memory usage: 936.7+ KB\n"
     ]
    }
   ],
   "source": [
    "data.info()"
   ]
  },
  {
   "cell_type": "code",
   "execution_count": 68,
   "id": "710e0413",
   "metadata": {},
   "outputs": [
    {
     "data": {
      "text/plain": [
       "area_type         0.000000\n",
       "availability      0.000000\n",
       "size              0.120120\n",
       "society          41.306306\n",
       "total_sqft        0.000000\n",
       "bath              0.548048\n",
       "balcony           4.572072\n",
       "price             0.000000\n",
       "site_location     0.007508\n",
       "dtype: float64"
      ]
     },
     "execution_count": 68,
     "metadata": {},
     "output_type": "execute_result"
    }
   ],
   "source": [
    "data.isnull().mean()*100"
   ]
  },
  {
   "cell_type": "code",
   "execution_count": 69,
   "id": "1dad1ab0",
   "metadata": {},
   "outputs": [
    {
     "data": {
      "text/plain": [
       "11"
      ]
     },
     "execution_count": 69,
     "metadata": {},
     "output_type": "execute_result"
    }
   ],
   "source": [
    "data.duplicated().sum()"
   ]
  },
  {
   "cell_type": "code",
   "execution_count": 70,
   "id": "fc543fd4",
   "metadata": {},
   "outputs": [],
   "source": [
    "data.drop_duplicates(inplace=True)"
   ]
  },
  {
   "cell_type": "code",
   "execution_count": 71,
   "id": "0a9dc80b",
   "metadata": {},
   "outputs": [],
   "source": [
    "data = data.reset_index(drop=True)"
   ]
  },
  {
   "cell_type": "markdown",
   "id": "389094a0",
   "metadata": {},
   "source": [
    "# Data Cleaning"
   ]
  },
  {
   "cell_type": "code",
   "execution_count": 72,
   "id": "67533948",
   "metadata": {
    "scrolled": true
   },
   "outputs": [],
   "source": [
    "data = data.drop(columns=[\"area_type\",\"society\",\"availability\"])"
   ]
  },
  {
   "cell_type": "code",
   "execution_count": 73,
   "id": "7c836e44",
   "metadata": {},
   "outputs": [],
   "source": [
    "data.dropna(inplace=True)"
   ]
  },
  {
   "cell_type": "code",
   "execution_count": 74,
   "id": "86135257",
   "metadata": {},
   "outputs": [
    {
     "data": {
      "text/plain": [
       "(12699, 6)"
      ]
     },
     "execution_count": 74,
     "metadata": {},
     "output_type": "execute_result"
    }
   ],
   "source": [
    "data.shape"
   ]
  },
  {
   "cell_type": "code",
   "execution_count": 75,
   "id": "aade1dd7",
   "metadata": {},
   "outputs": [
    {
     "data": {
      "text/html": [
       "<div>\n",
       "<style scoped>\n",
       "    .dataframe tbody tr th:only-of-type {\n",
       "        vertical-align: middle;\n",
       "    }\n",
       "\n",
       "    .dataframe tbody tr th {\n",
       "        vertical-align: top;\n",
       "    }\n",
       "\n",
       "    .dataframe thead th {\n",
       "        text-align: right;\n",
       "    }\n",
       "</style>\n",
       "<table border=\"1\" class=\"dataframe\">\n",
       "  <thead>\n",
       "    <tr style=\"text-align: right;\">\n",
       "      <th></th>\n",
       "      <th>bath</th>\n",
       "      <th>balcony</th>\n",
       "      <th>price</th>\n",
       "    </tr>\n",
       "  </thead>\n",
       "  <tbody>\n",
       "    <tr>\n",
       "      <th>count</th>\n",
       "      <td>12699.000000</td>\n",
       "      <td>12699.000000</td>\n",
       "      <td>12699.000000</td>\n",
       "    </tr>\n",
       "    <tr>\n",
       "      <th>mean</th>\n",
       "      <td>2.617293</td>\n",
       "      <td>1.584613</td>\n",
       "      <td>106.093557</td>\n",
       "    </tr>\n",
       "    <tr>\n",
       "      <th>std</th>\n",
       "      <td>1.225999</td>\n",
       "      <td>0.817292</td>\n",
       "      <td>131.807038</td>\n",
       "    </tr>\n",
       "    <tr>\n",
       "      <th>min</th>\n",
       "      <td>1.000000</td>\n",
       "      <td>0.000000</td>\n",
       "      <td>8.000000</td>\n",
       "    </tr>\n",
       "    <tr>\n",
       "      <th>25%</th>\n",
       "      <td>2.000000</td>\n",
       "      <td>1.000000</td>\n",
       "      <td>49.090000</td>\n",
       "    </tr>\n",
       "    <tr>\n",
       "      <th>50%</th>\n",
       "      <td>2.000000</td>\n",
       "      <td>2.000000</td>\n",
       "      <td>70.000000</td>\n",
       "    </tr>\n",
       "    <tr>\n",
       "      <th>75%</th>\n",
       "      <td>3.000000</td>\n",
       "      <td>2.000000</td>\n",
       "      <td>115.000000</td>\n",
       "    </tr>\n",
       "    <tr>\n",
       "      <th>max</th>\n",
       "      <td>40.000000</td>\n",
       "      <td>3.000000</td>\n",
       "      <td>2912.000000</td>\n",
       "    </tr>\n",
       "  </tbody>\n",
       "</table>\n",
       "</div>"
      ],
      "text/plain": [
       "               bath       balcony         price\n",
       "count  12699.000000  12699.000000  12699.000000\n",
       "mean       2.617293      1.584613    106.093557\n",
       "std        1.225999      0.817292    131.807038\n",
       "min        1.000000      0.000000      8.000000\n",
       "25%        2.000000      1.000000     49.090000\n",
       "50%        2.000000      2.000000     70.000000\n",
       "75%        3.000000      2.000000    115.000000\n",
       "max       40.000000      3.000000   2912.000000"
      ]
     },
     "execution_count": 75,
     "metadata": {},
     "output_type": "execute_result"
    }
   ],
   "source": [
    "data.describe()"
   ]
  },
  {
   "cell_type": "code",
   "execution_count": 76,
   "id": "f7e67a4e",
   "metadata": {},
   "outputs": [
    {
     "data": {
      "text/html": [
       "<div>\n",
       "<style scoped>\n",
       "    .dataframe tbody tr th:only-of-type {\n",
       "        vertical-align: middle;\n",
       "    }\n",
       "\n",
       "    .dataframe tbody tr th {\n",
       "        vertical-align: top;\n",
       "    }\n",
       "\n",
       "    .dataframe thead th {\n",
       "        text-align: right;\n",
       "    }\n",
       "</style>\n",
       "<table border=\"1\" class=\"dataframe\">\n",
       "  <thead>\n",
       "    <tr style=\"text-align: right;\">\n",
       "      <th></th>\n",
       "      <th>size</th>\n",
       "      <th>total_sqft</th>\n",
       "      <th>bath</th>\n",
       "      <th>balcony</th>\n",
       "      <th>price</th>\n",
       "      <th>site_location</th>\n",
       "    </tr>\n",
       "  </thead>\n",
       "  <tbody>\n",
       "    <tr>\n",
       "      <th>0</th>\n",
       "      <td>2 BHK</td>\n",
       "      <td>1056</td>\n",
       "      <td>2.0</td>\n",
       "      <td>1.0</td>\n",
       "      <td>39.07</td>\n",
       "      <td>Alandi Road</td>\n",
       "    </tr>\n",
       "    <tr>\n",
       "      <th>1</th>\n",
       "      <td>4 Bedroom</td>\n",
       "      <td>2600</td>\n",
       "      <td>5.0</td>\n",
       "      <td>3.0</td>\n",
       "      <td>120.00</td>\n",
       "      <td>Ambegaon Budruk</td>\n",
       "    </tr>\n",
       "    <tr>\n",
       "      <th>2</th>\n",
       "      <td>3 BHK</td>\n",
       "      <td>1440</td>\n",
       "      <td>2.0</td>\n",
       "      <td>3.0</td>\n",
       "      <td>62.00</td>\n",
       "      <td>Anandnagar</td>\n",
       "    </tr>\n",
       "    <tr>\n",
       "      <th>3</th>\n",
       "      <td>3 BHK</td>\n",
       "      <td>1521</td>\n",
       "      <td>3.0</td>\n",
       "      <td>1.0</td>\n",
       "      <td>95.00</td>\n",
       "      <td>Aundh</td>\n",
       "    </tr>\n",
       "    <tr>\n",
       "      <th>4</th>\n",
       "      <td>2 BHK</td>\n",
       "      <td>1200</td>\n",
       "      <td>2.0</td>\n",
       "      <td>1.0</td>\n",
       "      <td>51.00</td>\n",
       "      <td>Aundh Road</td>\n",
       "    </tr>\n",
       "  </tbody>\n",
       "</table>\n",
       "</div>"
      ],
      "text/plain": [
       "        size total_sqft  bath  balcony   price    site_location\n",
       "0      2 BHK       1056   2.0      1.0   39.07      Alandi Road\n",
       "1  4 Bedroom       2600   5.0      3.0  120.00  Ambegaon Budruk\n",
       "2      3 BHK       1440   2.0      3.0   62.00       Anandnagar\n",
       "3      3 BHK       1521   3.0      1.0   95.00            Aundh\n",
       "4      2 BHK       1200   2.0      1.0   51.00       Aundh Road"
      ]
     },
     "execution_count": 76,
     "metadata": {},
     "output_type": "execute_result"
    }
   ],
   "source": [
    "data.head()"
   ]
  },
  {
   "cell_type": "code",
   "execution_count": 77,
   "id": "06cdaf7b",
   "metadata": {
    "scrolled": true
   },
   "outputs": [
    {
     "data": {
      "text/plain": [
       "2 BHK         5146\n",
       "3 BHK         4126\n",
       "4 Bedroom      749\n",
       "1 BHK          530\n",
       "3 Bedroom      527\n",
       "4 BHK          487\n",
       "2 Bedroom      327\n",
       "5 Bedroom      263\n",
       "6 Bedroom      169\n",
       "1 Bedroom      105\n",
       "7 Bedroom       69\n",
       "8 Bedroom       65\n",
       "5 BHK           36\n",
       "9 Bedroom       29\n",
       "6 BHK           23\n",
       "7 BHK           16\n",
       "1 RK            13\n",
       "9 BHK            5\n",
       "8 BHK            3\n",
       "10 Bedroom       3\n",
       "11 Bedroom       2\n",
       "11 BHK           1\n",
       "27 BHK           1\n",
       "43 Bedroom       1\n",
       "14 BHK           1\n",
       "12 Bedroom       1\n",
       "13 BHK           1\n",
       "Name: size, dtype: int64"
      ]
     },
     "execution_count": 77,
     "metadata": {},
     "output_type": "execute_result"
    }
   ],
   "source": [
    "data[\"size\"].value_counts()"
   ]
  },
  {
   "cell_type": "code",
   "execution_count": 78,
   "id": "db1498d3",
   "metadata": {
    "scrolled": true
   },
   "outputs": [],
   "source": [
    "data[\"size\"] = data[\"size\"].str.split(\" \").str.get(0).astype(int)"
   ]
  },
  {
   "cell_type": "code",
   "execution_count": 79,
   "id": "f13a43a2",
   "metadata": {
    "scrolled": true
   },
   "outputs": [
    {
     "data": {
      "text/plain": [
       "array(['1056', '2600', '1440', ..., '1133 - 1384', '774', '4689'],\n",
       "      dtype=object)"
      ]
     },
     "execution_count": 79,
     "metadata": {},
     "output_type": "execute_result"
    }
   ],
   "source": [
    "data[\"total_sqft\"].unique()"
   ]
  },
  {
   "cell_type": "code",
   "execution_count": 80,
   "id": "fc30434e",
   "metadata": {},
   "outputs": [],
   "source": [
    "data[\"total_sqft\"] = data[\"total_sqft\"].str.split(\" \").str.get(0)\n",
    "data = data[data[\"total_sqft\"].str.isnumeric()]\n",
    "data[\"total_sqft\"] = data[\"total_sqft\"].astype(int)"
   ]
  },
  {
   "cell_type": "code",
   "execution_count": 81,
   "id": "60e1f171",
   "metadata": {},
   "outputs": [
    {
     "data": {
      "text/plain": [
       "array([1056, 2600, 1440, ..., 2758,  774, 4689])"
      ]
     },
     "execution_count": 81,
     "metadata": {},
     "output_type": "execute_result"
    }
   ],
   "source": [
    "data[\"total_sqft\"].unique()"
   ]
  },
  {
   "cell_type": "code",
   "execution_count": 82,
   "id": "5c56bf93",
   "metadata": {},
   "outputs": [
    {
     "data": {
      "text/plain": [
       "array([ 2.,  5.,  3.,  4.,  1.,  8.,  7.,  6.,  9., 27., 11., 12., 10.,\n",
       "       40., 15., 13.])"
      ]
     },
     "execution_count": 82,
     "metadata": {},
     "output_type": "execute_result"
    }
   ],
   "source": [
    "data[\"bath\"].unique()"
   ]
  },
  {
   "cell_type": "code",
   "execution_count": 83,
   "id": "6e4216da",
   "metadata": {},
   "outputs": [],
   "source": [
    "data[\"bath\"] = data[\"bath\"].astype(int)"
   ]
  },
  {
   "cell_type": "code",
   "execution_count": 84,
   "id": "46c8279b",
   "metadata": {},
   "outputs": [
    {
     "data": {
      "text/plain": [
       "array([1., 3., 2., 0.])"
      ]
     },
     "execution_count": 84,
     "metadata": {},
     "output_type": "execute_result"
    }
   ],
   "source": [
    "data[\"balcony\"].unique()"
   ]
  },
  {
   "cell_type": "code",
   "execution_count": 85,
   "id": "8de5fd81",
   "metadata": {},
   "outputs": [],
   "source": [
    "data[\"balcony\"] = data[\"balcony\"].astype(int)"
   ]
  },
  {
   "cell_type": "code",
   "execution_count": 86,
   "id": "56cace36",
   "metadata": {
    "scrolled": true
   },
   "outputs": [
    {
     "data": {
      "text/plain": [
       "array(['Alandi Road', 'Ambegaon Budruk', 'Anandnagar', 'Aundh',\n",
       "       'Aundh Road', 'Balaji Nagar', 'Bhandarkar Road', 'Bibvewadi',\n",
       "       'Bopodi', 'Budhwar Peth', 'Bund Garden Road', 'Camp',\n",
       "       'Chandan Nagar', 'Dapodi', 'Deccan Gymkhana', 'Dehu Road',\n",
       "       'Dhankawadi', 'Dhayari Phata', 'Dhole Patil Road', 'Erandwane',\n",
       "       'Fatima Nagar', 'Fergusson College Road', 'Ganesh Peth',\n",
       "       'Ganeshkhind', 'Ghorpade Peth', 'other', 'Gokhale Nagar',\n",
       "       'Gultekdi', 'Guruwar peth', 'Hadapsar',\n",
       "       'Hadapsar Industrial Estate', 'Jangali Maharaj Road',\n",
       "       'Kalyani Nagar', 'Karve Nagar', 'Karve Road', 'Kasba Peth',\n",
       "       'Khadaki', 'Khadki', 'Kharadi', 'Kondhwa Khurd', 'Koregaon Park',\n",
       "       'Kothrud', 'Law College Road', 'Laxmi Road', 'Lulla Nagar',\n",
       "       'Mahatma Gandhi Road', 'Mangalwar peth', 'Manik Bagh',\n",
       "       'Market yard', 'Mukund Nagar', 'Mundhawa', 'Nagar Road',\n",
       "       'Nana Peth', 'Narayan Peth', 'Narayangaon', 'Navi Peth',\n",
       "       'Padmavati', 'Parvati Darshan', 'Pashan', 'Paud Road', 'Pirangut',\n",
       "       'Prabhat Road', 'Pune Railway Station', 'Rasta Peth',\n",
       "       'Raviwar Peth', 'Sadashiv Peth', 'Sahakar Nagar', 'Salunke Vihar',\n",
       "       'Sasson Road', 'Satara Road', 'Senapati Bapat Road',\n",
       "       'Shaniwar Peth', 'Shivaji Nagar', 'Sinhagad Road', 'Somwar Peth',\n",
       "       'Swargate', 'Tilak Road', 'Uruli Devachi', 'Vadgaon Budruk',\n",
       "       'Wadgaon Sheri', 'Viman Nagar', 'Vishrant Wadi', 'Wagholi',\n",
       "       'Wakadewadi', 'Wanowrie', 'Warje', 'Yerawada', 'Baner',\n",
       "       'Baner road', 'Bhavani Peth', 'Ghorpadi', 'Hingne Khurd', 'Katraj',\n",
       "       'Kondhwa Budruk', 'Model colony', 'Shukrawar Peth', 'Kondhwa'],\n",
       "      dtype=object)"
      ]
     },
     "execution_count": 86,
     "metadata": {},
     "output_type": "execute_result"
    }
   ],
   "source": [
    "data[\"site_location\"].unique()"
   ]
  },
  {
   "cell_type": "code",
   "execution_count": 87,
   "id": "e41f8fe5",
   "metadata": {},
   "outputs": [],
   "source": [
    "data = data[data[\"site_location\"] != \"other\"]\n",
    "data[\"site_location\"] = data[\"site_location\"].str.split(\" \").str.slice(0,2).str.join(\" \")"
   ]
  },
  {
   "cell_type": "code",
   "execution_count": 88,
   "id": "cb53ff9c",
   "metadata": {},
   "outputs": [
    {
     "data": {
      "text/plain": [
       "array([ 39.07, 120.  ,  62.  , ...,  40.14, 231.  , 488.  ])"
      ]
     },
     "execution_count": 88,
     "metadata": {},
     "output_type": "execute_result"
    }
   ],
   "source": [
    "data[\"price\"].unique()"
   ]
  },
  {
   "cell_type": "code",
   "execution_count": 89,
   "id": "cbc53dbb",
   "metadata": {},
   "outputs": [],
   "source": [
    "data[\"price\"] = data[\"price\"]*100000\n",
    "data[\"price\"] = data[\"price\"].astype(int)"
   ]
  },
  {
   "cell_type": "code",
   "execution_count": 90,
   "id": "cb82499f",
   "metadata": {},
   "outputs": [
    {
     "data": {
      "text/html": [
       "<div>\n",
       "<style scoped>\n",
       "    .dataframe tbody tr th:only-of-type {\n",
       "        vertical-align: middle;\n",
       "    }\n",
       "\n",
       "    .dataframe tbody tr th {\n",
       "        vertical-align: top;\n",
       "    }\n",
       "\n",
       "    .dataframe thead th {\n",
       "        text-align: right;\n",
       "    }\n",
       "</style>\n",
       "<table border=\"1\" class=\"dataframe\">\n",
       "  <thead>\n",
       "    <tr style=\"text-align: right;\">\n",
       "      <th></th>\n",
       "      <th>size</th>\n",
       "      <th>total_sqft</th>\n",
       "      <th>bath</th>\n",
       "      <th>balcony</th>\n",
       "      <th>price</th>\n",
       "      <th>site_location</th>\n",
       "    </tr>\n",
       "  </thead>\n",
       "  <tbody>\n",
       "    <tr>\n",
       "      <th>0</th>\n",
       "      <td>2</td>\n",
       "      <td>1056</td>\n",
       "      <td>2</td>\n",
       "      <td>1</td>\n",
       "      <td>3907000</td>\n",
       "      <td>Alandi Road</td>\n",
       "    </tr>\n",
       "    <tr>\n",
       "      <th>1</th>\n",
       "      <td>4</td>\n",
       "      <td>2600</td>\n",
       "      <td>5</td>\n",
       "      <td>3</td>\n",
       "      <td>12000000</td>\n",
       "      <td>Ambegaon Budruk</td>\n",
       "    </tr>\n",
       "    <tr>\n",
       "      <th>2</th>\n",
       "      <td>3</td>\n",
       "      <td>1440</td>\n",
       "      <td>2</td>\n",
       "      <td>3</td>\n",
       "      <td>6200000</td>\n",
       "      <td>Anandnagar</td>\n",
       "    </tr>\n",
       "    <tr>\n",
       "      <th>3</th>\n",
       "      <td>3</td>\n",
       "      <td>1521</td>\n",
       "      <td>3</td>\n",
       "      <td>1</td>\n",
       "      <td>9500000</td>\n",
       "      <td>Aundh</td>\n",
       "    </tr>\n",
       "    <tr>\n",
       "      <th>4</th>\n",
       "      <td>2</td>\n",
       "      <td>1200</td>\n",
       "      <td>2</td>\n",
       "      <td>1</td>\n",
       "      <td>5100000</td>\n",
       "      <td>Aundh Road</td>\n",
       "    </tr>\n",
       "  </tbody>\n",
       "</table>\n",
       "</div>"
      ],
      "text/plain": [
       "   size  total_sqft  bath  balcony     price    site_location\n",
       "0     2        1056     2        1   3907000      Alandi Road\n",
       "1     4        2600     5        3  12000000  Ambegaon Budruk\n",
       "2     3        1440     2        3   6200000       Anandnagar\n",
       "3     3        1521     3        1   9500000            Aundh\n",
       "4     2        1200     2        1   5100000       Aundh Road"
      ]
     },
     "execution_count": 90,
     "metadata": {},
     "output_type": "execute_result"
    }
   ],
   "source": [
    "data.head()"
   ]
  },
  {
   "cell_type": "code",
   "execution_count": 91,
   "id": "7924b644",
   "metadata": {},
   "outputs": [
    {
     "data": {
      "text/html": [
       "<div>\n",
       "<style scoped>\n",
       "    .dataframe tbody tr th:only-of-type {\n",
       "        vertical-align: middle;\n",
       "    }\n",
       "\n",
       "    .dataframe tbody tr th {\n",
       "        vertical-align: top;\n",
       "    }\n",
       "\n",
       "    .dataframe thead th {\n",
       "        text-align: right;\n",
       "    }\n",
       "</style>\n",
       "<table border=\"1\" class=\"dataframe\">\n",
       "  <thead>\n",
       "    <tr style=\"text-align: right;\">\n",
       "      <th></th>\n",
       "      <th>size</th>\n",
       "      <th>total_sqft</th>\n",
       "      <th>bath</th>\n",
       "      <th>balcony</th>\n",
       "      <th>price</th>\n",
       "    </tr>\n",
       "  </thead>\n",
       "  <tbody>\n",
       "    <tr>\n",
       "      <th>count</th>\n",
       "      <td>12567.000000</td>\n",
       "      <td>12567.000000</td>\n",
       "      <td>12567.000000</td>\n",
       "      <td>12567.000000</td>\n",
       "      <td>1.256700e+04</td>\n",
       "    </tr>\n",
       "    <tr>\n",
       "      <th>mean</th>\n",
       "      <td>2.735816</td>\n",
       "      <td>1509.387523</td>\n",
       "      <td>2.613909</td>\n",
       "      <td>1.586536</td>\n",
       "      <td>1.057467e+07</td>\n",
       "    </tr>\n",
       "    <tr>\n",
       "      <th>std</th>\n",
       "      <td>1.205421</td>\n",
       "      <td>1164.476226</td>\n",
       "      <td>1.225060</td>\n",
       "      <td>0.817194</td>\n",
       "      <td>1.319194e+07</td>\n",
       "    </tr>\n",
       "    <tr>\n",
       "      <th>min</th>\n",
       "      <td>1.000000</td>\n",
       "      <td>5.000000</td>\n",
       "      <td>1.000000</td>\n",
       "      <td>0.000000</td>\n",
       "      <td>8.000000e+05</td>\n",
       "    </tr>\n",
       "    <tr>\n",
       "      <th>25%</th>\n",
       "      <td>2.000000</td>\n",
       "      <td>1100.000000</td>\n",
       "      <td>2.000000</td>\n",
       "      <td>1.000000</td>\n",
       "      <td>4.900000e+06</td>\n",
       "    </tr>\n",
       "    <tr>\n",
       "      <th>50%</th>\n",
       "      <td>3.000000</td>\n",
       "      <td>1258.000000</td>\n",
       "      <td>2.000000</td>\n",
       "      <td>2.000000</td>\n",
       "      <td>7.000000e+06</td>\n",
       "    </tr>\n",
       "    <tr>\n",
       "      <th>75%</th>\n",
       "      <td>3.000000</td>\n",
       "      <td>1636.000000</td>\n",
       "      <td>3.000000</td>\n",
       "      <td>2.000000</td>\n",
       "      <td>1.150000e+07</td>\n",
       "    </tr>\n",
       "    <tr>\n",
       "      <th>max</th>\n",
       "      <td>43.000000</td>\n",
       "      <td>52272.000000</td>\n",
       "      <td>40.000000</td>\n",
       "      <td>3.000000</td>\n",
       "      <td>2.912000e+08</td>\n",
       "    </tr>\n",
       "  </tbody>\n",
       "</table>\n",
       "</div>"
      ],
      "text/plain": [
       "               size    total_sqft          bath       balcony         price\n",
       "count  12567.000000  12567.000000  12567.000000  12567.000000  1.256700e+04\n",
       "mean       2.735816   1509.387523      2.613909      1.586536  1.057467e+07\n",
       "std        1.205421   1164.476226      1.225060      0.817194  1.319194e+07\n",
       "min        1.000000      5.000000      1.000000      0.000000  8.000000e+05\n",
       "25%        2.000000   1100.000000      2.000000      1.000000  4.900000e+06\n",
       "50%        3.000000   1258.000000      2.000000      2.000000  7.000000e+06\n",
       "75%        3.000000   1636.000000      3.000000      2.000000  1.150000e+07\n",
       "max       43.000000  52272.000000     40.000000      3.000000  2.912000e+08"
      ]
     },
     "execution_count": 91,
     "metadata": {},
     "output_type": "execute_result"
    }
   ],
   "source": [
    "data.describe()"
   ]
  },
  {
   "cell_type": "code",
   "execution_count": 92,
   "id": "4aa3ce45",
   "metadata": {},
   "outputs": [
    {
     "name": "stdout",
     "output_type": "stream",
     "text": [
      "<class 'pandas.core.frame.DataFrame'>\n",
      "Int64Index: 12567 entries, 0 to 13308\n",
      "Data columns (total 6 columns):\n",
      " #   Column         Non-Null Count  Dtype \n",
      "---  ------         --------------  ----- \n",
      " 0   size           12567 non-null  int32 \n",
      " 1   total_sqft     12567 non-null  int32 \n",
      " 2   bath           12567 non-null  int32 \n",
      " 3   balcony        12567 non-null  int32 \n",
      " 4   price          12567 non-null  int32 \n",
      " 5   site_location  12567 non-null  object\n",
      "dtypes: int32(5), object(1)\n",
      "memory usage: 441.8+ KB\n"
     ]
    }
   ],
   "source": [
    "data.info()"
   ]
  },
  {
   "cell_type": "code",
   "execution_count": 93,
   "id": "8f97efde",
   "metadata": {},
   "outputs": [
    {
     "data": {
      "text/plain": [
       "23"
      ]
     },
     "execution_count": 93,
     "metadata": {},
     "output_type": "execute_result"
    }
   ],
   "source": [
    "data.duplicated().sum()"
   ]
  },
  {
   "cell_type": "code",
   "execution_count": 94,
   "id": "758c77fa",
   "metadata": {},
   "outputs": [],
   "source": [
    "data.drop_duplicates(inplace=True)"
   ]
  },
  {
   "cell_type": "code",
   "execution_count": 95,
   "id": "425e2b91",
   "metadata": {},
   "outputs": [
    {
     "data": {
      "text/plain": [
       "(12544, 6)"
      ]
     },
     "execution_count": 95,
     "metadata": {},
     "output_type": "execute_result"
    }
   ],
   "source": [
    "data.shape"
   ]
  },
  {
   "cell_type": "code",
   "execution_count": 96,
   "id": "4a03ab07",
   "metadata": {},
   "outputs": [
    {
     "data": {
      "text/html": [
       "<div>\n",
       "<style scoped>\n",
       "    .dataframe tbody tr th:only-of-type {\n",
       "        vertical-align: middle;\n",
       "    }\n",
       "\n",
       "    .dataframe tbody tr th {\n",
       "        vertical-align: top;\n",
       "    }\n",
       "\n",
       "    .dataframe thead th {\n",
       "        text-align: right;\n",
       "    }\n",
       "</style>\n",
       "<table border=\"1\" class=\"dataframe\">\n",
       "  <thead>\n",
       "    <tr style=\"text-align: right;\">\n",
       "      <th></th>\n",
       "      <th>size</th>\n",
       "      <th>total_sqft</th>\n",
       "      <th>bath</th>\n",
       "      <th>balcony</th>\n",
       "      <th>price</th>\n",
       "      <th>site_location</th>\n",
       "    </tr>\n",
       "  </thead>\n",
       "  <tbody>\n",
       "    <tr>\n",
       "      <th>0</th>\n",
       "      <td>2</td>\n",
       "      <td>1056</td>\n",
       "      <td>2</td>\n",
       "      <td>1</td>\n",
       "      <td>3907000</td>\n",
       "      <td>Alandi Road</td>\n",
       "    </tr>\n",
       "    <tr>\n",
       "      <th>1</th>\n",
       "      <td>4</td>\n",
       "      <td>2600</td>\n",
       "      <td>5</td>\n",
       "      <td>3</td>\n",
       "      <td>12000000</td>\n",
       "      <td>Ambegaon Budruk</td>\n",
       "    </tr>\n",
       "    <tr>\n",
       "      <th>2</th>\n",
       "      <td>3</td>\n",
       "      <td>1440</td>\n",
       "      <td>2</td>\n",
       "      <td>3</td>\n",
       "      <td>6200000</td>\n",
       "      <td>Anandnagar</td>\n",
       "    </tr>\n",
       "    <tr>\n",
       "      <th>3</th>\n",
       "      <td>3</td>\n",
       "      <td>1521</td>\n",
       "      <td>3</td>\n",
       "      <td>1</td>\n",
       "      <td>9500000</td>\n",
       "      <td>Aundh</td>\n",
       "    </tr>\n",
       "    <tr>\n",
       "      <th>4</th>\n",
       "      <td>2</td>\n",
       "      <td>1200</td>\n",
       "      <td>2</td>\n",
       "      <td>1</td>\n",
       "      <td>5100000</td>\n",
       "      <td>Aundh Road</td>\n",
       "    </tr>\n",
       "  </tbody>\n",
       "</table>\n",
       "</div>"
      ],
      "text/plain": [
       "   size  total_sqft  bath  balcony     price    site_location\n",
       "0     2        1056     2        1   3907000      Alandi Road\n",
       "1     4        2600     5        3  12000000  Ambegaon Budruk\n",
       "2     3        1440     2        3   6200000       Anandnagar\n",
       "3     3        1521     3        1   9500000            Aundh\n",
       "4     2        1200     2        1   5100000       Aundh Road"
      ]
     },
     "execution_count": 96,
     "metadata": {},
     "output_type": "execute_result"
    }
   ],
   "source": [
    "data.head()"
   ]
  },
  {
   "cell_type": "code",
   "execution_count": 143,
   "id": "f967864c",
   "metadata": {},
   "outputs": [],
   "source": [
    "data.to_csv(\"Cleaned_House_Details.csv\")"
   ]
  },
  {
   "cell_type": "markdown",
   "id": "2645180e",
   "metadata": {},
   "source": [
    "# Exploratory Data Analysis"
   ]
  },
  {
   "cell_type": "markdown",
   "id": "e57e4a9a",
   "metadata": {},
   "source": [
    "Univariant Analysis"
   ]
  },
  {
   "cell_type": "code",
   "execution_count": 100,
   "id": "262dcc49",
   "metadata": {
    "scrolled": true
   },
   "outputs": [
    {
     "data": {
      "image/png": "[encoded data removed]",
      "text/plain": [
       "<Figure size 432x288 with 1 Axes>"
      ]
     },
     "metadata": {
      "needs_background": "light"
     },
     "output_type": "display_data"
    },
    {
     "data": {
      "image/png": "[encoded data removed]",
      "text/plain": [
       "<Figure size 432x288 with 1 Axes>"
      ]
     },
     "metadata": {
      "needs_background": "light"
     },
     "output_type": "display_data"
    },
    {
     "data": {
      "image/png": "[encoded data removed]",
      "text/plain": [
       "<Figure size 432x288 with 1 Axes>"
      ]
     },
     "metadata": {
      "needs_background": "light"
     },
     "output_type": "display_data"
    },
    {
     "data": {
      "image/png": "[encoded data removed]",
      "text/plain": [
       "<Figure size 432x288 with 1 Axes>"
      ]
     },
     "metadata": {
      "needs_background": "light"
     },
     "output_type": "display_data"
    },
    {
     "data": {
      "image/png": "[encoded data removed]",
      "text/plain": [
       "<Figure size 432x288 with 1 Axes>"
      ]
     },
     "metadata": {
      "needs_background": "light"
     },
     "output_type": "display_data"
    },
    {
     "data": {
      "image/png": "[encoded data removed]",
      "text/plain": [
       "<Figure size 432x288 with 1 Axes>"
      ]
     },
     "metadata": {
      "needs_background": "light"
     },
     "output_type": "display_data"
    }
   ],
   "source": [
    "# Histogram\n",
    "for i in range(len(list(data.columns))):\n",
    "    if data[data.columns[i]].dtypes == \"int32\" or data[data.columns[i]].dtypes == \"float64\":\n",
    "        plt.show(plt.hist(data[data.columns[i]]))\n",
    "        plt.xlabel(data.columns[i])"
   ]
  },
  {
   "cell_type": "code",
   "execution_count": 101,
   "id": "be0c4efd",
   "metadata": {
    "scrolled": true
   },
   "outputs": [
    {
     "name": "stderr",
     "output_type": "stream",
     "text": [
      "C:\\Users\\mohit\\anaconda3\\envs\\ML_DL\\lib\\site-packages\\seaborn\\distributions.py:2619: FutureWarning: `distplot` is a deprecated function and will be removed in a future version. Please adapt your code to use either `displot` (a figure-level function with similar flexibility) or `histplot` (an axes-level function for histograms).\n",
      "  warnings.warn(msg, FutureWarning)\n"
     ]
    },
    {
     "data": {
      "image/png": "[encoded data removed]",
      "text/plain": [
       "<Figure size 432x288 with 1 Axes>"
      ]
     },
     "metadata": {
      "needs_background": "light"
     },
     "output_type": "display_data"
    },
    {
     "name": "stderr",
     "output_type": "stream",
     "text": [
      "C:\\Users\\mohit\\anaconda3\\envs\\ML_DL\\lib\\site-packages\\seaborn\\distributions.py:2619: FutureWarning: `distplot` is a deprecated function and will be removed in a future version. Please adapt your code to use either `displot` (a figure-level function with similar flexibility) or `histplot` (an axes-level function for histograms).\n",
      "  warnings.warn(msg, FutureWarning)\n"
     ]
    },
    {
     "data": {
      "image/png": "[encoded data removed]",
      "text/plain": [
       "<Figure size 432x288 with 1 Axes>"
      ]
     },
     "metadata": {
      "needs_background": "light"
     },
     "output_type": "display_data"
    },
    {
     "name": "stderr",
     "output_type": "stream",
     "text": [
      "C:\\Users\\mohit\\anaconda3\\envs\\ML_DL\\lib\\site-packages\\seaborn\\distributions.py:2619: FutureWarning: `distplot` is a deprecated function and will be removed in a future version. Please adapt your code to use either `displot` (a figure-level function with similar flexibility) or `histplot` (an axes-level function for histograms).\n",
      "  warnings.warn(msg, FutureWarning)\n"
     ]
    },
    {
     "data": {
      "image/png": "[encoded data removed]",
      "text/plain": [
       "<Figure size 432x288 with 1 Axes>"
      ]
     },
     "metadata": {
      "needs_background": "light"
     },
     "output_type": "display_data"
    },
    {
     "name": "stderr",
     "output_type": "stream",
     "text": [
      "C:\\Users\\mohit\\anaconda3\\envs\\ML_DL\\lib\\site-packages\\seaborn\\distributions.py:2619: FutureWarning: `distplot` is a deprecated function and will be removed in a future version. Please adapt your code to use either `displot` (a figure-level function with similar flexibility) or `histplot` (an axes-level function for histograms).\n",
      "  warnings.warn(msg, FutureWarning)\n"
     ]
    },
    {
     "data": {
      "image/png": "[encoded data removed]",
      "text/plain": [
       "<Figure size 432x288 with 1 Axes>"
      ]
     },
     "metadata": {
      "needs_background": "light"
     },
     "output_type": "display_data"
    },
    {
     "name": "stderr",
     "output_type": "stream",
     "text": [
      "C:\\Users\\mohit\\anaconda3\\envs\\ML_DL\\lib\\site-packages\\seaborn\\distributions.py:2619: FutureWarning: `distplot` is a deprecated function and will be removed in a future version. Please adapt your code to use either `displot` (a figure-level function with similar flexibility) or `histplot` (an axes-level function for histograms).\n",
      "  warnings.warn(msg, FutureWarning)\n"
     ]
    },
    {
     "data": {
      "image/png": "[encoded data removed]",
      "text/plain": [
       "<Figure size 432x288 with 1 Axes>"
      ]
     },
     "metadata": {
      "needs_background": "light"
     },
     "output_type": "display_data"
    }
   ],
   "source": [
    "# Distplot\n",
    "for i in range(len(list(data.columns))):\n",
    "    if data[data.columns[i]].dtypes == \"int32\" or data[data.columns[i]].dtypes == \"float64\":\n",
    "        plt.show(sns.distplot(data[data.columns[i]]))\n",
    "        #plt.xlabel(train.columns[i])"
   ]
  },
  {
   "cell_type": "code",
   "execution_count": 103,
   "id": "ca94eb4f",
   "metadata": {},
   "outputs": [
    {
     "name": "stderr",
     "output_type": "stream",
     "text": [
      "C:\\Users\\mohit\\anaconda3\\envs\\ML_DL\\lib\\site-packages\\seaborn\\_decorators.py:36: FutureWarning: Pass the following variable as a keyword arg: x. From version 0.12, the only valid positional argument will be `data`, and passing other arguments without an explicit keyword will result in an error or misinterpretation.\n",
      "  warnings.warn(\n"
     ]
    },
    {
     "data": {
      "image/png": "[encoded data removed]",
      "text/plain": [
       "<Figure size 432x288 with 1 Axes>"
      ]
     },
     "metadata": {
      "needs_background": "light"
     },
     "output_type": "display_data"
    },
    {
     "name": "stderr",
     "output_type": "stream",
     "text": [
      "C:\\Users\\mohit\\anaconda3\\envs\\ML_DL\\lib\\site-packages\\seaborn\\_decorators.py:36: FutureWarning: Pass the following variable as a keyword arg: x. From version 0.12, the only valid positional argument will be `data`, and passing other arguments without an explicit keyword will result in an error or misinterpretation.\n",
      "  warnings.warn(\n"
     ]
    },
    {
     "data": {
      "image/png": "[encoded data removed]",
      "text/plain": [
       "<Figure size 432x288 with 1 Axes>"
      ]
     },
     "metadata": {
      "needs_background": "light"
     },
     "output_type": "display_data"
    },
    {
     "name": "stderr",
     "output_type": "stream",
     "text": [
      "C:\\Users\\mohit\\anaconda3\\envs\\ML_DL\\lib\\site-packages\\seaborn\\_decorators.py:36: FutureWarning: Pass the following variable as a keyword arg: x. From version 0.12, the only valid positional argument will be `data`, and passing other arguments without an explicit keyword will result in an error or misinterpretation.\n",
      "  warnings.warn(\n"
     ]
    },
    {
     "data": {
      "image/png": "[encoded data removed]",
      "text/plain": [
       "<Figure size 432x288 with 1 Axes>"
      ]
     },
     "metadata": {
      "needs_background": "light"
     },
     "output_type": "display_data"
    },
    {
     "name": "stderr",
     "output_type": "stream",
     "text": [
      "C:\\Users\\mohit\\anaconda3\\envs\\ML_DL\\lib\\site-packages\\seaborn\\_decorators.py:36: FutureWarning: Pass the following variable as a keyword arg: x. From version 0.12, the only valid positional argument will be `data`, and passing other arguments without an explicit keyword will result in an error or misinterpretation.\n",
      "  warnings.warn(\n"
     ]
    },
    {
     "data": {
      "image/png": "[encoded data removed]",
      "text/plain": [
       "<Figure size 432x288 with 1 Axes>"
      ]
     },
     "metadata": {
      "needs_background": "light"
     },
     "output_type": "display_data"
    },
    {
     "name": "stderr",
     "output_type": "stream",
     "text": [
      "C:\\Users\\mohit\\anaconda3\\envs\\ML_DL\\lib\\site-packages\\seaborn\\_decorators.py:36: FutureWarning: Pass the following variable as a keyword arg: x. From version 0.12, the only valid positional argument will be `data`, and passing other arguments without an explicit keyword will result in an error or misinterpretation.\n",
      "  warnings.warn(\n"
     ]
    },
    {
     "data": {
      "image/png": "[encoded data removed]",
      "text/plain": [
       "<Figure size 432x288 with 1 Axes>"
      ]
     },
     "metadata": {
      "needs_background": "light"
     },
     "output_type": "display_data"
    }
   ],
   "source": [
    "# BoxPlot\n",
    "for i in range(len(list(data.columns))):\n",
    "    if data[data.columns[i]].dtypes == \"int32\" or data[data.columns[i]].dtypes == \"float64\":\n",
    "        plt.show(sns.boxplot(data[data.columns[i]]))\n",
    "        #plt.xlabel(train.columns[i])"
   ]
  },
  {
   "cell_type": "code",
   "execution_count": 104,
   "id": "3859bbf5",
   "metadata": {},
   "outputs": [
    {
     "name": "stderr",
     "output_type": "stream",
     "text": [
      "C:\\Users\\mohit\\anaconda3\\envs\\ML_DL\\lib\\site-packages\\seaborn\\_decorators.py:36: FutureWarning: Pass the following variable as a keyword arg: x. From version 0.12, the only valid positional argument will be `data`, and passing other arguments without an explicit keyword will result in an error or misinterpretation.\n",
      "  warnings.warn(\n"
     ]
    },
    {
     "data": {
      "image/png": "[encoded data removed]",
      "text/plain": [
       "<Figure size 432x288 with 1 Axes>"
      ]
     },
     "metadata": {
      "needs_background": "light"
     },
     "output_type": "display_data"
    },
    {
     "name": "stderr",
     "output_type": "stream",
     "text": [
      "C:\\Users\\mohit\\anaconda3\\envs\\ML_DL\\lib\\site-packages\\seaborn\\_decorators.py:36: FutureWarning: Pass the following variable as a keyword arg: x. From version 0.12, the only valid positional argument will be `data`, and passing other arguments without an explicit keyword will result in an error or misinterpretation.\n",
      "  warnings.warn(\n"
     ]
    },
    {
     "data": {
      "image/png": "[encoded data removed]",
      "text/plain": [
       "<Figure size 432x288 with 1 Axes>"
      ]
     },
     "metadata": {
      "needs_background": "light"
     },
     "output_type": "display_data"
    },
    {
     "name": "stderr",
     "output_type": "stream",
     "text": [
      "C:\\Users\\mohit\\anaconda3\\envs\\ML_DL\\lib\\site-packages\\seaborn\\_decorators.py:36: FutureWarning: Pass the following variable as a keyword arg: x. From version 0.12, the only valid positional argument will be `data`, and passing other arguments without an explicit keyword will result in an error or misinterpretation.\n",
      "  warnings.warn(\n"
     ]
    },
    {
     "data": {
      "image/png": "[encoded data removed]",
      "text/plain": [
       "<Figure size 432x288 with 1 Axes>"
      ]
     },
     "metadata": {
      "needs_background": "light"
     },
     "output_type": "display_data"
    },
    {
     "name": "stderr",
     "output_type": "stream",
     "text": [
      "C:\\Users\\mohit\\anaconda3\\envs\\ML_DL\\lib\\site-packages\\seaborn\\_decorators.py:36: FutureWarning: Pass the following variable as a keyword arg: x. From version 0.12, the only valid positional argument will be `data`, and passing other arguments without an explicit keyword will result in an error or misinterpretation.\n",
      "  warnings.warn(\n"
     ]
    },
    {
     "data": {
      "image/png": "[encoded data removed]",
      "text/plain": [
       "<Figure size 432x288 with 1 Axes>"
      ]
     },
     "metadata": {
      "needs_background": "light"
     },
     "output_type": "display_data"
    },
    {
     "name": "stderr",
     "output_type": "stream",
     "text": [
      "C:\\Users\\mohit\\anaconda3\\envs\\ML_DL\\lib\\site-packages\\seaborn\\_decorators.py:36: FutureWarning: Pass the following variable as a keyword arg: x. From version 0.12, the only valid positional argument will be `data`, and passing other arguments without an explicit keyword will result in an error or misinterpretation.\n",
      "  warnings.warn(\n"
     ]
    },
    {
     "data": {
      "image/png": "[encoded data removed]",
      "text/plain": [
       "<Figure size 432x288 with 1 Axes>"
      ]
     },
     "metadata": {
      "needs_background": "light"
     },
     "output_type": "display_data"
    }
   ],
   "source": [
    "# BoxenPlot\n",
    "for i in range(len(list(data.columns))):\n",
    "    if data[data.columns[i]].dtypes == \"int32\" or data[data.columns[i]].dtypes == \"float64\":\n",
    "        plt.show(sns.boxenplot(data[data.columns[i]]))\n",
    "        #plt.xlabel(train.columns[i])"
   ]
  },
  {
   "cell_type": "markdown",
   "id": "24547a13",
   "metadata": {},
   "source": [
    "Multivariant Analysis"
   ]
  },
  {
   "cell_type": "code",
   "execution_count": 105,
   "id": "c740fe13",
   "metadata": {},
   "outputs": [
    {
     "data": {
      "text/plain": [
       "<seaborn.axisgrid.PairGrid at 0x29d16693730>"
      ]
     },
     "execution_count": 105,
     "metadata": {},
     "output_type": "execute_result"
    },
    {
     "data": {
      "image/png": "[encoded data removed]",
      "text/plain": [
       "<Figure size 900x900 with 30 Axes>"
      ]
     },
     "metadata": {
      "needs_background": "light"
     },
     "output_type": "display_data"
    }
   ],
   "source": [
    "sns.pairplot(data)"
   ]
  },
  {
   "cell_type": "code",
   "execution_count": 106,
   "id": "67000936",
   "metadata": {},
   "outputs": [
    {
     "data": {
      "text/plain": [
       "(12544, 6)"
      ]
     },
     "execution_count": 106,
     "metadata": {},
     "output_type": "execute_result"
    }
   ],
   "source": [
    "data.shape"
   ]
  },
  {
   "cell_type": "markdown",
   "id": "102604f8",
   "metadata": {},
   "source": [
    "# Feature Transformation"
   ]
  },
  {
   "cell_type": "code",
   "execution_count": 2,
   "id": "c5b41758-ef53-4b3d-b12a-de60881b4389",
   "metadata": {},
   "outputs": [
    {
     "data": {
      "text/html": [
       "<div>\n",
       "<style scoped>\n",
       "    .dataframe tbody tr th:only-of-type {\n",
       "        vertical-align: middle;\n",
       "    }\n",
       "\n",
       "    .dataframe tbody tr th {\n",
       "        vertical-align: top;\n",
       "    }\n",
       "\n",
       "    .dataframe thead th {\n",
       "        text-align: right;\n",
       "    }\n",
       "</style>\n",
       "<table border=\"1\" class=\"dataframe\">\n",
       "  <thead>\n",
       "    <tr style=\"text-align: right;\">\n",
       "      <th></th>\n",
       "      <th>Unnamed: 0</th>\n",
       "      <th>size</th>\n",
       "      <th>total_sqft</th>\n",
       "      <th>bath</th>\n",
       "      <th>balcony</th>\n",
       "      <th>price</th>\n",
       "      <th>site_location</th>\n",
       "    </tr>\n",
       "  </thead>\n",
       "  <tbody>\n",
       "    <tr>\n",
       "      <th>0</th>\n",
       "      <td>0</td>\n",
       "      <td>2.0</td>\n",
       "      <td>1056.0</td>\n",
       "      <td>2.0</td>\n",
       "      <td>1</td>\n",
       "      <td>3907000.0</td>\n",
       "      <td>Alandi Road</td>\n",
       "    </tr>\n",
       "    <tr>\n",
       "      <th>1</th>\n",
       "      <td>1</td>\n",
       "      <td>4.0</td>\n",
       "      <td>2447.5</td>\n",
       "      <td>4.5</td>\n",
       "      <td>3</td>\n",
       "      <td>12000000.0</td>\n",
       "      <td>Ambegaon Budruk</td>\n",
       "    </tr>\n",
       "    <tr>\n",
       "      <th>2</th>\n",
       "      <td>2</td>\n",
       "      <td>3.0</td>\n",
       "      <td>1440.0</td>\n",
       "      <td>2.0</td>\n",
       "      <td>3</td>\n",
       "      <td>6200000.0</td>\n",
       "      <td>Anandnagar</td>\n",
       "    </tr>\n",
       "    <tr>\n",
       "      <th>3</th>\n",
       "      <td>3</td>\n",
       "      <td>3.0</td>\n",
       "      <td>1521.0</td>\n",
       "      <td>3.0</td>\n",
       "      <td>1</td>\n",
       "      <td>9500000.0</td>\n",
       "      <td>Aundh</td>\n",
       "    </tr>\n",
       "    <tr>\n",
       "      <th>4</th>\n",
       "      <td>4</td>\n",
       "      <td>2.0</td>\n",
       "      <td>1200.0</td>\n",
       "      <td>2.0</td>\n",
       "      <td>1</td>\n",
       "      <td>5100000.0</td>\n",
       "      <td>Aundh Road</td>\n",
       "    </tr>\n",
       "  </tbody>\n",
       "</table>\n",
       "</div>"
      ],
      "text/plain": [
       "   Unnamed: 0  size  total_sqft  bath  balcony       price    site_location\n",
       "0           0   2.0      1056.0   2.0        1   3907000.0      Alandi Road\n",
       "1           1   4.0      2447.5   4.5        3  12000000.0  Ambegaon Budruk\n",
       "2           2   3.0      1440.0   2.0        3   6200000.0       Anandnagar\n",
       "3           3   3.0      1521.0   3.0        1   9500000.0            Aundh\n",
       "4           4   2.0      1200.0   2.0        1   5100000.0       Aundh Road"
      ]
     },
     "execution_count": 2,
     "metadata": {},
     "output_type": "execute_result"
    }
   ],
   "source": [
    "data = pd.read_csv(\"data/Cleaned_House_Details.csv\")\n",
    "data.head()"
   ]
  },
  {
   "cell_type": "code",
   "execution_count": 3,
   "id": "5223aa3f-005e-4dda-b31b-ad8362d208ec",
   "metadata": {},
   "outputs": [],
   "source": [
    "data.drop(columns=[\"Unnamed: 0\"], inplace=True)"
   ]
  },
  {
   "cell_type": "code",
   "execution_count": 4,
   "id": "1194ecd7-bec2-4117-8c1f-4968bf7eeb42",
   "metadata": {},
   "outputs": [
    {
     "data": {
      "text/plain": [
       "(12544, 6)"
      ]
     },
     "execution_count": 4,
     "metadata": {},
     "output_type": "execute_result"
    }
   ],
   "source": [
    "data.shape"
   ]
  },
  {
   "cell_type": "code",
   "execution_count": 5,
   "id": "3504abb1-b5dc-41e0-a351-03946739c60d",
   "metadata": {},
   "outputs": [
    {
     "name": "stdout",
     "output_type": "stream",
     "text": [
      "<class 'pandas.core.frame.DataFrame'>\n",
      "RangeIndex: 12544 entries, 0 to 12543\n",
      "Data columns (total 6 columns):\n",
      " #   Column         Non-Null Count  Dtype  \n",
      "---  ------         --------------  -----  \n",
      " 0   size           12544 non-null  float64\n",
      " 1   total_sqft     12544 non-null  float64\n",
      " 2   bath           12544 non-null  float64\n",
      " 3   balcony        12544 non-null  int64  \n",
      " 4   price          12544 non-null  float64\n",
      " 5   site_location  12544 non-null  object \n",
      "dtypes: float64(4), int64(1), object(1)\n",
      "memory usage: 588.1+ KB\n"
     ]
    }
   ],
   "source": [
    "data.info()"
   ]
  },
  {
   "cell_type": "code",
   "execution_count": 6,
   "id": "d44a8179-d143-4302-8d71-f249ba733194",
   "metadata": {},
   "outputs": [
    {
     "data": {
      "text/html": [
       "<div>\n",
       "<style scoped>\n",
       "    .dataframe tbody tr th:only-of-type {\n",
       "        vertical-align: middle;\n",
       "    }\n",
       "\n",
       "    .dataframe tbody tr th {\n",
       "        vertical-align: top;\n",
       "    }\n",
       "\n",
       "    .dataframe thead th {\n",
       "        text-align: right;\n",
       "    }\n",
       "</style>\n",
       "<table border=\"1\" class=\"dataframe\">\n",
       "  <thead>\n",
       "    <tr style=\"text-align: right;\">\n",
       "      <th></th>\n",
       "      <th>size</th>\n",
       "      <th>total_sqft</th>\n",
       "      <th>bath</th>\n",
       "      <th>balcony</th>\n",
       "      <th>price</th>\n",
       "    </tr>\n",
       "  </thead>\n",
       "  <tbody>\n",
       "    <tr>\n",
       "      <th>count</th>\n",
       "      <td>12544.000000</td>\n",
       "      <td>12544.000000</td>\n",
       "      <td>12544.000000</td>\n",
       "      <td>12544.000000</td>\n",
       "      <td>1.254400e+04</td>\n",
       "    </tr>\n",
       "    <tr>\n",
       "      <th>mean</th>\n",
       "      <td>2.670281</td>\n",
       "      <td>1413.540497</td>\n",
       "      <td>2.553173</td>\n",
       "      <td>1.586814</td>\n",
       "      <td>8.923126e+06</td>\n",
       "    </tr>\n",
       "    <tr>\n",
       "      <th>std</th>\n",
       "      <td>0.810778</td>\n",
       "      <td>468.491980</td>\n",
       "      <td>0.844694</td>\n",
       "      <td>0.817446</td>\n",
       "      <td>5.538341e+06</td>\n",
       "    </tr>\n",
       "    <tr>\n",
       "      <th>min</th>\n",
       "      <td>1.500000</td>\n",
       "      <td>830.500000</td>\n",
       "      <td>1.500000</td>\n",
       "      <td>0.000000</td>\n",
       "      <td>1.600000e+06</td>\n",
       "    </tr>\n",
       "    <tr>\n",
       "      <th>25%</th>\n",
       "      <td>2.000000</td>\n",
       "      <td>1100.000000</td>\n",
       "      <td>2.000000</td>\n",
       "      <td>1.000000</td>\n",
       "      <td>4.900000e+06</td>\n",
       "    </tr>\n",
       "    <tr>\n",
       "      <th>50%</th>\n",
       "      <td>3.000000</td>\n",
       "      <td>1260.000000</td>\n",
       "      <td>2.000000</td>\n",
       "      <td>2.000000</td>\n",
       "      <td>7.000000e+06</td>\n",
       "    </tr>\n",
       "    <tr>\n",
       "      <th>75%</th>\n",
       "      <td>3.000000</td>\n",
       "      <td>1639.000000</td>\n",
       "      <td>3.000000</td>\n",
       "      <td>2.000000</td>\n",
       "      <td>1.150000e+07</td>\n",
       "    </tr>\n",
       "    <tr>\n",
       "      <th>max</th>\n",
       "      <td>4.500000</td>\n",
       "      <td>2447.500000</td>\n",
       "      <td>4.500000</td>\n",
       "      <td>3.000000</td>\n",
       "      <td>2.140000e+07</td>\n",
       "    </tr>\n",
       "  </tbody>\n",
       "</table>\n",
       "</div>"
      ],
      "text/plain": [
       "               size    total_sqft          bath       balcony         price\n",
       "count  12544.000000  12544.000000  12544.000000  12544.000000  1.254400e+04\n",
       "mean       2.670281   1413.540497      2.553173      1.586814  8.923126e+06\n",
       "std        0.810778    468.491980      0.844694      0.817446  5.538341e+06\n",
       "min        1.500000    830.500000      1.500000      0.000000  1.600000e+06\n",
       "25%        2.000000   1100.000000      2.000000      1.000000  4.900000e+06\n",
       "50%        3.000000   1260.000000      2.000000      2.000000  7.000000e+06\n",
       "75%        3.000000   1639.000000      3.000000      2.000000  1.150000e+07\n",
       "max        4.500000   2447.500000      4.500000      3.000000  2.140000e+07"
      ]
     },
     "execution_count": 6,
     "metadata": {},
     "output_type": "execute_result"
    }
   ],
   "source": [
    "data.describe()"
   ]
  },
  {
   "cell_type": "code",
   "execution_count": null,
   "id": "cd8fc998-0362-489e-998f-f526eda1bb70",
   "metadata": {},
   "outputs": [],
   "source": []
  },
  {
   "cell_type": "markdown",
   "id": "51f776ba",
   "metadata": {},
   "source": [
    "Outlier Detection"
   ]
  },
  {
   "cell_type": "code",
   "execution_count": 107,
   "id": "3b7245d9",
   "metadata": {
    "scrolled": true
   },
   "outputs": [
    {
     "name": "stderr",
     "output_type": "stream",
     "text": [
      "C:\\Users\\mohit\\anaconda3\\envs\\ML_DL\\lib\\site-packages\\seaborn\\distributions.py:2619: FutureWarning: `distplot` is a deprecated function and will be removed in a future version. Please adapt your code to use either `displot` (a figure-level function with similar flexibility) or `histplot` (an axes-level function for histograms).\n",
      "  warnings.warn(msg, FutureWarning)\n"
     ]
    },
    {
     "data": {
      "image/png": "[encoded data removed]",
      "text/plain": [
       "<Figure size 1152x360 with 1 Axes>"
      ]
     },
     "metadata": {
      "needs_background": "light"
     },
     "output_type": "display_data"
    },
    {
     "name": "stderr",
     "output_type": "stream",
     "text": [
      "C:\\Users\\mohit\\anaconda3\\envs\\ML_DL\\lib\\site-packages\\seaborn\\distributions.py:2619: FutureWarning: `distplot` is a deprecated function and will be removed in a future version. Please adapt your code to use either `displot` (a figure-level function with similar flexibility) or `histplot` (an axes-level function for histograms).\n",
      "  warnings.warn(msg, FutureWarning)\n"
     ]
    },
    {
     "data": {
      "image/png": "[encoded data removed]",
      "text/plain": [
       "<Figure size 1152x360 with 1 Axes>"
      ]
     },
     "metadata": {
      "needs_background": "light"
     },
     "output_type": "display_data"
    },
    {
     "name": "stderr",
     "output_type": "stream",
     "text": [
      "C:\\Users\\mohit\\anaconda3\\envs\\ML_DL\\lib\\site-packages\\seaborn\\distributions.py:2619: FutureWarning: `distplot` is a deprecated function and will be removed in a future version. Please adapt your code to use either `displot` (a figure-level function with similar flexibility) or `histplot` (an axes-level function for histograms).\n",
      "  warnings.warn(msg, FutureWarning)\n"
     ]
    },
    {
     "data": {
      "image/png": "[encoded data removed]",
      "text/plain": [
       "<Figure size 1152x360 with 1 Axes>"
      ]
     },
     "metadata": {
      "needs_background": "light"
     },
     "output_type": "display_data"
    },
    {
     "name": "stderr",
     "output_type": "stream",
     "text": [
      "C:\\Users\\mohit\\anaconda3\\envs\\ML_DL\\lib\\site-packages\\seaborn\\distributions.py:2619: FutureWarning: `distplot` is a deprecated function and will be removed in a future version. Please adapt your code to use either `displot` (a figure-level function with similar flexibility) or `histplot` (an axes-level function for histograms).\n",
      "  warnings.warn(msg, FutureWarning)\n"
     ]
    },
    {
     "data": {
      "image/png": "[encoded data removed]",
      "text/plain": [
       "<Figure size 1152x360 with 1 Axes>"
      ]
     },
     "metadata": {
      "needs_background": "light"
     },
     "output_type": "display_data"
    },
    {
     "name": "stderr",
     "output_type": "stream",
     "text": [
      "C:\\Users\\mohit\\anaconda3\\envs\\ML_DL\\lib\\site-packages\\seaborn\\distributions.py:2619: FutureWarning: `distplot` is a deprecated function and will be removed in a future version. Please adapt your code to use either `displot` (a figure-level function with similar flexibility) or `histplot` (an axes-level function for histograms).\n",
      "  warnings.warn(msg, FutureWarning)\n"
     ]
    },
    {
     "data": {
      "image/png": "[encoded data removed]",
      "text/plain": [
       "<Figure size 1152x360 with 1 Axes>"
      ]
     },
     "metadata": {
      "needs_background": "light"
     },
     "output_type": "display_data"
    }
   ],
   "source": [
    "# Distplot\n",
    "for i in range(len(list(data.columns))):\n",
    "    if data[data.columns[i]].dtypes == \"int32\" or data[data.columns[i]].dtypes == \"float64\":\n",
    "        plt.figure(figsize=(16,5))\n",
    "        sns.distplot(data[data.columns[i]])\n",
    "        plt.show()"
   ]
  },
  {
   "cell_type": "code",
   "execution_count": 108,
   "id": "57bd5c8d",
   "metadata": {},
   "outputs": [
    {
     "name": "stdout",
     "output_type": "stream",
     "text": [
      "size : 5.327247652389566\n",
      "total_sqft : 17.542997352292225\n",
      "bath : 4.6318376715996346\n",
      "balcony : 0.007174596194668463\n",
      "price : 7.915125488677364\n"
     ]
    }
   ],
   "source": [
    "for i in range(len(list(data.columns))):\n",
    "    if data[data.columns[i]].dtypes == \"int32\" or data[data.columns[i]].dtypes == \"float64\":\n",
    "        print(f'{data.columns[i]} : {data[data.columns[i]].skew()}')"
   ]
  },
  {
   "cell_type": "code",
   "execution_count": 7,
   "id": "d2b0a8a4",
   "metadata": {
    "scrolled": true
   },
   "outputs": [
    {
     "data": {
      "image/png": "[encoded data removed]",
      "text/plain": [
       "<Figure size 640x480 with 1 Axes>"
      ]
     },
     "metadata": {},
     "output_type": "display_data"
    },
    {
     "data": {
      "image/png": "[encoded data removed]",
      "text/plain": [
       "<Figure size 640x480 with 1 Axes>"
      ]
     },
     "metadata": {},
     "output_type": "display_data"
    },
    {
     "data": {
      "image/png": "[encoded data removed]",
      "text/plain": [
       "<Figure size 640x480 with 1 Axes>"
      ]
     },
     "metadata": {},
     "output_type": "display_data"
    },
    {
     "data": {
      "image/png": "[encoded data removed]",
      "text/plain": [
       "<Figure size 640x480 with 1 Axes>"
      ]
     },
     "metadata": {},
     "output_type": "display_data"
    }
   ],
   "source": [
    "# Boxplot\n",
    "for i in range(len(list(data.columns))):\n",
    "    if data[data.columns[i]].dtypes == \"int32\" or data[data.columns[i]].dtypes == \"float64\":\n",
    "        plt.show(sns.boxplot(data[data.columns[i]]))\n",
    "        #plt.xlabel(train.columns[i])"
   ]
  },
  {
   "cell_type": "code",
   "execution_count": 8,
   "id": "27f021fa",
   "metadata": {},
   "outputs": [],
   "source": [
    "# CAPPING OUTLIERS\n",
    "\n",
    "# percentile25 = train[\"colnames\"].quantile(0.25)\n",
    "# percentile75 = train[\"colnames\"].quantile(0.75)\n",
    "# iqr = percentile75 - percentile25\n",
    "# upper_limit = percentile75 + 1.5 * iqr\n",
    "# lower_limit = percentile25 - 1.5 * iqr\n",
    "\n",
    "def outlier_removal(column_name):\n",
    "    upper_limit, lower_limit = column_name.quantile(0.75) + 1.5 * (column_name.quantile(0.75) - column_name.quantile(0.25)), column_name.quantile(0.75) - 1.5 * (column_name.quantile(0.75) - column_name.quantile(0.25))\n",
    "    \n",
    "    column_name = np.where(column_name > upper_limit,upper_limit,\n",
    "                                              np.where(column_name < lower_limit,lower_limit,\n",
    "                                              column_name))\n",
    "    return column_name"
   ]
  },
  {
   "cell_type": "code",
   "execution_count": 9,
   "id": "f241c943",
   "metadata": {},
   "outputs": [],
   "source": [
    "data[\"size\"] = outlier_removal(data[\"size\"])\n",
    "data[\"total_sqft\"] = outlier_removal(data[\"total_sqft\"])\n",
    "data[\"bath\"] = outlier_removal(data[\"bath\"])\n",
    "data[\"price\"] = outlier_removal(data[\"price\"])"
   ]
  },
  {
   "cell_type": "code",
   "execution_count": 10,
   "id": "684d2a69",
   "metadata": {
    "scrolled": true
   },
   "outputs": [
    {
     "data": {
      "image/png": "[encoded data removed]",
      "text/plain": [
       "<Figure size 640x480 with 1 Axes>"
      ]
     },
     "metadata": {},
     "output_type": "display_data"
    },
    {
     "data": {
      "image/png": "[encoded data removed]",
      "text/plain": [
       "<Figure size 640x480 with 1 Axes>"
      ]
     },
     "metadata": {},
     "output_type": "display_data"
    },
    {
     "data": {
      "image/png": "[encoded data removed]",
      "text/plain": [
       "<Figure size 640x480 with 1 Axes>"
      ]
     },
     "metadata": {},
     "output_type": "display_data"
    },
    {
     "data": {
      "image/png": "[encoded data removed]",
      "text/plain": [
       "<Figure size 640x480 with 1 Axes>"
      ]
     },
     "metadata": {},
     "output_type": "display_data"
    }
   ],
   "source": [
    "# Boxplot\n",
    "for i in range(len(list(data.columns))):\n",
    "    if data[data.columns[i]].dtypes == \"int32\" or data[data.columns[i]].dtypes == \"float64\":\n",
    "        plt.show(sns.boxplot(data[data.columns[i]]))\n",
    "        #plt.xlabel(train.columns[i])"
   ]
  },
  {
   "cell_type": "code",
   "execution_count": 11,
   "id": "66158858",
   "metadata": {
    "scrolled": true
   },
   "outputs": [
    {
     "name": "stderr",
     "output_type": "stream",
     "text": [
      "/tmp/ipykernel_23512/1644142296.py:5: UserWarning: \n",
      "\n",
      "`distplot` is a deprecated function and will be removed in seaborn v0.14.0.\n",
      "\n",
      "Please adapt your code to use either `displot` (a figure-level function with\n",
      "similar flexibility) or `histplot` (an axes-level function for histograms).\n",
      "\n",
      "For a guide to updating your code to use the new functions, please see\n",
      "https://gist.github.com/mwaskom/de44147ed2974457ad6372750bbe5751\n",
      "\n",
      "  sns.distplot(data[data.columns[i]])\n"
     ]
    },
    {
     "data": {
      "image/png": "[encoded data removed]",
      "text/plain": [
       "<Figure size 1600x500 with 1 Axes>"
      ]
     },
     "metadata": {},
     "output_type": "display_data"
    },
    {
     "name": "stderr",
     "output_type": "stream",
     "text": [
      "/tmp/ipykernel_23512/1644142296.py:5: UserWarning: \n",
      "\n",
      "`distplot` is a deprecated function and will be removed in seaborn v0.14.0.\n",
      "\n",
      "Please adapt your code to use either `displot` (a figure-level function with\n",
      "similar flexibility) or `histplot` (an axes-level function for histograms).\n",
      "\n",
      "For a guide to updating your code to use the new functions, please see\n",
      "https://gist.github.com/mwaskom/de44147ed2974457ad6372750bbe5751\n",
      "\n",
      "  sns.distplot(data[data.columns[i]])\n"
     ]
    },
    {
     "data": {
      "image/png": "[encoded data removed]",
      "text/plain": [
       "<Figure size 1600x500 with 1 Axes>"
      ]
     },
     "metadata": {},
     "output_type": "display_data"
    },
    {
     "name": "stderr",
     "output_type": "stream",
     "text": [
      "/tmp/ipykernel_23512/1644142296.py:5: UserWarning: \n",
      "\n",
      "`distplot` is a deprecated function and will be removed in seaborn v0.14.0.\n",
      "\n",
      "Please adapt your code to use either `displot` (a figure-level function with\n",
      "similar flexibility) or `histplot` (an axes-level function for histograms).\n",
      "\n",
      "For a guide to updating your code to use the new functions, please see\n",
      "https://gist.github.com/mwaskom/de44147ed2974457ad6372750bbe5751\n",
      "\n",
      "  sns.distplot(data[data.columns[i]])\n"
     ]
    },
    {
     "data": {
      "image/png": "[encoded data removed]",
      "text/plain": [
       "<Figure size 1600x500 with 1 Axes>"
      ]
     },
     "metadata": {},
     "output_type": "display_data"
    },
    {
     "name": "stderr",
     "output_type": "stream",
     "text": [
      "/tmp/ipykernel_23512/1644142296.py:5: UserWarning: \n",
      "\n",
      "`distplot` is a deprecated function and will be removed in seaborn v0.14.0.\n",
      "\n",
      "Please adapt your code to use either `displot` (a figure-level function with\n",
      "similar flexibility) or `histplot` (an axes-level function for histograms).\n",
      "\n",
      "For a guide to updating your code to use the new functions, please see\n",
      "https://gist.github.com/mwaskom/de44147ed2974457ad6372750bbe5751\n",
      "\n",
      "  sns.distplot(data[data.columns[i]])\n"
     ]
    },
    {
     "data": {
      "image/png": "[encoded data removed]",
      "text/plain": [
       "<Figure size 1600x500 with 1 Axes>"
      ]
     },
     "metadata": {},
     "output_type": "display_data"
    }
   ],
   "source": [
    "# Distplot\n",
    "for i in range(len(list(data.columns))):\n",
    "    if data[data.columns[i]].dtypes == \"int32\" or data[data.columns[i]].dtypes == \"float64\":\n",
    "        plt.figure(figsize=(16,5))\n",
    "        sns.distplot(data[data.columns[i]])\n",
    "        plt.show()"
   ]
  },
  {
   "cell_type": "code",
   "execution_count": 12,
   "id": "c701547a",
   "metadata": {},
   "outputs": [
    {
     "data": {
      "text/plain": [
       "(12544, 6)"
      ]
     },
     "execution_count": 12,
     "metadata": {},
     "output_type": "execute_result"
    }
   ],
   "source": [
    "data.shape"
   ]
  },
  {
   "cell_type": "code",
   "execution_count": 13,
   "id": "f3940346",
   "metadata": {},
   "outputs": [
    {
     "data": {
      "text/plain": [
       "(12544, 6)"
      ]
     },
     "execution_count": 13,
     "metadata": {},
     "output_type": "execute_result"
    }
   ],
   "source": [
    "data.shape"
   ]
  },
  {
   "cell_type": "code",
   "execution_count": 14,
   "id": "b4058a53",
   "metadata": {},
   "outputs": [
    {
     "name": "stdout",
     "output_type": "stream",
     "text": [
      "<class 'pandas.core.frame.DataFrame'>\n",
      "RangeIndex: 12544 entries, 0 to 12543\n",
      "Data columns (total 6 columns):\n",
      " #   Column         Non-Null Count  Dtype  \n",
      "---  ------         --------------  -----  \n",
      " 0   size           12544 non-null  float64\n",
      " 1   total_sqft     12544 non-null  float64\n",
      " 2   bath           12544 non-null  float64\n",
      " 3   balcony        12544 non-null  int64  \n",
      " 4   price          12544 non-null  float64\n",
      " 5   site_location  12544 non-null  object \n",
      "dtypes: float64(4), int64(1), object(1)\n",
      "memory usage: 588.1+ KB\n"
     ]
    }
   ],
   "source": [
    "data.info()"
   ]
  },
  {
   "cell_type": "code",
   "execution_count": 15,
   "id": "ccf412da",
   "metadata": {},
   "outputs": [
    {
     "data": {
      "text/html": [
       "<div>\n",
       "<style scoped>\n",
       "    .dataframe tbody tr th:only-of-type {\n",
       "        vertical-align: middle;\n",
       "    }\n",
       "\n",
       "    .dataframe tbody tr th {\n",
       "        vertical-align: top;\n",
       "    }\n",
       "\n",
       "    .dataframe thead th {\n",
       "        text-align: right;\n",
       "    }\n",
       "</style>\n",
       "<table border=\"1\" class=\"dataframe\">\n",
       "  <thead>\n",
       "    <tr style=\"text-align: right;\">\n",
       "      <th></th>\n",
       "      <th>size</th>\n",
       "      <th>total_sqft</th>\n",
       "      <th>bath</th>\n",
       "      <th>balcony</th>\n",
       "      <th>price</th>\n",
       "      <th>site_location</th>\n",
       "    </tr>\n",
       "  </thead>\n",
       "  <tbody>\n",
       "    <tr>\n",
       "      <th>0</th>\n",
       "      <td>2.0</td>\n",
       "      <td>1056.0</td>\n",
       "      <td>2.0</td>\n",
       "      <td>1</td>\n",
       "      <td>3907000.0</td>\n",
       "      <td>Alandi Road</td>\n",
       "    </tr>\n",
       "    <tr>\n",
       "      <th>1</th>\n",
       "      <td>4.0</td>\n",
       "      <td>2447.5</td>\n",
       "      <td>4.5</td>\n",
       "      <td>3</td>\n",
       "      <td>12000000.0</td>\n",
       "      <td>Ambegaon Budruk</td>\n",
       "    </tr>\n",
       "    <tr>\n",
       "      <th>2</th>\n",
       "      <td>3.0</td>\n",
       "      <td>1440.0</td>\n",
       "      <td>2.0</td>\n",
       "      <td>3</td>\n",
       "      <td>6200000.0</td>\n",
       "      <td>Anandnagar</td>\n",
       "    </tr>\n",
       "    <tr>\n",
       "      <th>3</th>\n",
       "      <td>3.0</td>\n",
       "      <td>1521.0</td>\n",
       "      <td>3.0</td>\n",
       "      <td>1</td>\n",
       "      <td>9500000.0</td>\n",
       "      <td>Aundh</td>\n",
       "    </tr>\n",
       "    <tr>\n",
       "      <th>4</th>\n",
       "      <td>2.0</td>\n",
       "      <td>1200.0</td>\n",
       "      <td>2.0</td>\n",
       "      <td>1</td>\n",
       "      <td>5100000.0</td>\n",
       "      <td>Aundh Road</td>\n",
       "    </tr>\n",
       "  </tbody>\n",
       "</table>\n",
       "</div>"
      ],
      "text/plain": [
       "   size  total_sqft  bath  balcony       price    site_location\n",
       "0   2.0      1056.0   2.0        1   3907000.0      Alandi Road\n",
       "1   4.0      2447.5   4.5        3  12000000.0  Ambegaon Budruk\n",
       "2   3.0      1440.0   2.0        3   6200000.0       Anandnagar\n",
       "3   3.0      1521.0   3.0        1   9500000.0            Aundh\n",
       "4   2.0      1200.0   2.0        1   5100000.0       Aundh Road"
      ]
     },
     "execution_count": 15,
     "metadata": {},
     "output_type": "execute_result"
    }
   ],
   "source": [
    "data.head()"
   ]
  },
  {
   "cell_type": "markdown",
   "id": "4c789652",
   "metadata": {},
   "source": [
    "Handling Categorical Features \n",
    "\n",
    "Feature Scaling - Normalization"
   ]
  },
  {
   "cell_type": "code",
   "execution_count": 30,
   "id": "51638f89",
   "metadata": {
    "scrolled": true
   },
   "outputs": [
    {
     "data": {
      "text/plain": [
       "[array(['Alandi Road', 'Ambegaon Budruk', 'Anandnagar', 'Aundh',\n",
       "        'Aundh Road', 'Balaji Nagar', 'Baner', 'Baner road',\n",
       "        'Bhandarkar Road', 'Bhavani Peth', 'Bibvewadi', 'Bopodi',\n",
       "        'Budhwar Peth', 'Bund Garden', 'Camp', 'Chandan Nagar', 'Dapodi',\n",
       "        'Deccan Gymkhana', 'Dehu Road', 'Dhankawadi', 'Dhayari Phata',\n",
       "        'Dhole Patil', 'Erandwane', 'Fatima Nagar', 'Fergusson College',\n",
       "        'Ganesh Peth', 'Ganeshkhind', 'Ghorpade Peth', 'Ghorpadi',\n",
       "        'Gokhale Nagar', 'Gultekdi', 'Guruwar peth', 'Hadapsar',\n",
       "        'Hadapsar Industrial', 'Hingne Khurd', 'Jangali Maharaj',\n",
       "        'Kalyani Nagar', 'Karve Nagar', 'Karve Road', 'Kasba Peth',\n",
       "        'Katraj', 'Khadaki', 'Khadki', 'Kharadi', 'Kondhwa',\n",
       "        'Kondhwa Budruk', 'Kondhwa Khurd', 'Koregaon Park', 'Kothrud',\n",
       "        'Law College', 'Laxmi Road', 'Lulla Nagar', 'Mahatma Gandhi',\n",
       "        'Mangalwar peth', 'Manik Bagh', 'Market yard', 'Model colony',\n",
       "        'Mukund Nagar', 'Mundhawa', 'Nagar Road', 'Nana Peth',\n",
       "        'Narayan Peth', 'Narayangaon', 'Navi Peth', 'Padmavati',\n",
       "        'Parvati Darshan', 'Pashan', 'Paud Road', 'Pirangut',\n",
       "        'Prabhat Road', 'Pune Railway', 'Rasta Peth', 'Raviwar Peth',\n",
       "        'Sadashiv Peth', 'Sahakar Nagar', 'Salunke Vihar', 'Sasson Road',\n",
       "        'Satara Road', 'Senapati Bapat', 'Shaniwar Peth', 'Shivaji Nagar',\n",
       "        'Shukrawar Peth', 'Sinhagad Road', 'Somwar Peth', 'Swargate',\n",
       "        'Tilak Road', 'Uruli Devachi', 'Vadgaon Budruk', 'Viman Nagar',\n",
       "        'Vishrant Wadi', 'Wadgaon Sheri', 'Wagholi', 'Wakadewadi',\n",
       "        'Wanowrie', 'Warje', 'Yerawada'], dtype=object)]"
      ]
     },
     "execution_count": 30,
     "metadata": {},
     "output_type": "execute_result"
    }
   ],
   "source": [
    "ohe = OneHotEncoder()\n",
    "ohe.fit(data[[\"site_location\"]])\n",
    "ohe.categories_"
   ]
  },
  {
   "cell_type": "code",
   "execution_count": 31,
   "id": "f289387d",
   "metadata": {},
   "outputs": [],
   "source": [
    "clmn_tfr = make_column_transformer((OneHotEncoder(categories=ohe.categories_), [\"site_location\"]),\n",
    "                                   (MinMaxScaler(), [\"size\",\"total_sqft\",\"bath\",\"balcony\"]),\n",
    "                                      remainder=\"passthrough\")"
   ]
  },
  {
   "cell_type": "code",
   "execution_count": 32,
   "id": "3aabd769",
   "metadata": {},
   "outputs": [],
   "source": [
    "x = data.drop(columns=\"price\")\n",
    "y = data[\"price\"]\n",
    "# y = np.log1p(data[\"price\"])\n",
    "\n",
    "x_train, x_test, y_train, y_test = train_test_split(x, y, test_size=0.2, random_state=2)"
   ]
  },
  {
   "cell_type": "code",
   "execution_count": 33,
   "id": "e9978a9b",
   "metadata": {},
   "outputs": [
    {
     "data": {
      "text/html": [
       "<div>\n",
       "<style scoped>\n",
       "    .dataframe tbody tr th:only-of-type {\n",
       "        vertical-align: middle;\n",
       "    }\n",
       "\n",
       "    .dataframe tbody tr th {\n",
       "        vertical-align: top;\n",
       "    }\n",
       "\n",
       "    .dataframe thead th {\n",
       "        text-align: right;\n",
       "    }\n",
       "</style>\n",
       "<table border=\"1\" class=\"dataframe\">\n",
       "  <thead>\n",
       "    <tr style=\"text-align: right;\">\n",
       "      <th></th>\n",
       "      <th>size</th>\n",
       "      <th>total_sqft</th>\n",
       "      <th>bath</th>\n",
       "      <th>balcony</th>\n",
       "      <th>site_location</th>\n",
       "    </tr>\n",
       "  </thead>\n",
       "  <tbody>\n",
       "    <tr>\n",
       "      <th>5958</th>\n",
       "      <td>2.0</td>\n",
       "      <td>1206.0</td>\n",
       "      <td>2.0</td>\n",
       "      <td>1</td>\n",
       "      <td>Baner road</td>\n",
       "    </tr>\n",
       "    <tr>\n",
       "      <th>5617</th>\n",
       "      <td>2.0</td>\n",
       "      <td>940.0</td>\n",
       "      <td>2.0</td>\n",
       "      <td>1</td>\n",
       "      <td>Ghorpadi</td>\n",
       "    </tr>\n",
       "    <tr>\n",
       "      <th>1354</th>\n",
       "      <td>1.5</td>\n",
       "      <td>830.5</td>\n",
       "      <td>1.5</td>\n",
       "      <td>0</td>\n",
       "      <td>Yerawada</td>\n",
       "    </tr>\n",
       "    <tr>\n",
       "      <th>9008</th>\n",
       "      <td>3.0</td>\n",
       "      <td>1559.0</td>\n",
       "      <td>3.0</td>\n",
       "      <td>1</td>\n",
       "      <td>Sinhagad Road</td>\n",
       "    </tr>\n",
       "    <tr>\n",
       "      <th>3455</th>\n",
       "      <td>2.0</td>\n",
       "      <td>902.0</td>\n",
       "      <td>2.0</td>\n",
       "      <td>2</td>\n",
       "      <td>Jangali Maharaj</td>\n",
       "    </tr>\n",
       "  </tbody>\n",
       "</table>\n",
       "</div>"
      ],
      "text/plain": [
       "      size  total_sqft  bath  balcony    site_location\n",
       "5958   2.0      1206.0   2.0        1       Baner road\n",
       "5617   2.0       940.0   2.0        1         Ghorpadi\n",
       "1354   1.5       830.5   1.5        0         Yerawada\n",
       "9008   3.0      1559.0   3.0        1    Sinhagad Road\n",
       "3455   2.0       902.0   2.0        2  Jangali Maharaj"
      ]
     },
     "execution_count": 33,
     "metadata": {},
     "output_type": "execute_result"
    }
   ],
   "source": [
    "x_train.head()"
   ]
  },
  {
   "cell_type": "code",
   "execution_count": 34,
   "id": "68080866",
   "metadata": {},
   "outputs": [
    {
     "data": {
      "text/plain": [
       "5958     5300000.0\n",
       "5617     2538000.0\n",
       "1354    15000000.0\n",
       "9008     8155000.0\n",
       "3455     4200000.0\n",
       "Name: price, dtype: float64"
      ]
     },
     "execution_count": 34,
     "metadata": {},
     "output_type": "execute_result"
    }
   ],
   "source": [
    "y_train.head()"
   ]
  },
  {
   "cell_type": "code",
   "execution_count": null,
   "id": "e6ae41c6",
   "metadata": {},
   "outputs": [],
   "source": []
  },
  {
   "cell_type": "markdown",
   "id": "5a740300",
   "metadata": {},
   "source": [
    "# MODEL BUILDING"
   ]
  },
  {
   "cell_type": "markdown",
   "id": "3ca5c342-041a-4d7d-9eee-226c651e9c91",
   "metadata": {},
   "source": [
    "**Random Forest Regressor**"
   ]
  },
  {
   "cell_type": "code",
   "execution_count": 35,
   "id": "181569b8-c9a9-4758-856f-e8e38cff1940",
   "metadata": {
    "scrolled": true
   },
   "outputs": [
    {
     "name": "stdout",
     "output_type": "stream",
     "text": [
      "R2 Score: 67.06813041493906\n",
      "MAE: 2119213.610040254\n",
      "RMSE: 3164528.7521235473\n"
     ]
    }
   ],
   "source": [
    "from sklearn.pipeline import make_pipeline\n",
    "from sklearn.metrics import r2_score, mean_absolute_error, mean_squared_error\n",
    "\n",
    "# Initialize model\n",
    "rfr = RandomForestRegressor(random_state=8)\n",
    "\n",
    "# Pipeline\n",
    "pipe_rf = make_pipeline(clmn_tfr, rfr)\n",
    "\n",
    "# Fit\n",
    "pipe_rf.fit(x_train, y_train)\n",
    "\n",
    "# Predict\n",
    "pred = pipe_rf.predict(x_test)\n",
    "# pred = np.expm1(pipe_rf.predict(x_test))\n",
    "\n",
    "# Evaluate\n",
    "print(\"R2 Score:\", r2_score(y_test, pred) * 100)\n",
    "print(\"MAE:\", mean_absolute_error(y_test, pred))\n",
    "print(\"RMSE:\", np.sqrt(mean_squared_error(y_test, pred)))"
   ]
  },
  {
   "cell_type": "code",
   "execution_count": 36,
   "id": "e8f6117b-0066-40e5-b6f8-bf8dccf4f92f",
   "metadata": {
    "scrolled": true
   },
   "outputs": [
    {
     "name": "stdout",
     "output_type": "stream",
     "text": [
      "Fitting 5 folds for each of 50 candidates, totalling 250 fits\n",
      "[CV] END randomforestregressor__bootstrap=False, randomforestregressor__max_depth=10, randomforestregressor__max_features=auto, randomforestregressor__min_samples_leaf=4, randomforestregressor__min_samples_split=5, randomforestregressor__n_estimators=500; total time=   0.0s\n",
      "[CV] END randomforestregressor__bootstrap=True, randomforestregressor__max_depth=20, randomforestregressor__max_features=auto, randomforestregressor__min_samples_leaf=1, randomforestregressor__min_samples_split=5, randomforestregressor__n_estimators=200; total time=   0.0s\n",
      "[CV] END randomforestregressor__bootstrap=True, randomforestregressor__max_depth=20, randomforestregressor__max_features=auto, randomforestregressor__min_samples_leaf=1, randomforestregressor__min_samples_split=5, randomforestregressor__n_estimators=200; total time=   0.0s\n",
      "[CV] END randomforestregressor__bootstrap=True, randomforestregressor__max_depth=None, randomforestregressor__max_features=auto, randomforestregressor__min_samples_leaf=1, randomforestregressor__min_samples_split=2, randomforestregressor__n_estimators=100; total time=   0.0s\n",
      "[CV] END randomforestregressor__bootstrap=True, randomforestregressor__max_depth=None, randomforestregressor__max_features=auto, randomforestregressor__min_samples_leaf=1, randomforestregressor__min_samples_split=2, randomforestregressor__n_estimators=100; total time=   0.0s\n",
      "[CV] END randomforestregressor__bootstrap=False, randomforestregressor__max_depth=20, randomforestregressor__max_features=log2, randomforestregressor__min_samples_leaf=4, randomforestregressor__min_samples_split=10, randomforestregressor__n_estimators=100; total time=   0.7s\n",
      "[CV] END randomforestregressor__bootstrap=False, randomforestregressor__max_depth=15, randomforestregressor__max_features=auto, randomforestregressor__min_samples_leaf=4, randomforestregressor__min_samples_split=10, randomforestregressor__n_estimators=200; total time=   0.0s\n",
      "[CV] END randomforestregressor__bootstrap=True, randomforestregressor__max_depth=10, randomforestregressor__max_features=sqrt, randomforestregressor__min_samples_leaf=1, randomforestregressor__min_samples_split=10, randomforestregressor__n_estimators=500; total time=   2.2s\n",
      "[CV] END randomforestregressor__bootstrap=False, randomforestregressor__max_depth=None, randomforestregressor__max_features=log2, randomforestregressor__min_samples_leaf=2, randomforestregressor__min_samples_split=10, randomforestregressor__n_estimators=300; total time=   5.7s\n",
      "[CV] END randomforestregressor__bootstrap=False, randomforestregressor__max_depth=15, randomforestregressor__max_features=sqrt, randomforestregressor__min_samples_leaf=1, randomforestregressor__min_samples_split=5, randomforestregressor__n_estimators=300; total time=   2.8s\n",
      "[CV] END randomforestregressor__bootstrap=True, randomforestregressor__max_depth=10, randomforestregressor__max_features=log2, randomforestregressor__min_samples_leaf=4, randomforestregressor__min_samples_split=5, randomforestregressor__n_estimators=400; total time=   1.5s\n",
      "[CV] END randomforestregressor__bootstrap=False, randomforestregressor__max_depth=None, randomforestregressor__max_features=sqrt, randomforestregressor__min_samples_leaf=1, randomforestregressor__min_samples_split=10, randomforestregressor__n_estimators=200; total time=   7.4s\n",
      "[CV] END randomforestregressor__bootstrap=True, randomforestregressor__max_depth=5, randomforestregressor__max_features=auto, randomforestregressor__min_samples_leaf=2, randomforestregressor__min_samples_split=2, randomforestregressor__n_estimators=300; total time=   0.0s\n",
      "[CV] END randomforestregressor__bootstrap=True, randomforestregressor__max_depth=5, randomforestregressor__max_features=auto, randomforestregressor__min_samples_leaf=2, randomforestregressor__min_samples_split=2, randomforestregressor__n_estimators=300; total time=   0.0s\n",
      "[CV] END randomforestregressor__bootstrap=True, randomforestregressor__max_depth=5, randomforestregressor__max_features=auto, randomforestregressor__min_samples_leaf=2, randomforestregressor__min_samples_split=2, randomforestregressor__n_estimators=300; total time=   0.0s\n",
      "[CV] END randomforestregressor__bootstrap=True, randomforestregressor__max_depth=5, randomforestregressor__max_features=auto, randomforestregressor__min_samples_leaf=2, randomforestregressor__min_samples_split=2, randomforestregressor__n_estimators=300; total time=   0.0s\n",
      "[CV] END randomforestregressor__bootstrap=True, randomforestregressor__max_depth=5, randomforestregressor__max_features=auto, randomforestregressor__min_samples_leaf=2, randomforestregressor__min_samples_split=2, randomforestregressor__n_estimators=300; total time=   0.0s\n",
      "[CV] END randomforestregressor__bootstrap=False, randomforestregressor__max_depth=5, randomforestregressor__max_features=auto, randomforestregressor__min_samples_leaf=4, randomforestregressor__min_samples_split=5, randomforestregressor__n_estimators=200; total time=   0.0s\n",
      "[CV] END randomforestregressor__bootstrap=False, randomforestregressor__max_depth=5, randomforestregressor__max_features=auto, randomforestregressor__min_samples_leaf=4, randomforestregressor__min_samples_split=5, randomforestregressor__n_estimators=200; total time=   0.0s\n",
      "[CV] END randomforestregressor__bootstrap=False, randomforestregressor__max_depth=5, randomforestregressor__max_features=auto, randomforestregressor__min_samples_leaf=4, randomforestregressor__min_samples_split=5, randomforestregressor__n_estimators=200; total time=   0.0s\n",
      "[CV] END randomforestregressor__bootstrap=False, randomforestregressor__max_depth=5, randomforestregressor__max_features=auto, randomforestregressor__min_samples_leaf=4, randomforestregressor__min_samples_split=5, randomforestregressor__n_estimators=200; total time=   0.0s\n",
      "[CV] END randomforestregressor__bootstrap=False, randomforestregressor__max_depth=5, randomforestregressor__max_features=auto, randomforestregressor__min_samples_leaf=4, randomforestregressor__min_samples_split=5, randomforestregressor__n_estimators=200; total time=   0.0s\n",
      "[CV] END randomforestregressor__bootstrap=True, randomforestregressor__max_depth=None, randomforestregressor__max_features=auto, randomforestregressor__min_samples_leaf=4, randomforestregressor__min_samples_split=10, randomforestregressor__n_estimators=200; total time=   0.0s\n",
      "[CV] END randomforestregressor__bootstrap=True, randomforestregressor__max_depth=None, randomforestregressor__max_features=auto, randomforestregressor__min_samples_leaf=4, randomforestregressor__min_samples_split=10, randomforestregressor__n_estimators=200; total time=   0.0s\n",
      "[CV] END randomforestregressor__bootstrap=True, randomforestregressor__max_depth=None, randomforestregressor__max_features=auto, randomforestregressor__min_samples_leaf=4, randomforestregressor__min_samples_split=10, randomforestregressor__n_estimators=200; total time=   0.0s\n",
      "[CV] END randomforestregressor__bootstrap=False, randomforestregressor__max_depth=15, randomforestregressor__max_features=auto, randomforestregressor__min_samples_leaf=2, randomforestregressor__min_samples_split=10, randomforestregressor__n_estimators=100; total time=   0.0s\n",
      "[CV] END randomforestregressor__bootstrap=False, randomforestregressor__max_depth=15, randomforestregressor__max_features=auto, randomforestregressor__min_samples_leaf=2, randomforestregressor__min_samples_split=10, randomforestregressor__n_estimators=100; total time=   0.0s\n",
      "[CV] END randomforestregressor__bootstrap=False, randomforestregressor__max_depth=15, randomforestregressor__max_features=auto, randomforestregressor__min_samples_leaf=2, randomforestregressor__min_samples_split=10, randomforestregressor__n_estimators=100; total time=   0.0s\n",
      "[CV] END randomforestregressor__bootstrap=True, randomforestregressor__max_depth=20, randomforestregressor__max_features=log2, randomforestregressor__min_samples_leaf=1, randomforestregressor__min_samples_split=5, randomforestregressor__n_estimators=300; total time=   2.7s\n",
      "[CV] END randomforestregressor__bootstrap=False, randomforestregressor__max_depth=20, randomforestregressor__max_features=sqrt, randomforestregressor__min_samples_leaf=4, randomforestregressor__min_samples_split=5, randomforestregressor__n_estimators=500; total time=   4.9s\n",
      "[CV] END randomforestregressor__bootstrap=False, randomforestregressor__max_depth=20, randomforestregressor__max_features=log2, randomforestregressor__min_samples_leaf=4, randomforestregressor__min_samples_split=10, randomforestregressor__n_estimators=200; total time=   1.4s\n",
      "[CV] END randomforestregressor__bootstrap=True, randomforestregressor__max_depth=15, randomforestregressor__max_features=log2, randomforestregressor__min_samples_leaf=4, randomforestregressor__min_samples_split=2, randomforestregressor__n_estimators=200; total time=   0.9s\n",
      "[CV] END randomforestregressor__bootstrap=True, randomforestregressor__max_depth=10, randomforestregressor__max_features=sqrt, randomforestregressor__min_samples_leaf=4, randomforestregressor__min_samples_split=2, randomforestregressor__n_estimators=300; total time=   1.3s\n",
      "[CV] END randomforestregressor__bootstrap=False, randomforestregressor__max_depth=15, randomforestregressor__max_features=sqrt, randomforestregressor__min_samples_leaf=1, randomforestregressor__min_samples_split=5, randomforestregressor__n_estimators=300; total time=   2.9s\n",
      "[CV] END randomforestregressor__bootstrap=True, randomforestregressor__max_depth=20, randomforestregressor__max_features=sqrt, randomforestregressor__min_samples_leaf=1, randomforestregressor__min_samples_split=10, randomforestregressor__n_estimators=300; total time=   2.7s\n",
      "[CV] END randomforestregressor__bootstrap=False, randomforestregressor__max_depth=15, randomforestregressor__max_features=sqrt, randomforestregressor__min_samples_leaf=2, randomforestregressor__min_samples_split=2, randomforestregressor__n_estimators=200; total time=   1.9s\n",
      "[CV] END randomforestregressor__bootstrap=False, randomforestregressor__max_depth=15, randomforestregressor__max_features=sqrt, randomforestregressor__min_samples_leaf=2, randomforestregressor__min_samples_split=2, randomforestregressor__n_estimators=200; total time=   1.9s\n",
      "[CV] END randomforestregressor__bootstrap=True, randomforestregressor__max_depth=15, randomforestregressor__max_features=auto, randomforestregressor__min_samples_leaf=4, randomforestregressor__min_samples_split=5, randomforestregressor__n_estimators=400; total time=   0.0s\n",
      "[CV] END randomforestregressor__bootstrap=True, randomforestregressor__max_depth=15, randomforestregressor__max_features=auto, randomforestregressor__min_samples_leaf=4, randomforestregressor__min_samples_split=5, randomforestregressor__n_estimators=400; total time=   0.0s\n",
      "[CV] END randomforestregressor__bootstrap=True, randomforestregressor__max_depth=15, randomforestregressor__max_features=auto, randomforestregressor__min_samples_leaf=4, randomforestregressor__min_samples_split=5, randomforestregressor__n_estimators=400; total time=   0.0s\n",
      "[CV] END randomforestregressor__bootstrap=True, randomforestregressor__max_depth=15, randomforestregressor__max_features=auto, randomforestregressor__min_samples_leaf=4, randomforestregressor__min_samples_split=5, randomforestregressor__n_estimators=400; total time=   0.0s\n",
      "[CV] END randomforestregressor__bootstrap=True, randomforestregressor__max_depth=15, randomforestregressor__max_features=auto, randomforestregressor__min_samples_leaf=2, randomforestregressor__min_samples_split=2, randomforestregressor__n_estimators=200; total time=   0.0s\n",
      "[CV] END randomforestregressor__bootstrap=True, randomforestregressor__max_depth=15, randomforestregressor__max_features=auto, randomforestregressor__min_samples_leaf=2, randomforestregressor__min_samples_split=2, randomforestregressor__n_estimators=200; total time=   0.0s\n",
      "[CV] END randomforestregressor__bootstrap=True, randomforestregressor__max_depth=15, randomforestregressor__max_features=auto, randomforestregressor__min_samples_leaf=2, randomforestregressor__min_samples_split=2, randomforestregressor__n_estimators=200; total time=   0.0s\n",
      "[CV] END randomforestregressor__bootstrap=True, randomforestregressor__max_depth=5, randomforestregressor__max_features=sqrt, randomforestregressor__min_samples_leaf=2, randomforestregressor__min_samples_split=10, randomforestregressor__n_estimators=200; total time=   0.6s\n",
      "[CV] END randomforestregressor__bootstrap=True, randomforestregressor__max_depth=5, randomforestregressor__max_features=sqrt, randomforestregressor__min_samples_leaf=2, randomforestregressor__min_samples_split=10, randomforestregressor__n_estimators=200; total time=   0.7s\n",
      "[CV] END randomforestregressor__bootstrap=True, randomforestregressor__max_depth=10, randomforestregressor__max_features=auto, randomforestregressor__min_samples_leaf=2, randomforestregressor__min_samples_split=5, randomforestregressor__n_estimators=300; total time=   0.0s\n",
      "[CV] END randomforestregressor__bootstrap=True, randomforestregressor__max_depth=10, randomforestregressor__max_features=auto, randomforestregressor__min_samples_leaf=2, randomforestregressor__min_samples_split=5, randomforestregressor__n_estimators=300; total time=   0.0s\n",
      "[CV] END randomforestregressor__bootstrap=True, randomforestregressor__max_depth=10, randomforestregressor__max_features=auto, randomforestregressor__min_samples_leaf=2, randomforestregressor__min_samples_split=5, randomforestregressor__n_estimators=300; total time=   0.0s\n",
      "[CV] END randomforestregressor__bootstrap=True, randomforestregressor__max_depth=10, randomforestregressor__max_features=auto, randomforestregressor__min_samples_leaf=2, randomforestregressor__min_samples_split=5, randomforestregressor__n_estimators=300; total time=   0.0s\n",
      "[CV] END randomforestregressor__bootstrap=True, randomforestregressor__max_depth=10, randomforestregressor__max_features=auto, randomforestregressor__min_samples_leaf=2, randomforestregressor__min_samples_split=5, randomforestregressor__n_estimators=300; total time=   0.0s\n",
      "[CV] END randomforestregressor__bootstrap=False, randomforestregressor__max_depth=10, randomforestregressor__max_features=sqrt, randomforestregressor__min_samples_leaf=2, randomforestregressor__min_samples_split=10, randomforestregressor__n_estimators=300; total time=   1.4s\n",
      "[CV] END randomforestregressor__bootstrap=True, randomforestregressor__max_depth=None, randomforestregressor__max_features=auto, randomforestregressor__min_samples_leaf=4, randomforestregressor__min_samples_split=10, randomforestregressor__n_estimators=200; total time=   0.0s\n",
      "[CV] END randomforestregressor__bootstrap=True, randomforestregressor__max_depth=None, randomforestregressor__max_features=auto, randomforestregressor__min_samples_leaf=4, randomforestregressor__min_samples_split=10, randomforestregressor__n_estimators=200; total time=   0.0s\n",
      "[CV] END randomforestregressor__bootstrap=False, randomforestregressor__max_depth=15, randomforestregressor__max_features=auto, randomforestregressor__min_samples_leaf=2, randomforestregressor__min_samples_split=10, randomforestregressor__n_estimators=100; total time=   0.0s\n",
      "[CV] END randomforestregressor__bootstrap=False, randomforestregressor__max_depth=15, randomforestregressor__max_features=auto, randomforestregressor__min_samples_leaf=2, randomforestregressor__min_samples_split=10, randomforestregressor__n_estimators=100; total time=   0.0s\n",
      "[CV] END randomforestregressor__bootstrap=True, randomforestregressor__max_depth=20, randomforestregressor__max_features=log2, randomforestregressor__min_samples_leaf=1, randomforestregressor__min_samples_split=5, randomforestregressor__n_estimators=300; total time=   2.6s\n",
      "[CV] END randomforestregressor__bootstrap=True, randomforestregressor__max_depth=10, randomforestregressor__max_features=sqrt, randomforestregressor__min_samples_leaf=1, randomforestregressor__min_samples_split=5, randomforestregressor__n_estimators=400; total time=   2.5s\n"
     ]
    },
    {
     "name": "stderr",
     "output_type": "stream",
     "text": [
      "/home/mohit/Documents/Projects/project_env/lib/python3.12/site-packages/sklearn/model_selection/_validation.py:528: FitFailedWarning: \n",
      "110 fits failed out of a total of 250.\n",
      "The score on these train-test partitions for these parameters will be set to nan.\n",
      "If these failures are not expected, you can try to debug them by setting error_score='raise'.\n",
      "\n",
      "Below are more details about the failures:\n",
      "--------------------------------------------------------------------------------\n",
      "23 fits failed with the following error:\n",
      "Traceback (most recent call last):\n",
      "  File \"/home/mohit/Documents/Projects/project_env/lib/python3.12/site-packages/sklearn/model_selection/_validation.py\", line 866, in _fit_and_score\n",
      "    estimator.fit(X_train, y_train, **fit_params)\n",
      "  File \"/home/mohit/Documents/Projects/project_env/lib/python3.12/site-packages/sklearn/base.py\", line 1389, in wrapper\n",
      "    return fit_method(estimator, *args, **kwargs)\n",
      "           ^^^^^^^^^^^^^^^^^^^^^^^^^^^^^^^^^^^^^^\n",
      "  File \"/home/mohit/Documents/Projects/project_env/lib/python3.12/site-packages/sklearn/pipeline.py\", line 662, in fit\n",
      "    self._final_estimator.fit(Xt, y, **last_step_params[\"fit\"])\n",
      "  File \"/home/mohit/Documents/Projects/project_env/lib/python3.12/site-packages/sklearn/base.py\", line 1382, in wrapper\n",
      "    estimator._validate_params()\n",
      "  File \"/home/mohit/Documents/Projects/project_env/lib/python3.12/site-packages/sklearn/base.py\", line 436, in _validate_params\n",
      "    validate_parameter_constraints(\n",
      "  File \"/home/mohit/Documents/Projects/project_env/lib/python3.12/site-packages/sklearn/utils/_param_validation.py\", line 98, in validate_parameter_constraints\n",
      "    raise InvalidParameterError(\n",
      "sklearn.utils._param_validation.InvalidParameterError: The 'max_features' parameter of RandomForestRegressor must be an int in the range [1, inf), a float in the range (0.0, 1.0], a str among {'log2', 'sqrt'} or None. Got 'auto' instead.\n",
      "\n",
      "--------------------------------------------------------------------------------\n",
      "87 fits failed with the following error:\n",
      "Traceback (most recent call last):\n",
      "  File \"/home/mohit/Documents/Projects/project_env/lib/python3.12/site-packages/sklearn/model_selection/_validation.py\", line 866, in _fit_and_score\n",
      "    estimator.fit(X_train, y_train, **fit_params)\n",
      "  File \"/home/mohit/Documents/Projects/project_env/lib/python3.12/site-packages/sklearn/base.py\", line 1389, in wrapper\n",
      "    return fit_method(estimator, *args, **kwargs)\n",
      "           ^^^^^^^^^^^^^^^^^^^^^^^^^^^^^^^^^^^^^^\n",
      "  File \"/home/mohit/Documents/Projects/project_env/lib/python3.12/site-packages/sklearn/pipeline.py\", line 662, in fit\n",
      "    self._final_estimator.fit(Xt, y, **last_step_params[\"fit\"])\n",
      "  File \"/home/mohit/Documents/Projects/project_env/lib/python3.12/site-packages/sklearn/base.py\", line 1382, in wrapper\n",
      "    estimator._validate_params()\n",
      "  File \"/home/mohit/Documents/Projects/project_env/lib/python3.12/site-packages/sklearn/base.py\", line 436, in _validate_params\n",
      "    validate_parameter_constraints(\n",
      "  File \"/home/mohit/Documents/Projects/project_env/lib/python3.12/site-packages/sklearn/utils/_param_validation.py\", line 98, in validate_parameter_constraints\n",
      "    raise InvalidParameterError(\n",
      "sklearn.utils._param_validation.InvalidParameterError: The 'max_features' parameter of RandomForestRegressor must be an int in the range [1, inf), a float in the range (0.0, 1.0], a str among {'sqrt', 'log2'} or None. Got 'auto' instead.\n",
      "\n",
      "  warnings.warn(some_fits_failed_message, FitFailedWarning)\n",
      "/home/mohit/Documents/Projects/project_env/lib/python3.12/site-packages/sklearn/model_selection/_search.py:1108: UserWarning: One or more of the test scores are non-finite: [       nan 0.69334009        nan        nan        nan 0.66285514\n",
      " 0.58158758        nan 0.64722092 0.68991508 0.68307853        nan\n",
      " 0.6609433  0.66142334        nan        nan 0.63075012 0.63877648\n",
      "        nan 0.64616219 0.68174089 0.6962237  0.57933991 0.66723703\n",
      " 0.66922385 0.67972037 0.69500115        nan        nan 0.53297677\n",
      "        nan 0.64398465        nan        nan        nan        nan\n",
      " 0.66733988 0.69624001 0.64903255 0.53277715        nan        nan\n",
      " 0.43904863        nan        nan 0.43655771        nan 0.57205801\n",
      "        nan 0.64608803]\n",
      "  warnings.warn(\n"
     ]
    },
    {
     "name": "stdout",
     "output_type": "stream",
     "text": [
      "✅ Best Params: {'randomforestregressor__n_estimators': 400, 'randomforestregressor__min_samples_split': 2, 'randomforestregressor__min_samples_leaf': 2, 'randomforestregressor__max_features': 'sqrt', 'randomforestregressor__max_depth': 20, 'randomforestregressor__bootstrap': True}\n",
      "🎯 Test R² Score: 68.07%\n",
      "📉 MAE: 2188748.978804513\n",
      "📈 RMSE: 3116037.379000735\n"
     ]
    }
   ],
   "source": [
    "from sklearn.model_selection import RandomizedSearchCV\n",
    "from sklearn.compose import make_column_transformer\n",
    "\n",
    "# Split features and target\n",
    "x = data.drop(columns=\"price\")\n",
    "y = np.log1p(data[\"price\"])  # Log-transform the target\n",
    "\n",
    "# One-hot encode 'site_location' and scale numerical features\n",
    "ohe = OneHotEncoder()\n",
    "ohe.fit(data[[\"site_location\"]])\n",
    "\n",
    "clmn_tfr = make_column_transformer(\n",
    "    (OneHotEncoder(categories=ohe.categories_), [\"site_location\"]),\n",
    "    (MinMaxScaler(), [\"size\", \"total_sqft\", \"bath\", \"balcony\"]),\n",
    "    remainder=\"passthrough\"\n",
    ")\n",
    "\n",
    "# Train/test split\n",
    "x_train, x_test, y_train, y_test = train_test_split(x, y, test_size=0.2, random_state=2)\n",
    "\n",
    "# Base model\n",
    "rf = RandomForestRegressor(random_state=2)\n",
    "\n",
    "# Pipeline\n",
    "pipe = make_pipeline(clmn_tfr, rf)\n",
    "\n",
    "# Hyperparameter grid\n",
    "param_dist = {\n",
    "    'randomforestregressor__n_estimators': [100, 200, 300, 400, 500],\n",
    "    'randomforestregressor__max_depth': [5, 10, 15, 20, None],\n",
    "    'randomforestregressor__min_samples_split': [2, 5, 10],\n",
    "    'randomforestregressor__min_samples_leaf': [1, 2, 4],\n",
    "    'randomforestregressor__max_features': ['auto', 'sqrt', 'log2'],\n",
    "    'randomforestregressor__bootstrap': [True, False]\n",
    "}\n",
    "\n",
    "# RandomizedSearchCV\n",
    "random_search = RandomizedSearchCV(\n",
    "    estimator=pipe,\n",
    "    param_distributions=param_dist,\n",
    "    n_iter=50,\n",
    "    cv=5,\n",
    "    scoring='r2',\n",
    "    verbose=2,\n",
    "    random_state=2,\n",
    "    n_jobs=-1\n",
    ")\n",
    "\n",
    "# Fit\n",
    "random_search.fit(x_train, y_train)\n",
    "\n",
    "# Best model\n",
    "best_model = random_search.best_estimator_\n",
    "\n",
    "# Predict and inverse log\n",
    "pred_log = best_model.predict(x_test)\n",
    "pred = np.expm1(pred_log)  # Reverse transformation\n",
    "y_test_original = np.expm1(y_test)\n",
    "\n",
    "# Evaluation\n",
    "r2 = r2_score(y_test_original, pred)\n",
    "mae = mean_absolute_error(y_test_original, pred)\n",
    "rmse = np.sqrt(mean_squared_error(y_test_original, pred))\n",
    "\n",
    "print(\"✅ Best Params:\", random_search.best_params_)\n",
    "print(f\"🎯 Test R² Score: {r2*100:.2f}%\")\n",
    "print(f\"📉 MAE: {mae}\")\n",
    "print(f\"📈 RMSE: {rmse}\")\n"
   ]
  },
  {
   "cell_type": "code",
   "execution_count": null,
   "id": "e27135f9-0f3d-4b23-bbb9-8d75496afc10",
   "metadata": {},
   "outputs": [],
   "source": [
    "# pickle.dump(best_model,open(\"randomforest_House_Price_Prediction.pkl\",\"wb\"))"
   ]
  },
  {
   "cell_type": "markdown",
   "id": "a27d1ea5-bee1-4875-9dab-485d425dd0f8",
   "metadata": {},
   "source": [
    "**XGBoost Regressor**"
   ]
  },
  {
   "cell_type": "code",
   "execution_count": 37,
   "id": "c52a5f1e-6889-42c4-ae89-f88d66760940",
   "metadata": {},
   "outputs": [
    {
     "name": "stdout",
     "output_type": "stream",
     "text": [
      "📊 XGBoost Regressor Results\n",
      "R2 Score: 70.84188004614253\n",
      "MAE: 0.2453219247934328\n",
      "RMSE: 0.3207025509868066\n"
     ]
    }
   ],
   "source": [
    "from xgboost import XGBRegressor\n",
    "\n",
    "# Define the XGBRegressor\n",
    "xgb = XGBRegressor(n_estimators=100, learning_rate=0.1, max_depth=6, random_state=8)\n",
    "\n",
    "# Create pipeline\n",
    "pipe_xgb = make_pipeline(clmn_tfr, xgb)\n",
    "\n",
    "# Fit model\n",
    "xgb_model = pipe_xgb.fit(x_train, y_train)\n",
    "\n",
    "# Predict\n",
    "pred = xgb_model.predict(x_test)\n",
    "\n",
    "# Evaluation\n",
    "print(\"📊 XGBoost Regressor Results\")\n",
    "print(\"R2 Score:\", r2_score(y_test, pred) * 100)\n",
    "print(\"MAE:\", mean_absolute_error(y_test, pred))\n",
    "print(\"RMSE:\", np.sqrt(mean_squared_error(y_test, pred)))"
   ]
  },
  {
   "cell_type": "code",
   "execution_count": 38,
   "id": "738f0166-4dcf-42a9-b4e6-a315550d653d",
   "metadata": {},
   "outputs": [
    {
     "name": "stdout",
     "output_type": "stream",
     "text": [
      "Fitting 5 folds for each of 50 candidates, totalling 250 fits\n",
      "✅ Best Params: {'xgbregressor__subsample': 0.8, 'xgbregressor__n_estimators': 500, 'xgbregressor__max_depth': 6, 'xgbregressor__learning_rate': 0.01, 'xgbregressor__colsample_bytree': 0.8}\n",
      "🎯 Test R² Score: 71.12645647217289\n",
      "📉 MAE: 0.24534494215760388\n",
      "📈 RMSE: 0.3191337228351697\n"
     ]
    }
   ],
   "source": [
    "from sklearn.model_selection import RandomizedSearchCV\n",
    "\n",
    "params = {\n",
    "    \"xgbregressor__n_estimators\": [100, 200, 300, 400, 500],\n",
    "    \"xgbregressor__learning_rate\": [0.01, 0.05, 0.1, 0.2],\n",
    "    \"xgbregressor__max_depth\": [3, 4, 5, 6, 7],\n",
    "    \"xgbregressor__subsample\": [0.6, 0.8, 1.0],\n",
    "    \"xgbregressor__colsample_bytree\": [0.6, 0.8, 1.0]\n",
    "}\n",
    "\n",
    "random_search = RandomizedSearchCV(pipe_xgb, params, n_iter=50, cv=5, scoring='r2', verbose=1, n_jobs=-1)\n",
    "random_search.fit(x_train, y_train)\n",
    "\n",
    "best_xgb_model = random_search.best_estimator_\n",
    "pred = best_xgb_model.predict(x_test)\n",
    "\n",
    "print(\"✅ Best Params:\", random_search.best_params_)\n",
    "print(\"🎯 Test R² Score:\", r2_score(y_test, pred) * 100)\n",
    "print(\"📉 MAE:\", mean_absolute_error(y_test, pred))\n",
    "print(\"📈 RMSE:\", np.sqrt(mean_squared_error(y_test, pred)))"
   ]
  },
  {
   "cell_type": "code",
   "execution_count": 50,
   "id": "18143747-a325-4fbe-a66b-503bb94c09c0",
   "metadata": {},
   "outputs": [
    {
     "name": "stdout",
     "output_type": "stream",
     "text": [
      "Fitting 5 folds for each of 108 candidates, totalling 540 fits\n",
      "✅ Best Params: {'xgbregressor__colsample_bytree': 1.0, 'xgbregressor__learning_rate': 0.01, 'xgbregressor__max_depth': 6, 'xgbregressor__n_estimators': 400, 'xgbregressor__subsample': 0.8}\n",
      "🎯 Test R² Score: 71.37185744308202\n",
      "📉 MAE: 0.24432021721737643\n",
      "📈 RMSE: 0.31777464405033395\n"
     ]
    }
   ],
   "source": [
    "from sklearn.model_selection import GridSearchCV\n",
    "\n",
    "param_grid = {\n",
    "    \"xgbregressor__n_estimators\": [300, 400, 500],\n",
    "    \"xgbregressor__learning_rate\": [0.01, 0.05, 0.1],\n",
    "    \"xgbregressor__max_depth\": [4, 5, 6],\n",
    "    \"xgbregressor__subsample\": [0.6, 0.8],\n",
    "    \"xgbregressor__colsample_bytree\": [0.8, 1.0]\n",
    "}\n",
    "\n",
    "grid_search = GridSearchCV(pipe_xgb, param_grid, cv=5, scoring='r2', verbose=1, n_jobs=-1)\n",
    "grid_search.fit(x_train, y_train)\n",
    "\n",
    "best_xgb_grid_model = grid_search.best_estimator_\n",
    "pred = best_xgb_grid_model.predict(x_test)\n",
    "\n",
    "print(\"✅ Best Params:\", grid_search.best_params_)\n",
    "print(\"🎯 Test R² Score:\", r2_score(y_test, pred) * 100)\n",
    "print(\"📉 MAE:\", mean_absolute_error(y_test, pred))\n",
    "print(\"📈 RMSE:\", np.sqrt(mean_squared_error(y_test, pred)))"
   ]
  },
  {
   "cell_type": "code",
   "execution_count": 51,
   "id": "35c75084-14ea-4070-912e-6f1fa2d81696",
   "metadata": {
    "scrolled": true
   },
   "outputs": [],
   "source": [
    "pickle.dump(best_xgb_grid_model,open(\"xgb_model_House_Price_Prediction.pkl\",\"wb\"))"
   ]
  },
  {
   "cell_type": "code",
   "execution_count": null,
   "id": "703815d3-76d9-44d1-ab84-88d5a14d0afc",
   "metadata": {},
   "outputs": [],
   "source": []
  },
  {
   "cell_type": "markdown",
   "id": "782c6d17-7f5a-4cc7-91b5-c55c527cf4fe",
   "metadata": {},
   "source": [
    "**GradientBoosting Regressor**"
   ]
  },
  {
   "cell_type": "code",
   "execution_count": 44,
   "id": "79427ec4-f203-466b-bb09-8398ba0e0545",
   "metadata": {
    "scrolled": true
   },
   "outputs": [
    {
     "name": "stdout",
     "output_type": "stream",
     "text": [
      "R2 Score: 70.33061818861171\n",
      "MAE: 0.24879864265770346\n",
      "RMSE: 0.3235019509256893\n"
     ]
    }
   ],
   "source": [
    "from sklearn.ensemble import GradientBoostingRegressor\n",
    "\n",
    "gbr = GradientBoostingRegressor(random_state=42)\n",
    "pipe_gbr = make_pipeline(clmn_tfr, gbr)\n",
    "pipe_gbr.fit(x_train, y_train)\n",
    "pred = pipe_gbr.predict(x_test)\n",
    "\n",
    "print(\"R2 Score:\", r2_score(y_test, pred)*100)\n",
    "print(\"MAE:\", mean_absolute_error(y_test, pred))\n",
    "print(\"RMSE:\", np.sqrt(mean_squared_error(y_test, pred)))\n"
   ]
  },
  {
   "cell_type": "code",
   "execution_count": 46,
   "id": "d30b5fef-10ac-4917-b823-56b6fe95f347",
   "metadata": {},
   "outputs": [],
   "source": [
    "gbr = GradientBoostingRegressor(random_state=42)\n",
    "pipe = make_pipeline(clmn_tfr, gbr)"
   ]
  },
  {
   "cell_type": "code",
   "execution_count": 47,
   "id": "79a19895-a7c3-4776-a3d4-b4aa39a5b957",
   "metadata": {},
   "outputs": [
    {
     "name": "stdout",
     "output_type": "stream",
     "text": [
      "Fitting 5 folds for each of 50 candidates, totalling 250 fits\n",
      "✅ Best Params: {'gradientboostingregressor__learning_rate': np.float64(0.041648277949081186), 'gradientboostingregressor__max_depth': 6, 'gradientboostingregressor__n_estimators': 127, 'gradientboostingregressor__subsample': np.float64(0.6092202186084168)}\n",
      "🎯 Test R² Score: 70.76488958786513\n",
      "📉 MAE: 0.245639066736563\n",
      "📈 RMSE: 0.3211256708424806\n"
     ]
    }
   ],
   "source": [
    "from scipy.stats import uniform, randint\n",
    "\n",
    "param_dist = {\n",
    "    'gradientboostingregressor__n_estimators': randint(100, 500),\n",
    "    'gradientboostingregressor__max_depth': randint(3, 10),\n",
    "    'gradientboostingregressor__learning_rate': uniform(0.01, 0.3),\n",
    "    'gradientboostingregressor__subsample': uniform(0.5, 0.5)\n",
    "}\n",
    "\n",
    "random_search = RandomizedSearchCV(pipe, param_distributions=param_dist,\n",
    "                                   n_iter=50, cv=5, scoring='r2', verbose=1, n_jobs=-1, random_state=42)\n",
    "\n",
    "random_search.fit(x_train, y_train)\n",
    "\n",
    "best_random_model = random_search.best_estimator_\n",
    "pred = best_random_model.predict(x_test)\n",
    "\n",
    "print(\"✅ Best Params:\", random_search.best_params_)\n",
    "print(\"🎯 Test R² Score:\", r2_score(y_test, pred) * 100)\n",
    "print(\"📉 MAE:\", mean_absolute_error(y_test, pred))\n",
    "print(\"📈 RMSE:\", np.sqrt(mean_squared_error(y_test, pred)))"
   ]
  },
  {
   "cell_type": "code",
   "execution_count": 48,
   "id": "c6094025-3d90-4666-839c-fc294589750e",
   "metadata": {},
   "outputs": [
    {
     "name": "stdout",
     "output_type": "stream",
     "text": [
      "Fitting 5 folds for each of 81 candidates, totalling 405 fits\n",
      "✅ Best Params: {'gradientboostingregressor__learning_rate': 0.01, 'gradientboostingregressor__max_depth': 5, 'gradientboostingregressor__n_estimators': 500, 'gradientboostingregressor__subsample': 0.8}\n",
      "🎯 Test R² Score: 70.9804071901591\n",
      "📉 MAE: 0.2457095349962516\n",
      "📈 RMSE: 0.319939832058595\n"
     ]
    }
   ],
   "source": [
    "param_grid = {\n",
    "    'gradientboostingregressor__n_estimators': [300, 400, 500],\n",
    "    'gradientboostingregressor__max_depth': [4, 5, 6],\n",
    "    'gradientboostingregressor__learning_rate': [0.01, 0.05, 0.1],\n",
    "    'gradientboostingregressor__subsample': [0.6, 0.8, 1.0]\n",
    "}\n",
    "\n",
    "grid_search = GridSearchCV(pipe, param_grid=param_grid,\n",
    "                           cv=5, scoring='r2', verbose=1, n_jobs=-1)\n",
    "\n",
    "grid_search.fit(x_train, y_train)\n",
    "\n",
    "best_grid_model = grid_search.best_estimator_\n",
    "pred = best_grid_model.predict(x_test)\n",
    "\n",
    "print(\"✅ Best Params:\", grid_search.best_params_)\n",
    "print(\"🎯 Test R² Score:\", r2_score(y_test, pred) * 100)\n",
    "print(\"📉 MAE:\", mean_absolute_error(y_test, pred))\n",
    "print(\"📈 RMSE:\", np.sqrt(mean_squared_error(y_test, pred)))\n"
   ]
  },
  {
   "cell_type": "code",
   "execution_count": null,
   "id": "9d1074a2-1a5b-4492-8d15-f846982a48e5",
   "metadata": {},
   "outputs": [],
   "source": []
  },
  {
   "cell_type": "code",
   "execution_count": 57,
   "id": "7cd131d2",
   "metadata": {},
   "outputs": [
    {
     "data": {
      "text/html": [
       "<div>\n",
       "<style scoped>\n",
       "    .dataframe tbody tr th:only-of-type {\n",
       "        vertical-align: middle;\n",
       "    }\n",
       "\n",
       "    .dataframe tbody tr th {\n",
       "        vertical-align: top;\n",
       "    }\n",
       "\n",
       "    .dataframe thead th {\n",
       "        text-align: right;\n",
       "    }\n",
       "</style>\n",
       "<table border=\"1\" class=\"dataframe\">\n",
       "  <thead>\n",
       "    <tr style=\"text-align: right;\">\n",
       "      <th></th>\n",
       "      <th>size</th>\n",
       "      <th>total_sqft</th>\n",
       "      <th>bath</th>\n",
       "      <th>balcony</th>\n",
       "      <th>price</th>\n",
       "      <th>site_location</th>\n",
       "    </tr>\n",
       "  </thead>\n",
       "  <tbody>\n",
       "    <tr>\n",
       "      <th>0</th>\n",
       "      <td>2.0</td>\n",
       "      <td>1056.0</td>\n",
       "      <td>2.0</td>\n",
       "      <td>1</td>\n",
       "      <td>3907000.0</td>\n",
       "      <td>Alandi Road</td>\n",
       "    </tr>\n",
       "    <tr>\n",
       "      <th>1</th>\n",
       "      <td>4.0</td>\n",
       "      <td>2447.5</td>\n",
       "      <td>4.5</td>\n",
       "      <td>3</td>\n",
       "      <td>12000000.0</td>\n",
       "      <td>Ambegaon Budruk</td>\n",
       "    </tr>\n",
       "    <tr>\n",
       "      <th>2</th>\n",
       "      <td>3.0</td>\n",
       "      <td>1440.0</td>\n",
       "      <td>2.0</td>\n",
       "      <td>3</td>\n",
       "      <td>6200000.0</td>\n",
       "      <td>Anandnagar</td>\n",
       "    </tr>\n",
       "    <tr>\n",
       "      <th>3</th>\n",
       "      <td>3.0</td>\n",
       "      <td>1521.0</td>\n",
       "      <td>3.0</td>\n",
       "      <td>1</td>\n",
       "      <td>9500000.0</td>\n",
       "      <td>Aundh</td>\n",
       "    </tr>\n",
       "    <tr>\n",
       "      <th>4</th>\n",
       "      <td>2.0</td>\n",
       "      <td>1200.0</td>\n",
       "      <td>2.0</td>\n",
       "      <td>1</td>\n",
       "      <td>5100000.0</td>\n",
       "      <td>Aundh Road</td>\n",
       "    </tr>\n",
       "  </tbody>\n",
       "</table>\n",
       "</div>"
      ],
      "text/plain": [
       "   size  total_sqft  bath  balcony       price    site_location\n",
       "0   2.0      1056.0   2.0        1   3907000.0      Alandi Road\n",
       "1   4.0      2447.5   4.5        3  12000000.0  Ambegaon Budruk\n",
       "2   3.0      1440.0   2.0        3   6200000.0       Anandnagar\n",
       "3   3.0      1521.0   3.0        1   9500000.0            Aundh\n",
       "4   2.0      1200.0   2.0        1   5100000.0       Aundh Road"
      ]
     },
     "execution_count": 57,
     "metadata": {},
     "output_type": "execute_result"
    }
   ],
   "source": [
    "data.head()"
   ]
  },
  {
   "cell_type": "code",
   "execution_count": 63,
   "id": "eb5d3ee1",
   "metadata": {},
   "outputs": [
    {
     "name": "stdout",
     "output_type": "stream",
     "text": [
      "[8777576.]\n"
     ]
    }
   ],
   "source": [
    "prediction = best_xgb_grid_model.predict(pd.DataFrame([[3,1521.0,3,1,\"Aundh\"]], columns=[\"size\",\"total_sqft\",\"bath\",\"balcony\",\"site_location\"]))\n",
    "print(np.expm1(prediction))"
   ]
  },
  {
   "cell_type": "code",
   "execution_count": null,
   "id": "54a17380",
   "metadata": {},
   "outputs": [],
   "source": []
  }
 ],
 "metadata": {
  "kernelspec": {
   "display_name": "Python 3 (ipykernel)",
   "language": "python",
   "name": "python3"
  },
  "language_info": {
   "codemirror_mode": {
    "name": "ipython",
    "version": 3
   },
   "file_extension": ".py",
   "mimetype": "text/x-python",
   "name": "python",
   "nbconvert_exporter": "python",
   "pygments_lexer": "ipython3",
   "version": "3.12.3"
  }
 },
 "nbformat": 4,
 "nbformat_minor": 5
}
